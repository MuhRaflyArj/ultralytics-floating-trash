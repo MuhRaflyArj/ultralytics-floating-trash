{
 "cells": [
  {
   "cell_type": "code",
   "execution_count": 1,
   "metadata": {},
   "outputs": [],
   "source": [
    "from ultralytics import YOLO\n",
    "import os"
   ]
  },
  {
   "cell_type": "code",
   "execution_count": 2,
   "metadata": {},
   "outputs": [],
   "source": [
    "data_path = os.path.join(os.getcwd(), 'datasets', 'AblationDataset', 'flow', 'flow.yaml')\n",
    "test_data_path = os.path.join(os.getcwd(), 'datasets', 'TestDataset', 'flowtest', 'flowtest.yaml')"
   ]
  },
  {
   "cell_type": "code",
   "execution_count": 3,
   "metadata": {},
   "outputs": [
    {
     "name": "stdout",
     "output_type": "stream",
     "text": [
      "WARNING  no model scale passed. Assuming scale='s'.\n",
      "New https://pypi.org/project/ultralytics/8.3.103 available  Update with 'pip install -U ultralytics'\n",
      "Ultralytics 8.3.96  Python-3.9.21 torch-2.6.0+cu118 CUDA:0 (NVIDIA GeForce GTX 1060 6GB, 6144MiB)\n",
      "\u001b[34m\u001b[1mengine\\trainer: \u001b[0mtask=detect, mode=train, model=yolo12-simam.yaml, data=c:\\Users\\MUHAMMADRAFLYARJASUB\\Documents\\BojongTrash\\ultralytics-floating-trash\\datasets\\AblationDataset\\flow\\flow.yaml, epochs=50, time=None, patience=100, batch=12, imgsz=640, save=True, save_period=-1, cache=False, device=None, workers=8, project=None, name=yolo12-simam, exist_ok=False, pretrained=True, optimizer=auto, verbose=True, seed=0, deterministic=True, single_cls=False, rect=False, cos_lr=False, close_mosaic=10, resume=False, amp=True, fraction=1.0, profile=False, freeze=None, multi_scale=False, overlap_mask=True, mask_ratio=4, dropout=0.0, val=True, split=val, save_json=False, save_hybrid=False, conf=None, iou=0.7, max_det=300, half=False, dnn=False, plots=True, source=None, vid_stride=1, stream_buffer=False, visualize=False, augment=False, agnostic_nms=False, classes=None, retina_masks=False, embed=None, show=False, save_frames=False, save_txt=False, save_conf=False, save_crop=False, show_labels=True, show_conf=True, show_boxes=True, line_width=None, format=torchscript, keras=False, optimize=False, int8=False, dynamic=False, simplify=True, opset=None, workspace=None, nms=False, lr0=0.01, lrf=0.01, momentum=0.937, weight_decay=0.0005, warmup_epochs=3.0, warmup_momentum=0.8, warmup_bias_lr=0.1, box=7.5, cls=0.5, dfl=1.5, pose=12.0, kobj=1.0, nbs=64, hsv_h=0.015, hsv_s=0.7, hsv_v=0.4, degrees=0.0, translate=0.1, scale=0.5, shear=0.0, perspective=0.0, flipud=0.0, fliplr=0.5, bgr=0.0, mosaic=1.0, mixup=0.0, copy_paste=0.0, copy_paste_mode=flip, auto_augment=randaugment, erasing=0.4, crop_fraction=1.0, cfg=None, tracker=botsort.yaml, save_dir=runs\\detect\\yolo12-simam\n",
      "Overriding model.yaml nc=80 with nc=1\n",
      "WARNING  no model scale passed. Assuming scale='s'.\n",
      "\n",
      "                   from  n    params  module                                       arguments                     \n",
      "  0                  -1  1       928  ultralytics.nn.modules.conv.Conv             [3, 32, 3, 2]                 \n",
      "  1                  -1  1     18560  ultralytics.nn.modules.conv.Conv             [32, 64, 3, 2]                \n",
      "  2                  -1  1     26080  ultralytics.nn.modules.block.C3k2            [64, 128, 1, False, 0.25]     \n",
      "  3                  -1  1    147712  ultralytics.nn.modules.conv.Conv             [128, 128, 3, 2]              \n",
      "  4                  -1  1    103360  ultralytics.nn.modules.block.C3k2            [128, 256, 1, False, 0.25]    \n",
      "  5                  -1  1    590336  ultralytics.nn.modules.conv.Conv             [256, 256, 3, 2]              \n",
      "  6                  -1  2    689408  ultralytics.nn.modules.block.A2C2f           [256, 256, 2, True, 4]        \n",
      "  7                  -1  1   1180672  ultralytics.nn.modules.conv.Conv             [256, 512, 3, 2]              \n",
      "  8                  -1  2   2689536  ultralytics.nn.modules.block.A2C2f           [512, 512, 2, True, 1]        \n",
      "  9                  -1  1         0  torch.nn.modules.upsampling.Upsample         [None, 2, 'nearest']          \n",
      " 10             [-1, 6]  1         0  ultralytics.nn.modules.conv.Concat           [1]                           \n",
      " 11                  -1  1    345856  ultralytics.nn.modules.block.A2C2f           [768, 256, 1, False, -1]      \n",
      " 12                  -1  1         0  torch.nn.modules.upsampling.Upsample         [None, 2, 'nearest']          \n",
      " 13             [-1, 4]  1         0  ultralytics.nn.modules.conv.Concat           [1]                           \n",
      " 14                  -1  1     95104  ultralytics.nn.modules.block.A2C2f           [512, 128, 1, False, -1]      \n",
      " 15                  -1  1         0  ultralytics.nn.modules.conv.SimAM            []                            \n",
      " 16                  -2  1    147712  ultralytics.nn.modules.conv.Conv             [128, 128, 3, 2]              \n",
      " 17            [-1, 11]  1         0  ultralytics.nn.modules.conv.Concat           [1]                           \n",
      " 18                  -1  1    296704  ultralytics.nn.modules.block.A2C2f           [384, 256, 1, False, -1]      \n",
      " 19                  -1  1         0  ultralytics.nn.modules.conv.SimAM            []                            \n",
      " 20                  -2  1    590336  ultralytics.nn.modules.conv.Conv             [256, 256, 3, 2]              \n",
      " 21             [-1, 8]  1         0  ultralytics.nn.modules.conv.Concat           [1]                           \n",
      " 22                  -1  1   1511424  ultralytics.nn.modules.block.C3k2            [768, 512, 1, True]           \n",
      " 23                  -1  1         0  ultralytics.nn.modules.conv.SimAM            []                            \n",
      " 24        [15, 19, 23]  1    819795  ultralytics.nn.modules.head.Detect           [1, [128, 256, 512]]          \n",
      "YOLO12-simam summary: 275 layers, 9,253,523 parameters, 9,253,507 gradients, 21.5 GFLOPs\n",
      "\n",
      "Freezing layer 'model.24.dfl.conv.weight'\n",
      "\u001b[34m\u001b[1mAMP: \u001b[0mrunning Automatic Mixed Precision (AMP) checks...\n",
      "\u001b[34m\u001b[1mAMP: \u001b[0mchecks passed \n"
     ]
    },
    {
     "name": "stderr",
     "output_type": "stream",
     "text": [
      "\u001b[34m\u001b[1mtrain: \u001b[0mScanning C:\\Users\\MUHAMMADRAFLYARJASUB\\Documents\\BojongTrash\\ultralytics-floating-trash\\datasets\\AblationDataset\\flow\\train\\labels.cache... 961 images, 0 backgrounds, 0 corrupt: 100%|██████████| 961/961 [00:00<?, ?it/s]\n",
      "\u001b[34m\u001b[1mval: \u001b[0mScanning C:\\Users\\MUHAMMADRAFLYARJASUB\\Documents\\BojongTrash\\ultralytics-floating-trash\\datasets\\AblationDataset\\flow\\valid\\labels.cache... 239 images, 1 backgrounds, 0 corrupt: 100%|██████████| 239/239 [00:00<?, ?it/s]\n"
     ]
    },
    {
     "name": "stdout",
     "output_type": "stream",
     "text": [
      "Plotting labels to runs\\detect\\yolo12-simam\\labels.jpg... \n",
      "\u001b[34m\u001b[1moptimizer:\u001b[0m 'optimizer=auto' found, ignoring 'lr0=0.01' and 'momentum=0.937' and determining best 'optimizer', 'lr0' and 'momentum' automatically... \n",
      "\u001b[34m\u001b[1moptimizer:\u001b[0m AdamW(lr=0.002, momentum=0.9) with parameter groups 113 weight(decay=0.0), 120 weight(decay=0.00046875), 119 bias(decay=0.0)\n",
      "Image sizes 640 train, 640 val\n",
      "Using 8 dataloader workers\n",
      "Logging results to \u001b[1mruns\\detect\\yolo12-simam\u001b[0m\n",
      "Starting training for 50 epochs...\n",
      "\n",
      "      Epoch    GPU_mem   box_loss   cls_loss   dfl_loss  Instances       Size\n"
     ]
    },
    {
     "name": "stderr",
     "output_type": "stream",
     "text": [
      "       1/50      5.11G      5.365      19.44      3.778          1        640: 100%|██████████| 81/81 [01:19<00:00,  1.02it/s]\n",
      "                 Class     Images  Instances      Box(P          R      mAP50  mAP50-95): 100%|██████████| 10/10 [00:04<00:00,  2.44it/s]"
     ]
    },
    {
     "name": "stdout",
     "output_type": "stream",
     "text": [
      "                   all        239        628   4.22e-05    0.00318   2.17e-05   4.34e-06\n"
     ]
    },
    {
     "name": "stderr",
     "output_type": "stream",
     "text": [
      "\n"
     ]
    },
    {
     "name": "stdout",
     "output_type": "stream",
     "text": [
      "\n",
      "      Epoch    GPU_mem   box_loss   cls_loss   dfl_loss  Instances       Size\n"
     ]
    },
    {
     "name": "stderr",
     "output_type": "stream",
     "text": [
      "       2/50      5.15G      3.291      3.819      2.158          8        640: 100%|██████████| 81/81 [01:13<00:00,  1.10it/s]\n",
      "                 Class     Images  Instances      Box(P          R      mAP50  mAP50-95): 100%|██████████| 10/10 [00:03<00:00,  2.85it/s]"
     ]
    },
    {
     "name": "stdout",
     "output_type": "stream",
     "text": [
      "                   all        239        628     0.0755     0.0621     0.0109    0.00298\n"
     ]
    },
    {
     "name": "stderr",
     "output_type": "stream",
     "text": [
      "\n"
     ]
    },
    {
     "name": "stdout",
     "output_type": "stream",
     "text": [
      "\n",
      "      Epoch    GPU_mem   box_loss   cls_loss   dfl_loss  Instances       Size\n"
     ]
    },
    {
     "name": "stderr",
     "output_type": "stream",
     "text": [
      "       3/50      5.19G      2.844      2.568      1.687          3        640: 100%|██████████| 81/81 [01:10<00:00,  1.14it/s]\n",
      "                 Class     Images  Instances      Box(P          R      mAP50  mAP50-95): 100%|██████████| 10/10 [00:03<00:00,  2.57it/s]"
     ]
    },
    {
     "name": "stdout",
     "output_type": "stream",
     "text": [
      "                   all        239        628      0.449      0.228      0.199     0.0607\n"
     ]
    },
    {
     "name": "stderr",
     "output_type": "stream",
     "text": [
      "\n"
     ]
    },
    {
     "name": "stdout",
     "output_type": "stream",
     "text": [
      "\n",
      "      Epoch    GPU_mem   box_loss   cls_loss   dfl_loss  Instances       Size\n"
     ]
    },
    {
     "name": "stderr",
     "output_type": "stream",
     "text": [
      "       4/50      5.19G      2.715      2.205      1.573          6        640: 100%|██████████| 81/81 [01:11<00:00,  1.14it/s]\n",
      "                 Class     Images  Instances      Box(P          R      mAP50  mAP50-95): 100%|██████████| 10/10 [00:03<00:00,  2.56it/s]"
     ]
    },
    {
     "name": "stdout",
     "output_type": "stream",
     "text": [
      "                   all        239        628      0.473      0.351      0.313      0.106\n"
     ]
    },
    {
     "name": "stderr",
     "output_type": "stream",
     "text": [
      "\n"
     ]
    },
    {
     "name": "stdout",
     "output_type": "stream",
     "text": [
      "\n",
      "      Epoch    GPU_mem   box_loss   cls_loss   dfl_loss  Instances       Size\n"
     ]
    },
    {
     "name": "stderr",
     "output_type": "stream",
     "text": [
      "       5/50      5.19G       2.57      2.004       1.49          2        640: 100%|██████████| 81/81 [01:10<00:00,  1.14it/s]\n",
      "                 Class     Images  Instances      Box(P          R      mAP50  mAP50-95): 100%|██████████| 10/10 [00:03<00:00,  2.56it/s]"
     ]
    },
    {
     "name": "stdout",
     "output_type": "stream",
     "text": [
      "                   all        239        628      0.605      0.331      0.375      0.141\n"
     ]
    },
    {
     "name": "stderr",
     "output_type": "stream",
     "text": [
      "\n"
     ]
    },
    {
     "name": "stdout",
     "output_type": "stream",
     "text": [
      "\n",
      "      Epoch    GPU_mem   box_loss   cls_loss   dfl_loss  Instances       Size\n"
     ]
    },
    {
     "name": "stderr",
     "output_type": "stream",
     "text": [
      "       6/50      5.21G      2.409      1.817      1.429          4        640: 100%|██████████| 81/81 [01:10<00:00,  1.14it/s]\n",
      "                 Class     Images  Instances      Box(P          R      mAP50  mAP50-95): 100%|██████████| 10/10 [00:03<00:00,  2.56it/s]"
     ]
    },
    {
     "name": "stdout",
     "output_type": "stream",
     "text": [
      "                   all        239        628      0.632      0.389      0.409      0.161\n"
     ]
    },
    {
     "name": "stderr",
     "output_type": "stream",
     "text": [
      "\n"
     ]
    },
    {
     "name": "stdout",
     "output_type": "stream",
     "text": [
      "\n",
      "      Epoch    GPU_mem   box_loss   cls_loss   dfl_loss  Instances       Size\n"
     ]
    },
    {
     "name": "stderr",
     "output_type": "stream",
     "text": [
      "       7/50      5.27G      2.376       1.74      1.424          8        640: 100%|██████████| 81/81 [01:10<00:00,  1.15it/s]\n",
      "                 Class     Images  Instances      Box(P          R      mAP50  mAP50-95): 100%|██████████| 10/10 [00:03<00:00,  2.55it/s]"
     ]
    },
    {
     "name": "stdout",
     "output_type": "stream",
     "text": [
      "                   all        239        628      0.542      0.447      0.444      0.166\n"
     ]
    },
    {
     "name": "stderr",
     "output_type": "stream",
     "text": [
      "\n"
     ]
    },
    {
     "name": "stdout",
     "output_type": "stream",
     "text": [
      "\n",
      "      Epoch    GPU_mem   box_loss   cls_loss   dfl_loss  Instances       Size\n"
     ]
    },
    {
     "name": "stderr",
     "output_type": "stream",
     "text": [
      "       8/50      5.27G       2.28      1.607      1.375          2        640: 100%|██████████| 81/81 [01:10<00:00,  1.15it/s]\n",
      "                 Class     Images  Instances      Box(P          R      mAP50  mAP50-95): 100%|██████████| 10/10 [00:03<00:00,  2.59it/s]"
     ]
    },
    {
     "name": "stdout",
     "output_type": "stream",
     "text": [
      "                   all        239        628      0.658      0.478      0.507      0.181\n"
     ]
    },
    {
     "name": "stderr",
     "output_type": "stream",
     "text": [
      "\n"
     ]
    },
    {
     "name": "stdout",
     "output_type": "stream",
     "text": [
      "\n",
      "      Epoch    GPU_mem   box_loss   cls_loss   dfl_loss  Instances       Size\n"
     ]
    },
    {
     "name": "stderr",
     "output_type": "stream",
     "text": [
      "       9/50      5.27G      2.213      1.546      1.325          1        640: 100%|██████████| 81/81 [01:10<00:00,  1.15it/s]\n",
      "                 Class     Images  Instances      Box(P          R      mAP50  mAP50-95): 100%|██████████| 10/10 [00:03<00:00,  2.54it/s]"
     ]
    },
    {
     "name": "stdout",
     "output_type": "stream",
     "text": [
      "                   all        239        628      0.666       0.51      0.564      0.223\n"
     ]
    },
    {
     "name": "stderr",
     "output_type": "stream",
     "text": [
      "\n"
     ]
    },
    {
     "name": "stdout",
     "output_type": "stream",
     "text": [
      "\n",
      "      Epoch    GPU_mem   box_loss   cls_loss   dfl_loss  Instances       Size\n"
     ]
    },
    {
     "name": "stderr",
     "output_type": "stream",
     "text": [
      "      10/50      5.27G      2.169      1.479      1.322         16        640: 100%|██████████| 81/81 [01:10<00:00,  1.14it/s]\n",
      "                 Class     Images  Instances      Box(P          R      mAP50  mAP50-95): 100%|██████████| 10/10 [00:03<00:00,  2.53it/s]"
     ]
    },
    {
     "name": "stdout",
     "output_type": "stream",
     "text": [
      "                   all        239        628      0.679      0.475      0.535      0.214\n"
     ]
    },
    {
     "name": "stderr",
     "output_type": "stream",
     "text": [
      "\n"
     ]
    },
    {
     "name": "stdout",
     "output_type": "stream",
     "text": [
      "\n",
      "      Epoch    GPU_mem   box_loss   cls_loss   dfl_loss  Instances       Size\n"
     ]
    },
    {
     "name": "stderr",
     "output_type": "stream",
     "text": [
      "      11/50      5.27G      2.108      1.398      1.258          8        640: 100%|██████████| 81/81 [01:10<00:00,  1.15it/s]\n",
      "                 Class     Images  Instances      Box(P          R      mAP50  mAP50-95): 100%|██████████| 10/10 [00:03<00:00,  2.56it/s]"
     ]
    },
    {
     "name": "stdout",
     "output_type": "stream",
     "text": [
      "                   all        239        628      0.785      0.537      0.621       0.25\n"
     ]
    },
    {
     "name": "stderr",
     "output_type": "stream",
     "text": [
      "\n"
     ]
    },
    {
     "name": "stdout",
     "output_type": "stream",
     "text": [
      "\n",
      "      Epoch    GPU_mem   box_loss   cls_loss   dfl_loss  Instances       Size\n"
     ]
    },
    {
     "name": "stderr",
     "output_type": "stream",
     "text": [
      "      12/50      5.27G      2.102       1.39      1.268          3        640: 100%|██████████| 81/81 [01:10<00:00,  1.15it/s]\n",
      "                 Class     Images  Instances      Box(P          R      mAP50  mAP50-95): 100%|██████████| 10/10 [00:03<00:00,  2.58it/s]"
     ]
    },
    {
     "name": "stdout",
     "output_type": "stream",
     "text": [
      "                   all        239        628      0.728      0.508      0.563      0.229\n"
     ]
    },
    {
     "name": "stderr",
     "output_type": "stream",
     "text": [
      "\n"
     ]
    },
    {
     "name": "stdout",
     "output_type": "stream",
     "text": [
      "\n",
      "      Epoch    GPU_mem   box_loss   cls_loss   dfl_loss  Instances       Size\n"
     ]
    },
    {
     "name": "stderr",
     "output_type": "stream",
     "text": [
      "      13/50      5.27G      2.057      1.382      1.251          2        640: 100%|██████████| 81/81 [01:10<00:00,  1.15it/s]\n",
      "                 Class     Images  Instances      Box(P          R      mAP50  mAP50-95): 100%|██████████| 10/10 [00:03<00:00,  2.55it/s]"
     ]
    },
    {
     "name": "stdout",
     "output_type": "stream",
     "text": [
      "                   all        239        628       0.68      0.551      0.599       0.25\n"
     ]
    },
    {
     "name": "stderr",
     "output_type": "stream",
     "text": [
      "\n"
     ]
    },
    {
     "name": "stdout",
     "output_type": "stream",
     "text": [
      "\n",
      "      Epoch    GPU_mem   box_loss   cls_loss   dfl_loss  Instances       Size\n"
     ]
    },
    {
     "name": "stderr",
     "output_type": "stream",
     "text": [
      "      14/50      5.27G      2.048      1.326       1.24          9        640: 100%|██████████| 81/81 [01:10<00:00,  1.15it/s]\n",
      "                 Class     Images  Instances      Box(P          R      mAP50  mAP50-95): 100%|██████████| 10/10 [00:03<00:00,  2.62it/s]"
     ]
    },
    {
     "name": "stdout",
     "output_type": "stream",
     "text": [
      "                   all        239        628      0.687      0.539      0.593      0.233\n"
     ]
    },
    {
     "name": "stderr",
     "output_type": "stream",
     "text": [
      "\n"
     ]
    },
    {
     "name": "stdout",
     "output_type": "stream",
     "text": [
      "\n",
      "      Epoch    GPU_mem   box_loss   cls_loss   dfl_loss  Instances       Size\n"
     ]
    },
    {
     "name": "stderr",
     "output_type": "stream",
     "text": [
      "      15/50      5.27G      1.977      1.256      1.222          6        640: 100%|██████████| 81/81 [01:10<00:00,  1.15it/s]\n",
      "                 Class     Images  Instances      Box(P          R      mAP50  mAP50-95): 100%|██████████| 10/10 [00:03<00:00,  2.55it/s]"
     ]
    },
    {
     "name": "stdout",
     "output_type": "stream",
     "text": [
      "                   all        239        628      0.765      0.572      0.637      0.276\n"
     ]
    },
    {
     "name": "stderr",
     "output_type": "stream",
     "text": [
      "\n"
     ]
    },
    {
     "name": "stdout",
     "output_type": "stream",
     "text": [
      "\n",
      "      Epoch    GPU_mem   box_loss   cls_loss   dfl_loss  Instances       Size\n"
     ]
    },
    {
     "name": "stderr",
     "output_type": "stream",
     "text": [
      "      16/50      5.27G      1.984      1.226      1.215         10        640: 100%|██████████| 81/81 [01:10<00:00,  1.15it/s]\n",
      "                 Class     Images  Instances      Box(P          R      mAP50  mAP50-95): 100%|██████████| 10/10 [00:03<00:00,  2.59it/s]"
     ]
    },
    {
     "name": "stdout",
     "output_type": "stream",
     "text": [
      "                   all        239        628      0.744      0.584      0.654      0.277\n"
     ]
    },
    {
     "name": "stderr",
     "output_type": "stream",
     "text": [
      "\n"
     ]
    },
    {
     "name": "stdout",
     "output_type": "stream",
     "text": [
      "\n",
      "      Epoch    GPU_mem   box_loss   cls_loss   dfl_loss  Instances       Size\n"
     ]
    },
    {
     "name": "stderr",
     "output_type": "stream",
     "text": [
      "      17/50      5.27G      1.961      1.243      1.196          9        640: 100%|██████████| 81/81 [01:10<00:00,  1.15it/s]\n",
      "                 Class     Images  Instances      Box(P          R      mAP50  mAP50-95): 100%|██████████| 10/10 [00:03<00:00,  2.53it/s]"
     ]
    },
    {
     "name": "stdout",
     "output_type": "stream",
     "text": [
      "                   all        239        628      0.751      0.545      0.623      0.269\n"
     ]
    },
    {
     "name": "stderr",
     "output_type": "stream",
     "text": [
      "\n"
     ]
    },
    {
     "name": "stdout",
     "output_type": "stream",
     "text": [
      "\n",
      "      Epoch    GPU_mem   box_loss   cls_loss   dfl_loss  Instances       Size\n"
     ]
    },
    {
     "name": "stderr",
     "output_type": "stream",
     "text": [
      "      18/50      5.27G      1.969      1.206      1.199         11        640: 100%|██████████| 81/81 [01:10<00:00,  1.15it/s]\n",
      "                 Class     Images  Instances      Box(P          R      mAP50  mAP50-95): 100%|██████████| 10/10 [00:03<00:00,  2.59it/s]"
     ]
    },
    {
     "name": "stdout",
     "output_type": "stream",
     "text": [
      "                   all        239        628       0.76      0.629      0.696      0.299\n"
     ]
    },
    {
     "name": "stderr",
     "output_type": "stream",
     "text": [
      "\n"
     ]
    },
    {
     "name": "stdout",
     "output_type": "stream",
     "text": [
      "\n",
      "      Epoch    GPU_mem   box_loss   cls_loss   dfl_loss  Instances       Size\n"
     ]
    },
    {
     "name": "stderr",
     "output_type": "stream",
     "text": [
      "      19/50      5.27G      1.948       1.19      1.204          5        640: 100%|██████████| 81/81 [01:10<00:00,  1.14it/s]\n",
      "                 Class     Images  Instances      Box(P          R      mAP50  mAP50-95): 100%|██████████| 10/10 [00:03<00:00,  2.57it/s]"
     ]
    },
    {
     "name": "stdout",
     "output_type": "stream",
     "text": [
      "                   all        239        628      0.756      0.575       0.65      0.271\n"
     ]
    },
    {
     "name": "stderr",
     "output_type": "stream",
     "text": [
      "\n"
     ]
    },
    {
     "name": "stdout",
     "output_type": "stream",
     "text": [
      "\n",
      "      Epoch    GPU_mem   box_loss   cls_loss   dfl_loss  Instances       Size\n"
     ]
    },
    {
     "name": "stderr",
     "output_type": "stream",
     "text": [
      "      20/50      5.27G      1.917      1.182      1.189          7        640: 100%|██████████| 81/81 [01:10<00:00,  1.14it/s]\n",
      "                 Class     Images  Instances      Box(P          R      mAP50  mAP50-95): 100%|██████████| 10/10 [00:03<00:00,  2.57it/s]"
     ]
    },
    {
     "name": "stdout",
     "output_type": "stream",
     "text": [
      "                   all        239        628      0.788      0.653      0.717      0.314\n"
     ]
    },
    {
     "name": "stderr",
     "output_type": "stream",
     "text": [
      "\n"
     ]
    },
    {
     "name": "stdout",
     "output_type": "stream",
     "text": [
      "\n",
      "      Epoch    GPU_mem   box_loss   cls_loss   dfl_loss  Instances       Size\n"
     ]
    },
    {
     "name": "stderr",
     "output_type": "stream",
     "text": [
      "      21/50      5.27G      1.887      1.137      1.172          9        640: 100%|██████████| 81/81 [01:21<00:00,  1.01s/it]\n",
      "                 Class     Images  Instances      Box(P          R      mAP50  mAP50-95): 100%|██████████| 10/10 [00:04<00:00,  2.47it/s]"
     ]
    },
    {
     "name": "stdout",
     "output_type": "stream",
     "text": [
      "                   all        239        628      0.792      0.607      0.691      0.302\n"
     ]
    },
    {
     "name": "stderr",
     "output_type": "stream",
     "text": [
      "\n"
     ]
    },
    {
     "name": "stdout",
     "output_type": "stream",
     "text": [
      "\n",
      "      Epoch    GPU_mem   box_loss   cls_loss   dfl_loss  Instances       Size\n"
     ]
    },
    {
     "name": "stderr",
     "output_type": "stream",
     "text": [
      "      22/50      5.27G      1.908      1.161      1.192          1        640: 100%|██████████| 81/81 [01:30<00:00,  1.12s/it]\n",
      "                 Class     Images  Instances      Box(P          R      mAP50  mAP50-95): 100%|██████████| 10/10 [00:05<00:00,  1.97it/s]"
     ]
    },
    {
     "name": "stdout",
     "output_type": "stream",
     "text": [
      "                   all        239        628      0.777      0.653      0.702      0.303\n"
     ]
    },
    {
     "name": "stderr",
     "output_type": "stream",
     "text": [
      "\n"
     ]
    },
    {
     "name": "stdout",
     "output_type": "stream",
     "text": [
      "\n",
      "      Epoch    GPU_mem   box_loss   cls_loss   dfl_loss  Instances       Size\n"
     ]
    },
    {
     "name": "stderr",
     "output_type": "stream",
     "text": [
      "      23/50      5.27G      1.866      1.123      1.169          2        640: 100%|██████████| 81/81 [01:25<00:00,  1.05s/it]\n",
      "                 Class     Images  Instances      Box(P          R      mAP50  mAP50-95): 100%|██████████| 10/10 [00:03<00:00,  2.57it/s]"
     ]
    },
    {
     "name": "stdout",
     "output_type": "stream",
     "text": [
      "                   all        239        628      0.826      0.634      0.722      0.332\n"
     ]
    },
    {
     "name": "stderr",
     "output_type": "stream",
     "text": [
      "\n"
     ]
    },
    {
     "name": "stdout",
     "output_type": "stream",
     "text": [
      "\n",
      "      Epoch    GPU_mem   box_loss   cls_loss   dfl_loss  Instances       Size\n"
     ]
    },
    {
     "name": "stderr",
     "output_type": "stream",
     "text": [
      "      24/50      5.27G      1.861      1.079      1.169          8        640: 100%|██████████| 81/81 [01:26<00:00,  1.07s/it]\n",
      "                 Class     Images  Instances      Box(P          R      mAP50  mAP50-95): 100%|██████████| 10/10 [00:04<00:00,  2.10it/s]"
     ]
    },
    {
     "name": "stdout",
     "output_type": "stream",
     "text": [
      "                   all        239        628       0.83      0.651      0.727      0.332\n"
     ]
    },
    {
     "name": "stderr",
     "output_type": "stream",
     "text": [
      "\n"
     ]
    },
    {
     "name": "stdout",
     "output_type": "stream",
     "text": [
      "\n",
      "      Epoch    GPU_mem   box_loss   cls_loss   dfl_loss  Instances       Size\n"
     ]
    },
    {
     "name": "stderr",
     "output_type": "stream",
     "text": [
      "      25/50      5.27G      1.815      1.043      1.137          5        640: 100%|██████████| 81/81 [01:37<00:00,  1.20s/it]\n",
      "                 Class     Images  Instances      Box(P          R      mAP50  mAP50-95): 100%|██████████| 10/10 [00:04<00:00,  2.05it/s]"
     ]
    },
    {
     "name": "stdout",
     "output_type": "stream",
     "text": [
      "                   all        239        628      0.799      0.665      0.747      0.336\n"
     ]
    },
    {
     "name": "stderr",
     "output_type": "stream",
     "text": [
      "\n"
     ]
    },
    {
     "name": "stdout",
     "output_type": "stream",
     "text": [
      "\n",
      "      Epoch    GPU_mem   box_loss   cls_loss   dfl_loss  Instances       Size\n"
     ]
    },
    {
     "name": "stderr",
     "output_type": "stream",
     "text": [
      "      26/50      5.27G      1.809       1.04      1.148          1        640: 100%|██████████| 81/81 [01:35<00:00,  1.18s/it]\n",
      "                 Class     Images  Instances      Box(P          R      mAP50  mAP50-95): 100%|██████████| 10/10 [00:04<00:00,  2.12it/s]"
     ]
    },
    {
     "name": "stdout",
     "output_type": "stream",
     "text": [
      "                   all        239        628      0.839      0.663      0.735      0.324\n"
     ]
    },
    {
     "name": "stderr",
     "output_type": "stream",
     "text": [
      "\n"
     ]
    },
    {
     "name": "stdout",
     "output_type": "stream",
     "text": [
      "\n",
      "      Epoch    GPU_mem   box_loss   cls_loss   dfl_loss  Instances       Size\n"
     ]
    },
    {
     "name": "stderr",
     "output_type": "stream",
     "text": [
      "      27/50      5.27G      1.809      1.047      1.134          3        640: 100%|██████████| 81/81 [01:36<00:00,  1.19s/it]\n",
      "                 Class     Images  Instances      Box(P          R      mAP50  mAP50-95): 100%|██████████| 10/10 [00:04<00:00,  2.04it/s]"
     ]
    },
    {
     "name": "stdout",
     "output_type": "stream",
     "text": [
      "                   all        239        628      0.808      0.605      0.678      0.308\n"
     ]
    },
    {
     "name": "stderr",
     "output_type": "stream",
     "text": [
      "\n"
     ]
    },
    {
     "name": "stdout",
     "output_type": "stream",
     "text": [
      "\n",
      "      Epoch    GPU_mem   box_loss   cls_loss   dfl_loss  Instances       Size\n"
     ]
    },
    {
     "name": "stderr",
     "output_type": "stream",
     "text": [
      "      28/50      5.27G      1.746      1.016      1.116          6        640: 100%|██████████| 81/81 [01:31<00:00,  1.12s/it]\n",
      "                 Class     Images  Instances      Box(P          R      mAP50  mAP50-95): 100%|██████████| 10/10 [00:04<00:00,  2.12it/s]"
     ]
    },
    {
     "name": "stdout",
     "output_type": "stream",
     "text": [
      "                   all        239        628      0.827      0.635      0.732      0.337\n"
     ]
    },
    {
     "name": "stderr",
     "output_type": "stream",
     "text": [
      "\n"
     ]
    },
    {
     "name": "stdout",
     "output_type": "stream",
     "text": [
      "\n",
      "      Epoch    GPU_mem   box_loss   cls_loss   dfl_loss  Instances       Size\n"
     ]
    },
    {
     "name": "stderr",
     "output_type": "stream",
     "text": [
      "      29/50      5.27G       1.83      1.021      1.153          6        640: 100%|██████████| 81/81 [01:31<00:00,  1.13s/it]\n",
      "                 Class     Images  Instances      Box(P          R      mAP50  mAP50-95): 100%|██████████| 10/10 [00:04<00:00,  2.02it/s]"
     ]
    },
    {
     "name": "stdout",
     "output_type": "stream",
     "text": [
      "                   all        239        628      0.745      0.678      0.732      0.327\n"
     ]
    },
    {
     "name": "stderr",
     "output_type": "stream",
     "text": [
      "\n"
     ]
    },
    {
     "name": "stdout",
     "output_type": "stream",
     "text": [
      "\n",
      "      Epoch    GPU_mem   box_loss   cls_loss   dfl_loss  Instances       Size\n"
     ]
    },
    {
     "name": "stderr",
     "output_type": "stream",
     "text": [
      "      30/50      5.27G        1.8      1.018      1.146          2        640: 100%|██████████| 81/81 [01:36<00:00,  1.19s/it]\n",
      "                 Class     Images  Instances      Box(P          R      mAP50  mAP50-95): 100%|██████████| 10/10 [00:04<00:00,  2.05it/s]"
     ]
    },
    {
     "name": "stdout",
     "output_type": "stream",
     "text": [
      "                   all        239        628      0.821      0.659      0.725      0.324\n"
     ]
    },
    {
     "name": "stderr",
     "output_type": "stream",
     "text": [
      "\n"
     ]
    },
    {
     "name": "stdout",
     "output_type": "stream",
     "text": [
      "\n",
      "      Epoch    GPU_mem   box_loss   cls_loss   dfl_loss  Instances       Size\n"
     ]
    },
    {
     "name": "stderr",
     "output_type": "stream",
     "text": [
      "      31/50      5.27G      1.753       1.01      1.146          1        640: 100%|██████████| 81/81 [01:32<00:00,  1.14s/it]\n",
      "                 Class     Images  Instances      Box(P          R      mAP50  mAP50-95): 100%|██████████| 10/10 [00:04<00:00,  2.15it/s]"
     ]
    },
    {
     "name": "stdout",
     "output_type": "stream",
     "text": [
      "                   all        239        628      0.822      0.699      0.776      0.361\n"
     ]
    },
    {
     "name": "stderr",
     "output_type": "stream",
     "text": [
      "\n"
     ]
    },
    {
     "name": "stdout",
     "output_type": "stream",
     "text": [
      "\n",
      "      Epoch    GPU_mem   box_loss   cls_loss   dfl_loss  Instances       Size\n"
     ]
    },
    {
     "name": "stderr",
     "output_type": "stream",
     "text": [
      "      32/50      5.27G      1.717     0.9842      1.122         11        640: 100%|██████████| 81/81 [01:35<00:00,  1.18s/it]\n",
      "                 Class     Images  Instances      Box(P          R      mAP50  mAP50-95): 100%|██████████| 10/10 [00:03<00:00,  2.52it/s]"
     ]
    },
    {
     "name": "stdout",
     "output_type": "stream",
     "text": [
      "                   all        239        628       0.82      0.699      0.769      0.354\n"
     ]
    },
    {
     "name": "stderr",
     "output_type": "stream",
     "text": [
      "\n"
     ]
    },
    {
     "name": "stdout",
     "output_type": "stream",
     "text": [
      "\n",
      "      Epoch    GPU_mem   box_loss   cls_loss   dfl_loss  Instances       Size\n"
     ]
    },
    {
     "name": "stderr",
     "output_type": "stream",
     "text": [
      "      33/50      5.27G      1.692      0.967      1.114          1        640: 100%|██████████| 81/81 [01:13<00:00,  1.10it/s]\n",
      "                 Class     Images  Instances      Box(P          R      mAP50  mAP50-95): 100%|██████████| 10/10 [00:03<00:00,  2.55it/s]"
     ]
    },
    {
     "name": "stdout",
     "output_type": "stream",
     "text": [
      "                   all        239        628      0.813      0.707       0.77      0.356\n"
     ]
    },
    {
     "name": "stderr",
     "output_type": "stream",
     "text": [
      "\n"
     ]
    },
    {
     "name": "stdout",
     "output_type": "stream",
     "text": [
      "\n",
      "      Epoch    GPU_mem   box_loss   cls_loss   dfl_loss  Instances       Size\n"
     ]
    },
    {
     "name": "stderr",
     "output_type": "stream",
     "text": [
      "      34/50      5.27G      1.717     0.9537      1.115         11        640: 100%|██████████| 81/81 [01:13<00:00,  1.10it/s]\n",
      "                 Class     Images  Instances      Box(P          R      mAP50  mAP50-95): 100%|██████████| 10/10 [00:03<00:00,  2.57it/s]"
     ]
    },
    {
     "name": "stdout",
     "output_type": "stream",
     "text": [
      "                   all        239        628      0.863      0.712      0.783      0.354\n"
     ]
    },
    {
     "name": "stderr",
     "output_type": "stream",
     "text": [
      "\n"
     ]
    },
    {
     "name": "stdout",
     "output_type": "stream",
     "text": [
      "\n",
      "      Epoch    GPU_mem   box_loss   cls_loss   dfl_loss  Instances       Size\n"
     ]
    },
    {
     "name": "stderr",
     "output_type": "stream",
     "text": [
      "      35/50      5.27G      1.733     0.9714      1.114          1        640: 100%|██████████| 81/81 [01:13<00:00,  1.10it/s]\n",
      "                 Class     Images  Instances      Box(P          R      mAP50  mAP50-95): 100%|██████████| 10/10 [00:03<00:00,  2.55it/s]"
     ]
    },
    {
     "name": "stdout",
     "output_type": "stream",
     "text": [
      "                   all        239        628      0.841      0.726      0.785      0.359\n"
     ]
    },
    {
     "name": "stderr",
     "output_type": "stream",
     "text": [
      "\n"
     ]
    },
    {
     "name": "stdout",
     "output_type": "stream",
     "text": [
      "\n",
      "      Epoch    GPU_mem   box_loss   cls_loss   dfl_loss  Instances       Size\n"
     ]
    },
    {
     "name": "stderr",
     "output_type": "stream",
     "text": [
      "      36/50      5.27G      1.705       0.95      1.094          8        640: 100%|██████████| 81/81 [01:13<00:00,  1.10it/s]\n",
      "                 Class     Images  Instances      Box(P          R      mAP50  mAP50-95): 100%|██████████| 10/10 [00:03<00:00,  2.58it/s]"
     ]
    },
    {
     "name": "stdout",
     "output_type": "stream",
     "text": [
      "                   all        239        628      0.855      0.702      0.772      0.345\n"
     ]
    },
    {
     "name": "stderr",
     "output_type": "stream",
     "text": [
      "\n"
     ]
    },
    {
     "name": "stdout",
     "output_type": "stream",
     "text": [
      "\n",
      "      Epoch    GPU_mem   box_loss   cls_loss   dfl_loss  Instances       Size\n"
     ]
    },
    {
     "name": "stderr",
     "output_type": "stream",
     "text": [
      "      37/50      5.27G      1.742     0.9506      1.127          5        640: 100%|██████████| 81/81 [01:14<00:00,  1.09it/s]\n",
      "                 Class     Images  Instances      Box(P          R      mAP50  mAP50-95): 100%|██████████| 10/10 [00:03<00:00,  2.55it/s]"
     ]
    },
    {
     "name": "stdout",
     "output_type": "stream",
     "text": [
      "                   all        239        628      0.847      0.723      0.785      0.373\n"
     ]
    },
    {
     "name": "stderr",
     "output_type": "stream",
     "text": [
      "\n"
     ]
    },
    {
     "name": "stdout",
     "output_type": "stream",
     "text": [
      "\n",
      "      Epoch    GPU_mem   box_loss   cls_loss   dfl_loss  Instances       Size\n"
     ]
    },
    {
     "name": "stderr",
     "output_type": "stream",
     "text": [
      "      38/50      5.27G      1.693     0.9325      1.106          2        640: 100%|██████████| 81/81 [01:13<00:00,  1.10it/s]\n",
      "                 Class     Images  Instances      Box(P          R      mAP50  mAP50-95): 100%|██████████| 10/10 [00:03<00:00,  2.52it/s]"
     ]
    },
    {
     "name": "stdout",
     "output_type": "stream",
     "text": [
      "                   all        239        628      0.822      0.693      0.771      0.351\n"
     ]
    },
    {
     "name": "stderr",
     "output_type": "stream",
     "text": [
      "\n"
     ]
    },
    {
     "name": "stdout",
     "output_type": "stream",
     "text": [
      "\n",
      "      Epoch    GPU_mem   box_loss   cls_loss   dfl_loss  Instances       Size\n"
     ]
    },
    {
     "name": "stderr",
     "output_type": "stream",
     "text": [
      "      39/50      5.27G      1.676     0.9106      1.104          7        640: 100%|██████████| 81/81 [01:14<00:00,  1.09it/s]\n",
      "                 Class     Images  Instances      Box(P          R      mAP50  mAP50-95): 100%|██████████| 10/10 [00:03<00:00,  2.56it/s]"
     ]
    },
    {
     "name": "stdout",
     "output_type": "stream",
     "text": [
      "                   all        239        628      0.829      0.742      0.784      0.379\n"
     ]
    },
    {
     "name": "stderr",
     "output_type": "stream",
     "text": [
      "\n"
     ]
    },
    {
     "name": "stdout",
     "output_type": "stream",
     "text": [
      "\n",
      "      Epoch    GPU_mem   box_loss   cls_loss   dfl_loss  Instances       Size\n"
     ]
    },
    {
     "name": "stderr",
     "output_type": "stream",
     "text": [
      "      40/50      5.27G      1.686      0.908      1.112          2        640: 100%|██████████| 81/81 [01:14<00:00,  1.09it/s]\n",
      "                 Class     Images  Instances      Box(P          R      mAP50  mAP50-95): 100%|██████████| 10/10 [00:03<00:00,  2.53it/s]"
     ]
    },
    {
     "name": "stdout",
     "output_type": "stream",
     "text": [
      "                   all        239        628      0.864      0.715      0.795      0.386\n"
     ]
    },
    {
     "name": "stderr",
     "output_type": "stream",
     "text": [
      "\n"
     ]
    },
    {
     "name": "stdout",
     "output_type": "stream",
     "text": [
      "Closing dataloader mosaic\n",
      "\n",
      "      Epoch    GPU_mem   box_loss   cls_loss   dfl_loss  Instances       Size\n"
     ]
    },
    {
     "name": "stderr",
     "output_type": "stream",
     "text": [
      "      41/50      5.27G      1.658     0.9141      1.111          2        640: 100%|██████████| 81/81 [01:13<00:00,  1.10it/s]\n",
      "                 Class     Images  Instances      Box(P          R      mAP50  mAP50-95): 100%|██████████| 10/10 [00:03<00:00,  2.57it/s]"
     ]
    },
    {
     "name": "stdout",
     "output_type": "stream",
     "text": [
      "                   all        239        628      0.882      0.711      0.794       0.38\n"
     ]
    },
    {
     "name": "stderr",
     "output_type": "stream",
     "text": [
      "\n"
     ]
    },
    {
     "name": "stdout",
     "output_type": "stream",
     "text": [
      "\n",
      "      Epoch    GPU_mem   box_loss   cls_loss   dfl_loss  Instances       Size\n"
     ]
    },
    {
     "name": "stderr",
     "output_type": "stream",
     "text": [
      "      42/50      5.27G       1.66     0.8876      1.108          4        640: 100%|██████████| 81/81 [01:13<00:00,  1.10it/s]\n",
      "                 Class     Images  Instances      Box(P          R      mAP50  mAP50-95): 100%|██████████| 10/10 [00:03<00:00,  2.54it/s]"
     ]
    },
    {
     "name": "stdout",
     "output_type": "stream",
     "text": [
      "                   all        239        628      0.867      0.718      0.791      0.373\n"
     ]
    },
    {
     "name": "stderr",
     "output_type": "stream",
     "text": [
      "\n"
     ]
    },
    {
     "name": "stdout",
     "output_type": "stream",
     "text": [
      "\n",
      "      Epoch    GPU_mem   box_loss   cls_loss   dfl_loss  Instances       Size\n"
     ]
    },
    {
     "name": "stderr",
     "output_type": "stream",
     "text": [
      "      43/50      5.27G       1.59     0.8642      1.086          2        640: 100%|██████████| 81/81 [01:13<00:00,  1.11it/s]\n",
      "                 Class     Images  Instances      Box(P          R      mAP50  mAP50-95): 100%|██████████| 10/10 [00:03<00:00,  2.55it/s]"
     ]
    },
    {
     "name": "stdout",
     "output_type": "stream",
     "text": [
      "                   all        239        628      0.891      0.713      0.809      0.385\n"
     ]
    },
    {
     "name": "stderr",
     "output_type": "stream",
     "text": [
      "\n"
     ]
    },
    {
     "name": "stdout",
     "output_type": "stream",
     "text": [
      "\n",
      "      Epoch    GPU_mem   box_loss   cls_loss   dfl_loss  Instances       Size\n"
     ]
    },
    {
     "name": "stderr",
     "output_type": "stream",
     "text": [
      "      44/50      5.27G      1.601     0.8545      1.092          6        640: 100%|██████████| 81/81 [01:13<00:00,  1.10it/s]\n",
      "                 Class     Images  Instances      Box(P          R      mAP50  mAP50-95): 100%|██████████| 10/10 [00:03<00:00,  2.53it/s]"
     ]
    },
    {
     "name": "stdout",
     "output_type": "stream",
     "text": [
      "                   all        239        628      0.887      0.713        0.8      0.384\n"
     ]
    },
    {
     "name": "stderr",
     "output_type": "stream",
     "text": [
      "\n"
     ]
    },
    {
     "name": "stdout",
     "output_type": "stream",
     "text": [
      "\n",
      "      Epoch    GPU_mem   box_loss   cls_loss   dfl_loss  Instances       Size\n"
     ]
    },
    {
     "name": "stderr",
     "output_type": "stream",
     "text": [
      "      45/50      5.27G      1.615     0.8566      1.108          1        640: 100%|██████████| 81/81 [01:13<00:00,  1.10it/s]\n",
      "                 Class     Images  Instances      Box(P          R      mAP50  mAP50-95): 100%|██████████| 10/10 [00:03<00:00,  2.55it/s]"
     ]
    },
    {
     "name": "stdout",
     "output_type": "stream",
     "text": [
      "                   all        239        628      0.879      0.697      0.806      0.393\n"
     ]
    },
    {
     "name": "stderr",
     "output_type": "stream",
     "text": [
      "\n"
     ]
    },
    {
     "name": "stdout",
     "output_type": "stream",
     "text": [
      "\n",
      "      Epoch    GPU_mem   box_loss   cls_loss   dfl_loss  Instances       Size\n"
     ]
    },
    {
     "name": "stderr",
     "output_type": "stream",
     "text": [
      "      46/50      5.27G      1.587     0.8429        1.1          3        640: 100%|██████████| 81/81 [01:13<00:00,  1.10it/s]\n",
      "                 Class     Images  Instances      Box(P          R      mAP50  mAP50-95): 100%|██████████| 10/10 [00:04<00:00,  2.50it/s]"
     ]
    },
    {
     "name": "stdout",
     "output_type": "stream",
     "text": [
      "                   all        239        628      0.891      0.729      0.806      0.381\n"
     ]
    },
    {
     "name": "stderr",
     "output_type": "stream",
     "text": [
      "\n"
     ]
    },
    {
     "name": "stdout",
     "output_type": "stream",
     "text": [
      "\n",
      "      Epoch    GPU_mem   box_loss   cls_loss   dfl_loss  Instances       Size\n"
     ]
    },
    {
     "name": "stderr",
     "output_type": "stream",
     "text": [
      "      47/50      5.27G      1.585     0.8395      1.072          5        640: 100%|██████████| 81/81 [01:13<00:00,  1.10it/s]\n",
      "                 Class     Images  Instances      Box(P          R      mAP50  mAP50-95): 100%|██████████| 10/10 [00:03<00:00,  2.54it/s]"
     ]
    },
    {
     "name": "stdout",
     "output_type": "stream",
     "text": [
      "                   all        239        628      0.892      0.713      0.807      0.396\n"
     ]
    },
    {
     "name": "stderr",
     "output_type": "stream",
     "text": [
      "\n"
     ]
    },
    {
     "name": "stdout",
     "output_type": "stream",
     "text": [
      "\n",
      "      Epoch    GPU_mem   box_loss   cls_loss   dfl_loss  Instances       Size\n"
     ]
    },
    {
     "name": "stderr",
     "output_type": "stream",
     "text": [
      "      48/50      5.27G      1.569     0.8064      1.076          1        640: 100%|██████████| 81/81 [01:13<00:00,  1.10it/s]\n",
      "                 Class     Images  Instances      Box(P          R      mAP50  mAP50-95): 100%|██████████| 10/10 [00:03<00:00,  2.55it/s]"
     ]
    },
    {
     "name": "stdout",
     "output_type": "stream",
     "text": [
      "                   all        239        628      0.853      0.736      0.811      0.397\n"
     ]
    },
    {
     "name": "stderr",
     "output_type": "stream",
     "text": [
      "\n"
     ]
    },
    {
     "name": "stdout",
     "output_type": "stream",
     "text": [
      "\n",
      "      Epoch    GPU_mem   box_loss   cls_loss   dfl_loss  Instances       Size\n"
     ]
    },
    {
     "name": "stderr",
     "output_type": "stream",
     "text": [
      "      49/50      5.27G      1.542     0.8264       1.08          1        640: 100%|██████████| 81/81 [01:13<00:00,  1.10it/s]\n",
      "                 Class     Images  Instances      Box(P          R      mAP50  mAP50-95): 100%|██████████| 10/10 [00:03<00:00,  2.53it/s]"
     ]
    },
    {
     "name": "stdout",
     "output_type": "stream",
     "text": [
      "                   all        239        628      0.871      0.732      0.811        0.4\n"
     ]
    },
    {
     "name": "stderr",
     "output_type": "stream",
     "text": [
      "\n"
     ]
    },
    {
     "name": "stdout",
     "output_type": "stream",
     "text": [
      "\n",
      "      Epoch    GPU_mem   box_loss   cls_loss   dfl_loss  Instances       Size\n"
     ]
    },
    {
     "name": "stderr",
     "output_type": "stream",
     "text": [
      "      50/50      5.27G      1.566     0.8272      1.084          5        640: 100%|██████████| 81/81 [01:13<00:00,  1.10it/s]\n",
      "                 Class     Images  Instances      Box(P          R      mAP50  mAP50-95): 100%|██████████| 10/10 [00:03<00:00,  2.53it/s]"
     ]
    },
    {
     "name": "stdout",
     "output_type": "stream",
     "text": [
      "                   all        239        628      0.904      0.721      0.813      0.393\n"
     ]
    },
    {
     "name": "stderr",
     "output_type": "stream",
     "text": [
      "\n"
     ]
    },
    {
     "name": "stdout",
     "output_type": "stream",
     "text": [
      "\n",
      "50 epochs completed in 1.152 hours.\n",
      "Optimizer stripped from runs\\detect\\yolo12-simam\\weights\\last.pt, 18.9MB\n",
      "Optimizer stripped from runs\\detect\\yolo12-simam\\weights\\best.pt, 18.9MB\n",
      "\n",
      "Validating runs\\detect\\yolo12-simam\\weights\\best.pt...\n",
      "Ultralytics 8.3.96  Python-3.9.21 torch-2.6.0+cu118 CUDA:0 (NVIDIA GeForce GTX 1060 6GB, 6144MiB)\n",
      "YOLO12-simam summary (fused): 162 layers, 9,231,267 parameters, 0 gradients, 21.2 GFLOPs\n"
     ]
    },
    {
     "name": "stderr",
     "output_type": "stream",
     "text": [
      "                 Class     Images  Instances      Box(P          R      mAP50  mAP50-95): 100%|██████████| 10/10 [00:04<00:00,  2.32it/s]\n"
     ]
    },
    {
     "name": "stdout",
     "output_type": "stream",
     "text": [
      "                   all        239        628       0.87      0.732      0.812        0.4\n",
      "Speed: 0.3ms preprocess, 9.1ms inference, 0.0ms loss, 1.9ms postprocess per image\n",
      "Results saved to \u001b[1mruns\\detect\\yolo12-simam\u001b[0m\n"
     ]
    },
    {
     "data": {
      "text/plain": [
       "ultralytics.utils.metrics.DetMetrics object with attributes:\n",
       "\n",
       "ap_class_index: array([0])\n",
       "box: ultralytics.utils.metrics.Metric object\n",
       "confusion_matrix: <ultralytics.utils.metrics.ConfusionMatrix object at 0x0000011B1245BB80>\n",
       "curves: ['Precision-Recall(B)', 'F1-Confidence(B)', 'Precision-Confidence(B)', 'Recall-Confidence(B)']\n",
       "curves_results: [[array([          0,    0.001001,    0.002002,    0.003003,    0.004004,    0.005005,    0.006006,    0.007007,    0.008008,    0.009009,     0.01001,    0.011011,    0.012012,    0.013013,    0.014014,    0.015015,    0.016016,    0.017017,    0.018018,    0.019019,     0.02002,    0.021021,    0.022022,    0.023023,\n",
       "          0.024024,    0.025025,    0.026026,    0.027027,    0.028028,    0.029029,     0.03003,    0.031031,    0.032032,    0.033033,    0.034034,    0.035035,    0.036036,    0.037037,    0.038038,    0.039039,     0.04004,    0.041041,    0.042042,    0.043043,    0.044044,    0.045045,    0.046046,    0.047047,\n",
       "          0.048048,    0.049049,     0.05005,    0.051051,    0.052052,    0.053053,    0.054054,    0.055055,    0.056056,    0.057057,    0.058058,    0.059059,     0.06006,    0.061061,    0.062062,    0.063063,    0.064064,    0.065065,    0.066066,    0.067067,    0.068068,    0.069069,     0.07007,    0.071071,\n",
       "          0.072072,    0.073073,    0.074074,    0.075075,    0.076076,    0.077077,    0.078078,    0.079079,     0.08008,    0.081081,    0.082082,    0.083083,    0.084084,    0.085085,    0.086086,    0.087087,    0.088088,    0.089089,     0.09009,    0.091091,    0.092092,    0.093093,    0.094094,    0.095095,\n",
       "          0.096096,    0.097097,    0.098098,    0.099099,      0.1001,      0.1011,      0.1021,      0.1031,      0.1041,     0.10511,     0.10611,     0.10711,     0.10811,     0.10911,     0.11011,     0.11111,     0.11211,     0.11311,     0.11411,     0.11512,     0.11612,     0.11712,     0.11812,     0.11912,\n",
       "           0.12012,     0.12112,     0.12212,     0.12312,     0.12412,     0.12513,     0.12613,     0.12713,     0.12813,     0.12913,     0.13013,     0.13113,     0.13213,     0.13313,     0.13413,     0.13514,     0.13614,     0.13714,     0.13814,     0.13914,     0.14014,     0.14114,     0.14214,     0.14314,\n",
       "           0.14414,     0.14515,     0.14615,     0.14715,     0.14815,     0.14915,     0.15015,     0.15115,     0.15215,     0.15315,     0.15415,     0.15516,     0.15616,     0.15716,     0.15816,     0.15916,     0.16016,     0.16116,     0.16216,     0.16316,     0.16416,     0.16517,     0.16617,     0.16717,\n",
       "           0.16817,     0.16917,     0.17017,     0.17117,     0.17217,     0.17317,     0.17417,     0.17518,     0.17618,     0.17718,     0.17818,     0.17918,     0.18018,     0.18118,     0.18218,     0.18318,     0.18418,     0.18519,     0.18619,     0.18719,     0.18819,     0.18919,     0.19019,     0.19119,\n",
       "           0.19219,     0.19319,     0.19419,      0.1952,      0.1962,      0.1972,      0.1982,      0.1992,      0.2002,      0.2012,      0.2022,      0.2032,      0.2042,     0.20521,     0.20621,     0.20721,     0.20821,     0.20921,     0.21021,     0.21121,     0.21221,     0.21321,     0.21421,     0.21522,\n",
       "           0.21622,     0.21722,     0.21822,     0.21922,     0.22022,     0.22122,     0.22222,     0.22322,     0.22422,     0.22523,     0.22623,     0.22723,     0.22823,     0.22923,     0.23023,     0.23123,     0.23223,     0.23323,     0.23423,     0.23524,     0.23624,     0.23724,     0.23824,     0.23924,\n",
       "           0.24024,     0.24124,     0.24224,     0.24324,     0.24424,     0.24525,     0.24625,     0.24725,     0.24825,     0.24925,     0.25025,     0.25125,     0.25225,     0.25325,     0.25425,     0.25526,     0.25626,     0.25726,     0.25826,     0.25926,     0.26026,     0.26126,     0.26226,     0.26326,\n",
       "           0.26426,     0.26527,     0.26627,     0.26727,     0.26827,     0.26927,     0.27027,     0.27127,     0.27227,     0.27327,     0.27427,     0.27528,     0.27628,     0.27728,     0.27828,     0.27928,     0.28028,     0.28128,     0.28228,     0.28328,     0.28428,     0.28529,     0.28629,     0.28729,\n",
       "           0.28829,     0.28929,     0.29029,     0.29129,     0.29229,     0.29329,     0.29429,      0.2953,      0.2963,      0.2973,      0.2983,      0.2993,      0.3003,      0.3013,      0.3023,      0.3033,      0.3043,     0.30531,     0.30631,     0.30731,     0.30831,     0.30931,     0.31031,     0.31131,\n",
       "           0.31231,     0.31331,     0.31431,     0.31532,     0.31632,     0.31732,     0.31832,     0.31932,     0.32032,     0.32132,     0.32232,     0.32332,     0.32432,     0.32533,     0.32633,     0.32733,     0.32833,     0.32933,     0.33033,     0.33133,     0.33233,     0.33333,     0.33433,     0.33534,\n",
       "           0.33634,     0.33734,     0.33834,     0.33934,     0.34034,     0.34134,     0.34234,     0.34334,     0.34434,     0.34535,     0.34635,     0.34735,     0.34835,     0.34935,     0.35035,     0.35135,     0.35235,     0.35335,     0.35435,     0.35536,     0.35636,     0.35736,     0.35836,     0.35936,\n",
       "           0.36036,     0.36136,     0.36236,     0.36336,     0.36436,     0.36537,     0.36637,     0.36737,     0.36837,     0.36937,     0.37037,     0.37137,     0.37237,     0.37337,     0.37437,     0.37538,     0.37638,     0.37738,     0.37838,     0.37938,     0.38038,     0.38138,     0.38238,     0.38338,\n",
       "           0.38438,     0.38539,     0.38639,     0.38739,     0.38839,     0.38939,     0.39039,     0.39139,     0.39239,     0.39339,     0.39439,      0.3954,      0.3964,      0.3974,      0.3984,      0.3994,      0.4004,      0.4014,      0.4024,      0.4034,      0.4044,     0.40541,     0.40641,     0.40741,\n",
       "           0.40841,     0.40941,     0.41041,     0.41141,     0.41241,     0.41341,     0.41441,     0.41542,     0.41642,     0.41742,     0.41842,     0.41942,     0.42042,     0.42142,     0.42242,     0.42342,     0.42442,     0.42543,     0.42643,     0.42743,     0.42843,     0.42943,     0.43043,     0.43143,\n",
       "           0.43243,     0.43343,     0.43443,     0.43544,     0.43644,     0.43744,     0.43844,     0.43944,     0.44044,     0.44144,     0.44244,     0.44344,     0.44444,     0.44545,     0.44645,     0.44745,     0.44845,     0.44945,     0.45045,     0.45145,     0.45245,     0.45345,     0.45445,     0.45546,\n",
       "           0.45646,     0.45746,     0.45846,     0.45946,     0.46046,     0.46146,     0.46246,     0.46346,     0.46446,     0.46547,     0.46647,     0.46747,     0.46847,     0.46947,     0.47047,     0.47147,     0.47247,     0.47347,     0.47447,     0.47548,     0.47648,     0.47748,     0.47848,     0.47948,\n",
       "           0.48048,     0.48148,     0.48248,     0.48348,     0.48448,     0.48549,     0.48649,     0.48749,     0.48849,     0.48949,     0.49049,     0.49149,     0.49249,     0.49349,     0.49449,      0.4955,      0.4965,      0.4975,      0.4985,      0.4995,      0.5005,      0.5015,      0.5025,      0.5035,\n",
       "            0.5045,     0.50551,     0.50651,     0.50751,     0.50851,     0.50951,     0.51051,     0.51151,     0.51251,     0.51351,     0.51451,     0.51552,     0.51652,     0.51752,     0.51852,     0.51952,     0.52052,     0.52152,     0.52252,     0.52352,     0.52452,     0.52553,     0.52653,     0.52753,\n",
       "           0.52853,     0.52953,     0.53053,     0.53153,     0.53253,     0.53353,     0.53453,     0.53554,     0.53654,     0.53754,     0.53854,     0.53954,     0.54054,     0.54154,     0.54254,     0.54354,     0.54454,     0.54555,     0.54655,     0.54755,     0.54855,     0.54955,     0.55055,     0.55155,\n",
       "           0.55255,     0.55355,     0.55455,     0.55556,     0.55656,     0.55756,     0.55856,     0.55956,     0.56056,     0.56156,     0.56256,     0.56356,     0.56456,     0.56557,     0.56657,     0.56757,     0.56857,     0.56957,     0.57057,     0.57157,     0.57257,     0.57357,     0.57457,     0.57558,\n",
       "           0.57658,     0.57758,     0.57858,     0.57958,     0.58058,     0.58158,     0.58258,     0.58358,     0.58458,     0.58559,     0.58659,     0.58759,     0.58859,     0.58959,     0.59059,     0.59159,     0.59259,     0.59359,     0.59459,      0.5956,      0.5966,      0.5976,      0.5986,      0.5996,\n",
       "            0.6006,      0.6016,      0.6026,      0.6036,      0.6046,     0.60561,     0.60661,     0.60761,     0.60861,     0.60961,     0.61061,     0.61161,     0.61261,     0.61361,     0.61461,     0.61562,     0.61662,     0.61762,     0.61862,     0.61962,     0.62062,     0.62162,     0.62262,     0.62362,\n",
       "           0.62462,     0.62563,     0.62663,     0.62763,     0.62863,     0.62963,     0.63063,     0.63163,     0.63263,     0.63363,     0.63463,     0.63564,     0.63664,     0.63764,     0.63864,     0.63964,     0.64064,     0.64164,     0.64264,     0.64364,     0.64464,     0.64565,     0.64665,     0.64765,\n",
       "           0.64865,     0.64965,     0.65065,     0.65165,     0.65265,     0.65365,     0.65465,     0.65566,     0.65666,     0.65766,     0.65866,     0.65966,     0.66066,     0.66166,     0.66266,     0.66366,     0.66466,     0.66567,     0.66667,     0.66767,     0.66867,     0.66967,     0.67067,     0.67167,\n",
       "           0.67267,     0.67367,     0.67467,     0.67568,     0.67668,     0.67768,     0.67868,     0.67968,     0.68068,     0.68168,     0.68268,     0.68368,     0.68468,     0.68569,     0.68669,     0.68769,     0.68869,     0.68969,     0.69069,     0.69169,     0.69269,     0.69369,     0.69469,      0.6957,\n",
       "            0.6967,      0.6977,      0.6987,      0.6997,      0.7007,      0.7017,      0.7027,      0.7037,      0.7047,     0.70571,     0.70671,     0.70771,     0.70871,     0.70971,     0.71071,     0.71171,     0.71271,     0.71371,     0.71471,     0.71572,     0.71672,     0.71772,     0.71872,     0.71972,\n",
       "           0.72072,     0.72172,     0.72272,     0.72372,     0.72472,     0.72573,     0.72673,     0.72773,     0.72873,     0.72973,     0.73073,     0.73173,     0.73273,     0.73373,     0.73473,     0.73574,     0.73674,     0.73774,     0.73874,     0.73974,     0.74074,     0.74174,     0.74274,     0.74374,\n",
       "           0.74474,     0.74575,     0.74675,     0.74775,     0.74875,     0.74975,     0.75075,     0.75175,     0.75275,     0.75375,     0.75475,     0.75576,     0.75676,     0.75776,     0.75876,     0.75976,     0.76076,     0.76176,     0.76276,     0.76376,     0.76476,     0.76577,     0.76677,     0.76777,\n",
       "           0.76877,     0.76977,     0.77077,     0.77177,     0.77277,     0.77377,     0.77477,     0.77578,     0.77678,     0.77778,     0.77878,     0.77978,     0.78078,     0.78178,     0.78278,     0.78378,     0.78478,     0.78579,     0.78679,     0.78779,     0.78879,     0.78979,     0.79079,     0.79179,\n",
       "           0.79279,     0.79379,     0.79479,      0.7958,      0.7968,      0.7978,      0.7988,      0.7998,      0.8008,      0.8018,      0.8028,      0.8038,      0.8048,     0.80581,     0.80681,     0.80781,     0.80881,     0.80981,     0.81081,     0.81181,     0.81281,     0.81381,     0.81481,     0.81582,\n",
       "           0.81682,     0.81782,     0.81882,     0.81982,     0.82082,     0.82182,     0.82282,     0.82382,     0.82482,     0.82583,     0.82683,     0.82783,     0.82883,     0.82983,     0.83083,     0.83183,     0.83283,     0.83383,     0.83483,     0.83584,     0.83684,     0.83784,     0.83884,     0.83984,\n",
       "           0.84084,     0.84184,     0.84284,     0.84384,     0.84484,     0.84585,     0.84685,     0.84785,     0.84885,     0.84985,     0.85085,     0.85185,     0.85285,     0.85385,     0.85485,     0.85586,     0.85686,     0.85786,     0.85886,     0.85986,     0.86086,     0.86186,     0.86286,     0.86386,\n",
       "           0.86486,     0.86587,     0.86687,     0.86787,     0.86887,     0.86987,     0.87087,     0.87187,     0.87287,     0.87387,     0.87487,     0.87588,     0.87688,     0.87788,     0.87888,     0.87988,     0.88088,     0.88188,     0.88288,     0.88388,     0.88488,     0.88589,     0.88689,     0.88789,\n",
       "           0.88889,     0.88989,     0.89089,     0.89189,     0.89289,     0.89389,     0.89489,      0.8959,      0.8969,      0.8979,      0.8989,      0.8999,      0.9009,      0.9019,      0.9029,      0.9039,      0.9049,     0.90591,     0.90691,     0.90791,     0.90891,     0.90991,     0.91091,     0.91191,\n",
       "           0.91291,     0.91391,     0.91491,     0.91592,     0.91692,     0.91792,     0.91892,     0.91992,     0.92092,     0.92192,     0.92292,     0.92392,     0.92492,     0.92593,     0.92693,     0.92793,     0.92893,     0.92993,     0.93093,     0.93193,     0.93293,     0.93393,     0.93493,     0.93594,\n",
       "           0.93694,     0.93794,     0.93894,     0.93994,     0.94094,     0.94194,     0.94294,     0.94394,     0.94494,     0.94595,     0.94695,     0.94795,     0.94895,     0.94995,     0.95095,     0.95195,     0.95295,     0.95395,     0.95495,     0.95596,     0.95696,     0.95796,     0.95896,     0.95996,\n",
       "           0.96096,     0.96196,     0.96296,     0.96396,     0.96496,     0.96597,     0.96697,     0.96797,     0.96897,     0.96997,     0.97097,     0.97197,     0.97297,     0.97397,     0.97497,     0.97598,     0.97698,     0.97798,     0.97898,     0.97998,     0.98098,     0.98198,     0.98298,     0.98398,\n",
       "           0.98498,     0.98599,     0.98699,     0.98799,     0.98899,     0.98999,     0.99099,     0.99199,     0.99299,     0.99399,     0.99499,       0.996,       0.997,       0.998,       0.999,           1]), array([[          1,           1,           1,           1,           1,           1,           1,           1,           1,           1,           1,           1,           1,           1,           1,           1,           1,           1,           1,           1,           1,           1,           1,\n",
       "                  1,           1,           1,           1,           1,           1,           1,           1,           1,           1,           1,           1,           1,           1,      0.9901,      0.9901,      0.9901,      0.9901,      0.9901,      0.9901,      0.9901,      0.9901,      0.9901,\n",
       "             0.9901,      0.9901,      0.9901,      0.9901,      0.9901,      0.9901,      0.9901,      0.9901,      0.9901,      0.9901,      0.9901,      0.9901,      0.9901,      0.9901,      0.9901,      0.9901,      0.9901,      0.9901,      0.9901,      0.9901,      0.9901,      0.9901,      0.9901,\n",
       "             0.9901,      0.9901,      0.9901,      0.9901,      0.9901,      0.9901,      0.9901,      0.9901,      0.9901,      0.9901,      0.9901,      0.9901,      0.9901,      0.9901,      0.9901,      0.9901,      0.9901,      0.9901,      0.9901,      0.9901,      0.9901,      0.9901,      0.9901,\n",
       "             0.9901,      0.9901,      0.9901,      0.9901,      0.9901,      0.9901,      0.9901,      0.9901,      0.9901,      0.9901,      0.9901,      0.9901,      0.9901,      0.9901,      0.9901,      0.9901,      0.9901,      0.9901,      0.9901,      0.9901,      0.9901,      0.9901,      0.9901,\n",
       "             0.9901,      0.9901,      0.9901,      0.9901,      0.9901,      0.9901,      0.9901,      0.9901,      0.9901,      0.9901,      0.9901,      0.9901,      0.9901,      0.9901,      0.9901,      0.9901,      0.9901,      0.9901,      0.9901,      0.9901,      0.9901,      0.9901,      0.9901,\n",
       "             0.9901,      0.9901,      0.9901,      0.9901,      0.9901,      0.9901,      0.9901,      0.9901,      0.9901,      0.9901,      0.9901,      0.9901,      0.9901,      0.9901,      0.9901,      0.9901,      0.9901,      0.9901,      0.9901,      0.9901,      0.9901,      0.9901,     0.98684,\n",
       "            0.98684,     0.98684,     0.98684,     0.98684,     0.98684,     0.98684,     0.98684,     0.98684,     0.98684,     0.98684,     0.98684,     0.98684,     0.98684,     0.98684,     0.98684,     0.98684,     0.98684,     0.98684,     0.98684,     0.98684,     0.98684,     0.98684,     0.98684,\n",
       "            0.98684,     0.98684,     0.98684,     0.98684,     0.98684,     0.98684,     0.98684,     0.98684,     0.98684,     0.98684,     0.98684,     0.98684,     0.98684,     0.98684,     0.98684,     0.98684,     0.98684,     0.98684,     0.98684,     0.98684,     0.98684,     0.98684,     0.98684,\n",
       "            0.98684,     0.98684,     0.98684,     0.98684,     0.98684,     0.98684,     0.98684,     0.98684,     0.98684,     0.98684,     0.98684,     0.98684,     0.98684,     0.98684,     0.98684,     0.98684,     0.98684,     0.98684,     0.98684,     0.98684,     0.98684,     0.98684,     0.98684,\n",
       "            0.98684,     0.98684,     0.98684,     0.98684,     0.98684,     0.98684,     0.98684,     0.98684,     0.98684,     0.98444,     0.98444,     0.98444,     0.98444,     0.98444,     0.98444,     0.98444,     0.98444,     0.98444,     0.98444,     0.98444,     0.98444,     0.98444,     0.98444,\n",
       "            0.98444,     0.98444,     0.98444,     0.98444,     0.98444,     0.98444,     0.98444,     0.98444,     0.98444,     0.98444,     0.98444,     0.98444,     0.98444,     0.98444,     0.98444,     0.98444,     0.98444,     0.98444,     0.98444,     0.98444,     0.98444,     0.98444,     0.98444,\n",
       "            0.98444,     0.98444,     0.98444,     0.98444,     0.98444,     0.98444,     0.98444,     0.98444,     0.98444,     0.98444,     0.98444,     0.98444,     0.98444,     0.98444,     0.98444,     0.98444,     0.98444,     0.98444,     0.98444,     0.98444,     0.98444,     0.98444,     0.98444,\n",
       "            0.98444,     0.98444,     0.98444,     0.98444,     0.98444,     0.98444,     0.98444,     0.98444,     0.98444,     0.98444,     0.98444,     0.98444,     0.98444,     0.98444,     0.98444,     0.98444,     0.98444,     0.98444,     0.98444,     0.98444,     0.98444,     0.98444,     0.98444,\n",
       "            0.98444,     0.98444,     0.98444,     0.98444,     0.98444,     0.98444,     0.98444,     0.98444,     0.98444,     0.98444,     0.98444,     0.98444,     0.98444,     0.98444,     0.98444,     0.98444,     0.98444,     0.98444,     0.98444,     0.98444,     0.98444,     0.98444,     0.98444,\n",
       "            0.98444,     0.98444,     0.98444,     0.98444,     0.98444,     0.98444,     0.98444,     0.98444,     0.98444,     0.98444,     0.98444,     0.98444,     0.98444,     0.98444,     0.98444,     0.98444,     0.98444,     0.98444,     0.98444,     0.98444,     0.98444,     0.98444,     0.98444,\n",
       "            0.98444,     0.98444,     0.98444,     0.98444,     0.98444,     0.98444,     0.98444,     0.98444,     0.98444,     0.98444,     0.98444,     0.98444,     0.98444,     0.98444,     0.98444,     0.98444,     0.98444,     0.98444,     0.98444,     0.98444,     0.98444,     0.98444,     0.98444,\n",
       "            0.98444,     0.98444,     0.98444,     0.98444,     0.98444,     0.98444,     0.98444,     0.98444,     0.98444,     0.98444,     0.98444,     0.98444,      0.9812,      0.9812,      0.9812,      0.9812,      0.9812,      0.9812,      0.9812,      0.9812,      0.9812,      0.9812,      0.9812,\n",
       "             0.9812,      0.9812,     0.97952,     0.97952,     0.97952,     0.97952,     0.97952,     0.97952,     0.97952,     0.97952,     0.97952,     0.97952,     0.97952,     0.97952,     0.97952,     0.97952,     0.97952,     0.97952,     0.97952,     0.97952,     0.97952,     0.97952,     0.97952,\n",
       "            0.97952,     0.97952,     0.97952,     0.97952,     0.97952,     0.97952,     0.97952,     0.97952,     0.97952,     0.97952,     0.97952,     0.97952,     0.97952,     0.97952,     0.97952,     0.97952,     0.97952,     0.97952,     0.97952,     0.97952,     0.97819,     0.97819,     0.97819,\n",
       "            0.97819,     0.97819,     0.97819,     0.97819,     0.97819,     0.97819,     0.97819,     0.97819,     0.97819,     0.97819,     0.97819,     0.97819,     0.97819,     0.97819,     0.97819,     0.97819,     0.97819,     0.97819,     0.97819,     0.97819,     0.97819,     0.97819,     0.97819,\n",
       "            0.97819,     0.97819,     0.97819,     0.97819,     0.97819,     0.97819,     0.97819,     0.97819,     0.97819,     0.97819,     0.97819,     0.97819,     0.97819,     0.97819,     0.97819,     0.97819,     0.97819,     0.97361,     0.97361,     0.97361,     0.97361,     0.97361,     0.97361,\n",
       "            0.97361,     0.97361,     0.97361,     0.97361,     0.97361,     0.97361,     0.97361,     0.97361,     0.97361,     0.97361,     0.97361,     0.97361,     0.97361,     0.97361,     0.97361,     0.97361,     0.97361,     0.97361,     0.97361,     0.97361,     0.97361,     0.97361,     0.97361,\n",
       "             0.9726,      0.9726,      0.9726,      0.9726,      0.9726,      0.9726,      0.9726,      0.9726,      0.9726,      0.9726,      0.9726,      0.9726,      0.9726,      0.9726,      0.9726,      0.9726,      0.9726,      0.9726,      0.9726,      0.9726,      0.9726,      0.9726,      0.9726,\n",
       "             0.9726,      0.9726,      0.9726,      0.9726,      0.9726,      0.9726,      0.9726,      0.9726,      0.9726,      0.9726,      0.9726,      0.9726,      0.9726,     0.96757,     0.96757,     0.96757,     0.96757,     0.96757,     0.96579,     0.96579,     0.96579,     0.96579,     0.96579,\n",
       "            0.96579,     0.96579,     0.96579,     0.96579,     0.96579,     0.96579,     0.96579,     0.96579,     0.96579,      0.9641,      0.9641,      0.9641,      0.9641,      0.9641,      0.9641,      0.9641,      0.9641,      0.9641,      0.9641,      0.9641,      0.9641,      0.9641,      0.9641,\n",
       "             0.9641,     0.96222,     0.96222,     0.96222,     0.96222,     0.96222,     0.96222,     0.96222,     0.96222,     0.96222,     0.95556,     0.95556,     0.95556,     0.95556,     0.95556,     0.95556,     0.95556,     0.95556,     0.95332,     0.95332,     0.95169,     0.95169,     0.95169,\n",
       "            0.95169,     0.95169,     0.95169,     0.95169,     0.95169,     0.95169,     0.94964,     0.94964,     0.94964,     0.94749,     0.94749,     0.94537,     0.94537,     0.94104,     0.93897,     0.93897,     0.93694,     0.93694,     0.93694,     0.93694,     0.93694,     0.93694,     0.93694,\n",
       "            0.93694,     0.93694,     0.93694,     0.93694,     0.93694,     0.93694,     0.93694,     0.93694,     0.93694,     0.93694,     0.93694,     0.93694,     0.93694,     0.93694,     0.93694,     0.93694,     0.93694,     0.93694,     0.93584,     0.93584,     0.93584,     0.93584,     0.93584,\n",
       "            0.93584,     0.93584,     0.93584,     0.93584,     0.93584,     0.93584,     0.93217,     0.93217,     0.93217,     0.93217,     0.93217,     0.92826,     0.92826,     0.92473,     0.92473,     0.92473,     0.92473,     0.92473,     0.92324,     0.92324,     0.92324,     0.92324,     0.92144,\n",
       "            0.92144,     0.91966,     0.91632,     0.91632,     0.91632,     0.91632,     0.91632,     0.91476,     0.91476,     0.91476,     0.91116,     0.91116,     0.90389,     0.90389,     0.90244,     0.90244,     0.90244,     0.89022,     0.89022,     0.89022,     0.88976,     0.88976,     0.88976,\n",
       "            0.88976,     0.88976,     0.88976,     0.88976,     0.88976,     0.88976,     0.88976,     0.88477,     0.88155,     0.88155,     0.87619,     0.87619,     0.87619,     0.87619,     0.87619,     0.87619,     0.87619,     0.87619,     0.87619,     0.87006,     0.87006,     0.87006,     0.86867,\n",
       "            0.86867,     0.86729,     0.86729,     0.86111,     0.85714,     0.85714,     0.85714,     0.85714,     0.85714,     0.85118,     0.85118,     0.84838,      0.8456,      0.8456,     0.83099,     0.83012,     0.83012,     0.83012,     0.83012,      0.8218,     0.81928,     0.81928,     0.81463,\n",
       "            0.81463,     0.81463,     0.81463,     0.80268,     0.80268,     0.80033,     0.80033,     0.79934,     0.79835,     0.79835,      0.7977,      0.7977,      0.7977,     0.79575,     0.79575,     0.79575,     0.79221,     0.79221,     0.78905,     0.78905,     0.78905,     0.78309,     0.78309,\n",
       "            0.77971,     0.76827,     0.76827,     0.76827,     0.75457,     0.75457,     0.75038,     0.75038,     0.71717,     0.71552,     0.71552,     0.71531,     0.71531,     0.71531,     0.70763,      0.7021,      0.7021,     0.69861,     0.69861,     0.68947,     0.68151,     0.68151,     0.68102,\n",
       "            0.67152,     0.67152,     0.66536,     0.66536,     0.66536,     0.65301,     0.65301,     0.64439,     0.64322,     0.64322,     0.64205,     0.64205,     0.63693,      0.6358,      0.6358,      0.6121,     0.59977,     0.59977,     0.59609,     0.59609,     0.59518,     0.58691,     0.58691,\n",
       "            0.57506,     0.57049,     0.57049,     0.57034,     0.55804,     0.55804,     0.55205,     0.55205,     0.53239,     0.52859,     0.52859,     0.52747,     0.49486,     0.49486,     0.49211,     0.49211,      0.4662,     0.42526,     0.42526,     0.41706,     0.41589,     0.41589,     0.41377,\n",
       "            0.41377,     0.40992,     0.40992,     0.40992,     0.40089,     0.38777,     0.38777,      0.3661,      0.3661,     0.35267,     0.34088,     0.34088,     0.34001,     0.31121,     0.31121,     0.28609,      0.2683,      0.2683,     0.25525,     0.25525,     0.25429,     0.23372,     0.23372,\n",
       "            0.22344,     0.22344,     0.22344,     0.20036,     0.20036,     0.19906,     0.16875,     0.16875,     0.15669,     0.14393,     0.14393,    0.091245,    0.090445,    0.089645,    0.088844,    0.088044,    0.087243,    0.086443,    0.085643,    0.084842,    0.084042,    0.083241,    0.082441,\n",
       "           0.081641,     0.08084,     0.08004,    0.079239,    0.078439,    0.077639,    0.076838,    0.076038,    0.075237,    0.074437,    0.073637,    0.072836,    0.072036,    0.071235,    0.070435,    0.069635,    0.068834,    0.068034,    0.067233,    0.066433,    0.065633,    0.064832,    0.064032,\n",
       "           0.063231,    0.062431,    0.061631,     0.06083,     0.06003,    0.059229,    0.058429,    0.057629,    0.056828,    0.056028,    0.055227,    0.054427,    0.053627,    0.052826,    0.052026,    0.051225,    0.050425,    0.049625,    0.048824,    0.048024,    0.047223,    0.046423,    0.045623,\n",
       "           0.044822,    0.044022,    0.043221,    0.042421,    0.041621,     0.04082,     0.04002,    0.039219,    0.038419,    0.037619,    0.036818,    0.036018,    0.035217,    0.034417,    0.033617,    0.032816,    0.032016,    0.031215,    0.030415,    0.029615,    0.028814,    0.028014,    0.027214,\n",
       "           0.026413,    0.025613,    0.024812,    0.024012,    0.023212,    0.022411,    0.021611,     0.02081,     0.02001,     0.01921,    0.018409,    0.017609,    0.016808,    0.016008,    0.015208,    0.014407,    0.013607,    0.012806,    0.012006,    0.011206,    0.010405,   0.0096048,   0.0088044,\n",
       "           0.008004,   0.0072036,   0.0064032,   0.0056028,   0.0048024,    0.004002,   0.0032016,   0.0024012,   0.0016008,   0.0008004,           0]]), 'Recall', 'Precision'], [array([          0,    0.001001,    0.002002,    0.003003,    0.004004,    0.005005,    0.006006,    0.007007,    0.008008,    0.009009,     0.01001,    0.011011,    0.012012,    0.013013,    0.014014,    0.015015,    0.016016,    0.017017,    0.018018,    0.019019,     0.02002,    0.021021,    0.022022,    0.023023,\n",
       "          0.024024,    0.025025,    0.026026,    0.027027,    0.028028,    0.029029,     0.03003,    0.031031,    0.032032,    0.033033,    0.034034,    0.035035,    0.036036,    0.037037,    0.038038,    0.039039,     0.04004,    0.041041,    0.042042,    0.043043,    0.044044,    0.045045,    0.046046,    0.047047,\n",
       "          0.048048,    0.049049,     0.05005,    0.051051,    0.052052,    0.053053,    0.054054,    0.055055,    0.056056,    0.057057,    0.058058,    0.059059,     0.06006,    0.061061,    0.062062,    0.063063,    0.064064,    0.065065,    0.066066,    0.067067,    0.068068,    0.069069,     0.07007,    0.071071,\n",
       "          0.072072,    0.073073,    0.074074,    0.075075,    0.076076,    0.077077,    0.078078,    0.079079,     0.08008,    0.081081,    0.082082,    0.083083,    0.084084,    0.085085,    0.086086,    0.087087,    0.088088,    0.089089,     0.09009,    0.091091,    0.092092,    0.093093,    0.094094,    0.095095,\n",
       "          0.096096,    0.097097,    0.098098,    0.099099,      0.1001,      0.1011,      0.1021,      0.1031,      0.1041,     0.10511,     0.10611,     0.10711,     0.10811,     0.10911,     0.11011,     0.11111,     0.11211,     0.11311,     0.11411,     0.11512,     0.11612,     0.11712,     0.11812,     0.11912,\n",
       "           0.12012,     0.12112,     0.12212,     0.12312,     0.12412,     0.12513,     0.12613,     0.12713,     0.12813,     0.12913,     0.13013,     0.13113,     0.13213,     0.13313,     0.13413,     0.13514,     0.13614,     0.13714,     0.13814,     0.13914,     0.14014,     0.14114,     0.14214,     0.14314,\n",
       "           0.14414,     0.14515,     0.14615,     0.14715,     0.14815,     0.14915,     0.15015,     0.15115,     0.15215,     0.15315,     0.15415,     0.15516,     0.15616,     0.15716,     0.15816,     0.15916,     0.16016,     0.16116,     0.16216,     0.16316,     0.16416,     0.16517,     0.16617,     0.16717,\n",
       "           0.16817,     0.16917,     0.17017,     0.17117,     0.17217,     0.17317,     0.17417,     0.17518,     0.17618,     0.17718,     0.17818,     0.17918,     0.18018,     0.18118,     0.18218,     0.18318,     0.18418,     0.18519,     0.18619,     0.18719,     0.18819,     0.18919,     0.19019,     0.19119,\n",
       "           0.19219,     0.19319,     0.19419,      0.1952,      0.1962,      0.1972,      0.1982,      0.1992,      0.2002,      0.2012,      0.2022,      0.2032,      0.2042,     0.20521,     0.20621,     0.20721,     0.20821,     0.20921,     0.21021,     0.21121,     0.21221,     0.21321,     0.21421,     0.21522,\n",
       "           0.21622,     0.21722,     0.21822,     0.21922,     0.22022,     0.22122,     0.22222,     0.22322,     0.22422,     0.22523,     0.22623,     0.22723,     0.22823,     0.22923,     0.23023,     0.23123,     0.23223,     0.23323,     0.23423,     0.23524,     0.23624,     0.23724,     0.23824,     0.23924,\n",
       "           0.24024,     0.24124,     0.24224,     0.24324,     0.24424,     0.24525,     0.24625,     0.24725,     0.24825,     0.24925,     0.25025,     0.25125,     0.25225,     0.25325,     0.25425,     0.25526,     0.25626,     0.25726,     0.25826,     0.25926,     0.26026,     0.26126,     0.26226,     0.26326,\n",
       "           0.26426,     0.26527,     0.26627,     0.26727,     0.26827,     0.26927,     0.27027,     0.27127,     0.27227,     0.27327,     0.27427,     0.27528,     0.27628,     0.27728,     0.27828,     0.27928,     0.28028,     0.28128,     0.28228,     0.28328,     0.28428,     0.28529,     0.28629,     0.28729,\n",
       "           0.28829,     0.28929,     0.29029,     0.29129,     0.29229,     0.29329,     0.29429,      0.2953,      0.2963,      0.2973,      0.2983,      0.2993,      0.3003,      0.3013,      0.3023,      0.3033,      0.3043,     0.30531,     0.30631,     0.30731,     0.30831,     0.30931,     0.31031,     0.31131,\n",
       "           0.31231,     0.31331,     0.31431,     0.31532,     0.31632,     0.31732,     0.31832,     0.31932,     0.32032,     0.32132,     0.32232,     0.32332,     0.32432,     0.32533,     0.32633,     0.32733,     0.32833,     0.32933,     0.33033,     0.33133,     0.33233,     0.33333,     0.33433,     0.33534,\n",
       "           0.33634,     0.33734,     0.33834,     0.33934,     0.34034,     0.34134,     0.34234,     0.34334,     0.34434,     0.34535,     0.34635,     0.34735,     0.34835,     0.34935,     0.35035,     0.35135,     0.35235,     0.35335,     0.35435,     0.35536,     0.35636,     0.35736,     0.35836,     0.35936,\n",
       "           0.36036,     0.36136,     0.36236,     0.36336,     0.36436,     0.36537,     0.36637,     0.36737,     0.36837,     0.36937,     0.37037,     0.37137,     0.37237,     0.37337,     0.37437,     0.37538,     0.37638,     0.37738,     0.37838,     0.37938,     0.38038,     0.38138,     0.38238,     0.38338,\n",
       "           0.38438,     0.38539,     0.38639,     0.38739,     0.38839,     0.38939,     0.39039,     0.39139,     0.39239,     0.39339,     0.39439,      0.3954,      0.3964,      0.3974,      0.3984,      0.3994,      0.4004,      0.4014,      0.4024,      0.4034,      0.4044,     0.40541,     0.40641,     0.40741,\n",
       "           0.40841,     0.40941,     0.41041,     0.41141,     0.41241,     0.41341,     0.41441,     0.41542,     0.41642,     0.41742,     0.41842,     0.41942,     0.42042,     0.42142,     0.42242,     0.42342,     0.42442,     0.42543,     0.42643,     0.42743,     0.42843,     0.42943,     0.43043,     0.43143,\n",
       "           0.43243,     0.43343,     0.43443,     0.43544,     0.43644,     0.43744,     0.43844,     0.43944,     0.44044,     0.44144,     0.44244,     0.44344,     0.44444,     0.44545,     0.44645,     0.44745,     0.44845,     0.44945,     0.45045,     0.45145,     0.45245,     0.45345,     0.45445,     0.45546,\n",
       "           0.45646,     0.45746,     0.45846,     0.45946,     0.46046,     0.46146,     0.46246,     0.46346,     0.46446,     0.46547,     0.46647,     0.46747,     0.46847,     0.46947,     0.47047,     0.47147,     0.47247,     0.47347,     0.47447,     0.47548,     0.47648,     0.47748,     0.47848,     0.47948,\n",
       "           0.48048,     0.48148,     0.48248,     0.48348,     0.48448,     0.48549,     0.48649,     0.48749,     0.48849,     0.48949,     0.49049,     0.49149,     0.49249,     0.49349,     0.49449,      0.4955,      0.4965,      0.4975,      0.4985,      0.4995,      0.5005,      0.5015,      0.5025,      0.5035,\n",
       "            0.5045,     0.50551,     0.50651,     0.50751,     0.50851,     0.50951,     0.51051,     0.51151,     0.51251,     0.51351,     0.51451,     0.51552,     0.51652,     0.51752,     0.51852,     0.51952,     0.52052,     0.52152,     0.52252,     0.52352,     0.52452,     0.52553,     0.52653,     0.52753,\n",
       "           0.52853,     0.52953,     0.53053,     0.53153,     0.53253,     0.53353,     0.53453,     0.53554,     0.53654,     0.53754,     0.53854,     0.53954,     0.54054,     0.54154,     0.54254,     0.54354,     0.54454,     0.54555,     0.54655,     0.54755,     0.54855,     0.54955,     0.55055,     0.55155,\n",
       "           0.55255,     0.55355,     0.55455,     0.55556,     0.55656,     0.55756,     0.55856,     0.55956,     0.56056,     0.56156,     0.56256,     0.56356,     0.56456,     0.56557,     0.56657,     0.56757,     0.56857,     0.56957,     0.57057,     0.57157,     0.57257,     0.57357,     0.57457,     0.57558,\n",
       "           0.57658,     0.57758,     0.57858,     0.57958,     0.58058,     0.58158,     0.58258,     0.58358,     0.58458,     0.58559,     0.58659,     0.58759,     0.58859,     0.58959,     0.59059,     0.59159,     0.59259,     0.59359,     0.59459,      0.5956,      0.5966,      0.5976,      0.5986,      0.5996,\n",
       "            0.6006,      0.6016,      0.6026,      0.6036,      0.6046,     0.60561,     0.60661,     0.60761,     0.60861,     0.60961,     0.61061,     0.61161,     0.61261,     0.61361,     0.61461,     0.61562,     0.61662,     0.61762,     0.61862,     0.61962,     0.62062,     0.62162,     0.62262,     0.62362,\n",
       "           0.62462,     0.62563,     0.62663,     0.62763,     0.62863,     0.62963,     0.63063,     0.63163,     0.63263,     0.63363,     0.63463,     0.63564,     0.63664,     0.63764,     0.63864,     0.63964,     0.64064,     0.64164,     0.64264,     0.64364,     0.64464,     0.64565,     0.64665,     0.64765,\n",
       "           0.64865,     0.64965,     0.65065,     0.65165,     0.65265,     0.65365,     0.65465,     0.65566,     0.65666,     0.65766,     0.65866,     0.65966,     0.66066,     0.66166,     0.66266,     0.66366,     0.66466,     0.66567,     0.66667,     0.66767,     0.66867,     0.66967,     0.67067,     0.67167,\n",
       "           0.67267,     0.67367,     0.67467,     0.67568,     0.67668,     0.67768,     0.67868,     0.67968,     0.68068,     0.68168,     0.68268,     0.68368,     0.68468,     0.68569,     0.68669,     0.68769,     0.68869,     0.68969,     0.69069,     0.69169,     0.69269,     0.69369,     0.69469,      0.6957,\n",
       "            0.6967,      0.6977,      0.6987,      0.6997,      0.7007,      0.7017,      0.7027,      0.7037,      0.7047,     0.70571,     0.70671,     0.70771,     0.70871,     0.70971,     0.71071,     0.71171,     0.71271,     0.71371,     0.71471,     0.71572,     0.71672,     0.71772,     0.71872,     0.71972,\n",
       "           0.72072,     0.72172,     0.72272,     0.72372,     0.72472,     0.72573,     0.72673,     0.72773,     0.72873,     0.72973,     0.73073,     0.73173,     0.73273,     0.73373,     0.73473,     0.73574,     0.73674,     0.73774,     0.73874,     0.73974,     0.74074,     0.74174,     0.74274,     0.74374,\n",
       "           0.74474,     0.74575,     0.74675,     0.74775,     0.74875,     0.74975,     0.75075,     0.75175,     0.75275,     0.75375,     0.75475,     0.75576,     0.75676,     0.75776,     0.75876,     0.75976,     0.76076,     0.76176,     0.76276,     0.76376,     0.76476,     0.76577,     0.76677,     0.76777,\n",
       "           0.76877,     0.76977,     0.77077,     0.77177,     0.77277,     0.77377,     0.77477,     0.77578,     0.77678,     0.77778,     0.77878,     0.77978,     0.78078,     0.78178,     0.78278,     0.78378,     0.78478,     0.78579,     0.78679,     0.78779,     0.78879,     0.78979,     0.79079,     0.79179,\n",
       "           0.79279,     0.79379,     0.79479,      0.7958,      0.7968,      0.7978,      0.7988,      0.7998,      0.8008,      0.8018,      0.8028,      0.8038,      0.8048,     0.80581,     0.80681,     0.80781,     0.80881,     0.80981,     0.81081,     0.81181,     0.81281,     0.81381,     0.81481,     0.81582,\n",
       "           0.81682,     0.81782,     0.81882,     0.81982,     0.82082,     0.82182,     0.82282,     0.82382,     0.82482,     0.82583,     0.82683,     0.82783,     0.82883,     0.82983,     0.83083,     0.83183,     0.83283,     0.83383,     0.83483,     0.83584,     0.83684,     0.83784,     0.83884,     0.83984,\n",
       "           0.84084,     0.84184,     0.84284,     0.84384,     0.84484,     0.84585,     0.84685,     0.84785,     0.84885,     0.84985,     0.85085,     0.85185,     0.85285,     0.85385,     0.85485,     0.85586,     0.85686,     0.85786,     0.85886,     0.85986,     0.86086,     0.86186,     0.86286,     0.86386,\n",
       "           0.86486,     0.86587,     0.86687,     0.86787,     0.86887,     0.86987,     0.87087,     0.87187,     0.87287,     0.87387,     0.87487,     0.87588,     0.87688,     0.87788,     0.87888,     0.87988,     0.88088,     0.88188,     0.88288,     0.88388,     0.88488,     0.88589,     0.88689,     0.88789,\n",
       "           0.88889,     0.88989,     0.89089,     0.89189,     0.89289,     0.89389,     0.89489,      0.8959,      0.8969,      0.8979,      0.8989,      0.8999,      0.9009,      0.9019,      0.9029,      0.9039,      0.9049,     0.90591,     0.90691,     0.90791,     0.90891,     0.90991,     0.91091,     0.91191,\n",
       "           0.91291,     0.91391,     0.91491,     0.91592,     0.91692,     0.91792,     0.91892,     0.91992,     0.92092,     0.92192,     0.92292,     0.92392,     0.92492,     0.92593,     0.92693,     0.92793,     0.92893,     0.92993,     0.93093,     0.93193,     0.93293,     0.93393,     0.93493,     0.93594,\n",
       "           0.93694,     0.93794,     0.93894,     0.93994,     0.94094,     0.94194,     0.94294,     0.94394,     0.94494,     0.94595,     0.94695,     0.94795,     0.94895,     0.94995,     0.95095,     0.95195,     0.95295,     0.95395,     0.95495,     0.95596,     0.95696,     0.95796,     0.95896,     0.95996,\n",
       "           0.96096,     0.96196,     0.96296,     0.96396,     0.96496,     0.96597,     0.96697,     0.96797,     0.96897,     0.96997,     0.97097,     0.97197,     0.97297,     0.97397,     0.97497,     0.97598,     0.97698,     0.97798,     0.97898,     0.97998,     0.98098,     0.98198,     0.98298,     0.98398,\n",
       "           0.98498,     0.98599,     0.98699,     0.98799,     0.98899,     0.98999,     0.99099,     0.99199,     0.99299,     0.99399,     0.99499,       0.996,       0.997,       0.998,       0.999,           1]), array([[    0.16614,     0.16614,     0.23484,     0.27958,     0.31854,     0.34624,     0.37003,      0.3935,     0.41119,     0.42976,     0.44336,     0.45795,     0.47281,     0.48567,     0.49387,      0.5035,     0.51353,     0.52047,     0.52841,     0.53599,      0.5436,     0.55029,     0.55347,\n",
       "            0.55898,     0.56589,     0.56992,     0.57762,     0.58647,      0.5924,     0.59826,      0.6009,     0.60402,     0.60831,     0.61452,     0.61864,     0.62291,     0.62723,     0.63043,     0.63579,     0.63979,     0.64296,     0.64778,     0.64833,     0.65098,      0.6547,     0.65917,\n",
       "            0.66462,     0.66784,     0.66849,     0.67074,     0.67217,     0.67475,     0.67662,      0.6764,     0.67855,     0.68125,     0.68446,     0.68541,      0.6863,     0.68795,     0.69105,     0.69183,     0.69373,      0.6957,      0.6981,     0.69984,     0.70119,     0.70243,     0.70381,\n",
       "            0.70556,     0.70839,     0.70877,     0.70922,     0.71003,     0.71202,     0.71588,     0.71561,     0.71872,     0.71893,     0.71874,     0.71862,      0.7197,     0.72083,     0.72251,     0.72371,     0.72569,     0.72603,     0.72803,     0.73009,     0.72962,     0.73002,     0.73083,\n",
       "            0.73191,      0.7324,     0.73525,     0.73665,     0.73793,     0.73769,     0.73739,      0.7377,     0.73838,     0.74071,      0.7411,     0.74304,     0.74405,     0.74513,     0.74614,     0.74718,     0.74754,     0.74689,     0.74862,     0.74926,     0.75021,     0.75042,     0.75062,\n",
       "            0.75158,     0.75286,     0.75353,     0.75286,     0.75209,     0.75183,     0.75211,     0.75194,     0.75139,     0.75172,     0.75266,     0.75346,     0.75433,     0.75582,     0.75693,     0.75736,     0.75779,     0.75872,     0.75981,     0.76077,     0.76093,     0.76109,     0.76125,\n",
       "            0.76194,     0.76209,     0.76225,      0.7624,     0.76274,     0.76393,     0.76453,     0.76563,     0.76604,     0.76668,     0.76815,     0.76876,     0.76899,     0.76889,      0.7694,     0.77018,     0.77064,     0.77019,     0.77099,     0.77217,     0.77266,     0.77307,     0.77499,\n",
       "            0.77523,     0.77546,     0.77637,     0.77625,     0.77569,     0.77635,     0.77718,     0.77831,     0.77945,     0.78109,     0.78149,     0.78092,      0.7821,      0.7817,     0.78344,     0.78371,     0.78398,     0.78421,     0.78443,     0.78459,     0.78432,     0.78404,     0.78377,\n",
       "            0.78298,     0.78424,     0.78373,     0.78546,     0.78506,     0.78466,     0.78422,     0.78474,     0.78442,     0.78402,     0.78305,     0.78311,      0.7827,      0.7826,     0.78293,     0.78285,     0.78231,     0.78177,      0.7821,      0.7824,     0.78252,     0.78263,     0.78274,\n",
       "            0.78285,     0.78296,     0.78215,     0.78248,     0.78278,     0.78303,     0.78328,     0.78372,     0.78484,     0.78594,     0.78627,     0.78658,     0.78682,     0.78707,     0.78773,     0.78502,     0.78566,     0.78597,     0.78619,     0.78633,     0.78647,      0.7866,     0.78674,\n",
       "            0.78701,     0.78732,     0.78719,     0.78683,     0.78647,     0.78668,     0.78698,     0.78723,     0.78746,      0.7877,     0.78758,      0.7874,     0.78723,     0.78705,     0.78688,     0.78678,     0.78723,     0.78797,     0.78878,     0.78927,     0.78953,     0.78974,     0.78996,\n",
       "            0.79055,     0.78874,     0.78904,     0.78909,     0.78899,      0.7891,     0.78921,     0.78932,     0.78942,     0.78953,     0.78968,     0.78991,     0.79013,     0.79045,      0.7909,     0.79168,     0.79207,     0.79405,     0.79493,     0.79461,     0.79428,     0.79396,     0.79431,\n",
       "            0.79495,     0.79486,     0.79427,     0.79441,     0.79458,     0.79475,     0.79493,     0.79514,     0.79535,     0.79557,      0.7953,     0.79498,     0.79466,     0.79523,     0.79551,     0.79579,     0.79642,     0.79716,     0.79622,     0.79589,     0.79557,     0.79524,     0.79424,\n",
       "            0.79508,      0.7959,     0.79592,     0.79531,     0.79558,     0.79613,      0.7976,     0.79766,     0.79724,     0.79698,     0.79739,     0.79752,     0.79738,     0.79725,     0.79711,     0.79697,     0.79684,      0.7967,     0.79656,     0.79563,     0.79532,      0.7959,      0.7961,\n",
       "             0.7963,      0.7965,     0.79734,     0.79748,     0.79761,     0.79775,     0.79788,     0.79585,     0.79523,     0.79449,      0.7936,     0.79317,     0.79274,     0.79222,     0.79168,     0.79237,     0.79263,     0.79288,     0.79337,     0.79379,     0.79395,     0.79411,     0.79426,\n",
       "            0.79421,     0.79345,     0.79371,     0.79397,     0.79423,     0.79449,     0.79472,      0.7941,     0.79461,     0.79533,     0.79563,     0.79523,     0.79484,     0.79463,     0.79451,      0.7944,     0.79428,     0.79416,     0.79404,     0.79393,     0.79381,     0.79369,     0.79339,\n",
       "            0.79299,     0.79259,     0.79197,      0.7903,     0.78975,     0.78969,     0.78991,     0.78961,     0.78932,     0.78903,     0.78849,     0.78794,     0.78834,     0.78883,     0.78944,      0.7898,     0.79083,     0.79109,     0.79136,     0.79169,     0.79205,     0.79229,     0.79248,\n",
       "            0.79268,     0.79282,     0.79227,      0.7908,      0.7912,     0.79064,     0.79063,     0.79119,     0.79156,     0.79223,     0.79274,     0.79218,     0.79238,     0.79274,     0.79311,     0.79348,     0.79314,     0.79273,     0.79216,     0.79151,     0.79189,     0.79133,     0.79085,\n",
       "            0.79055,     0.79025,     0.78995,     0.78948,     0.78892,     0.78887,     0.78902,     0.78918,     0.78933,     0.79017,     0.78995,     0.78972,      0.7895,     0.78927,     0.78917,     0.78953,     0.78952,     0.78873,     0.78881,      0.7889,     0.78898,     0.78907,     0.78915,\n",
       "            0.78924,     0.78932,      0.7894,     0.78859,     0.78634,     0.78618,     0.78627,     0.78636,     0.78646,     0.78655,     0.78664,     0.78673,     0.78682,     0.78626,     0.78456,     0.78351,     0.78388,     0.78425,     0.78467,      0.7847,     0.78412,     0.78398,     0.78435,\n",
       "             0.7849,     0.78465,      0.7828,     0.78242,     0.78203,     0.78235,     0.78285,     0.78322,     0.78307,     0.78268,      0.7823,     0.78191,     0.78152,     0.78114,      0.7801,     0.77944,     0.77886,     0.77854,     0.77825,     0.77796,     0.77767,     0.77728,     0.77689,\n",
       "            0.77542,     0.77566,     0.77591,     0.77593,     0.77372,     0.77314,     0.77255,     0.77196,     0.77145,     0.77116,     0.77086,     0.77057,     0.76994,     0.76875,     0.76675,     0.76635,     0.76596,     0.76516,     0.76439,     0.76399,     0.76359,     0.76272,     0.76152,\n",
       "            0.76032,     0.75966,     0.75925,     0.75885,     0.75785,     0.75886,     0.75813,      0.7585,       0.758,     0.75874,     0.75774,     0.75797,     0.75834,     0.75718,     0.75742,     0.75766,     0.75782,     0.75554,     0.75592,     0.75616,     0.75554,     0.75482,     0.75239,\n",
       "             0.7501,     0.74948,     0.74924,     0.74938,     0.74879,     0.74883,     0.74759,     0.74349,     0.74402,     0.74427,     0.74452,     0.74501,     0.74504,     0.74441,     0.74378,     0.74315,     0.73966,     0.73846,     0.73785,     0.73578,     0.73514,     0.73402,     0.73274,\n",
       "            0.73146,     0.72944,      0.7288,     0.72815,     0.72751,      0.7281,     0.72791,     0.72773,     0.72754,     0.72736,     0.72717,     0.72699,     0.72487,      0.7229,     0.72258,     0.72225,     0.72193,     0.72024,     0.71981,     0.71937,     0.71824,     0.71785,     0.71766,\n",
       "            0.71747,     0.71728,     0.71709,     0.71691,     0.71672,     0.71701,      0.7173,     0.71671,      0.7159,     0.71546,     0.71501,     0.71405,     0.71281,     0.71018,     0.70622,     0.70538,     0.70471,      0.7035,      0.7027,     0.70202,     0.70014,      0.6996,     0.69604,\n",
       "            0.69375,      0.6933,     0.69284,     0.69056,     0.68956,     0.68887,     0.68697,      0.6865,     0.68604,     0.68467,      0.6851,      0.6844,     0.68243,     0.68208,     0.68173,     0.68138,     0.68091,     0.68021,     0.67866,     0.67662,     0.67615,     0.67568,      0.6736,\n",
       "            0.67289,     0.67218,     0.67141,     0.66843,     0.66647,     0.66364,      0.6622,     0.66076,     0.66087,     0.66159,     0.66063,     0.65564,     0.65132,     0.65011,     0.64937,     0.64566,     0.64467,     0.64176,     0.64027,     0.63732,     0.62993,     0.62841,     0.62676,\n",
       "            0.62462,      0.6231,     0.62224,      0.6152,     0.61442,     0.61224,     0.61162,     0.61073,     0.60457,     0.60093,       0.596,      0.5944,      0.5881,     0.58333,     0.58128,     0.57674,     0.57189,     0.57146,     0.57008,     0.56925,      0.5667,     0.56185,     0.56073,\n",
       "            0.55759,     0.55484,     0.55399,     0.55161,     0.55093,     0.54993,     0.54841,     0.54727,     0.54638,     0.54552,      0.5444,     0.53833,     0.53747,     0.53645,     0.52677,     0.52589,     0.52326,     0.52208,     0.51935,     0.51846,     0.51737,     0.51618,     0.51499,\n",
       "            0.51052,     0.50962,     0.50848,     0.50384,     0.50293,     0.50013,     0.49891,     0.49052,     0.48942,      0.4885,     0.48014,     0.46597,     0.46469,      0.4561,     0.45513,     0.45206,     0.44751,      0.4462,     0.43742,     0.43643,     0.42739,     0.42014,     0.41879,\n",
       "            0.41174,     0.41071,     0.40537,     0.39994,     0.39855,     0.38692,     0.38424,      0.3845,     0.37762,      0.3741,     0.37266,     0.36488,     0.35703,     0.35557,      0.3541,     0.34405,     0.34293,     0.34172,     0.34022,      0.3277,     0.31949,     0.31795,     0.31642,\n",
       "            0.30809,     0.30654,     0.29581,     0.29192,     0.28335,     0.28175,     0.28037,     0.27917,       0.271,     0.26937,     0.26774,     0.25408,     0.24999,     0.24833,     0.23435,     0.22518,     0.22347,     0.21923,     0.21498,     0.21325,     0.20307,     0.20124,     0.19948,\n",
       "            0.19772,     0.19336,     0.18898,     0.18458,     0.18279,     0.17909,     0.17849,     0.17789,     0.17728,     0.17093,     0.16596,     0.16505,     0.16413,     0.16322,      0.1623,     0.16138,     0.15471,     0.15286,     0.14743,     0.14551,     0.14364,     0.14177,     0.13989,\n",
       "            0.13195,     0.12408,     0.12216,     0.12025,      0.1177,     0.11263,      0.1107,     0.10875,     0.10036,    0.098176,    0.093323,    0.091347,    0.085615,    0.083496,     0.08201,     0.08126,     0.08051,    0.079759,    0.074922,    0.070593,    0.070577,    0.069361,    0.068144,\n",
       "           0.065773,    0.063915,    0.062691,    0.058468,    0.057237,    0.056004,    0.055446,    0.055083,     0.05472,    0.054356,    0.053993,    0.053629,    0.053265,    0.052901,    0.052115,    0.050875,     0.04965,    0.048763,    0.047875,    0.046986,    0.044693,    0.042796,    0.041545,\n",
       "           0.040337,    0.039291,    0.038245,    0.037241,    0.036342,    0.035443,    0.034542,    0.027465,    0.026557,    0.025649,    0.024865,    0.024228,     0.02359,    0.022953,    0.022314,    0.020189,    0.018151,    0.016868,    0.015708,    0.015173,    0.014637,      0.0141,    0.013564,\n",
       "           0.013027,    0.012406,    0.011599,    0.010792,   0.0099846,   0.0093523,   0.0089718,   0.0085911,   0.0082103,   0.0078293,   0.0074482,   0.0070669,   0.0066855,   0.0063425,   0.0062861,   0.0062297,   0.0061733,   0.0061168,   0.0060604,    0.006004,   0.0059475,   0.0058911,   0.0058347,\n",
       "          0.0057782,   0.0057218,   0.0056653,   0.0056089,   0.0055524,    0.005496,   0.0054395,    0.005383,   0.0053266,   0.0052701,   0.0052136,   0.0051571,   0.0051007,   0.0050442,   0.0049877,   0.0049312,   0.0048747,   0.0048182,   0.0047617,   0.0047052,   0.0046487,   0.0045922,   0.0045357,\n",
       "          0.0044791,   0.0044226,   0.0043661,   0.0043096,    0.004253,   0.0041965,     0.00414,   0.0040834,   0.0040269,   0.0039704,   0.0039138,   0.0038573,   0.0038007,   0.0037441,   0.0036876,    0.003631,   0.0035744,   0.0035179,   0.0034613,   0.0034047,   0.0033481,   0.0032916,    0.003235,\n",
       "                  0,           0,           0,           0,           0,           0,           0,           0,           0,           0,           0,           0,           0,           0,           0,           0,           0,           0,           0,           0,           0,           0,           0,\n",
       "                  0,           0,           0,           0,           0,           0,           0,           0,           0,           0,           0,           0,           0,           0,           0,           0,           0,           0,           0,           0,           0,           0,           0,\n",
       "                  0,           0,           0,           0,           0,           0,           0,           0,           0,           0,           0,           0,           0,           0,           0,           0,           0,           0,           0,           0,           0,           0,           0,\n",
       "                  0,           0,           0,           0,           0,           0,           0,           0,           0,           0,           0]]), 'Confidence', 'F1'], [array([          0,    0.001001,    0.002002,    0.003003,    0.004004,    0.005005,    0.006006,    0.007007,    0.008008,    0.009009,     0.01001,    0.011011,    0.012012,    0.013013,    0.014014,    0.015015,    0.016016,    0.017017,    0.018018,    0.019019,     0.02002,    0.021021,    0.022022,    0.023023,\n",
       "          0.024024,    0.025025,    0.026026,    0.027027,    0.028028,    0.029029,     0.03003,    0.031031,    0.032032,    0.033033,    0.034034,    0.035035,    0.036036,    0.037037,    0.038038,    0.039039,     0.04004,    0.041041,    0.042042,    0.043043,    0.044044,    0.045045,    0.046046,    0.047047,\n",
       "          0.048048,    0.049049,     0.05005,    0.051051,    0.052052,    0.053053,    0.054054,    0.055055,    0.056056,    0.057057,    0.058058,    0.059059,     0.06006,    0.061061,    0.062062,    0.063063,    0.064064,    0.065065,    0.066066,    0.067067,    0.068068,    0.069069,     0.07007,    0.071071,\n",
       "          0.072072,    0.073073,    0.074074,    0.075075,    0.076076,    0.077077,    0.078078,    0.079079,     0.08008,    0.081081,    0.082082,    0.083083,    0.084084,    0.085085,    0.086086,    0.087087,    0.088088,    0.089089,     0.09009,    0.091091,    0.092092,    0.093093,    0.094094,    0.095095,\n",
       "          0.096096,    0.097097,    0.098098,    0.099099,      0.1001,      0.1011,      0.1021,      0.1031,      0.1041,     0.10511,     0.10611,     0.10711,     0.10811,     0.10911,     0.11011,     0.11111,     0.11211,     0.11311,     0.11411,     0.11512,     0.11612,     0.11712,     0.11812,     0.11912,\n",
       "           0.12012,     0.12112,     0.12212,     0.12312,     0.12412,     0.12513,     0.12613,     0.12713,     0.12813,     0.12913,     0.13013,     0.13113,     0.13213,     0.13313,     0.13413,     0.13514,     0.13614,     0.13714,     0.13814,     0.13914,     0.14014,     0.14114,     0.14214,     0.14314,\n",
       "           0.14414,     0.14515,     0.14615,     0.14715,     0.14815,     0.14915,     0.15015,     0.15115,     0.15215,     0.15315,     0.15415,     0.15516,     0.15616,     0.15716,     0.15816,     0.15916,     0.16016,     0.16116,     0.16216,     0.16316,     0.16416,     0.16517,     0.16617,     0.16717,\n",
       "           0.16817,     0.16917,     0.17017,     0.17117,     0.17217,     0.17317,     0.17417,     0.17518,     0.17618,     0.17718,     0.17818,     0.17918,     0.18018,     0.18118,     0.18218,     0.18318,     0.18418,     0.18519,     0.18619,     0.18719,     0.18819,     0.18919,     0.19019,     0.19119,\n",
       "           0.19219,     0.19319,     0.19419,      0.1952,      0.1962,      0.1972,      0.1982,      0.1992,      0.2002,      0.2012,      0.2022,      0.2032,      0.2042,     0.20521,     0.20621,     0.20721,     0.20821,     0.20921,     0.21021,     0.21121,     0.21221,     0.21321,     0.21421,     0.21522,\n",
       "           0.21622,     0.21722,     0.21822,     0.21922,     0.22022,     0.22122,     0.22222,     0.22322,     0.22422,     0.22523,     0.22623,     0.22723,     0.22823,     0.22923,     0.23023,     0.23123,     0.23223,     0.23323,     0.23423,     0.23524,     0.23624,     0.23724,     0.23824,     0.23924,\n",
       "           0.24024,     0.24124,     0.24224,     0.24324,     0.24424,     0.24525,     0.24625,     0.24725,     0.24825,     0.24925,     0.25025,     0.25125,     0.25225,     0.25325,     0.25425,     0.25526,     0.25626,     0.25726,     0.25826,     0.25926,     0.26026,     0.26126,     0.26226,     0.26326,\n",
       "           0.26426,     0.26527,     0.26627,     0.26727,     0.26827,     0.26927,     0.27027,     0.27127,     0.27227,     0.27327,     0.27427,     0.27528,     0.27628,     0.27728,     0.27828,     0.27928,     0.28028,     0.28128,     0.28228,     0.28328,     0.28428,     0.28529,     0.28629,     0.28729,\n",
       "           0.28829,     0.28929,     0.29029,     0.29129,     0.29229,     0.29329,     0.29429,      0.2953,      0.2963,      0.2973,      0.2983,      0.2993,      0.3003,      0.3013,      0.3023,      0.3033,      0.3043,     0.30531,     0.30631,     0.30731,     0.30831,     0.30931,     0.31031,     0.31131,\n",
       "           0.31231,     0.31331,     0.31431,     0.31532,     0.31632,     0.31732,     0.31832,     0.31932,     0.32032,     0.32132,     0.32232,     0.32332,     0.32432,     0.32533,     0.32633,     0.32733,     0.32833,     0.32933,     0.33033,     0.33133,     0.33233,     0.33333,     0.33433,     0.33534,\n",
       "           0.33634,     0.33734,     0.33834,     0.33934,     0.34034,     0.34134,     0.34234,     0.34334,     0.34434,     0.34535,     0.34635,     0.34735,     0.34835,     0.34935,     0.35035,     0.35135,     0.35235,     0.35335,     0.35435,     0.35536,     0.35636,     0.35736,     0.35836,     0.35936,\n",
       "           0.36036,     0.36136,     0.36236,     0.36336,     0.36436,     0.36537,     0.36637,     0.36737,     0.36837,     0.36937,     0.37037,     0.37137,     0.37237,     0.37337,     0.37437,     0.37538,     0.37638,     0.37738,     0.37838,     0.37938,     0.38038,     0.38138,     0.38238,     0.38338,\n",
       "           0.38438,     0.38539,     0.38639,     0.38739,     0.38839,     0.38939,     0.39039,     0.39139,     0.39239,     0.39339,     0.39439,      0.3954,      0.3964,      0.3974,      0.3984,      0.3994,      0.4004,      0.4014,      0.4024,      0.4034,      0.4044,     0.40541,     0.40641,     0.40741,\n",
       "           0.40841,     0.40941,     0.41041,     0.41141,     0.41241,     0.41341,     0.41441,     0.41542,     0.41642,     0.41742,     0.41842,     0.41942,     0.42042,     0.42142,     0.42242,     0.42342,     0.42442,     0.42543,     0.42643,     0.42743,     0.42843,     0.42943,     0.43043,     0.43143,\n",
       "           0.43243,     0.43343,     0.43443,     0.43544,     0.43644,     0.43744,     0.43844,     0.43944,     0.44044,     0.44144,     0.44244,     0.44344,     0.44444,     0.44545,     0.44645,     0.44745,     0.44845,     0.44945,     0.45045,     0.45145,     0.45245,     0.45345,     0.45445,     0.45546,\n",
       "           0.45646,     0.45746,     0.45846,     0.45946,     0.46046,     0.46146,     0.46246,     0.46346,     0.46446,     0.46547,     0.46647,     0.46747,     0.46847,     0.46947,     0.47047,     0.47147,     0.47247,     0.47347,     0.47447,     0.47548,     0.47648,     0.47748,     0.47848,     0.47948,\n",
       "           0.48048,     0.48148,     0.48248,     0.48348,     0.48448,     0.48549,     0.48649,     0.48749,     0.48849,     0.48949,     0.49049,     0.49149,     0.49249,     0.49349,     0.49449,      0.4955,      0.4965,      0.4975,      0.4985,      0.4995,      0.5005,      0.5015,      0.5025,      0.5035,\n",
       "            0.5045,     0.50551,     0.50651,     0.50751,     0.50851,     0.50951,     0.51051,     0.51151,     0.51251,     0.51351,     0.51451,     0.51552,     0.51652,     0.51752,     0.51852,     0.51952,     0.52052,     0.52152,     0.52252,     0.52352,     0.52452,     0.52553,     0.52653,     0.52753,\n",
       "           0.52853,     0.52953,     0.53053,     0.53153,     0.53253,     0.53353,     0.53453,     0.53554,     0.53654,     0.53754,     0.53854,     0.53954,     0.54054,     0.54154,     0.54254,     0.54354,     0.54454,     0.54555,     0.54655,     0.54755,     0.54855,     0.54955,     0.55055,     0.55155,\n",
       "           0.55255,     0.55355,     0.55455,     0.55556,     0.55656,     0.55756,     0.55856,     0.55956,     0.56056,     0.56156,     0.56256,     0.56356,     0.56456,     0.56557,     0.56657,     0.56757,     0.56857,     0.56957,     0.57057,     0.57157,     0.57257,     0.57357,     0.57457,     0.57558,\n",
       "           0.57658,     0.57758,     0.57858,     0.57958,     0.58058,     0.58158,     0.58258,     0.58358,     0.58458,     0.58559,     0.58659,     0.58759,     0.58859,     0.58959,     0.59059,     0.59159,     0.59259,     0.59359,     0.59459,      0.5956,      0.5966,      0.5976,      0.5986,      0.5996,\n",
       "            0.6006,      0.6016,      0.6026,      0.6036,      0.6046,     0.60561,     0.60661,     0.60761,     0.60861,     0.60961,     0.61061,     0.61161,     0.61261,     0.61361,     0.61461,     0.61562,     0.61662,     0.61762,     0.61862,     0.61962,     0.62062,     0.62162,     0.62262,     0.62362,\n",
       "           0.62462,     0.62563,     0.62663,     0.62763,     0.62863,     0.62963,     0.63063,     0.63163,     0.63263,     0.63363,     0.63463,     0.63564,     0.63664,     0.63764,     0.63864,     0.63964,     0.64064,     0.64164,     0.64264,     0.64364,     0.64464,     0.64565,     0.64665,     0.64765,\n",
       "           0.64865,     0.64965,     0.65065,     0.65165,     0.65265,     0.65365,     0.65465,     0.65566,     0.65666,     0.65766,     0.65866,     0.65966,     0.66066,     0.66166,     0.66266,     0.66366,     0.66466,     0.66567,     0.66667,     0.66767,     0.66867,     0.66967,     0.67067,     0.67167,\n",
       "           0.67267,     0.67367,     0.67467,     0.67568,     0.67668,     0.67768,     0.67868,     0.67968,     0.68068,     0.68168,     0.68268,     0.68368,     0.68468,     0.68569,     0.68669,     0.68769,     0.68869,     0.68969,     0.69069,     0.69169,     0.69269,     0.69369,     0.69469,      0.6957,\n",
       "            0.6967,      0.6977,      0.6987,      0.6997,      0.7007,      0.7017,      0.7027,      0.7037,      0.7047,     0.70571,     0.70671,     0.70771,     0.70871,     0.70971,     0.71071,     0.71171,     0.71271,     0.71371,     0.71471,     0.71572,     0.71672,     0.71772,     0.71872,     0.71972,\n",
       "           0.72072,     0.72172,     0.72272,     0.72372,     0.72472,     0.72573,     0.72673,     0.72773,     0.72873,     0.72973,     0.73073,     0.73173,     0.73273,     0.73373,     0.73473,     0.73574,     0.73674,     0.73774,     0.73874,     0.73974,     0.74074,     0.74174,     0.74274,     0.74374,\n",
       "           0.74474,     0.74575,     0.74675,     0.74775,     0.74875,     0.74975,     0.75075,     0.75175,     0.75275,     0.75375,     0.75475,     0.75576,     0.75676,     0.75776,     0.75876,     0.75976,     0.76076,     0.76176,     0.76276,     0.76376,     0.76476,     0.76577,     0.76677,     0.76777,\n",
       "           0.76877,     0.76977,     0.77077,     0.77177,     0.77277,     0.77377,     0.77477,     0.77578,     0.77678,     0.77778,     0.77878,     0.77978,     0.78078,     0.78178,     0.78278,     0.78378,     0.78478,     0.78579,     0.78679,     0.78779,     0.78879,     0.78979,     0.79079,     0.79179,\n",
       "           0.79279,     0.79379,     0.79479,      0.7958,      0.7968,      0.7978,      0.7988,      0.7998,      0.8008,      0.8018,      0.8028,      0.8038,      0.8048,     0.80581,     0.80681,     0.80781,     0.80881,     0.80981,     0.81081,     0.81181,     0.81281,     0.81381,     0.81481,     0.81582,\n",
       "           0.81682,     0.81782,     0.81882,     0.81982,     0.82082,     0.82182,     0.82282,     0.82382,     0.82482,     0.82583,     0.82683,     0.82783,     0.82883,     0.82983,     0.83083,     0.83183,     0.83283,     0.83383,     0.83483,     0.83584,     0.83684,     0.83784,     0.83884,     0.83984,\n",
       "           0.84084,     0.84184,     0.84284,     0.84384,     0.84484,     0.84585,     0.84685,     0.84785,     0.84885,     0.84985,     0.85085,     0.85185,     0.85285,     0.85385,     0.85485,     0.85586,     0.85686,     0.85786,     0.85886,     0.85986,     0.86086,     0.86186,     0.86286,     0.86386,\n",
       "           0.86486,     0.86587,     0.86687,     0.86787,     0.86887,     0.86987,     0.87087,     0.87187,     0.87287,     0.87387,     0.87487,     0.87588,     0.87688,     0.87788,     0.87888,     0.87988,     0.88088,     0.88188,     0.88288,     0.88388,     0.88488,     0.88589,     0.88689,     0.88789,\n",
       "           0.88889,     0.88989,     0.89089,     0.89189,     0.89289,     0.89389,     0.89489,      0.8959,      0.8969,      0.8979,      0.8989,      0.8999,      0.9009,      0.9019,      0.9029,      0.9039,      0.9049,     0.90591,     0.90691,     0.90791,     0.90891,     0.90991,     0.91091,     0.91191,\n",
       "           0.91291,     0.91391,     0.91491,     0.91592,     0.91692,     0.91792,     0.91892,     0.91992,     0.92092,     0.92192,     0.92292,     0.92392,     0.92492,     0.92593,     0.92693,     0.92793,     0.92893,     0.92993,     0.93093,     0.93193,     0.93293,     0.93393,     0.93493,     0.93594,\n",
       "           0.93694,     0.93794,     0.93894,     0.93994,     0.94094,     0.94194,     0.94294,     0.94394,     0.94494,     0.94595,     0.94695,     0.94795,     0.94895,     0.94995,     0.95095,     0.95195,     0.95295,     0.95395,     0.95495,     0.95596,     0.95696,     0.95796,     0.95896,     0.95996,\n",
       "           0.96096,     0.96196,     0.96296,     0.96396,     0.96496,     0.96597,     0.96697,     0.96797,     0.96897,     0.96997,     0.97097,     0.97197,     0.97297,     0.97397,     0.97497,     0.97598,     0.97698,     0.97798,     0.97898,     0.97998,     0.98098,     0.98198,     0.98298,     0.98398,\n",
       "           0.98498,     0.98599,     0.98699,     0.98799,     0.98899,     0.98999,     0.99099,     0.99199,     0.99299,     0.99399,     0.99499,       0.996,       0.997,       0.998,       0.999,           1]), array([[   0.091674,    0.091674,     0.13538,     0.16611,     0.19444,     0.21567,      0.2348,     0.25416,     0.26942,      0.2856,     0.29792,     0.31145,     0.32536,     0.33766,     0.34616,     0.35597,     0.36608,     0.37347,      0.3817,     0.38999,      0.3981,     0.40569,     0.40988,\n",
       "            0.41671,     0.42504,     0.42981,     0.43863,     0.44893,      0.4559,     0.46289,     0.46605,     0.47031,     0.47553,     0.48317,     0.48828,     0.49417,      0.5002,     0.50427,     0.51118,     0.51637,     0.52051,     0.52721,     0.52884,     0.53302,     0.53802,     0.54409,\n",
       "            0.55155,     0.55672,     0.55834,     0.56147,     0.56348,     0.56713,     0.56977,     0.57038,     0.57479,     0.57868,     0.58333,      0.5847,       0.586,     0.58921,     0.59378,     0.59659,     0.59965,     0.60323,     0.60685,     0.60948,      0.6119,      0.6143,     0.61642,\n",
       "            0.61911,     0.62349,     0.62408,     0.62477,     0.62603,     0.62913,     0.63518,     0.63654,     0.64162,     0.64294,     0.64415,     0.64444,     0.64618,       0.648,     0.65072,     0.65371,     0.65695,      0.6575,     0.66079,     0.66419,     0.66479,     0.66623,     0.66758,\n",
       "            0.66938,     0.67131,     0.67611,     0.67847,     0.68092,     0.68148,     0.68201,     0.68255,     0.68371,     0.68773,      0.6884,     0.69294,     0.69469,     0.69657,     0.69956,     0.70139,     0.70203,     0.70211,     0.70518,     0.70756,     0.70926,     0.70963,        0.71,\n",
       "            0.71171,     0.71401,     0.71522,       0.715,     0.71466,     0.71473,     0.71523,     0.71538,     0.71523,     0.71583,     0.71884,     0.72031,     0.72189,     0.72464,     0.72668,     0.72747,     0.72827,     0.72998,       0.732,     0.73379,     0.73409,     0.73439,     0.73469,\n",
       "            0.73596,     0.73625,     0.73654,     0.73683,     0.73747,      0.7397,     0.74083,     0.74289,     0.74366,     0.74486,     0.74764,      0.7488,     0.75014,      0.7505,     0.75146,     0.75294,     0.75442,     0.75444,     0.75596,     0.75824,     0.75919,     0.75998,     0.76369,\n",
       "            0.76416,     0.76462,     0.76638,     0.76787,     0.76765,     0.76939,     0.77102,     0.77325,      0.7755,     0.77876,     0.77968,     0.77948,     0.78235,     0.78314,     0.78665,      0.7872,     0.78774,      0.7882,     0.78865,     0.78904,     0.78894,     0.78885,     0.78875,\n",
       "            0.78899,     0.79209,     0.79216,     0.79574,     0.79561,     0.79547,     0.79652,      0.7976,     0.79757,     0.79744,     0.79711,     0.79823,     0.79809,      0.7983,     0.79898,     0.79925,     0.79907,     0.80002,      0.8007,     0.80135,     0.80159,     0.80182,     0.80206,\n",
       "            0.80229,     0.80252,     0.80258,     0.80327,      0.8039,     0.80443,     0.80495,     0.80589,     0.80826,      0.8106,      0.8113,     0.81197,     0.81248,     0.81299,     0.81442,     0.81408,     0.81545,     0.81612,     0.81661,     0.81691,      0.8172,      0.8175,     0.81779,\n",
       "            0.81837,     0.81905,      0.8192,     0.81909,     0.81898,     0.81952,     0.82016,     0.82072,     0.82122,     0.82173,     0.82175,      0.8217,     0.82165,     0.82159,     0.82154,     0.82162,     0.82259,     0.82422,       0.826,     0.82707,     0.82763,     0.82811,     0.82858,\n",
       "            0.83009,     0.82976,     0.83042,     0.83092,     0.83226,      0.8325,     0.83274,     0.83298,     0.83322,     0.83346,     0.83379,      0.8343,      0.8348,     0.83551,     0.83652,     0.83825,     0.83913,      0.8436,      0.8456,     0.84551,     0.84542,     0.84534,     0.84622,\n",
       "            0.84768,     0.84827,     0.84811,     0.84848,     0.84887,     0.84927,     0.84966,     0.85015,     0.85064,     0.85112,      0.8511,     0.85102,     0.85093,     0.85242,     0.85309,     0.85372,     0.85517,     0.85688,     0.85687,     0.85679,     0.85671,     0.85662,     0.85636,\n",
       "            0.85843,     0.86033,     0.86103,     0.86088,     0.86174,     0.86303,      0.8665,     0.86722,     0.86712,     0.86723,     0.86819,     0.86865,     0.86862,     0.86859,     0.86855,     0.86852,     0.86849,     0.86846,     0.86842,     0.86968,     0.86995,     0.87133,     0.87182,\n",
       "             0.8723,     0.87279,      0.8748,     0.87512,     0.87545,     0.87577,      0.8761,     0.87572,     0.87558,     0.87541,     0.87521,     0.87511,     0.87501,     0.87489,     0.87477,     0.87656,     0.87719,     0.87782,     0.87901,     0.88005,     0.88044,     0.88083,     0.88121,\n",
       "            0.88151,     0.88158,     0.88222,     0.88286,      0.8835,     0.88414,     0.88476,     0.88463,     0.88686,     0.88864,     0.88973,     0.88965,     0.88957,     0.88953,     0.88951,     0.88948,     0.88946,     0.88943,     0.88941,     0.88938,     0.88936,     0.88934,     0.88927,\n",
       "            0.88919,     0.88911,     0.88898,     0.88864,     0.88852,     0.88924,     0.89018,     0.89012,     0.89006,        0.89,     0.88989,     0.88978,     0.89081,     0.89208,     0.89364,     0.89456,     0.89721,     0.89788,     0.89856,     0.89941,     0.90034,     0.90097,     0.90147,\n",
       "            0.90197,     0.90243,     0.90233,     0.90231,     0.90385,     0.90375,      0.9045,     0.90597,     0.90693,     0.90868,     0.91108,     0.91099,     0.91176,     0.91273,      0.9137,     0.91468,      0.9147,     0.91463,     0.91454,      0.9149,     0.91629,      0.9162,     0.91613,\n",
       "            0.91608,     0.91603,     0.91598,     0.91591,     0.91582,     0.91609,     0.91651,     0.91692,     0.91734,     0.91966,     0.91962,     0.91959,     0.91955,     0.91952,      0.9197,      0.9207,      0.9214,     0.92134,     0.92157,      0.9218,     0.92203,     0.92226,     0.92249,\n",
       "            0.92272,     0.92295,     0.92318,     0.92312,     0.92278,     0.92295,      0.9232,     0.92346,     0.92371,     0.92396,     0.92422,     0.92447,     0.92473,     0.92465,      0.9244,      0.9243,     0.92533,     0.92638,     0.92755,     0.92823,     0.92815,     0.92857,     0.92961,\n",
       "            0.93117,     0.93209,     0.93184,     0.93179,     0.93174,     0.93303,     0.93446,     0.93552,     0.93581,     0.93576,     0.93571,     0.93566,     0.93561,     0.93556,     0.93543,     0.93535,     0.93527,     0.93523,      0.9352,     0.93516,     0.93512,     0.93507,     0.93502,\n",
       "            0.93489,     0.93561,     0.93633,     0.93691,     0.93664,     0.93656,     0.93649,     0.93642,     0.93635,     0.93632,     0.93628,     0.93624,     0.93616,     0.93601,     0.93576,     0.93571,     0.93566,     0.93556,     0.93546,     0.93541,     0.93536,     0.93524,     0.93509,\n",
       "            0.93493,     0.93485,      0.9348,     0.93475,     0.93462,      0.9385,     0.93972,     0.94086,     0.94282,     0.94512,     0.94525,      0.9463,     0.94745,     0.94737,     0.94814,     0.94891,     0.94963,      0.9495,     0.95067,     0.95168,     0.95162,     0.95155,     0.95131,\n",
       "            0.95109,     0.95102,     0.95165,     0.95328,       0.954,     0.95552,      0.9554,     0.95599,     0.95775,     0.95857,     0.95939,     0.96104,     0.96219,     0.96214,     0.96209,     0.96204,     0.96177,     0.96327,     0.96404,     0.96388,     0.96384,     0.96375,     0.96366,\n",
       "            0.96356,     0.96341,     0.96336,     0.96331,     0.96326,     0.96578,     0.96577,     0.96576,     0.96574,     0.96573,     0.96572,      0.9657,     0.96555,     0.96541,     0.96539,     0.96536,     0.96534,     0.96522,     0.96519,     0.96515,     0.96507,     0.96504,     0.96503,\n",
       "            0.96501,       0.965,     0.96499,     0.96497,     0.96496,     0.96602,     0.96709,     0.96752,     0.96746,     0.96743,      0.9674,     0.96906,     0.97248,     0.97232,     0.97209,     0.97204,       0.972,     0.97192,     0.97188,     0.97184,     0.97172,     0.97169,     0.97147,\n",
       "            0.97133,     0.97131,     0.97128,     0.97114,     0.97107,     0.97103,     0.97091,     0.97088,     0.97085,      0.9713,      0.9736,     0.97356,     0.97345,     0.97343,     0.97341,     0.97339,     0.97336,     0.97332,     0.97323,     0.97311,     0.97308,     0.97305,     0.97293,\n",
       "            0.97289,     0.97285,      0.9728,     0.97263,     0.97251,     0.97234,     0.97225,     0.97216,     0.97437,     0.97748,     0.97814,      0.9779,     0.97768,     0.97762,     0.97759,      0.9774,     0.97735,      0.9772,     0.97712,     0.97697,     0.97659,      0.9765,     0.97642,\n",
       "             0.9763,     0.97622,     0.97948,     0.97914,      0.9791,       0.979,     0.97897,     0.97893,     0.97862,     0.97844,     0.97819,     0.97811,     0.97778,     0.97753,     0.98109,     0.98088,     0.98066,     0.98269,     0.98437,     0.98434,     0.98424,     0.98406,     0.98401,\n",
       "            0.98389,     0.98378,     0.98375,     0.98365,     0.98363,     0.98359,     0.98352,     0.98348,     0.98344,     0.98341,     0.98336,     0.98311,     0.98307,     0.98303,     0.98261,     0.98257,     0.98245,      0.9824,     0.98228,     0.98224,     0.98219,     0.98213,     0.98208,\n",
       "            0.98187,     0.98183,     0.98177,     0.98155,     0.98151,     0.98137,     0.98131,      0.9809,     0.98084,     0.98079,     0.98036,     0.97959,     0.97952,     0.97902,     0.97897,     0.97879,     0.98377,     0.98371,      0.9833,     0.98325,     0.98281,     0.98244,     0.98237,\n",
       "            0.98199,     0.98193,     0.98164,     0.98133,     0.98125,     0.98056,     0.98198,     0.98529,     0.98654,     0.98639,     0.98633,     0.98597,      0.9856,     0.98553,     0.98546,     0.98495,     0.98489,     0.98483,     0.98475,     0.98406,     0.98358,     0.98348,     0.98339,\n",
       "            0.98286,     0.98276,     0.98204,     0.98176,     0.98113,     0.98101,      0.9809,     0.98081,     0.98996,     0.98989,     0.98982,     0.98919,     0.98899,     0.98891,     0.98816,     0.98762,     0.98752,     0.98725,     0.98697,     0.98685,     0.98613,     0.98599,     0.98585,\n",
       "            0.98572,     0.98536,     0.98499,      0.9846,     0.98444,     0.98409,     0.98403,     0.98398,     0.98392,     0.98327,     0.98273,     0.98263,     0.98253,     0.98242,     0.98232,     0.98221,     0.98139,     0.98115,     0.98041,     0.98014,     0.97987,     0.97959,      0.9793,\n",
       "            0.97799,     0.97652,     0.97614,     0.97575,      0.9752,     0.97405,     0.97358,     0.97309,     0.97078,     0.97012,     0.96854,     0.96785,     0.96567,     0.96478,     0.96415,     0.96381,     0.96347,     0.96313,     0.96074,     0.97347,           1,           1,           1,\n",
       "                  1,           1,           1,           1,           1,           1,           1,           1,           1,           1,           1,           1,           1,           1,           1,           1,           1,           1,           1,           1,           1,           1,           1,\n",
       "                  1,           1,           1,           1,           1,           1,           1,           1,           1,           1,           1,           1,           1,           1,           1,           1,           1,           1,           1,           1,           1,           1,           1,\n",
       "                  1,           1,           1,           1,           1,           1,           1,           1,           1,           1,           1,           1,           1,           1,           1,           1,           1,           1,           1,           1,           1,           1,           1,\n",
       "                  1,           1,           1,           1,           1,           1,           1,           1,           1,           1,           1,           1,           1,           1,           1,           1,           1,           1,           1,           1,           1,           1,           1,\n",
       "                  1,           1,           1,           1,           1,           1,           1,           1,           1,           1,           1,           1,           1,           1,           1,           1,           1,           1,           1,           1,           1,           1,           1,\n",
       "                  1,           1,           1,           1,           1,           1,           1,           1,           1,           1,           1,           1,           1,           1,           1,           1,           1,           1,           1,           1,           1,           1,           1,\n",
       "                  1,           1,           1,           1,           1,           1,           1,           1,           1,           1,           1,           1,           1,           1,           1,           1,           1,           1,           1,           1,           1,           1,           1,\n",
       "                  1,           1,           1,           1,           1,           1,           1,           1,           1,           1,           1,           1,           1,           1,           1,           1,           1,           1,           1,           1,           1,           1,           1,\n",
       "                  1,           1,           1,           1,           1,           1,           1,           1,           1,           1,           1]]), 'Confidence', 'Precision'], [array([          0,    0.001001,    0.002002,    0.003003,    0.004004,    0.005005,    0.006006,    0.007007,    0.008008,    0.009009,     0.01001,    0.011011,    0.012012,    0.013013,    0.014014,    0.015015,    0.016016,    0.017017,    0.018018,    0.019019,     0.02002,    0.021021,    0.022022,    0.023023,\n",
       "          0.024024,    0.025025,    0.026026,    0.027027,    0.028028,    0.029029,     0.03003,    0.031031,    0.032032,    0.033033,    0.034034,    0.035035,    0.036036,    0.037037,    0.038038,    0.039039,     0.04004,    0.041041,    0.042042,    0.043043,    0.044044,    0.045045,    0.046046,    0.047047,\n",
       "          0.048048,    0.049049,     0.05005,    0.051051,    0.052052,    0.053053,    0.054054,    0.055055,    0.056056,    0.057057,    0.058058,    0.059059,     0.06006,    0.061061,    0.062062,    0.063063,    0.064064,    0.065065,    0.066066,    0.067067,    0.068068,    0.069069,     0.07007,    0.071071,\n",
       "          0.072072,    0.073073,    0.074074,    0.075075,    0.076076,    0.077077,    0.078078,    0.079079,     0.08008,    0.081081,    0.082082,    0.083083,    0.084084,    0.085085,    0.086086,    0.087087,    0.088088,    0.089089,     0.09009,    0.091091,    0.092092,    0.093093,    0.094094,    0.095095,\n",
       "          0.096096,    0.097097,    0.098098,    0.099099,      0.1001,      0.1011,      0.1021,      0.1031,      0.1041,     0.10511,     0.10611,     0.10711,     0.10811,     0.10911,     0.11011,     0.11111,     0.11211,     0.11311,     0.11411,     0.11512,     0.11612,     0.11712,     0.11812,     0.11912,\n",
       "           0.12012,     0.12112,     0.12212,     0.12312,     0.12412,     0.12513,     0.12613,     0.12713,     0.12813,     0.12913,     0.13013,     0.13113,     0.13213,     0.13313,     0.13413,     0.13514,     0.13614,     0.13714,     0.13814,     0.13914,     0.14014,     0.14114,     0.14214,     0.14314,\n",
       "           0.14414,     0.14515,     0.14615,     0.14715,     0.14815,     0.14915,     0.15015,     0.15115,     0.15215,     0.15315,     0.15415,     0.15516,     0.15616,     0.15716,     0.15816,     0.15916,     0.16016,     0.16116,     0.16216,     0.16316,     0.16416,     0.16517,     0.16617,     0.16717,\n",
       "           0.16817,     0.16917,     0.17017,     0.17117,     0.17217,     0.17317,     0.17417,     0.17518,     0.17618,     0.17718,     0.17818,     0.17918,     0.18018,     0.18118,     0.18218,     0.18318,     0.18418,     0.18519,     0.18619,     0.18719,     0.18819,     0.18919,     0.19019,     0.19119,\n",
       "           0.19219,     0.19319,     0.19419,      0.1952,      0.1962,      0.1972,      0.1982,      0.1992,      0.2002,      0.2012,      0.2022,      0.2032,      0.2042,     0.20521,     0.20621,     0.20721,     0.20821,     0.20921,     0.21021,     0.21121,     0.21221,     0.21321,     0.21421,     0.21522,\n",
       "           0.21622,     0.21722,     0.21822,     0.21922,     0.22022,     0.22122,     0.22222,     0.22322,     0.22422,     0.22523,     0.22623,     0.22723,     0.22823,     0.22923,     0.23023,     0.23123,     0.23223,     0.23323,     0.23423,     0.23524,     0.23624,     0.23724,     0.23824,     0.23924,\n",
       "           0.24024,     0.24124,     0.24224,     0.24324,     0.24424,     0.24525,     0.24625,     0.24725,     0.24825,     0.24925,     0.25025,     0.25125,     0.25225,     0.25325,     0.25425,     0.25526,     0.25626,     0.25726,     0.25826,     0.25926,     0.26026,     0.26126,     0.26226,     0.26326,\n",
       "           0.26426,     0.26527,     0.26627,     0.26727,     0.26827,     0.26927,     0.27027,     0.27127,     0.27227,     0.27327,     0.27427,     0.27528,     0.27628,     0.27728,     0.27828,     0.27928,     0.28028,     0.28128,     0.28228,     0.28328,     0.28428,     0.28529,     0.28629,     0.28729,\n",
       "           0.28829,     0.28929,     0.29029,     0.29129,     0.29229,     0.29329,     0.29429,      0.2953,      0.2963,      0.2973,      0.2983,      0.2993,      0.3003,      0.3013,      0.3023,      0.3033,      0.3043,     0.30531,     0.30631,     0.30731,     0.30831,     0.30931,     0.31031,     0.31131,\n",
       "           0.31231,     0.31331,     0.31431,     0.31532,     0.31632,     0.31732,     0.31832,     0.31932,     0.32032,     0.32132,     0.32232,     0.32332,     0.32432,     0.32533,     0.32633,     0.32733,     0.32833,     0.32933,     0.33033,     0.33133,     0.33233,     0.33333,     0.33433,     0.33534,\n",
       "           0.33634,     0.33734,     0.33834,     0.33934,     0.34034,     0.34134,     0.34234,     0.34334,     0.34434,     0.34535,     0.34635,     0.34735,     0.34835,     0.34935,     0.35035,     0.35135,     0.35235,     0.35335,     0.35435,     0.35536,     0.35636,     0.35736,     0.35836,     0.35936,\n",
       "           0.36036,     0.36136,     0.36236,     0.36336,     0.36436,     0.36537,     0.36637,     0.36737,     0.36837,     0.36937,     0.37037,     0.37137,     0.37237,     0.37337,     0.37437,     0.37538,     0.37638,     0.37738,     0.37838,     0.37938,     0.38038,     0.38138,     0.38238,     0.38338,\n",
       "           0.38438,     0.38539,     0.38639,     0.38739,     0.38839,     0.38939,     0.39039,     0.39139,     0.39239,     0.39339,     0.39439,      0.3954,      0.3964,      0.3974,      0.3984,      0.3994,      0.4004,      0.4014,      0.4024,      0.4034,      0.4044,     0.40541,     0.40641,     0.40741,\n",
       "           0.40841,     0.40941,     0.41041,     0.41141,     0.41241,     0.41341,     0.41441,     0.41542,     0.41642,     0.41742,     0.41842,     0.41942,     0.42042,     0.42142,     0.42242,     0.42342,     0.42442,     0.42543,     0.42643,     0.42743,     0.42843,     0.42943,     0.43043,     0.43143,\n",
       "           0.43243,     0.43343,     0.43443,     0.43544,     0.43644,     0.43744,     0.43844,     0.43944,     0.44044,     0.44144,     0.44244,     0.44344,     0.44444,     0.44545,     0.44645,     0.44745,     0.44845,     0.44945,     0.45045,     0.45145,     0.45245,     0.45345,     0.45445,     0.45546,\n",
       "           0.45646,     0.45746,     0.45846,     0.45946,     0.46046,     0.46146,     0.46246,     0.46346,     0.46446,     0.46547,     0.46647,     0.46747,     0.46847,     0.46947,     0.47047,     0.47147,     0.47247,     0.47347,     0.47447,     0.47548,     0.47648,     0.47748,     0.47848,     0.47948,\n",
       "           0.48048,     0.48148,     0.48248,     0.48348,     0.48448,     0.48549,     0.48649,     0.48749,     0.48849,     0.48949,     0.49049,     0.49149,     0.49249,     0.49349,     0.49449,      0.4955,      0.4965,      0.4975,      0.4985,      0.4995,      0.5005,      0.5015,      0.5025,      0.5035,\n",
       "            0.5045,     0.50551,     0.50651,     0.50751,     0.50851,     0.50951,     0.51051,     0.51151,     0.51251,     0.51351,     0.51451,     0.51552,     0.51652,     0.51752,     0.51852,     0.51952,     0.52052,     0.52152,     0.52252,     0.52352,     0.52452,     0.52553,     0.52653,     0.52753,\n",
       "           0.52853,     0.52953,     0.53053,     0.53153,     0.53253,     0.53353,     0.53453,     0.53554,     0.53654,     0.53754,     0.53854,     0.53954,     0.54054,     0.54154,     0.54254,     0.54354,     0.54454,     0.54555,     0.54655,     0.54755,     0.54855,     0.54955,     0.55055,     0.55155,\n",
       "           0.55255,     0.55355,     0.55455,     0.55556,     0.55656,     0.55756,     0.55856,     0.55956,     0.56056,     0.56156,     0.56256,     0.56356,     0.56456,     0.56557,     0.56657,     0.56757,     0.56857,     0.56957,     0.57057,     0.57157,     0.57257,     0.57357,     0.57457,     0.57558,\n",
       "           0.57658,     0.57758,     0.57858,     0.57958,     0.58058,     0.58158,     0.58258,     0.58358,     0.58458,     0.58559,     0.58659,     0.58759,     0.58859,     0.58959,     0.59059,     0.59159,     0.59259,     0.59359,     0.59459,      0.5956,      0.5966,      0.5976,      0.5986,      0.5996,\n",
       "            0.6006,      0.6016,      0.6026,      0.6036,      0.6046,     0.60561,     0.60661,     0.60761,     0.60861,     0.60961,     0.61061,     0.61161,     0.61261,     0.61361,     0.61461,     0.61562,     0.61662,     0.61762,     0.61862,     0.61962,     0.62062,     0.62162,     0.62262,     0.62362,\n",
       "           0.62462,     0.62563,     0.62663,     0.62763,     0.62863,     0.62963,     0.63063,     0.63163,     0.63263,     0.63363,     0.63463,     0.63564,     0.63664,     0.63764,     0.63864,     0.63964,     0.64064,     0.64164,     0.64264,     0.64364,     0.64464,     0.64565,     0.64665,     0.64765,\n",
       "           0.64865,     0.64965,     0.65065,     0.65165,     0.65265,     0.65365,     0.65465,     0.65566,     0.65666,     0.65766,     0.65866,     0.65966,     0.66066,     0.66166,     0.66266,     0.66366,     0.66466,     0.66567,     0.66667,     0.66767,     0.66867,     0.66967,     0.67067,     0.67167,\n",
       "           0.67267,     0.67367,     0.67467,     0.67568,     0.67668,     0.67768,     0.67868,     0.67968,     0.68068,     0.68168,     0.68268,     0.68368,     0.68468,     0.68569,     0.68669,     0.68769,     0.68869,     0.68969,     0.69069,     0.69169,     0.69269,     0.69369,     0.69469,      0.6957,\n",
       "            0.6967,      0.6977,      0.6987,      0.6997,      0.7007,      0.7017,      0.7027,      0.7037,      0.7047,     0.70571,     0.70671,     0.70771,     0.70871,     0.70971,     0.71071,     0.71171,     0.71271,     0.71371,     0.71471,     0.71572,     0.71672,     0.71772,     0.71872,     0.71972,\n",
       "           0.72072,     0.72172,     0.72272,     0.72372,     0.72472,     0.72573,     0.72673,     0.72773,     0.72873,     0.72973,     0.73073,     0.73173,     0.73273,     0.73373,     0.73473,     0.73574,     0.73674,     0.73774,     0.73874,     0.73974,     0.74074,     0.74174,     0.74274,     0.74374,\n",
       "           0.74474,     0.74575,     0.74675,     0.74775,     0.74875,     0.74975,     0.75075,     0.75175,     0.75275,     0.75375,     0.75475,     0.75576,     0.75676,     0.75776,     0.75876,     0.75976,     0.76076,     0.76176,     0.76276,     0.76376,     0.76476,     0.76577,     0.76677,     0.76777,\n",
       "           0.76877,     0.76977,     0.77077,     0.77177,     0.77277,     0.77377,     0.77477,     0.77578,     0.77678,     0.77778,     0.77878,     0.77978,     0.78078,     0.78178,     0.78278,     0.78378,     0.78478,     0.78579,     0.78679,     0.78779,     0.78879,     0.78979,     0.79079,     0.79179,\n",
       "           0.79279,     0.79379,     0.79479,      0.7958,      0.7968,      0.7978,      0.7988,      0.7998,      0.8008,      0.8018,      0.8028,      0.8038,      0.8048,     0.80581,     0.80681,     0.80781,     0.80881,     0.80981,     0.81081,     0.81181,     0.81281,     0.81381,     0.81481,     0.81582,\n",
       "           0.81682,     0.81782,     0.81882,     0.81982,     0.82082,     0.82182,     0.82282,     0.82382,     0.82482,     0.82583,     0.82683,     0.82783,     0.82883,     0.82983,     0.83083,     0.83183,     0.83283,     0.83383,     0.83483,     0.83584,     0.83684,     0.83784,     0.83884,     0.83984,\n",
       "           0.84084,     0.84184,     0.84284,     0.84384,     0.84484,     0.84585,     0.84685,     0.84785,     0.84885,     0.84985,     0.85085,     0.85185,     0.85285,     0.85385,     0.85485,     0.85586,     0.85686,     0.85786,     0.85886,     0.85986,     0.86086,     0.86186,     0.86286,     0.86386,\n",
       "           0.86486,     0.86587,     0.86687,     0.86787,     0.86887,     0.86987,     0.87087,     0.87187,     0.87287,     0.87387,     0.87487,     0.87588,     0.87688,     0.87788,     0.87888,     0.87988,     0.88088,     0.88188,     0.88288,     0.88388,     0.88488,     0.88589,     0.88689,     0.88789,\n",
       "           0.88889,     0.88989,     0.89089,     0.89189,     0.89289,     0.89389,     0.89489,      0.8959,      0.8969,      0.8979,      0.8989,      0.8999,      0.9009,      0.9019,      0.9029,      0.9039,      0.9049,     0.90591,     0.90691,     0.90791,     0.90891,     0.90991,     0.91091,     0.91191,\n",
       "           0.91291,     0.91391,     0.91491,     0.91592,     0.91692,     0.91792,     0.91892,     0.91992,     0.92092,     0.92192,     0.92292,     0.92392,     0.92492,     0.92593,     0.92693,     0.92793,     0.92893,     0.92993,     0.93093,     0.93193,     0.93293,     0.93393,     0.93493,     0.93594,\n",
       "           0.93694,     0.93794,     0.93894,     0.93994,     0.94094,     0.94194,     0.94294,     0.94394,     0.94494,     0.94595,     0.94695,     0.94795,     0.94895,     0.94995,     0.95095,     0.95195,     0.95295,     0.95395,     0.95495,     0.95596,     0.95696,     0.95796,     0.95896,     0.95996,\n",
       "           0.96096,     0.96196,     0.96296,     0.96396,     0.96496,     0.96597,     0.96697,     0.96797,     0.96897,     0.96997,     0.97097,     0.97197,     0.97297,     0.97397,     0.97497,     0.97598,     0.97698,     0.97798,     0.97898,     0.97998,     0.98098,     0.98198,     0.98298,     0.98398,\n",
       "           0.98498,     0.98599,     0.98699,     0.98799,     0.98899,     0.98999,     0.99099,     0.99199,     0.99299,     0.99399,     0.99499,       0.996,       0.997,       0.998,       0.999,           1]), array([[    0.88535,     0.88535,     0.88535,     0.88217,     0.88057,     0.87739,     0.87261,     0.87102,     0.86783,     0.86783,     0.86624,     0.86465,     0.86465,     0.86465,     0.86146,     0.85987,     0.85987,     0.85828,     0.85828,     0.85669,     0.85669,      0.8551,     0.85191,\n",
       "            0.84873,     0.84637,     0.84554,     0.84554,     0.84554,     0.84554,     0.84554,     0.84554,     0.84395,     0.84395,     0.84395,     0.84395,     0.84236,     0.84076,     0.84076,     0.84076,     0.84076,     0.84076,     0.83987,     0.83758,     0.83599,     0.83599,     0.83599,\n",
       "            0.83599,     0.83439,      0.8328,      0.8328,      0.8328,      0.8328,      0.8328,     0.83083,     0.82803,     0.82803,     0.82803,     0.82803,     0.82803,     0.82643,     0.82643,     0.82325,     0.82284,     0.82166,     0.82166,     0.82166,     0.82097,     0.82006,     0.82006,\n",
       "            0.82006,     0.82006,     0.82006,     0.82006,     0.82006,     0.82006,     0.82006,     0.81711,     0.81688,     0.81529,     0.81286,      0.8121,      0.8121,      0.8121,      0.8121,     0.81051,     0.81051,     0.81051,     0.81051,     0.81051,     0.80846,     0.80732,     0.80732,\n",
       "            0.80732,     0.80573,     0.80573,     0.80573,     0.80535,     0.80402,     0.80255,     0.80255,     0.80255,     0.80255,     0.80255,     0.80096,     0.80096,     0.80096,     0.79936,     0.79936,     0.79936,     0.79777,     0.79777,     0.79618,     0.79618,     0.79618,     0.79618,\n",
       "            0.79618,     0.79618,     0.79618,     0.79496,     0.79366,     0.79299,     0.79299,     0.79245,      0.7914,      0.7914,     0.78981,     0.78981,     0.78981,     0.78981,     0.78981,     0.78981,     0.78981,     0.78981,     0.78981,     0.78981,     0.78981,     0.78981,     0.78981,\n",
       "            0.78981,     0.78981,     0.78981,     0.78981,     0.78981,     0.78981,     0.78981,     0.78981,     0.78981,     0.78981,     0.78981,     0.78981,     0.78881,     0.78822,     0.78822,     0.78822,     0.78758,     0.78662,     0.78662,     0.78662,     0.78662,     0.78662,     0.78662,\n",
       "            0.78662,     0.78662,     0.78662,     0.78482,     0.78389,     0.78344,     0.78344,     0.78344,     0.78344,     0.78344,      0.7833,     0.78237,     0.78185,     0.78025,     0.78025,     0.78025,     0.78025,     0.78025,     0.78025,      0.7802,     0.77975,      0.7793,     0.77885,\n",
       "            0.77707,     0.77653,     0.77548,     0.77544,     0.77479,     0.77414,     0.77229,     0.77229,      0.7717,     0.77105,     0.76948,     0.76855,     0.76789,     0.76752,     0.76752,     0.76711,     0.76624,     0.76433,     0.76433,     0.76433,     0.76433,     0.76433,     0.76433,\n",
       "            0.76433,     0.76433,     0.76274,     0.76274,     0.76274,     0.76274,     0.76274,     0.76274,     0.76274,     0.76274,     0.76274,     0.76274,     0.76274,     0.76274,     0.76274,     0.75796,     0.75796,     0.75796,     0.75796,     0.75796,     0.75796,     0.75796,     0.75796,\n",
       "            0.75796,     0.75796,     0.75758,     0.75702,     0.75645,     0.75637,     0.75637,     0.75637,     0.75637,     0.75637,     0.75613,     0.75585,     0.75557,      0.7553,     0.75502,     0.75478,     0.75478,     0.75478,     0.75478,     0.75478,     0.75478,     0.75478,     0.75478,\n",
       "             0.7546,     0.75159,     0.75159,     0.75126,        0.75,        0.75,        0.75,        0.75,        0.75,        0.75,        0.75,        0.75,        0.75,        0.75,        0.75,        0.75,        0.75,        0.75,     0.74998,     0.74948,     0.74898,     0.74848,     0.74841,\n",
       "            0.74841,     0.74779,     0.74685,     0.74682,     0.74682,     0.74682,     0.74682,     0.74682,     0.74682,     0.74682,     0.74637,     0.74587,     0.74537,     0.74522,     0.74522,     0.74522,     0.74522,     0.74522,     0.74358,     0.74308,     0.74257,     0.74207,     0.74051,\n",
       "            0.74045,     0.74045,     0.73996,     0.73903,     0.73885,     0.73885,     0.73885,     0.73843,     0.73778,     0.73726,     0.73726,     0.73716,     0.73695,     0.73674,     0.73652,     0.73631,      0.7361,     0.73589,     0.73568,      0.7332,     0.73248,     0.73248,     0.73248,\n",
       "            0.73248,     0.73248,     0.73248,     0.73248,     0.73248,     0.73248,     0.73248,     0.72933,     0.72838,     0.72726,     0.72592,     0.72527,     0.72461,     0.72382,       0.723,     0.72293,     0.72293,     0.72293,     0.72293,     0.72293,     0.72293,     0.72293,     0.72293,\n",
       "            0.72265,     0.72134,     0.72134,     0.72134,     0.72134,     0.72134,     0.72131,     0.72037,     0.71975,     0.71975,     0.71952,     0.71893,     0.71834,     0.71803,     0.71785,     0.71768,      0.7175,     0.71733,     0.71715,     0.71697,      0.7168,     0.71662,     0.71616,\n",
       "            0.71557,     0.71498,     0.71405,     0.71156,     0.71074,     0.71019,     0.70993,      0.7095,     0.70906,     0.70863,     0.70783,     0.70702,     0.70701,     0.70701,     0.70701,     0.70701,     0.70701,     0.70701,     0.70701,     0.70701,     0.70701,     0.70701,     0.70701,\n",
       "            0.70701,     0.70696,     0.70614,     0.70382,     0.70352,      0.7027,     0.70223,     0.70223,     0.70223,     0.70223,      0.7016,     0.70079,     0.70064,     0.70064,     0.70064,     0.70064,      0.7001,      0.6995,     0.69867,     0.69745,     0.69723,     0.69641,     0.69572,\n",
       "            0.69528,     0.69485,     0.69441,     0.69372,     0.69291,     0.69268,     0.69268,     0.69268,     0.69268,     0.69265,     0.69232,       0.692,     0.69167,     0.69134,     0.69108,     0.69108,     0.69067,     0.68949,     0.68949,     0.68949,     0.68949,     0.68949,     0.68949,\n",
       "            0.68949,     0.68949,     0.68949,     0.68828,     0.68505,     0.68471,     0.68471,     0.68471,     0.68471,     0.68471,     0.68471,     0.68471,     0.68471,     0.68391,     0.68147,     0.67994,     0.67994,     0.67994,     0.67994,     0.67961,     0.67879,     0.67834,     0.67834,\n",
       "            0.67834,     0.67749,     0.67486,     0.67432,     0.67377,     0.67357,     0.67357,     0.67357,     0.67319,     0.67265,      0.6721,     0.67156,     0.67101,     0.67047,     0.66901,     0.66808,     0.66727,     0.66682,     0.66642,     0.66601,      0.6656,     0.66505,     0.66451,\n",
       "            0.66242,     0.66242,     0.66242,     0.66216,     0.65909,     0.65827,     0.65745,     0.65664,     0.65594,     0.65553,     0.65512,     0.65471,     0.65384,     0.65221,     0.64945,     0.64891,     0.64836,     0.64727,     0.64621,     0.64567,     0.64512,     0.64393,      0.6423,\n",
       "            0.64066,     0.63976,     0.63922,     0.63867,     0.63732,     0.63694,     0.63535,     0.63535,     0.63376,     0.63376,      0.6323,     0.63217,     0.63217,     0.63059,     0.63057,     0.63057,     0.63047,     0.62739,     0.62739,     0.62728,     0.62646,      0.6255,     0.62227,\n",
       "            0.61924,     0.61842,     0.61783,     0.61734,     0.61624,     0.61566,     0.61403,     0.60828,     0.60828,     0.60828,     0.60828,     0.60828,     0.60785,     0.60704,     0.60622,      0.6054,     0.60089,     0.59873,     0.59763,     0.59497,     0.59416,     0.59273,      0.5911,\n",
       "            0.58947,     0.58691,      0.5861,     0.58528,     0.58446,      0.5843,     0.58406,     0.58383,      0.5836,     0.58336,     0.58313,      0.5829,     0.58023,     0.57777,     0.57736,     0.57695,     0.57655,     0.57445,      0.5739,     0.57336,     0.57195,     0.57147,     0.57123,\n",
       "              0.571,     0.57077,     0.57053,      0.5703,     0.57007,     0.57006,     0.57006,     0.56916,     0.56816,     0.56761,     0.56707,     0.56529,      0.5626,     0.55937,     0.55455,     0.55353,     0.55272,     0.55125,     0.55029,     0.54947,      0.5472,     0.54655,     0.54229,\n",
       "            0.53956,     0.53902,     0.53847,     0.53576,     0.53458,     0.53377,     0.53152,     0.53098,     0.53043,     0.52866,     0.52849,     0.52767,     0.52537,     0.52496,     0.52456,     0.52415,     0.52359,     0.52278,     0.52097,     0.51861,     0.51807,     0.51752,     0.51512,\n",
       "             0.5143,     0.51348,     0.51259,     0.50919,     0.50694,     0.50372,     0.50208,     0.50045,         0.5,         0.5,     0.49874,     0.49313,     0.48831,     0.48697,     0.48615,     0.48204,     0.48095,     0.47776,     0.47613,      0.4729,      0.4649,     0.46327,     0.46149,\n",
       "            0.45921,     0.45758,     0.45595,     0.44849,     0.44768,     0.44539,     0.44473,      0.4438,     0.43739,     0.43363,     0.42856,     0.42692,     0.42052,      0.4157,     0.41299,     0.40845,     0.40364,     0.40287,     0.40122,      0.4004,      0.3979,     0.39316,     0.39207,\n",
       "            0.38903,     0.38637,     0.38556,     0.38327,     0.38262,     0.38166,     0.38021,     0.37912,     0.37827,     0.37745,     0.37639,     0.37065,     0.36983,     0.36888,     0.35984,     0.35902,     0.35659,      0.3555,     0.35299,     0.35218,     0.35118,     0.35009,       0.349,\n",
       "            0.34493,     0.34411,     0.34308,      0.3389,     0.33808,     0.33557,     0.33448,     0.32703,     0.32606,     0.32524,     0.31792,     0.30569,      0.3046,      0.2973,     0.29648,      0.2939,     0.28963,     0.28854,     0.28128,     0.28046,     0.27307,     0.26721,     0.26612,\n",
       "            0.26048,     0.25966,     0.25542,     0.25115,     0.25006,     0.24101,     0.23885,     0.23885,      0.2335,     0.23082,     0.22973,     0.22387,       0.218,     0.21691,     0.21582,     0.20842,     0.20761,     0.20672,     0.20563,     0.19658,     0.19072,     0.18963,     0.18854,\n",
       "            0.18268,     0.18159,     0.17413,     0.17145,     0.16559,      0.1645,     0.16356,     0.16274,     0.15699,      0.1559,     0.15481,     0.14576,     0.14308,     0.14199,     0.13294,     0.12708,     0.12599,     0.12331,     0.12063,     0.11954,     0.11319,     0.11206,     0.11097,\n",
       "            0.10988,      0.1072,     0.10452,     0.10184,     0.10075,    0.098507,    0.098144,    0.097782,    0.097419,      0.0936,    0.090635,    0.090091,    0.089547,    0.089002,    0.088458,    0.087914,    0.083976,    0.082888,    0.079706,    0.078589,    0.077501,    0.076412,    0.075324,\n",
       "           0.070749,    0.066248,     0.06516,    0.064072,    0.062628,    0.059772,    0.058684,    0.057596,    0.052914,    0.051704,    0.049024,    0.047935,    0.044793,    0.043636,    0.042826,    0.042418,     0.04201,    0.041602,    0.038981,    0.036624,     0.03658,    0.035927,    0.035274,\n",
       "           0.034005,    0.033013,     0.03236,    0.030115,    0.029462,    0.028809,    0.028513,    0.028321,    0.028129,    0.027937,    0.027745,    0.027553,    0.027361,    0.027169,    0.026754,    0.026102,    0.025457,    0.024991,    0.024524,    0.024058,    0.022857,    0.021866,    0.021213,\n",
       "           0.020583,    0.020039,    0.019495,    0.018974,    0.018507,    0.018041,    0.017575,    0.013924,    0.013457,    0.012991,    0.012589,    0.012262,    0.011936,     0.01161,    0.011283,    0.010197,   0.0091585,   0.0085056,   0.0079164,   0.0076443,   0.0073723,   0.0071003,   0.0068282,\n",
       "          0.0065562,   0.0062415,   0.0058335,   0.0054254,   0.0050174,   0.0046981,   0.0045061,   0.0043141,   0.0041221,     0.00393,    0.003738,    0.003546,    0.003354,   0.0031813,    0.003153,   0.0031246,   0.0030962,   0.0030678,   0.0030394,    0.003011,   0.0029826,   0.0029543,   0.0029259,\n",
       "          0.0028975,   0.0028691,   0.0028407,   0.0028123,   0.0027839,   0.0027556,   0.0027272,   0.0026988,   0.0026704,    0.002642,   0.0026136,   0.0025852,   0.0025568,   0.0025285,   0.0025001,   0.0024717,   0.0024433,   0.0024149,   0.0023865,   0.0023581,   0.0023298,   0.0023014,    0.002273,\n",
       "          0.0022446,   0.0022162,   0.0021878,   0.0021594,   0.0021311,   0.0021027,   0.0020743,   0.0020459,   0.0020175,   0.0019891,   0.0019607,   0.0019324,    0.001904,   0.0018756,   0.0018472,   0.0018188,   0.0017904,    0.001762,   0.0017337,   0.0017053,   0.0016769,   0.0016485,   0.0016201,\n",
       "                  0,           0,           0,           0,           0,           0,           0,           0,           0,           0,           0,           0,           0,           0,           0,           0,           0,           0,           0,           0,           0,           0,           0,\n",
       "                  0,           0,           0,           0,           0,           0,           0,           0,           0,           0,           0,           0,           0,           0,           0,           0,           0,           0,           0,           0,           0,           0,           0,\n",
       "                  0,           0,           0,           0,           0,           0,           0,           0,           0,           0,           0,           0,           0,           0,           0,           0,           0,           0,           0,           0,           0,           0,           0,\n",
       "                  0,           0,           0,           0,           0,           0,           0,           0,           0,           0,           0]]), 'Confidence', 'Recall']]\n",
       "fitness: 0.44085960041983496\n",
       "keys: ['metrics/precision(B)', 'metrics/recall(B)', 'metrics/mAP50(B)', 'metrics/mAP50-95(B)']\n",
       "maps: array([    0.39966])\n",
       "names: {0: 'Trash'}\n",
       "plot: True\n",
       "results_dict: {'metrics/precision(B)': 0.8699489179561644, 'metrics/recall(B)': 0.732484076433121, 'metrics/mAP50(B)': 0.8116894342398558, 'metrics/mAP50-95(B)': 0.39965628555094374, 'fitness': 0.44085960041983496}\n",
       "save_dir: WindowsPath('runs/detect/yolo12-simam')\n",
       "speed: {'preprocess': 0.2570255230094521, 'inference': 9.14277991631778, 'loss': 0.0008581590001660334, 'postprocess': 1.9024673640130028}\n",
       "task: 'detect'"
      ]
     },
     "execution_count": 3,
     "metadata": {},
     "output_type": "execute_result"
    }
   ],
   "source": [
    "model = YOLO('yolo12-simam.yaml')\n",
    "model.train(\n",
    "    data=data_path,\n",
    "    epochs=50,\n",
    "    batch=12,\n",
    "    imgsz=640,\n",
    "    name='yolo12-simam', \n",
    ")"
   ]
  },
  {
   "cell_type": "code",
   "execution_count": 4,
   "metadata": {},
   "outputs": [
    {
     "name": "stdout",
     "output_type": "stream",
     "text": [
      "Ultralytics 8.3.96  Python-3.9.21 torch-2.6.0+cu118 CUDA:0 (NVIDIA GeForce GTX 1060 6GB, 6144MiB)\n",
      "YOLO12-simam summary (fused): 162 layers, 9,231,267 parameters, 0 gradients, 21.2 GFLOPs\n"
     ]
    },
    {
     "name": "stderr",
     "output_type": "stream",
     "text": [
      "\u001b[34m\u001b[1mval: \u001b[0mScanning C:\\Users\\MUHAMMADRAFLYARJASUB\\Documents\\BojongTrash\\ultralytics-floating-trash\\datasets\\TestDataset\\flowtest\\test\\labels.cache... 800 images, 1 backgrounds, 0 corrupt: 100%|██████████| 800/800 [00:00<?, ?it/s]\n",
      "                 Class     Images  Instances      Box(P          R      mAP50  mAP50-95): 100%|██████████| 67/67 [00:13<00:00,  4.86it/s]\n"
     ]
    },
    {
     "name": "stdout",
     "output_type": "stream",
     "text": [
      "                   all        800       2022      0.805      0.661      0.727      0.326\n",
      "Speed: 0.2ms preprocess, 10.1ms inference, 0.0ms loss, 1.3ms postprocess per image\n",
      "Results saved to \u001b[1mruns\\detect\\yolo12-simam2\u001b[0m\n"
     ]
    },
    {
     "data": {
      "text/plain": [
       "ultralytics.utils.metrics.DetMetrics object with attributes:\n",
       "\n",
       "ap_class_index: array([0])\n",
       "box: ultralytics.utils.metrics.Metric object\n",
       "confusion_matrix: <ultralytics.utils.metrics.ConfusionMatrix object at 0x0000011B12712610>\n",
       "curves: ['Precision-Recall(B)', 'F1-Confidence(B)', 'Precision-Confidence(B)', 'Recall-Confidence(B)']\n",
       "curves_results: [[array([          0,    0.001001,    0.002002,    0.003003,    0.004004,    0.005005,    0.006006,    0.007007,    0.008008,    0.009009,     0.01001,    0.011011,    0.012012,    0.013013,    0.014014,    0.015015,    0.016016,    0.017017,    0.018018,    0.019019,     0.02002,    0.021021,    0.022022,    0.023023,\n",
       "          0.024024,    0.025025,    0.026026,    0.027027,    0.028028,    0.029029,     0.03003,    0.031031,    0.032032,    0.033033,    0.034034,    0.035035,    0.036036,    0.037037,    0.038038,    0.039039,     0.04004,    0.041041,    0.042042,    0.043043,    0.044044,    0.045045,    0.046046,    0.047047,\n",
       "          0.048048,    0.049049,     0.05005,    0.051051,    0.052052,    0.053053,    0.054054,    0.055055,    0.056056,    0.057057,    0.058058,    0.059059,     0.06006,    0.061061,    0.062062,    0.063063,    0.064064,    0.065065,    0.066066,    0.067067,    0.068068,    0.069069,     0.07007,    0.071071,\n",
       "          0.072072,    0.073073,    0.074074,    0.075075,    0.076076,    0.077077,    0.078078,    0.079079,     0.08008,    0.081081,    0.082082,    0.083083,    0.084084,    0.085085,    0.086086,    0.087087,    0.088088,    0.089089,     0.09009,    0.091091,    0.092092,    0.093093,    0.094094,    0.095095,\n",
       "          0.096096,    0.097097,    0.098098,    0.099099,      0.1001,      0.1011,      0.1021,      0.1031,      0.1041,     0.10511,     0.10611,     0.10711,     0.10811,     0.10911,     0.11011,     0.11111,     0.11211,     0.11311,     0.11411,     0.11512,     0.11612,     0.11712,     0.11812,     0.11912,\n",
       "           0.12012,     0.12112,     0.12212,     0.12312,     0.12412,     0.12513,     0.12613,     0.12713,     0.12813,     0.12913,     0.13013,     0.13113,     0.13213,     0.13313,     0.13413,     0.13514,     0.13614,     0.13714,     0.13814,     0.13914,     0.14014,     0.14114,     0.14214,     0.14314,\n",
       "           0.14414,     0.14515,     0.14615,     0.14715,     0.14815,     0.14915,     0.15015,     0.15115,     0.15215,     0.15315,     0.15415,     0.15516,     0.15616,     0.15716,     0.15816,     0.15916,     0.16016,     0.16116,     0.16216,     0.16316,     0.16416,     0.16517,     0.16617,     0.16717,\n",
       "           0.16817,     0.16917,     0.17017,     0.17117,     0.17217,     0.17317,     0.17417,     0.17518,     0.17618,     0.17718,     0.17818,     0.17918,     0.18018,     0.18118,     0.18218,     0.18318,     0.18418,     0.18519,     0.18619,     0.18719,     0.18819,     0.18919,     0.19019,     0.19119,\n",
       "           0.19219,     0.19319,     0.19419,      0.1952,      0.1962,      0.1972,      0.1982,      0.1992,      0.2002,      0.2012,      0.2022,      0.2032,      0.2042,     0.20521,     0.20621,     0.20721,     0.20821,     0.20921,     0.21021,     0.21121,     0.21221,     0.21321,     0.21421,     0.21522,\n",
       "           0.21622,     0.21722,     0.21822,     0.21922,     0.22022,     0.22122,     0.22222,     0.22322,     0.22422,     0.22523,     0.22623,     0.22723,     0.22823,     0.22923,     0.23023,     0.23123,     0.23223,     0.23323,     0.23423,     0.23524,     0.23624,     0.23724,     0.23824,     0.23924,\n",
       "           0.24024,     0.24124,     0.24224,     0.24324,     0.24424,     0.24525,     0.24625,     0.24725,     0.24825,     0.24925,     0.25025,     0.25125,     0.25225,     0.25325,     0.25425,     0.25526,     0.25626,     0.25726,     0.25826,     0.25926,     0.26026,     0.26126,     0.26226,     0.26326,\n",
       "           0.26426,     0.26527,     0.26627,     0.26727,     0.26827,     0.26927,     0.27027,     0.27127,     0.27227,     0.27327,     0.27427,     0.27528,     0.27628,     0.27728,     0.27828,     0.27928,     0.28028,     0.28128,     0.28228,     0.28328,     0.28428,     0.28529,     0.28629,     0.28729,\n",
       "           0.28829,     0.28929,     0.29029,     0.29129,     0.29229,     0.29329,     0.29429,      0.2953,      0.2963,      0.2973,      0.2983,      0.2993,      0.3003,      0.3013,      0.3023,      0.3033,      0.3043,     0.30531,     0.30631,     0.30731,     0.30831,     0.30931,     0.31031,     0.31131,\n",
       "           0.31231,     0.31331,     0.31431,     0.31532,     0.31632,     0.31732,     0.31832,     0.31932,     0.32032,     0.32132,     0.32232,     0.32332,     0.32432,     0.32533,     0.32633,     0.32733,     0.32833,     0.32933,     0.33033,     0.33133,     0.33233,     0.33333,     0.33433,     0.33534,\n",
       "           0.33634,     0.33734,     0.33834,     0.33934,     0.34034,     0.34134,     0.34234,     0.34334,     0.34434,     0.34535,     0.34635,     0.34735,     0.34835,     0.34935,     0.35035,     0.35135,     0.35235,     0.35335,     0.35435,     0.35536,     0.35636,     0.35736,     0.35836,     0.35936,\n",
       "           0.36036,     0.36136,     0.36236,     0.36336,     0.36436,     0.36537,     0.36637,     0.36737,     0.36837,     0.36937,     0.37037,     0.37137,     0.37237,     0.37337,     0.37437,     0.37538,     0.37638,     0.37738,     0.37838,     0.37938,     0.38038,     0.38138,     0.38238,     0.38338,\n",
       "           0.38438,     0.38539,     0.38639,     0.38739,     0.38839,     0.38939,     0.39039,     0.39139,     0.39239,     0.39339,     0.39439,      0.3954,      0.3964,      0.3974,      0.3984,      0.3994,      0.4004,      0.4014,      0.4024,      0.4034,      0.4044,     0.40541,     0.40641,     0.40741,\n",
       "           0.40841,     0.40941,     0.41041,     0.41141,     0.41241,     0.41341,     0.41441,     0.41542,     0.41642,     0.41742,     0.41842,     0.41942,     0.42042,     0.42142,     0.42242,     0.42342,     0.42442,     0.42543,     0.42643,     0.42743,     0.42843,     0.42943,     0.43043,     0.43143,\n",
       "           0.43243,     0.43343,     0.43443,     0.43544,     0.43644,     0.43744,     0.43844,     0.43944,     0.44044,     0.44144,     0.44244,     0.44344,     0.44444,     0.44545,     0.44645,     0.44745,     0.44845,     0.44945,     0.45045,     0.45145,     0.45245,     0.45345,     0.45445,     0.45546,\n",
       "           0.45646,     0.45746,     0.45846,     0.45946,     0.46046,     0.46146,     0.46246,     0.46346,     0.46446,     0.46547,     0.46647,     0.46747,     0.46847,     0.46947,     0.47047,     0.47147,     0.47247,     0.47347,     0.47447,     0.47548,     0.47648,     0.47748,     0.47848,     0.47948,\n",
       "           0.48048,     0.48148,     0.48248,     0.48348,     0.48448,     0.48549,     0.48649,     0.48749,     0.48849,     0.48949,     0.49049,     0.49149,     0.49249,     0.49349,     0.49449,      0.4955,      0.4965,      0.4975,      0.4985,      0.4995,      0.5005,      0.5015,      0.5025,      0.5035,\n",
       "            0.5045,     0.50551,     0.50651,     0.50751,     0.50851,     0.50951,     0.51051,     0.51151,     0.51251,     0.51351,     0.51451,     0.51552,     0.51652,     0.51752,     0.51852,     0.51952,     0.52052,     0.52152,     0.52252,     0.52352,     0.52452,     0.52553,     0.52653,     0.52753,\n",
       "           0.52853,     0.52953,     0.53053,     0.53153,     0.53253,     0.53353,     0.53453,     0.53554,     0.53654,     0.53754,     0.53854,     0.53954,     0.54054,     0.54154,     0.54254,     0.54354,     0.54454,     0.54555,     0.54655,     0.54755,     0.54855,     0.54955,     0.55055,     0.55155,\n",
       "           0.55255,     0.55355,     0.55455,     0.55556,     0.55656,     0.55756,     0.55856,     0.55956,     0.56056,     0.56156,     0.56256,     0.56356,     0.56456,     0.56557,     0.56657,     0.56757,     0.56857,     0.56957,     0.57057,     0.57157,     0.57257,     0.57357,     0.57457,     0.57558,\n",
       "           0.57658,     0.57758,     0.57858,     0.57958,     0.58058,     0.58158,     0.58258,     0.58358,     0.58458,     0.58559,     0.58659,     0.58759,     0.58859,     0.58959,     0.59059,     0.59159,     0.59259,     0.59359,     0.59459,      0.5956,      0.5966,      0.5976,      0.5986,      0.5996,\n",
       "            0.6006,      0.6016,      0.6026,      0.6036,      0.6046,     0.60561,     0.60661,     0.60761,     0.60861,     0.60961,     0.61061,     0.61161,     0.61261,     0.61361,     0.61461,     0.61562,     0.61662,     0.61762,     0.61862,     0.61962,     0.62062,     0.62162,     0.62262,     0.62362,\n",
       "           0.62462,     0.62563,     0.62663,     0.62763,     0.62863,     0.62963,     0.63063,     0.63163,     0.63263,     0.63363,     0.63463,     0.63564,     0.63664,     0.63764,     0.63864,     0.63964,     0.64064,     0.64164,     0.64264,     0.64364,     0.64464,     0.64565,     0.64665,     0.64765,\n",
       "           0.64865,     0.64965,     0.65065,     0.65165,     0.65265,     0.65365,     0.65465,     0.65566,     0.65666,     0.65766,     0.65866,     0.65966,     0.66066,     0.66166,     0.66266,     0.66366,     0.66466,     0.66567,     0.66667,     0.66767,     0.66867,     0.66967,     0.67067,     0.67167,\n",
       "           0.67267,     0.67367,     0.67467,     0.67568,     0.67668,     0.67768,     0.67868,     0.67968,     0.68068,     0.68168,     0.68268,     0.68368,     0.68468,     0.68569,     0.68669,     0.68769,     0.68869,     0.68969,     0.69069,     0.69169,     0.69269,     0.69369,     0.69469,      0.6957,\n",
       "            0.6967,      0.6977,      0.6987,      0.6997,      0.7007,      0.7017,      0.7027,      0.7037,      0.7047,     0.70571,     0.70671,     0.70771,     0.70871,     0.70971,     0.71071,     0.71171,     0.71271,     0.71371,     0.71471,     0.71572,     0.71672,     0.71772,     0.71872,     0.71972,\n",
       "           0.72072,     0.72172,     0.72272,     0.72372,     0.72472,     0.72573,     0.72673,     0.72773,     0.72873,     0.72973,     0.73073,     0.73173,     0.73273,     0.73373,     0.73473,     0.73574,     0.73674,     0.73774,     0.73874,     0.73974,     0.74074,     0.74174,     0.74274,     0.74374,\n",
       "           0.74474,     0.74575,     0.74675,     0.74775,     0.74875,     0.74975,     0.75075,     0.75175,     0.75275,     0.75375,     0.75475,     0.75576,     0.75676,     0.75776,     0.75876,     0.75976,     0.76076,     0.76176,     0.76276,     0.76376,     0.76476,     0.76577,     0.76677,     0.76777,\n",
       "           0.76877,     0.76977,     0.77077,     0.77177,     0.77277,     0.77377,     0.77477,     0.77578,     0.77678,     0.77778,     0.77878,     0.77978,     0.78078,     0.78178,     0.78278,     0.78378,     0.78478,     0.78579,     0.78679,     0.78779,     0.78879,     0.78979,     0.79079,     0.79179,\n",
       "           0.79279,     0.79379,     0.79479,      0.7958,      0.7968,      0.7978,      0.7988,      0.7998,      0.8008,      0.8018,      0.8028,      0.8038,      0.8048,     0.80581,     0.80681,     0.80781,     0.80881,     0.80981,     0.81081,     0.81181,     0.81281,     0.81381,     0.81481,     0.81582,\n",
       "           0.81682,     0.81782,     0.81882,     0.81982,     0.82082,     0.82182,     0.82282,     0.82382,     0.82482,     0.82583,     0.82683,     0.82783,     0.82883,     0.82983,     0.83083,     0.83183,     0.83283,     0.83383,     0.83483,     0.83584,     0.83684,     0.83784,     0.83884,     0.83984,\n",
       "           0.84084,     0.84184,     0.84284,     0.84384,     0.84484,     0.84585,     0.84685,     0.84785,     0.84885,     0.84985,     0.85085,     0.85185,     0.85285,     0.85385,     0.85485,     0.85586,     0.85686,     0.85786,     0.85886,     0.85986,     0.86086,     0.86186,     0.86286,     0.86386,\n",
       "           0.86486,     0.86587,     0.86687,     0.86787,     0.86887,     0.86987,     0.87087,     0.87187,     0.87287,     0.87387,     0.87487,     0.87588,     0.87688,     0.87788,     0.87888,     0.87988,     0.88088,     0.88188,     0.88288,     0.88388,     0.88488,     0.88589,     0.88689,     0.88789,\n",
       "           0.88889,     0.88989,     0.89089,     0.89189,     0.89289,     0.89389,     0.89489,      0.8959,      0.8969,      0.8979,      0.8989,      0.8999,      0.9009,      0.9019,      0.9029,      0.9039,      0.9049,     0.90591,     0.90691,     0.90791,     0.90891,     0.90991,     0.91091,     0.91191,\n",
       "           0.91291,     0.91391,     0.91491,     0.91592,     0.91692,     0.91792,     0.91892,     0.91992,     0.92092,     0.92192,     0.92292,     0.92392,     0.92492,     0.92593,     0.92693,     0.92793,     0.92893,     0.92993,     0.93093,     0.93193,     0.93293,     0.93393,     0.93493,     0.93594,\n",
       "           0.93694,     0.93794,     0.93894,     0.93994,     0.94094,     0.94194,     0.94294,     0.94394,     0.94494,     0.94595,     0.94695,     0.94795,     0.94895,     0.94995,     0.95095,     0.95195,     0.95295,     0.95395,     0.95495,     0.95596,     0.95696,     0.95796,     0.95896,     0.95996,\n",
       "           0.96096,     0.96196,     0.96296,     0.96396,     0.96496,     0.96597,     0.96697,     0.96797,     0.96897,     0.96997,     0.97097,     0.97197,     0.97297,     0.97397,     0.97497,     0.97598,     0.97698,     0.97798,     0.97898,     0.97998,     0.98098,     0.98198,     0.98298,     0.98398,\n",
       "           0.98498,     0.98599,     0.98699,     0.98799,     0.98899,     0.98999,     0.99099,     0.99199,     0.99299,     0.99399,     0.99499,       0.996,       0.997,       0.998,       0.999,           1]), array([[          1,           1,           1,           1,           1,           1,           1,           1,           1,           1,           1,           1,           1,           1,           1,           1,           1,           1,           1,           1,           1,           1,           1,\n",
       "                  1,           1,           1,           1,           1,           1,           1,           1,           1,           1,           1,           1,           1,           1,           1,           1,           1,           1,           1,           1,           1,           1,           1,\n",
       "                  1,           1,           1,           1,           1,           1,           1,           1,           1,           1,           1,           1,           1,           1,           1,           1,           1,           1,           1,           1,           1,           1,           1,\n",
       "                  1,           1,           1,           1,           1,           1,           1,           1,           1,           1,           1,           1,           1,           1,           1,           1,           1,           1,           1,           1,           1,           1,           1,\n",
       "                  1,           1,           1,           1,           1,           1,           1,           1,           1,           1,           1,           1,     0.99659,     0.99659,     0.99659,     0.99659,     0.99659,     0.99659,     0.99659,     0.99659,     0.99659,     0.99659,     0.99659,\n",
       "            0.99659,     0.99659,     0.99659,     0.99659,     0.99659,     0.99659,     0.99659,     0.99659,     0.99659,     0.99659,     0.99659,     0.99659,     0.99659,     0.99659,     0.99659,     0.99659,     0.99659,     0.99659,     0.99659,     0.99659,     0.99659,     0.99659,     0.99659,\n",
       "            0.99659,     0.99659,     0.99659,     0.99659,     0.99659,     0.99659,     0.99659,     0.99377,     0.99377,     0.99377,     0.99377,     0.99377,     0.99377,     0.99377,     0.99377,     0.99377,     0.99377,     0.99377,     0.99377,     0.99377,     0.99091,     0.99091,     0.99091,\n",
       "            0.99091,     0.98947,     0.98947,     0.98947,     0.98947,     0.98947,     0.98947,     0.98947,     0.98947,     0.98947,     0.98947,     0.98947,     0.98947,     0.98947,     0.98947,     0.98947,     0.98947,     0.98947,     0.98947,     0.98947,     0.98947,     0.98947,     0.98947,\n",
       "            0.98947,     0.98947,     0.98747,     0.98747,     0.98747,     0.98747,     0.98747,     0.98747,     0.98747,     0.98747,     0.98747,     0.98601,     0.98601,     0.98601,     0.98601,     0.98601,     0.98601,     0.98601,     0.98601,     0.98601,     0.98601,     0.98601,     0.98601,\n",
       "            0.98601,     0.98601,     0.98394,     0.98394,     0.98394,     0.98312,     0.98312,     0.98312,     0.98312,     0.98312,     0.98312,     0.98312,     0.98312,     0.98312,     0.98312,     0.98312,     0.98312,     0.98312,     0.98312,     0.98312,     0.98312,     0.98312,     0.98312,\n",
       "            0.98312,     0.98121,     0.98121,     0.97948,     0.97948,     0.97948,     0.97948,     0.97948,     0.97948,     0.97948,     0.97948,     0.97948,     0.97948,     0.97948,     0.97948,     0.97948,     0.97948,     0.97948,     0.97948,     0.97948,     0.97948,     0.97948,     0.97948,\n",
       "            0.97948,     0.97948,     0.97948,     0.97948,     0.97948,     0.97948,     0.97948,     0.97834,     0.97834,     0.97834,     0.97834,     0.97834,     0.97834,     0.97834,     0.97834,     0.97662,     0.97531,     0.97531,     0.97531,     0.97531,     0.97531,     0.97508,     0.97508,\n",
       "            0.97508,     0.97508,     0.97508,     0.97508,     0.97508,     0.97508,     0.97508,     0.97508,     0.97508,     0.97508,     0.97508,     0.97508,     0.97508,     0.97508,     0.97508,     0.97368,     0.97368,     0.97267,     0.97267,     0.97267,     0.97267,     0.97267,     0.97267,\n",
       "            0.97147,     0.97147,     0.97147,     0.97147,     0.97036,     0.97036,     0.97036,     0.97036,     0.97036,     0.96992,     0.96992,     0.96992,     0.96992,     0.96992,     0.96992,     0.96992,     0.96992,     0.96992,     0.96992,     0.96992,     0.96907,     0.96907,     0.96907,\n",
       "            0.96907,     0.96907,     0.96907,     0.96907,     0.96681,     0.96681,     0.96681,     0.96681,     0.96681,     0.96681,     0.96596,     0.96596,     0.96596,     0.96596,     0.96596,     0.96489,     0.96489,     0.96489,     0.96379,     0.96379,     0.96266,     0.96266,     0.96143,\n",
       "            0.96027,     0.96027,     0.95913,     0.95805,     0.95805,     0.95728,     0.95728,     0.95728,     0.95728,     0.95728,     0.95618,     0.95561,     0.95561,     0.95561,     0.95561,     0.95561,     0.95561,     0.95466,     0.95466,     0.95466,     0.95367,     0.95367,     0.95293,\n",
       "            0.95293,     0.95293,     0.95293,     0.95202,     0.95202,     0.95101,     0.95101,     0.95098,     0.95098,     0.95098,     0.95098,     0.95098,     0.95098,     0.95098,     0.95098,     0.95098,     0.94931,     0.94931,     0.94931,     0.94931,     0.94931,     0.94931,     0.94931,\n",
       "            0.94931,     0.94931,     0.94931,     0.94931,     0.94931,     0.94931,     0.94931,     0.94931,     0.94931,     0.94931,     0.94931,     0.94931,     0.94931,     0.94931,     0.94931,     0.94931,     0.94931,     0.94834,     0.94695,     0.94695,     0.94695,     0.94695,     0.94695,\n",
       "            0.94695,     0.94619,     0.94619,     0.94598,     0.94598,     0.94598,     0.94598,     0.94598,     0.94598,     0.94598,     0.94438,     0.94438,     0.94438,     0.94438,     0.94378,     0.94378,     0.94378,     0.94378,     0.94187,     0.94136,     0.94136,     0.94136,     0.94136,\n",
       "            0.94136,     0.94136,     0.94136,     0.94136,     0.94136,     0.94136,     0.94136,     0.94136,     0.94069,     0.94069,     0.94057,     0.94057,     0.94057,     0.94057,     0.94057,     0.94057,     0.94057,     0.93973,      0.9389,      0.9382,      0.9382,     0.93687,     0.93687,\n",
       "            0.93687,     0.93687,     0.93619,     0.93619,     0.93532,     0.93386,     0.93386,     0.93386,     0.93307,     0.93245,     0.93245,     0.93245,     0.93245,     0.93245,     0.93245,     0.93245,     0.93245,     0.93245,     0.93245,     0.93245,     0.93245,     0.93245,     0.93245,\n",
       "            0.93245,     0.93245,     0.93175,     0.93158,     0.93158,     0.93158,     0.93158,     0.93158,     0.93158,     0.93116,     0.93116,     0.93116,     0.93036,     0.92798,     0.92719,     0.92661,     0.92661,     0.92552,     0.92552,     0.92552,     0.92552,      0.9237,      0.9237,\n",
       "             0.9237,      0.9237,      0.9237,     0.92328,     0.92328,     0.92328,     0.92294,     0.92294,     0.92294,      0.9226,      0.9226,      0.9226,      0.9226,     0.92234,     0.92234,     0.92234,     0.92234,     0.92094,     0.91941,     0.91887,     0.91887,     0.91887,     0.91887,\n",
       "            0.91887,     0.91887,     0.91887,     0.91816,     0.91752,     0.91385,     0.91323,     0.91253,     0.91199,     0.91145,     0.91145,     0.91091,     0.91067,     0.91067,     0.91067,     0.91007,     0.90722,     0.90663,     0.90531,     0.90399,     0.90276,     0.90276,     0.90145,\n",
       "             0.9004,      0.9004,         0.9,         0.9,     0.89937,     0.89937,     0.89937,     0.89937,     0.89937,     0.89922,     0.89922,     0.89922,     0.89922,     0.89922,     0.89922,     0.89922,     0.89922,      0.8986,     0.89821,     0.89821,     0.89767,     0.89538,     0.89538,\n",
       "            0.89538,     0.89349,      0.8916,     0.89117,     0.89074,     0.89074,     0.88973,     0.88973,     0.88797,     0.88614,     0.88582,     0.88582,     0.88542,     0.88427,      0.8837,     0.88257,     0.88218,     0.88179,     0.88179,     0.88003,     0.87828,     0.87654,     0.87491,\n",
       "            0.87437,      0.8715,     0.87062,     0.87062,     0.87009,     0.86966,     0.86923,     0.86898,     0.86898,     0.86855,     0.86812,     0.86685,     0.86685,     0.86685,     0.86643,     0.86541,     0.86439,     0.86398,     0.86367,     0.86266,     0.86216,     0.85832,     0.85783,\n",
       "            0.85753,     0.85608,     0.85608,     0.85405,     0.85138,     0.85044,      0.8496,     0.84867,      0.8482,     0.84503,     0.84145,     0.84131,     0.84131,     0.84031,     0.83943,     0.83854,     0.83603,     0.83312,     0.83237,     0.83237,     0.83216,      0.8312,     0.82983,\n",
       "            0.82794,     0.82722,     0.82702,     0.82702,     0.82568,     0.82096,     0.82096,     0.81937,     0.81937,     0.81504,     0.81151,     0.81151,     0.81074,      0.8101,     0.80825,     0.80604,      0.8053,      0.8036,     0.80096,     0.80024,     0.79527,     0.79316,     0.79098,\n",
       "            0.79098,     0.78617,     0.78324,     0.78226,     0.78193,     0.78173,     0.77987,     0.77968,     0.77936,     0.77708,     0.77633,     0.77483,     0.77378,     0.77057,     0.76825,      0.7651,     0.76409,     0.76183,     0.76125,     0.75763,     0.75763,      0.7542,     0.75121,\n",
       "            0.74746,     0.74534,     0.74495,     0.74469,     0.74313,     0.74209,      0.7408,     0.73618,     0.72723,     0.72653,     0.72643,     0.72435,     0.72321,     0.72321,     0.72239,     0.71976,     0.71881,     0.71837,      0.7099,     0.70635,     0.70505,     0.70416,     0.70376,\n",
       "            0.70302,     0.69788,     0.69615,     0.69411,     0.68783,     0.68664,     0.68582,     0.68273,     0.68192,     0.68063,     0.67793,     0.67714,     0.67278,     0.66849,     0.66848,     0.66426,     0.65397,     0.65053,     0.64236,     0.63934,     0.63746,     0.63342,     0.62642,\n",
       "              0.625,      0.6227,     0.62121,     0.61488,     0.60993,     0.60475,     0.60443,       0.602,     0.60072,     0.59487,     0.59192,     0.58154,     0.58074,     0.56336,     0.55784,     0.55349,     0.54824,     0.53887,     0.53109,     0.53109,     0.52848,     0.52143,     0.51201,\n",
       "             0.5081,     0.50426,     0.50294,     0.49855,     0.49694,     0.49615,     0.49363,     0.49098,      0.4844,     0.48187,     0.47673,      0.4723,     0.47117,     0.46838,      0.4673,     0.45792,     0.44172,     0.42586,     0.42262,     0.41112,     0.40802,     0.39844,     0.39066,\n",
       "            0.38752,     0.38677,     0.38333,     0.38033,     0.37639,     0.37194,     0.36885,     0.36865,     0.36267,     0.35529,     0.35463,     0.35367,     0.34061,     0.33591,     0.33271,     0.30459,      0.3006,     0.29885,     0.29184,     0.28779,     0.28111,     0.26858,     0.26399,\n",
       "            0.26101,     0.25564,     0.24015,      0.2314,     0.23002,     0.22298,     0.21472,     0.21403,     0.21059,     0.20795,     0.19777,     0.19486,     0.18522,     0.18063,     0.16776,     0.16006,     0.15755,     0.15251,     0.14027,     0.13872,     0.13729,     0.13085,     0.12672,\n",
       "            0.12144,     0.11859,     0.11336,     0.10646,     0.10507,    0.097837,    0.095176,    0.090559,    0.087214,    0.084606,    0.077021,    0.076639,     0.07616,    0.075681,    0.075202,    0.074723,    0.074244,    0.073765,    0.073286,    0.072807,    0.072328,    0.071849,     0.07137,\n",
       "           0.070891,    0.070412,    0.069933,    0.069454,    0.068975,    0.068496,    0.068017,    0.067538,    0.067059,     0.06658,    0.066101,    0.065622,    0.065143,    0.064664,    0.064185,    0.063706,    0.063227,    0.062748,    0.062269,     0.06179,    0.061311,    0.060832,    0.060353,\n",
       "           0.059874,    0.059395,    0.058916,    0.058437,    0.057958,    0.057479,       0.057,    0.056521,    0.056042,    0.055563,    0.055084,    0.054605,    0.054126,    0.053647,    0.053168,    0.052689,     0.05221,    0.051731,    0.051252,    0.050773,    0.050294,    0.049815,    0.049336,\n",
       "           0.048857,    0.048378,    0.047899,     0.04742,    0.046941,    0.046462,    0.045983,    0.045504,    0.045025,    0.044546,    0.044067,    0.043588,    0.043109,     0.04263,    0.042151,    0.041672,    0.041193,    0.040714,    0.040235,    0.039756,    0.039277,    0.038798,     0.03832,\n",
       "           0.037841,    0.037362,    0.036883,    0.036404,    0.035925,    0.035446,    0.034967,    0.034488,    0.034009,     0.03353,    0.033051,    0.032572,    0.032093,    0.031614,    0.031135,    0.030656,    0.030177,    0.029698,    0.029219,     0.02874,    0.028261,    0.027782,    0.027303,\n",
       "           0.026824,    0.026345,    0.025866,    0.025387,    0.024908,    0.024429,     0.02395,    0.023471,    0.022992,    0.022513,    0.022034,    0.021555,    0.021076,    0.020597,    0.020118,    0.019639,     0.01916,    0.018681,    0.018202,    0.017723,    0.017244,    0.016765,    0.016286,\n",
       "           0.015807,    0.015328,    0.014849,     0.01437,    0.013891,    0.013412,    0.012933,    0.012454,    0.011975,    0.011496,    0.011017,    0.010538,    0.010059,   0.0095799,   0.0091009,   0.0086219,   0.0081429,   0.0076639,   0.0071849,   0.0067059,   0.0062269,   0.0057479,   0.0052689,\n",
       "          0.0047899,   0.0043109,    0.003832,    0.003353,    0.002874,    0.002395,    0.001916,    0.001437,  0.00095799,  0.00047899,           0]]), 'Recall', 'Precision'], [array([          0,    0.001001,    0.002002,    0.003003,    0.004004,    0.005005,    0.006006,    0.007007,    0.008008,    0.009009,     0.01001,    0.011011,    0.012012,    0.013013,    0.014014,    0.015015,    0.016016,    0.017017,    0.018018,    0.019019,     0.02002,    0.021021,    0.022022,    0.023023,\n",
       "          0.024024,    0.025025,    0.026026,    0.027027,    0.028028,    0.029029,     0.03003,    0.031031,    0.032032,    0.033033,    0.034034,    0.035035,    0.036036,    0.037037,    0.038038,    0.039039,     0.04004,    0.041041,    0.042042,    0.043043,    0.044044,    0.045045,    0.046046,    0.047047,\n",
       "          0.048048,    0.049049,     0.05005,    0.051051,    0.052052,    0.053053,    0.054054,    0.055055,    0.056056,    0.057057,    0.058058,    0.059059,     0.06006,    0.061061,    0.062062,    0.063063,    0.064064,    0.065065,    0.066066,    0.067067,    0.068068,    0.069069,     0.07007,    0.071071,\n",
       "          0.072072,    0.073073,    0.074074,    0.075075,    0.076076,    0.077077,    0.078078,    0.079079,     0.08008,    0.081081,    0.082082,    0.083083,    0.084084,    0.085085,    0.086086,    0.087087,    0.088088,    0.089089,     0.09009,    0.091091,    0.092092,    0.093093,    0.094094,    0.095095,\n",
       "          0.096096,    0.097097,    0.098098,    0.099099,      0.1001,      0.1011,      0.1021,      0.1031,      0.1041,     0.10511,     0.10611,     0.10711,     0.10811,     0.10911,     0.11011,     0.11111,     0.11211,     0.11311,     0.11411,     0.11512,     0.11612,     0.11712,     0.11812,     0.11912,\n",
       "           0.12012,     0.12112,     0.12212,     0.12312,     0.12412,     0.12513,     0.12613,     0.12713,     0.12813,     0.12913,     0.13013,     0.13113,     0.13213,     0.13313,     0.13413,     0.13514,     0.13614,     0.13714,     0.13814,     0.13914,     0.14014,     0.14114,     0.14214,     0.14314,\n",
       "           0.14414,     0.14515,     0.14615,     0.14715,     0.14815,     0.14915,     0.15015,     0.15115,     0.15215,     0.15315,     0.15415,     0.15516,     0.15616,     0.15716,     0.15816,     0.15916,     0.16016,     0.16116,     0.16216,     0.16316,     0.16416,     0.16517,     0.16617,     0.16717,\n",
       "           0.16817,     0.16917,     0.17017,     0.17117,     0.17217,     0.17317,     0.17417,     0.17518,     0.17618,     0.17718,     0.17818,     0.17918,     0.18018,     0.18118,     0.18218,     0.18318,     0.18418,     0.18519,     0.18619,     0.18719,     0.18819,     0.18919,     0.19019,     0.19119,\n",
       "           0.19219,     0.19319,     0.19419,      0.1952,      0.1962,      0.1972,      0.1982,      0.1992,      0.2002,      0.2012,      0.2022,      0.2032,      0.2042,     0.20521,     0.20621,     0.20721,     0.20821,     0.20921,     0.21021,     0.21121,     0.21221,     0.21321,     0.21421,     0.21522,\n",
       "           0.21622,     0.21722,     0.21822,     0.21922,     0.22022,     0.22122,     0.22222,     0.22322,     0.22422,     0.22523,     0.22623,     0.22723,     0.22823,     0.22923,     0.23023,     0.23123,     0.23223,     0.23323,     0.23423,     0.23524,     0.23624,     0.23724,     0.23824,     0.23924,\n",
       "           0.24024,     0.24124,     0.24224,     0.24324,     0.24424,     0.24525,     0.24625,     0.24725,     0.24825,     0.24925,     0.25025,     0.25125,     0.25225,     0.25325,     0.25425,     0.25526,     0.25626,     0.25726,     0.25826,     0.25926,     0.26026,     0.26126,     0.26226,     0.26326,\n",
       "           0.26426,     0.26527,     0.26627,     0.26727,     0.26827,     0.26927,     0.27027,     0.27127,     0.27227,     0.27327,     0.27427,     0.27528,     0.27628,     0.27728,     0.27828,     0.27928,     0.28028,     0.28128,     0.28228,     0.28328,     0.28428,     0.28529,     0.28629,     0.28729,\n",
       "           0.28829,     0.28929,     0.29029,     0.29129,     0.29229,     0.29329,     0.29429,      0.2953,      0.2963,      0.2973,      0.2983,      0.2993,      0.3003,      0.3013,      0.3023,      0.3033,      0.3043,     0.30531,     0.30631,     0.30731,     0.30831,     0.30931,     0.31031,     0.31131,\n",
       "           0.31231,     0.31331,     0.31431,     0.31532,     0.31632,     0.31732,     0.31832,     0.31932,     0.32032,     0.32132,     0.32232,     0.32332,     0.32432,     0.32533,     0.32633,     0.32733,     0.32833,     0.32933,     0.33033,     0.33133,     0.33233,     0.33333,     0.33433,     0.33534,\n",
       "           0.33634,     0.33734,     0.33834,     0.33934,     0.34034,     0.34134,     0.34234,     0.34334,     0.34434,     0.34535,     0.34635,     0.34735,     0.34835,     0.34935,     0.35035,     0.35135,     0.35235,     0.35335,     0.35435,     0.35536,     0.35636,     0.35736,     0.35836,     0.35936,\n",
       "           0.36036,     0.36136,     0.36236,     0.36336,     0.36436,     0.36537,     0.36637,     0.36737,     0.36837,     0.36937,     0.37037,     0.37137,     0.37237,     0.37337,     0.37437,     0.37538,     0.37638,     0.37738,     0.37838,     0.37938,     0.38038,     0.38138,     0.38238,     0.38338,\n",
       "           0.38438,     0.38539,     0.38639,     0.38739,     0.38839,     0.38939,     0.39039,     0.39139,     0.39239,     0.39339,     0.39439,      0.3954,      0.3964,      0.3974,      0.3984,      0.3994,      0.4004,      0.4014,      0.4024,      0.4034,      0.4044,     0.40541,     0.40641,     0.40741,\n",
       "           0.40841,     0.40941,     0.41041,     0.41141,     0.41241,     0.41341,     0.41441,     0.41542,     0.41642,     0.41742,     0.41842,     0.41942,     0.42042,     0.42142,     0.42242,     0.42342,     0.42442,     0.42543,     0.42643,     0.42743,     0.42843,     0.42943,     0.43043,     0.43143,\n",
       "           0.43243,     0.43343,     0.43443,     0.43544,     0.43644,     0.43744,     0.43844,     0.43944,     0.44044,     0.44144,     0.44244,     0.44344,     0.44444,     0.44545,     0.44645,     0.44745,     0.44845,     0.44945,     0.45045,     0.45145,     0.45245,     0.45345,     0.45445,     0.45546,\n",
       "           0.45646,     0.45746,     0.45846,     0.45946,     0.46046,     0.46146,     0.46246,     0.46346,     0.46446,     0.46547,     0.46647,     0.46747,     0.46847,     0.46947,     0.47047,     0.47147,     0.47247,     0.47347,     0.47447,     0.47548,     0.47648,     0.47748,     0.47848,     0.47948,\n",
       "           0.48048,     0.48148,     0.48248,     0.48348,     0.48448,     0.48549,     0.48649,     0.48749,     0.48849,     0.48949,     0.49049,     0.49149,     0.49249,     0.49349,     0.49449,      0.4955,      0.4965,      0.4975,      0.4985,      0.4995,      0.5005,      0.5015,      0.5025,      0.5035,\n",
       "            0.5045,     0.50551,     0.50651,     0.50751,     0.50851,     0.50951,     0.51051,     0.51151,     0.51251,     0.51351,     0.51451,     0.51552,     0.51652,     0.51752,     0.51852,     0.51952,     0.52052,     0.52152,     0.52252,     0.52352,     0.52452,     0.52553,     0.52653,     0.52753,\n",
       "           0.52853,     0.52953,     0.53053,     0.53153,     0.53253,     0.53353,     0.53453,     0.53554,     0.53654,     0.53754,     0.53854,     0.53954,     0.54054,     0.54154,     0.54254,     0.54354,     0.54454,     0.54555,     0.54655,     0.54755,     0.54855,     0.54955,     0.55055,     0.55155,\n",
       "           0.55255,     0.55355,     0.55455,     0.55556,     0.55656,     0.55756,     0.55856,     0.55956,     0.56056,     0.56156,     0.56256,     0.56356,     0.56456,     0.56557,     0.56657,     0.56757,     0.56857,     0.56957,     0.57057,     0.57157,     0.57257,     0.57357,     0.57457,     0.57558,\n",
       "           0.57658,     0.57758,     0.57858,     0.57958,     0.58058,     0.58158,     0.58258,     0.58358,     0.58458,     0.58559,     0.58659,     0.58759,     0.58859,     0.58959,     0.59059,     0.59159,     0.59259,     0.59359,     0.59459,      0.5956,      0.5966,      0.5976,      0.5986,      0.5996,\n",
       "            0.6006,      0.6016,      0.6026,      0.6036,      0.6046,     0.60561,     0.60661,     0.60761,     0.60861,     0.60961,     0.61061,     0.61161,     0.61261,     0.61361,     0.61461,     0.61562,     0.61662,     0.61762,     0.61862,     0.61962,     0.62062,     0.62162,     0.62262,     0.62362,\n",
       "           0.62462,     0.62563,     0.62663,     0.62763,     0.62863,     0.62963,     0.63063,     0.63163,     0.63263,     0.63363,     0.63463,     0.63564,     0.63664,     0.63764,     0.63864,     0.63964,     0.64064,     0.64164,     0.64264,     0.64364,     0.64464,     0.64565,     0.64665,     0.64765,\n",
       "           0.64865,     0.64965,     0.65065,     0.65165,     0.65265,     0.65365,     0.65465,     0.65566,     0.65666,     0.65766,     0.65866,     0.65966,     0.66066,     0.66166,     0.66266,     0.66366,     0.66466,     0.66567,     0.66667,     0.66767,     0.66867,     0.66967,     0.67067,     0.67167,\n",
       "           0.67267,     0.67367,     0.67467,     0.67568,     0.67668,     0.67768,     0.67868,     0.67968,     0.68068,     0.68168,     0.68268,     0.68368,     0.68468,     0.68569,     0.68669,     0.68769,     0.68869,     0.68969,     0.69069,     0.69169,     0.69269,     0.69369,     0.69469,      0.6957,\n",
       "            0.6967,      0.6977,      0.6987,      0.6997,      0.7007,      0.7017,      0.7027,      0.7037,      0.7047,     0.70571,     0.70671,     0.70771,     0.70871,     0.70971,     0.71071,     0.71171,     0.71271,     0.71371,     0.71471,     0.71572,     0.71672,     0.71772,     0.71872,     0.71972,\n",
       "           0.72072,     0.72172,     0.72272,     0.72372,     0.72472,     0.72573,     0.72673,     0.72773,     0.72873,     0.72973,     0.73073,     0.73173,     0.73273,     0.73373,     0.73473,     0.73574,     0.73674,     0.73774,     0.73874,     0.73974,     0.74074,     0.74174,     0.74274,     0.74374,\n",
       "           0.74474,     0.74575,     0.74675,     0.74775,     0.74875,     0.74975,     0.75075,     0.75175,     0.75275,     0.75375,     0.75475,     0.75576,     0.75676,     0.75776,     0.75876,     0.75976,     0.76076,     0.76176,     0.76276,     0.76376,     0.76476,     0.76577,     0.76677,     0.76777,\n",
       "           0.76877,     0.76977,     0.77077,     0.77177,     0.77277,     0.77377,     0.77477,     0.77578,     0.77678,     0.77778,     0.77878,     0.77978,     0.78078,     0.78178,     0.78278,     0.78378,     0.78478,     0.78579,     0.78679,     0.78779,     0.78879,     0.78979,     0.79079,     0.79179,\n",
       "           0.79279,     0.79379,     0.79479,      0.7958,      0.7968,      0.7978,      0.7988,      0.7998,      0.8008,      0.8018,      0.8028,      0.8038,      0.8048,     0.80581,     0.80681,     0.80781,     0.80881,     0.80981,     0.81081,     0.81181,     0.81281,     0.81381,     0.81481,     0.81582,\n",
       "           0.81682,     0.81782,     0.81882,     0.81982,     0.82082,     0.82182,     0.82282,     0.82382,     0.82482,     0.82583,     0.82683,     0.82783,     0.82883,     0.82983,     0.83083,     0.83183,     0.83283,     0.83383,     0.83483,     0.83584,     0.83684,     0.83784,     0.83884,     0.83984,\n",
       "           0.84084,     0.84184,     0.84284,     0.84384,     0.84484,     0.84585,     0.84685,     0.84785,     0.84885,     0.84985,     0.85085,     0.85185,     0.85285,     0.85385,     0.85485,     0.85586,     0.85686,     0.85786,     0.85886,     0.85986,     0.86086,     0.86186,     0.86286,     0.86386,\n",
       "           0.86486,     0.86587,     0.86687,     0.86787,     0.86887,     0.86987,     0.87087,     0.87187,     0.87287,     0.87387,     0.87487,     0.87588,     0.87688,     0.87788,     0.87888,     0.87988,     0.88088,     0.88188,     0.88288,     0.88388,     0.88488,     0.88589,     0.88689,     0.88789,\n",
       "           0.88889,     0.88989,     0.89089,     0.89189,     0.89289,     0.89389,     0.89489,      0.8959,      0.8969,      0.8979,      0.8989,      0.8999,      0.9009,      0.9019,      0.9029,      0.9039,      0.9049,     0.90591,     0.90691,     0.90791,     0.90891,     0.90991,     0.91091,     0.91191,\n",
       "           0.91291,     0.91391,     0.91491,     0.91592,     0.91692,     0.91792,     0.91892,     0.91992,     0.92092,     0.92192,     0.92292,     0.92392,     0.92492,     0.92593,     0.92693,     0.92793,     0.92893,     0.92993,     0.93093,     0.93193,     0.93293,     0.93393,     0.93493,     0.93594,\n",
       "           0.93694,     0.93794,     0.93894,     0.93994,     0.94094,     0.94194,     0.94294,     0.94394,     0.94494,     0.94595,     0.94695,     0.94795,     0.94895,     0.94995,     0.95095,     0.95195,     0.95295,     0.95395,     0.95495,     0.95596,     0.95696,     0.95796,     0.95896,     0.95996,\n",
       "           0.96096,     0.96196,     0.96296,     0.96396,     0.96496,     0.96597,     0.96697,     0.96797,     0.96897,     0.96997,     0.97097,     0.97197,     0.97297,     0.97397,     0.97497,     0.97598,     0.97698,     0.97798,     0.97898,     0.97998,     0.98098,     0.98198,     0.98298,     0.98398,\n",
       "           0.98498,     0.98599,     0.98699,     0.98799,     0.98899,     0.98999,     0.99099,     0.99199,     0.99299,     0.99399,     0.99499,       0.996,       0.997,       0.998,       0.999,           1]), array([[    0.14091,     0.14098,      0.1969,     0.23748,     0.26895,     0.29606,     0.31732,     0.33679,     0.35327,     0.36853,     0.38294,     0.39524,     0.40505,     0.41745,     0.42658,     0.43494,      0.4423,     0.45145,        0.46,     0.46753,     0.47369,     0.47938,     0.48615,\n",
       "            0.49103,     0.49662,     0.50238,     0.50736,     0.51265,      0.5178,     0.52091,     0.52503,     0.52967,     0.53434,     0.53853,     0.54302,     0.54633,      0.5496,     0.55451,     0.55949,     0.56307,      0.5666,     0.57015,      0.5731,     0.57589,     0.57824,     0.58045,\n",
       "            0.58327,      0.5856,     0.58821,     0.59095,     0.59372,     0.59564,     0.59863,     0.60036,     0.60211,     0.60291,     0.60597,     0.60704,     0.60924,     0.61154,     0.61301,     0.61492,     0.61675,     0.61813,      0.6199,     0.62216,     0.62367,     0.62488,     0.62642,\n",
       "            0.62795,     0.63098,     0.63218,     0.63443,     0.63573,     0.63707,     0.63804,     0.63978,     0.64184,     0.64334,     0.64498,     0.64631,     0.64842,     0.64946,     0.65152,     0.65296,     0.65376,     0.65471,     0.65596,     0.65707,     0.65869,     0.65988,     0.66045,\n",
       "            0.66176,     0.66332,     0.66441,       0.665,     0.66553,     0.66618,     0.66748,     0.66866,      0.6696,     0.67008,     0.67148,     0.67189,     0.67364,     0.67483,      0.6752,     0.67574,      0.6763,     0.67697,     0.67772,      0.6785,     0.67977,      0.6801,     0.68046,\n",
       "            0.68109,     0.68222,     0.68237,     0.68237,     0.68286,      0.6841,     0.68483,     0.68641,     0.68671,     0.68772,      0.6888,       0.689,     0.68992,     0.69068,     0.69125,     0.69217,     0.69328,      0.6948,       0.695,     0.69522,     0.69577,      0.6964,     0.69687,\n",
       "            0.69675,     0.69764,     0.69837,      0.6991,     0.69894,     0.69926,     0.69962,     0.70008,     0.70036,     0.70132,     0.70098,     0.70124,     0.70118,      0.7014,     0.70195,     0.70224,     0.70261,     0.70202,     0.70236,     0.70296,      0.7042,     0.70519,     0.70543,\n",
       "            0.70559,     0.70574,     0.70619,     0.70634,     0.70684,      0.7073,     0.70744,     0.70846,     0.70803,     0.70812,     0.70823,     0.70788,     0.70821,     0.70822,     0.70802,     0.70814,     0.70925,      0.7103,     0.71119,     0.71166,     0.71212,     0.71224,     0.71206,\n",
       "            0.71259,       0.713,      0.7127,     0.71261,      0.7125,     0.71284,     0.71299,     0.71361,     0.71323,     0.71279,     0.71247,     0.71296,     0.71347,     0.71307,     0.71251,     0.71249,     0.71305,     0.71391,     0.71426,     0.71459,     0.71504,     0.71544,     0.71579,\n",
       "            0.71645,     0.71664,     0.71639,     0.71618,     0.71668,     0.71721,     0.71737,     0.71754,      0.7181,     0.71808,     0.71813,     0.71807,     0.71832,     0.71812,     0.71784,     0.71763,     0.71781,     0.71781,     0.71814,      0.7186,     0.71917,     0.71936,     0.71983,\n",
       "            0.71993,      0.7198,     0.72001,     0.71998,     0.72064,     0.72078,     0.72086,     0.72082,     0.72053,     0.72048,     0.72065,      0.7208,     0.72128,      0.7216,     0.72108,     0.72088,      0.7209,     0.72129,     0.72146,     0.72157,     0.72148,     0.72165,     0.72201,\n",
       "            0.72229,     0.72246,     0.72241,     0.72285,     0.72299,     0.72331,     0.72351,     0.72336,     0.72374,     0.72377,     0.72348,      0.7237,     0.72385,     0.72356,     0.72335,      0.7239,     0.72383,     0.72324,     0.72276,     0.72319,     0.72282,     0.72269,     0.72231,\n",
       "            0.72214,     0.72216,     0.72237,     0.72201,     0.72226,     0.72274,       0.723,     0.72315,     0.72366,     0.72349,     0.72416,     0.72376,     0.72389,     0.72396,     0.72397,     0.72371,     0.72387,     0.72381,     0.72385,     0.72438,     0.72466,     0.72506,     0.72501,\n",
       "            0.72511,     0.72522,     0.72555,     0.72497,     0.72529,     0.72554,     0.72557,     0.72512,     0.72537,      0.7255,     0.72577,     0.72553,     0.72531,     0.72581,     0.72596,      0.7256,     0.72628,     0.72555,     0.72537,     0.72551,     0.72467,     0.72402,     0.72414,\n",
       "            0.72475,     0.72543,     0.72529,     0.72565,     0.72561,     0.72639,     0.72623,     0.72574,     0.72605,     0.72467,     0.72529,     0.72542,     0.72573,     0.72607,     0.72652,     0.72621,     0.72632,     0.72635,     0.72552,     0.72569,       0.725,     0.72471,     0.72479,\n",
       "            0.72486,     0.72498,     0.72501,     0.72475,     0.72494,     0.72479,     0.72504,     0.72484,     0.72485,     0.72462,     0.72446,     0.72404,     0.72368,     0.72324,     0.72344,      0.7231,     0.72318,     0.72347,     0.72373,      0.7236,     0.72385,     0.72331,     0.72345,\n",
       "            0.72352,     0.72348,     0.72302,     0.72327,     0.72217,     0.72158,     0.72154,     0.72167,     0.72183,     0.72217,      0.7225,     0.72223,     0.72238,     0.72272,     0.72299,     0.72283,     0.72269,     0.72182,     0.72152,     0.72177,     0.72186,     0.72127,     0.72125,\n",
       "            0.72146,      0.7218,     0.72147,     0.72093,     0.72117,     0.72136,     0.72078,     0.72088,     0.72042,     0.72028,     0.72017,     0.72006,     0.72022,     0.71997,     0.71947,     0.71921,     0.72011,     0.72026,     0.72011,      0.7197,     0.71987,     0.71887,     0.71844,\n",
       "             0.7181,      0.7179,     0.71784,      0.7174,     0.71731,     0.71716,       0.717,     0.71644,     0.71571,     0.71531,     0.71517,     0.71481,     0.71456,     0.71383,     0.71323,     0.71308,     0.71276,     0.71251,      0.7119,     0.71112,     0.71073,     0.71083,     0.71089,\n",
       "            0.71077,     0.71065,     0.71033,     0.71061,     0.71079,     0.71066,      0.7104,     0.71001,     0.71013,     0.71035,     0.71008,     0.70993,     0.70987,     0.71003,     0.70939,      0.7096,     0.70986,     0.70922,     0.70941,      0.7098,     0.70878,     0.70839,     0.70774,\n",
       "            0.70758,     0.70731,     0.70696,       0.707,     0.70623,     0.70596,     0.70609,     0.70559,     0.70509,     0.70476,      0.7048,      0.7044,     0.70391,     0.70419,     0.70399,     0.70273,     0.70285,     0.70197,      0.7013,     0.70087,     0.70102,     0.70087,     0.70055,\n",
       "            0.70092,     0.70026,     0.70054,     0.70035,     0.69927,     0.69902,     0.69891,      0.6987,     0.69865,     0.69713,     0.69704,      0.6951,     0.69381,     0.69249,     0.69172,     0.69115,     0.69094,     0.69031,     0.68999,     0.68969,     0.68858,     0.68784,     0.68705,\n",
       "            0.68611,     0.68537,     0.68475,     0.68457,      0.6844,     0.68394,     0.68383,     0.68353,     0.68322,     0.68282,     0.68287,     0.68242,     0.68217,     0.68203,     0.68132,     0.68191,     0.68209,     0.68155,     0.68133,     0.67955,     0.67879,     0.67841,     0.67738,\n",
       "            0.67711,      0.6756,     0.67557,     0.67549,     0.67478,     0.67485,     0.67418,     0.67438,     0.67479,     0.67266,       0.672,     0.67033,     0.66951,     0.66848,     0.66807,     0.66796,      0.6671,     0.66703,     0.66399,     0.66279,     0.66196,     0.66124,     0.66073,\n",
       "            0.65951,     0.65853,     0.65731,     0.65621,      0.6532,     0.65259,     0.65278,     0.65247,     0.65163,     0.65055,     0.64859,     0.64635,      0.6463,     0.64663,     0.64626,     0.64575,     0.64405,     0.64349,     0.64331,     0.64257,     0.64214,     0.64165,     0.63955,\n",
       "             0.6393,     0.63877,     0.63843,     0.63751,     0.63617,     0.63494,     0.63386,     0.63239,     0.63164,     0.62926,     0.62812,     0.62668,     0.62594,     0.62544,     0.62466,     0.62335,     0.62338,       0.622,     0.62114,     0.62107,     0.61843,     0.61558,     0.61479,\n",
       "            0.61422,     0.61359,     0.61238,     0.61108,     0.60913,     0.60701,     0.60593,     0.60491,     0.60275,     0.60131,     0.59997,     0.59884,     0.59667,      0.5948,     0.59285,     0.59242,     0.59158,     0.59112,     0.58931,     0.58778,     0.58653,     0.58475,     0.58281,\n",
       "            0.58175,     0.58056,     0.57922,     0.57813,     0.57696,      0.5751,     0.57352,     0.57181,     0.57089,      0.5691,     0.56733,     0.56512,     0.56321,     0.56188,     0.55981,     0.55791,     0.55627,     0.55476,     0.55346,     0.55215,     0.55092,     0.54876,     0.54835,\n",
       "             0.5466,     0.54676,     0.54549,     0.54405,     0.54288,     0.54226,      0.5399,     0.53863,     0.53834,     0.53712,     0.53493,     0.53362,     0.53147,     0.52881,     0.52742,      0.5247,     0.52419,     0.52186,     0.52087,     0.51735,     0.51633,     0.51437,     0.51268,\n",
       "            0.51103,     0.50921,     0.50669,     0.50507,     0.50256,     0.50054,     0.49819,     0.49637,     0.49538,     0.49352,       0.489,     0.48719,     0.48441,     0.48218,     0.48004,     0.47798,     0.47471,     0.47275,      0.4703,     0.46844,     0.46775,     0.46587,      0.4622,\n",
       "            0.45915,     0.45671,     0.45205,     0.44959,     0.44887,     0.44697,     0.44329,     0.43894,     0.43323,     0.43088,     0.42837,     0.42552,     0.42117,     0.41875,     0.41433,     0.41126,     0.40832,     0.40338,     0.39885,     0.39363,     0.39038,      0.3873,     0.38266,\n",
       "            0.37886,      0.3754,     0.37357,     0.37046,      0.3642,     0.35752,     0.35175,     0.34825,     0.34489,     0.34159,     0.33868,     0.33382,     0.32999,     0.32598,     0.32153,     0.31691,     0.31139,     0.30528,     0.30082,     0.29509,      0.2918,     0.28865,     0.28472,\n",
       "            0.28115,     0.27797,     0.26964,      0.2651,     0.26238,     0.25698,     0.25217,     0.24989,     0.24931,     0.24597,     0.24386,     0.23953,     0.23237,     0.23064,     0.22624,     0.22294,     0.22111,     0.21698,     0.21204,     0.20967,     0.20831,     0.20683,     0.20412,\n",
       "            0.20033,     0.19741,     0.19384,     0.18923,     0.18651,     0.17956,     0.17658,     0.17491,     0.17359,       0.172,     0.16962,     0.16447,       0.159,     0.15779,     0.15569,     0.15431,     0.14939,     0.14803,     0.14719,     0.14492,     0.14241,      0.1418,      0.1408,\n",
       "             0.1392,     0.13813,     0.13698,     0.13536,     0.13262,       0.129,      0.1268,     0.12364,     0.12037,     0.11873,     0.11669,     0.11313,     0.10909,     0.10774,     0.10279,     0.10068,    0.098407,    0.096613,    0.094312,    0.090769,    0.089124,    0.083577,    0.076929,\n",
       "           0.076245,    0.075573,    0.074949,    0.074383,    0.071039,    0.069188,    0.068029,    0.065803,    0.064449,    0.063513,    0.061256,    0.060698,    0.060108,    0.059433,    0.057089,    0.053617,    0.052449,    0.050668,    0.049572,    0.048309,    0.048013,    0.047757,    0.047501,\n",
       "           0.046192,    0.044933,     0.04076,    0.040128,    0.038625,    0.036719,    0.035561,    0.034413,    0.032252,      0.0312,    0.030674,    0.029987,    0.027686,    0.025891,    0.024453,    0.021018,    0.018562,    0.018023,    0.017575,    0.017339,    0.017102,    0.016865,    0.015813,\n",
       "           0.014718,    0.014233,    0.013749,     0.01329,    0.012831,    0.012379,    0.011928,    0.010582,   0.0097157,   0.0095601,   0.0094045,   0.0092489,   0.0090932,   0.0089375,   0.0086848,   0.0083423,   0.0079996,   0.0070506,   0.0056711,   0.0052783,   0.0048652,   0.0043078,   0.0038513,\n",
       "          0.0035777,    0.003304,   0.0030303,   0.0029332,   0.0028938,   0.0028543,   0.0028148,   0.0027754,   0.0027359,   0.0026965,    0.002657,   0.0026175,   0.0025781,   0.0025386,   0.0024991,   0.0024596,   0.0024202,   0.0023807,   0.0023412,   0.0023017,   0.0022623,   0.0022228,   0.0021833,\n",
       "          0.0021438,   0.0021043,   0.0020648,   0.0020253,   0.0019858,   0.0019462,   0.0019064,   0.0018667,    0.001827,   0.0017872,   0.0017475,   0.0017077,    0.001668,   0.0016283,   0.0015885,   0.0015488,    0.001509,   0.0014693,   0.0014295,   0.0013897,     0.00135,   0.0013102,   0.0012705,\n",
       "          0.0012307,   0.0011909,   0.0011512,   0.0011114,   0.0010717,   0.0010319,  0.00099211,           0,           0,           0,           0,           0,           0,           0,           0,           0,           0,           0,           0,           0,           0,           0,           0,\n",
       "                  0,           0,           0,           0,           0,           0,           0,           0,           0,           0,           0,           0,           0,           0,           0,           0,           0,           0,           0,           0,           0,           0,           0,\n",
       "                  0,           0,           0,           0,           0,           0,           0,           0,           0,           0,           0,           0,           0,           0,           0,           0,           0,           0,           0,           0,           0,           0,           0,\n",
       "                  0,           0,           0,           0,           0,           0,           0,           0,           0,           0,           0]]), 'Confidence', 'F1'], [array([          0,    0.001001,    0.002002,    0.003003,    0.004004,    0.005005,    0.006006,    0.007007,    0.008008,    0.009009,     0.01001,    0.011011,    0.012012,    0.013013,    0.014014,    0.015015,    0.016016,    0.017017,    0.018018,    0.019019,     0.02002,    0.021021,    0.022022,    0.023023,\n",
       "          0.024024,    0.025025,    0.026026,    0.027027,    0.028028,    0.029029,     0.03003,    0.031031,    0.032032,    0.033033,    0.034034,    0.035035,    0.036036,    0.037037,    0.038038,    0.039039,     0.04004,    0.041041,    0.042042,    0.043043,    0.044044,    0.045045,    0.046046,    0.047047,\n",
       "          0.048048,    0.049049,     0.05005,    0.051051,    0.052052,    0.053053,    0.054054,    0.055055,    0.056056,    0.057057,    0.058058,    0.059059,     0.06006,    0.061061,    0.062062,    0.063063,    0.064064,    0.065065,    0.066066,    0.067067,    0.068068,    0.069069,     0.07007,    0.071071,\n",
       "          0.072072,    0.073073,    0.074074,    0.075075,    0.076076,    0.077077,    0.078078,    0.079079,     0.08008,    0.081081,    0.082082,    0.083083,    0.084084,    0.085085,    0.086086,    0.087087,    0.088088,    0.089089,     0.09009,    0.091091,    0.092092,    0.093093,    0.094094,    0.095095,\n",
       "          0.096096,    0.097097,    0.098098,    0.099099,      0.1001,      0.1011,      0.1021,      0.1031,      0.1041,     0.10511,     0.10611,     0.10711,     0.10811,     0.10911,     0.11011,     0.11111,     0.11211,     0.11311,     0.11411,     0.11512,     0.11612,     0.11712,     0.11812,     0.11912,\n",
       "           0.12012,     0.12112,     0.12212,     0.12312,     0.12412,     0.12513,     0.12613,     0.12713,     0.12813,     0.12913,     0.13013,     0.13113,     0.13213,     0.13313,     0.13413,     0.13514,     0.13614,     0.13714,     0.13814,     0.13914,     0.14014,     0.14114,     0.14214,     0.14314,\n",
       "           0.14414,     0.14515,     0.14615,     0.14715,     0.14815,     0.14915,     0.15015,     0.15115,     0.15215,     0.15315,     0.15415,     0.15516,     0.15616,     0.15716,     0.15816,     0.15916,     0.16016,     0.16116,     0.16216,     0.16316,     0.16416,     0.16517,     0.16617,     0.16717,\n",
       "           0.16817,     0.16917,     0.17017,     0.17117,     0.17217,     0.17317,     0.17417,     0.17518,     0.17618,     0.17718,     0.17818,     0.17918,     0.18018,     0.18118,     0.18218,     0.18318,     0.18418,     0.18519,     0.18619,     0.18719,     0.18819,     0.18919,     0.19019,     0.19119,\n",
       "           0.19219,     0.19319,     0.19419,      0.1952,      0.1962,      0.1972,      0.1982,      0.1992,      0.2002,      0.2012,      0.2022,      0.2032,      0.2042,     0.20521,     0.20621,     0.20721,     0.20821,     0.20921,     0.21021,     0.21121,     0.21221,     0.21321,     0.21421,     0.21522,\n",
       "           0.21622,     0.21722,     0.21822,     0.21922,     0.22022,     0.22122,     0.22222,     0.22322,     0.22422,     0.22523,     0.22623,     0.22723,     0.22823,     0.22923,     0.23023,     0.23123,     0.23223,     0.23323,     0.23423,     0.23524,     0.23624,     0.23724,     0.23824,     0.23924,\n",
       "           0.24024,     0.24124,     0.24224,     0.24324,     0.24424,     0.24525,     0.24625,     0.24725,     0.24825,     0.24925,     0.25025,     0.25125,     0.25225,     0.25325,     0.25425,     0.25526,     0.25626,     0.25726,     0.25826,     0.25926,     0.26026,     0.26126,     0.26226,     0.26326,\n",
       "           0.26426,     0.26527,     0.26627,     0.26727,     0.26827,     0.26927,     0.27027,     0.27127,     0.27227,     0.27327,     0.27427,     0.27528,     0.27628,     0.27728,     0.27828,     0.27928,     0.28028,     0.28128,     0.28228,     0.28328,     0.28428,     0.28529,     0.28629,     0.28729,\n",
       "           0.28829,     0.28929,     0.29029,     0.29129,     0.29229,     0.29329,     0.29429,      0.2953,      0.2963,      0.2973,      0.2983,      0.2993,      0.3003,      0.3013,      0.3023,      0.3033,      0.3043,     0.30531,     0.30631,     0.30731,     0.30831,     0.30931,     0.31031,     0.31131,\n",
       "           0.31231,     0.31331,     0.31431,     0.31532,     0.31632,     0.31732,     0.31832,     0.31932,     0.32032,     0.32132,     0.32232,     0.32332,     0.32432,     0.32533,     0.32633,     0.32733,     0.32833,     0.32933,     0.33033,     0.33133,     0.33233,     0.33333,     0.33433,     0.33534,\n",
       "           0.33634,     0.33734,     0.33834,     0.33934,     0.34034,     0.34134,     0.34234,     0.34334,     0.34434,     0.34535,     0.34635,     0.34735,     0.34835,     0.34935,     0.35035,     0.35135,     0.35235,     0.35335,     0.35435,     0.35536,     0.35636,     0.35736,     0.35836,     0.35936,\n",
       "           0.36036,     0.36136,     0.36236,     0.36336,     0.36436,     0.36537,     0.36637,     0.36737,     0.36837,     0.36937,     0.37037,     0.37137,     0.37237,     0.37337,     0.37437,     0.37538,     0.37638,     0.37738,     0.37838,     0.37938,     0.38038,     0.38138,     0.38238,     0.38338,\n",
       "           0.38438,     0.38539,     0.38639,     0.38739,     0.38839,     0.38939,     0.39039,     0.39139,     0.39239,     0.39339,     0.39439,      0.3954,      0.3964,      0.3974,      0.3984,      0.3994,      0.4004,      0.4014,      0.4024,      0.4034,      0.4044,     0.40541,     0.40641,     0.40741,\n",
       "           0.40841,     0.40941,     0.41041,     0.41141,     0.41241,     0.41341,     0.41441,     0.41542,     0.41642,     0.41742,     0.41842,     0.41942,     0.42042,     0.42142,     0.42242,     0.42342,     0.42442,     0.42543,     0.42643,     0.42743,     0.42843,     0.42943,     0.43043,     0.43143,\n",
       "           0.43243,     0.43343,     0.43443,     0.43544,     0.43644,     0.43744,     0.43844,     0.43944,     0.44044,     0.44144,     0.44244,     0.44344,     0.44444,     0.44545,     0.44645,     0.44745,     0.44845,     0.44945,     0.45045,     0.45145,     0.45245,     0.45345,     0.45445,     0.45546,\n",
       "           0.45646,     0.45746,     0.45846,     0.45946,     0.46046,     0.46146,     0.46246,     0.46346,     0.46446,     0.46547,     0.46647,     0.46747,     0.46847,     0.46947,     0.47047,     0.47147,     0.47247,     0.47347,     0.47447,     0.47548,     0.47648,     0.47748,     0.47848,     0.47948,\n",
       "           0.48048,     0.48148,     0.48248,     0.48348,     0.48448,     0.48549,     0.48649,     0.48749,     0.48849,     0.48949,     0.49049,     0.49149,     0.49249,     0.49349,     0.49449,      0.4955,      0.4965,      0.4975,      0.4985,      0.4995,      0.5005,      0.5015,      0.5025,      0.5035,\n",
       "            0.5045,     0.50551,     0.50651,     0.50751,     0.50851,     0.50951,     0.51051,     0.51151,     0.51251,     0.51351,     0.51451,     0.51552,     0.51652,     0.51752,     0.51852,     0.51952,     0.52052,     0.52152,     0.52252,     0.52352,     0.52452,     0.52553,     0.52653,     0.52753,\n",
       "           0.52853,     0.52953,     0.53053,     0.53153,     0.53253,     0.53353,     0.53453,     0.53554,     0.53654,     0.53754,     0.53854,     0.53954,     0.54054,     0.54154,     0.54254,     0.54354,     0.54454,     0.54555,     0.54655,     0.54755,     0.54855,     0.54955,     0.55055,     0.55155,\n",
       "           0.55255,     0.55355,     0.55455,     0.55556,     0.55656,     0.55756,     0.55856,     0.55956,     0.56056,     0.56156,     0.56256,     0.56356,     0.56456,     0.56557,     0.56657,     0.56757,     0.56857,     0.56957,     0.57057,     0.57157,     0.57257,     0.57357,     0.57457,     0.57558,\n",
       "           0.57658,     0.57758,     0.57858,     0.57958,     0.58058,     0.58158,     0.58258,     0.58358,     0.58458,     0.58559,     0.58659,     0.58759,     0.58859,     0.58959,     0.59059,     0.59159,     0.59259,     0.59359,     0.59459,      0.5956,      0.5966,      0.5976,      0.5986,      0.5996,\n",
       "            0.6006,      0.6016,      0.6026,      0.6036,      0.6046,     0.60561,     0.60661,     0.60761,     0.60861,     0.60961,     0.61061,     0.61161,     0.61261,     0.61361,     0.61461,     0.61562,     0.61662,     0.61762,     0.61862,     0.61962,     0.62062,     0.62162,     0.62262,     0.62362,\n",
       "           0.62462,     0.62563,     0.62663,     0.62763,     0.62863,     0.62963,     0.63063,     0.63163,     0.63263,     0.63363,     0.63463,     0.63564,     0.63664,     0.63764,     0.63864,     0.63964,     0.64064,     0.64164,     0.64264,     0.64364,     0.64464,     0.64565,     0.64665,     0.64765,\n",
       "           0.64865,     0.64965,     0.65065,     0.65165,     0.65265,     0.65365,     0.65465,     0.65566,     0.65666,     0.65766,     0.65866,     0.65966,     0.66066,     0.66166,     0.66266,     0.66366,     0.66466,     0.66567,     0.66667,     0.66767,     0.66867,     0.66967,     0.67067,     0.67167,\n",
       "           0.67267,     0.67367,     0.67467,     0.67568,     0.67668,     0.67768,     0.67868,     0.67968,     0.68068,     0.68168,     0.68268,     0.68368,     0.68468,     0.68569,     0.68669,     0.68769,     0.68869,     0.68969,     0.69069,     0.69169,     0.69269,     0.69369,     0.69469,      0.6957,\n",
       "            0.6967,      0.6977,      0.6987,      0.6997,      0.7007,      0.7017,      0.7027,      0.7037,      0.7047,     0.70571,     0.70671,     0.70771,     0.70871,     0.70971,     0.71071,     0.71171,     0.71271,     0.71371,     0.71471,     0.71572,     0.71672,     0.71772,     0.71872,     0.71972,\n",
       "           0.72072,     0.72172,     0.72272,     0.72372,     0.72472,     0.72573,     0.72673,     0.72773,     0.72873,     0.72973,     0.73073,     0.73173,     0.73273,     0.73373,     0.73473,     0.73574,     0.73674,     0.73774,     0.73874,     0.73974,     0.74074,     0.74174,     0.74274,     0.74374,\n",
       "           0.74474,     0.74575,     0.74675,     0.74775,     0.74875,     0.74975,     0.75075,     0.75175,     0.75275,     0.75375,     0.75475,     0.75576,     0.75676,     0.75776,     0.75876,     0.75976,     0.76076,     0.76176,     0.76276,     0.76376,     0.76476,     0.76577,     0.76677,     0.76777,\n",
       "           0.76877,     0.76977,     0.77077,     0.77177,     0.77277,     0.77377,     0.77477,     0.77578,     0.77678,     0.77778,     0.77878,     0.77978,     0.78078,     0.78178,     0.78278,     0.78378,     0.78478,     0.78579,     0.78679,     0.78779,     0.78879,     0.78979,     0.79079,     0.79179,\n",
       "           0.79279,     0.79379,     0.79479,      0.7958,      0.7968,      0.7978,      0.7988,      0.7998,      0.8008,      0.8018,      0.8028,      0.8038,      0.8048,     0.80581,     0.80681,     0.80781,     0.80881,     0.80981,     0.81081,     0.81181,     0.81281,     0.81381,     0.81481,     0.81582,\n",
       "           0.81682,     0.81782,     0.81882,     0.81982,     0.82082,     0.82182,     0.82282,     0.82382,     0.82482,     0.82583,     0.82683,     0.82783,     0.82883,     0.82983,     0.83083,     0.83183,     0.83283,     0.83383,     0.83483,     0.83584,     0.83684,     0.83784,     0.83884,     0.83984,\n",
       "           0.84084,     0.84184,     0.84284,     0.84384,     0.84484,     0.84585,     0.84685,     0.84785,     0.84885,     0.84985,     0.85085,     0.85185,     0.85285,     0.85385,     0.85485,     0.85586,     0.85686,     0.85786,     0.85886,     0.85986,     0.86086,     0.86186,     0.86286,     0.86386,\n",
       "           0.86486,     0.86587,     0.86687,     0.86787,     0.86887,     0.86987,     0.87087,     0.87187,     0.87287,     0.87387,     0.87487,     0.87588,     0.87688,     0.87788,     0.87888,     0.87988,     0.88088,     0.88188,     0.88288,     0.88388,     0.88488,     0.88589,     0.88689,     0.88789,\n",
       "           0.88889,     0.88989,     0.89089,     0.89189,     0.89289,     0.89389,     0.89489,      0.8959,      0.8969,      0.8979,      0.8989,      0.8999,      0.9009,      0.9019,      0.9029,      0.9039,      0.9049,     0.90591,     0.90691,     0.90791,     0.90891,     0.90991,     0.91091,     0.91191,\n",
       "           0.91291,     0.91391,     0.91491,     0.91592,     0.91692,     0.91792,     0.91892,     0.91992,     0.92092,     0.92192,     0.92292,     0.92392,     0.92492,     0.92593,     0.92693,     0.92793,     0.92893,     0.92993,     0.93093,     0.93193,     0.93293,     0.93393,     0.93493,     0.93594,\n",
       "           0.93694,     0.93794,     0.93894,     0.93994,     0.94094,     0.94194,     0.94294,     0.94394,     0.94494,     0.94595,     0.94695,     0.94795,     0.94895,     0.94995,     0.95095,     0.95195,     0.95295,     0.95395,     0.95495,     0.95596,     0.95696,     0.95796,     0.95896,     0.95996,\n",
       "           0.96096,     0.96196,     0.96296,     0.96396,     0.96496,     0.96597,     0.96697,     0.96797,     0.96897,     0.96997,     0.97097,     0.97197,     0.97297,     0.97397,     0.97497,     0.97598,     0.97698,     0.97798,     0.97898,     0.97998,     0.98098,     0.98198,     0.98298,     0.98398,\n",
       "           0.98498,     0.98599,     0.98699,     0.98799,     0.98899,     0.98999,     0.99099,     0.99199,     0.99299,     0.99399,     0.99499,       0.996,       0.997,       0.998,       0.999,           1]), array([[   0.076913,    0.076952,     0.11169,      0.1387,     0.16083,     0.18071,     0.19693,     0.21238,     0.22585,     0.23869,     0.25097,     0.26185,     0.27082,     0.28208,     0.29068,     0.29863,     0.30597,     0.31488,     0.32326,     0.33074,     0.33728,      0.3432,     0.35018,\n",
       "            0.35586,     0.36196,     0.36866,     0.37438,     0.38051,     0.38658,     0.39067,     0.39532,     0.40088,     0.40637,     0.41166,     0.41693,     0.42085,     0.42518,      0.4314,     0.43746,     0.44201,     0.44637,     0.45096,     0.45467,     0.45835,     0.46134,     0.46434,\n",
       "            0.46858,     0.47189,     0.47586,     0.47964,     0.48369,     0.48684,     0.49084,     0.49359,      0.4968,     0.49852,     0.50271,     0.50528,     0.50855,     0.51199,     0.51428,     0.51721,     0.51979,       0.522,     0.52477,       0.528,     0.53092,     0.53342,     0.53567,\n",
       "            0.53791,     0.54262,     0.54466,     0.54815,     0.55021,     0.55248,     0.55449,     0.55712,     0.56108,     0.56394,     0.56647,     0.56851,     0.57179,     0.57341,     0.57663,      0.5789,     0.58054,     0.58255,     0.58452,      0.5863,     0.58888,     0.59103,     0.59263,\n",
       "            0.59483,     0.59759,     0.59968,     0.60097,      0.6028,     0.60485,       0.607,     0.60929,     0.61119,     0.61233,     0.61481,     0.61604,     0.61899,       0.621,     0.62199,      0.6236,     0.62528,     0.62714,     0.62879,     0.63013,     0.63232,     0.63289,     0.63389,\n",
       "            0.63535,     0.63733,     0.63795,     0.63832,     0.63995,     0.64213,      0.6438,     0.64658,      0.6475,     0.64931,     0.65164,     0.65239,     0.65442,      0.6558,     0.65682,      0.6585,     0.66051,     0.66328,     0.66421,     0.66486,     0.66586,     0.66744,     0.66843,\n",
       "            0.66933,     0.67097,     0.67277,     0.67454,     0.67465,     0.67526,     0.67593,      0.6768,     0.67862,     0.68042,     0.68066,     0.68204,     0.68325,     0.68366,     0.68471,     0.68571,     0.68659,     0.68663,     0.68775,     0.68936,     0.69174,     0.69366,     0.69458,\n",
       "             0.6949,     0.69565,     0.69747,     0.69823,     0.69921,     0.70011,     0.70068,     0.70286,     0.70298,     0.70412,     0.70499,     0.70511,     0.70575,     0.70633,     0.70684,     0.70709,      0.7098,     0.71191,     0.71369,     0.71465,     0.71602,     0.71632,     0.71645,\n",
       "            0.71754,     0.71837,     0.71852,      0.7191,      0.7199,      0.7206,      0.7209,     0.72217,     0.72218,     0.72285,      0.7235,     0.72502,     0.72608,     0.72619,     0.72624,     0.72672,     0.72842,     0.73021,     0.73095,     0.73163,     0.73258,     0.73342,     0.73416,\n",
       "            0.73554,     0.73594,     0.73603,     0.73664,     0.73769,     0.73882,     0.73916,     0.73952,     0.74126,     0.74235,       0.743,     0.74345,     0.74399,      0.7447,     0.74479,     0.74593,      0.7469,     0.74747,     0.74878,     0.74979,     0.75102,     0.75202,     0.75304,\n",
       "            0.75347,     0.75342,     0.75404,     0.75515,     0.75661,     0.75692,     0.75709,     0.75751,      0.7574,     0.75806,     0.75905,     0.75938,     0.76043,     0.76115,     0.76103,     0.76164,     0.76203,     0.76292,     0.76395,     0.76504,     0.76518,     0.76557,     0.76638,\n",
       "            0.76703,     0.76821,     0.76853,     0.77018,     0.77049,     0.77185,     0.77231,     0.77259,     0.77373,     0.77483,      0.7748,     0.77595,     0.77706,     0.77769,     0.77775,     0.77902,     0.77953,     0.77947,     0.77968,     0.78133,     0.78181,     0.78224,      0.7821,\n",
       "            0.78204,     0.78228,     0.78277,     0.78327,     0.78455,     0.78567,     0.78698,     0.78733,     0.78853,     0.78883,     0.79043,     0.79076,     0.79186,     0.79241,     0.79276,     0.79352,     0.79392,     0.79447,     0.79517,     0.79657,     0.79724,     0.79842,     0.79879,\n",
       "            0.79905,     0.79932,     0.80011,     0.80014,     0.80163,     0.80225,     0.80353,     0.80341,     0.80403,     0.80436,     0.80502,      0.8056,     0.80609,     0.80732,      0.8077,     0.80816,     0.80997,     0.81042,     0.81064,     0.81106,     0.81127,     0.81114,     0.81142,\n",
       "            0.81297,     0.81466,     0.81509,     0.81601,     0.81667,     0.81865,     0.81923,     0.81932,     0.82091,     0.82051,     0.82211,     0.82246,     0.82326,     0.82413,     0.82531,     0.82553,     0.82638,     0.82695,     0.82674,     0.82716,       0.827,     0.82787,     0.82807,\n",
       "            0.82826,     0.82858,     0.82885,     0.82877,      0.8301,     0.83055,     0.83119,     0.83151,     0.83209,     0.83202,     0.83197,     0.83232,      0.8322,     0.83207,     0.83308,     0.83357,     0.83379,     0.83456,     0.83556,       0.836,     0.83814,     0.83839,     0.83878,\n",
       "            0.83937,     0.83972,     0.84021,     0.84088,      0.8414,     0.84127,     0.84231,     0.84267,     0.84309,     0.84403,     0.84492,     0.84595,     0.84637,     0.84731,     0.84819,     0.84851,     0.84861,     0.84939,     0.84941,     0.85011,     0.85037,     0.85054,     0.85129,\n",
       "            0.85197,     0.85292,     0.85395,      0.8538,     0.85487,      0.8554,     0.85586,     0.85683,     0.85735,     0.85731,     0.85728,     0.85725,      0.8578,     0.85802,     0.85852,     0.85862,     0.86128,     0.86212,     0.86224,     0.86252,      0.8635,     0.86353,     0.86424,\n",
       "            0.86539,     0.86561,     0.86643,     0.86632,     0.86685,     0.86682,     0.86678,     0.86663,     0.86645,     0.86691,     0.86799,     0.86847,     0.86897,     0.86878,     0.86894,     0.86916,     0.86965,     0.86959,     0.87001,     0.87039,     0.87029,     0.87105,     0.87148,\n",
       "            0.87145,     0.87142,     0.87162,     0.87249,     0.87435,     0.87473,     0.87483,     0.87487,     0.87525,     0.87599,     0.87593,     0.87648,     0.87705,     0.87827,     0.87832,     0.87897,     0.88001,     0.87997,     0.88057,     0.88175,     0.88216,     0.88207,     0.88196,\n",
       "             0.8837,     0.88425,     0.88417,      0.8854,     0.88523,     0.88517,     0.88572,      0.8857,     0.88559,     0.88613,     0.88729,     0.88792,     0.88781,     0.88879,     0.88907,     0.88943,      0.8903,     0.89053,     0.89101,     0.89093,     0.89142,      0.8922,     0.89213,\n",
       "            0.89348,     0.89335,     0.89459,      0.8953,     0.89507,     0.89563,     0.89648,     0.89756,      0.8982,     0.89792,      0.8992,     0.89881,     0.89855,     0.89856,      0.8988,     0.89935,     0.89931,     0.89918,     0.89912,     0.89906,     0.89883,     0.89935,     0.89988,\n",
       "            0.89989,     0.90023,      0.9001,     0.90143,      0.9014,     0.90159,     0.90267,     0.90261,     0.90394,     0.90437,     0.90526,     0.90564,     0.90653,     0.90721,     0.90721,     0.90931,     0.90994,     0.90996,     0.90999,     0.91031,     0.91061,     0.91082,     0.91136,\n",
       "            0.91131,     0.91177,     0.91249,     0.91283,     0.91311,     0.91383,     0.91371,     0.91599,     0.91752,     0.91865,     0.91854,     0.91826,     0.91812,     0.91871,     0.91917,     0.92028,     0.92159,     0.92229,     0.92204,     0.92239,     0.92225,     0.92241,     0.92284,\n",
       "            0.92264,     0.92248,     0.92307,     0.92354,     0.92321,     0.92389,     0.92469,      0.9251,     0.92537,      0.9252,     0.92653,     0.92783,     0.92888,     0.93023,      0.9303,     0.93106,     0.93081,     0.93124,     0.93155,     0.93144,     0.93137,      0.9313,     0.93099,\n",
       "            0.93096,     0.93104,     0.93168,      0.9324,     0.93221,     0.93203,     0.93187,     0.93165,     0.93154,     0.93119,     0.93102,      0.9308,     0.93069,     0.93062,     0.93227,     0.93296,     0.93381,     0.93366,     0.93361,     0.93531,     0.93677,     0.93729,      0.9381,\n",
       "            0.93802,     0.93887,     0.94042,      0.9404,     0.94014,     0.93986,     0.94066,     0.94053,      0.9412,     0.94101,     0.94083,     0.94069,      0.9404,     0.94014,     0.94086,     0.94353,     0.94367,     0.94361,     0.94435,     0.94419,     0.94403,     0.94584,      0.9456,\n",
       "            0.94547,     0.94532,     0.94589,     0.94605,     0.94659,     0.94672,     0.94652,     0.94631,     0.94755,     0.94917,     0.94896,      0.9487,     0.94847,     0.94831,     0.94806,     0.94893,     0.94873,     0.94854,     0.94839,     0.94822,     0.94807,      0.9478,     0.94776,\n",
       "            0.94754,     0.95035,     0.95082,     0.95065,     0.95051,     0.95044,     0.95015,        0.95,     0.94997,     0.95011,     0.95191,     0.95175,     0.95269,     0.95359,     0.95374,     0.95557,     0.95551,     0.95526,     0.95515,     0.95623,     0.95715,     0.95694,     0.95676,\n",
       "            0.95786,     0.96025,     0.96262,     0.96246,     0.96488,      0.9647,     0.96585,     0.96569,      0.9656,     0.96653,     0.96641,     0.96875,     0.96884,     0.96866,     0.96848,     0.96976,     0.96949,     0.96933,     0.96913,     0.96897,     0.96891,     0.97026,     0.96996,\n",
       "            0.97124,      0.9726,     0.97224,     0.97364,     0.97359,     0.97505,     0.97479,     0.97448,     0.97406,     0.97388,     0.97369,     0.97519,     0.97568,     0.97821,     0.97792,     0.97772,     0.97934,     0.97903,     0.97874,      0.9784,     0.97818,     0.97797,     0.97764,\n",
       "            0.97938,     0.98118,     0.98107,     0.98296,     0.98261,     0.98222,     0.98187,      0.9839,       0.986,     0.98584,      0.9857,     0.98545,     0.98525,     0.98503,     0.98729,     0.98707,     0.98941,     0.98916,     0.98897,     0.98872,     0.98857,     0.98843,     0.98825,\n",
       "            0.98807,     0.99091,      0.9937,     0.99357,      0.9935,     0.99334,      0.9932,     0.99655,     0.99654,     0.99649,     0.99645,     0.99638,     0.99625,     0.99622,     0.99614,     0.99608,     0.99604,     0.99595,     0.99585,      0.9958,     0.99577,     0.99573,     0.99567,\n",
       "            0.99558,     0.99551,     0.99542,     0.99529,           1,           1,           1,           1,           1,           1,           1,           1,           1,           1,           1,           1,           1,           1,           1,           1,           1,           1,           1,\n",
       "                  1,           1,           1,           1,           1,           1,           1,           1,           1,           1,           1,           1,           1,           1,           1,           1,           1,           1,           1,           1,           1,           1,           1,\n",
       "                  1,           1,           1,           1,           1,           1,           1,           1,           1,           1,           1,           1,           1,           1,           1,           1,           1,           1,           1,           1,           1,           1,           1,\n",
       "                  1,           1,           1,           1,           1,           1,           1,           1,           1,           1,           1,           1,           1,           1,           1,           1,           1,           1,           1,           1,           1,           1,           1,\n",
       "                  1,           1,           1,           1,           1,           1,           1,           1,           1,           1,           1,           1,           1,           1,           1,           1,           1,           1,           1,           1,           1,           1,           1,\n",
       "                  1,           1,           1,           1,           1,           1,           1,           1,           1,           1,           1,           1,           1,           1,           1,           1,           1,           1,           1,           1,           1,           1,           1,\n",
       "                  1,           1,           1,           1,           1,           1,           1,           1,           1,           1,           1,           1,           1,           1,           1,           1,           1,           1,           1,           1,           1,           1,           1,\n",
       "                  1,           1,           1,           1,           1,           1,           1,           1,           1,           1,           1,           1,           1,           1,           1,           1,           1,           1,           1,           1,           1,           1,           1,\n",
       "                  1,           1,           1,           1,           1,           1,           1,           1,           1,           1,           1,           1,           1,           1,           1,           1,           1,           1,           1,           1,           1,           1,           1,\n",
       "                  1,           1,           1,           1,           1,           1,           1,           1,           1,           1,           1,           1,           1,           1,           1,           1,           1,           1,           1,           1,           1,           1,           1,\n",
       "                  1,           1,           1,           1,           1,           1,           1,           1,           1,           1,           1]]), 'Confidence', 'Precision'], [array([          0,    0.001001,    0.002002,    0.003003,    0.004004,    0.005005,    0.006006,    0.007007,    0.008008,    0.009009,     0.01001,    0.011011,    0.012012,    0.013013,    0.014014,    0.015015,    0.016016,    0.017017,    0.018018,    0.019019,     0.02002,    0.021021,    0.022022,    0.023023,\n",
       "          0.024024,    0.025025,    0.026026,    0.027027,    0.028028,    0.029029,     0.03003,    0.031031,    0.032032,    0.033033,    0.034034,    0.035035,    0.036036,    0.037037,    0.038038,    0.039039,     0.04004,    0.041041,    0.042042,    0.043043,    0.044044,    0.045045,    0.046046,    0.047047,\n",
       "          0.048048,    0.049049,     0.05005,    0.051051,    0.052052,    0.053053,    0.054054,    0.055055,    0.056056,    0.057057,    0.058058,    0.059059,     0.06006,    0.061061,    0.062062,    0.063063,    0.064064,    0.065065,    0.066066,    0.067067,    0.068068,    0.069069,     0.07007,    0.071071,\n",
       "          0.072072,    0.073073,    0.074074,    0.075075,    0.076076,    0.077077,    0.078078,    0.079079,     0.08008,    0.081081,    0.082082,    0.083083,    0.084084,    0.085085,    0.086086,    0.087087,    0.088088,    0.089089,     0.09009,    0.091091,    0.092092,    0.093093,    0.094094,    0.095095,\n",
       "          0.096096,    0.097097,    0.098098,    0.099099,      0.1001,      0.1011,      0.1021,      0.1031,      0.1041,     0.10511,     0.10611,     0.10711,     0.10811,     0.10911,     0.11011,     0.11111,     0.11211,     0.11311,     0.11411,     0.11512,     0.11612,     0.11712,     0.11812,     0.11912,\n",
       "           0.12012,     0.12112,     0.12212,     0.12312,     0.12412,     0.12513,     0.12613,     0.12713,     0.12813,     0.12913,     0.13013,     0.13113,     0.13213,     0.13313,     0.13413,     0.13514,     0.13614,     0.13714,     0.13814,     0.13914,     0.14014,     0.14114,     0.14214,     0.14314,\n",
       "           0.14414,     0.14515,     0.14615,     0.14715,     0.14815,     0.14915,     0.15015,     0.15115,     0.15215,     0.15315,     0.15415,     0.15516,     0.15616,     0.15716,     0.15816,     0.15916,     0.16016,     0.16116,     0.16216,     0.16316,     0.16416,     0.16517,     0.16617,     0.16717,\n",
       "           0.16817,     0.16917,     0.17017,     0.17117,     0.17217,     0.17317,     0.17417,     0.17518,     0.17618,     0.17718,     0.17818,     0.17918,     0.18018,     0.18118,     0.18218,     0.18318,     0.18418,     0.18519,     0.18619,     0.18719,     0.18819,     0.18919,     0.19019,     0.19119,\n",
       "           0.19219,     0.19319,     0.19419,      0.1952,      0.1962,      0.1972,      0.1982,      0.1992,      0.2002,      0.2012,      0.2022,      0.2032,      0.2042,     0.20521,     0.20621,     0.20721,     0.20821,     0.20921,     0.21021,     0.21121,     0.21221,     0.21321,     0.21421,     0.21522,\n",
       "           0.21622,     0.21722,     0.21822,     0.21922,     0.22022,     0.22122,     0.22222,     0.22322,     0.22422,     0.22523,     0.22623,     0.22723,     0.22823,     0.22923,     0.23023,     0.23123,     0.23223,     0.23323,     0.23423,     0.23524,     0.23624,     0.23724,     0.23824,     0.23924,\n",
       "           0.24024,     0.24124,     0.24224,     0.24324,     0.24424,     0.24525,     0.24625,     0.24725,     0.24825,     0.24925,     0.25025,     0.25125,     0.25225,     0.25325,     0.25425,     0.25526,     0.25626,     0.25726,     0.25826,     0.25926,     0.26026,     0.26126,     0.26226,     0.26326,\n",
       "           0.26426,     0.26527,     0.26627,     0.26727,     0.26827,     0.26927,     0.27027,     0.27127,     0.27227,     0.27327,     0.27427,     0.27528,     0.27628,     0.27728,     0.27828,     0.27928,     0.28028,     0.28128,     0.28228,     0.28328,     0.28428,     0.28529,     0.28629,     0.28729,\n",
       "           0.28829,     0.28929,     0.29029,     0.29129,     0.29229,     0.29329,     0.29429,      0.2953,      0.2963,      0.2973,      0.2983,      0.2993,      0.3003,      0.3013,      0.3023,      0.3033,      0.3043,     0.30531,     0.30631,     0.30731,     0.30831,     0.30931,     0.31031,     0.31131,\n",
       "           0.31231,     0.31331,     0.31431,     0.31532,     0.31632,     0.31732,     0.31832,     0.31932,     0.32032,     0.32132,     0.32232,     0.32332,     0.32432,     0.32533,     0.32633,     0.32733,     0.32833,     0.32933,     0.33033,     0.33133,     0.33233,     0.33333,     0.33433,     0.33534,\n",
       "           0.33634,     0.33734,     0.33834,     0.33934,     0.34034,     0.34134,     0.34234,     0.34334,     0.34434,     0.34535,     0.34635,     0.34735,     0.34835,     0.34935,     0.35035,     0.35135,     0.35235,     0.35335,     0.35435,     0.35536,     0.35636,     0.35736,     0.35836,     0.35936,\n",
       "           0.36036,     0.36136,     0.36236,     0.36336,     0.36436,     0.36537,     0.36637,     0.36737,     0.36837,     0.36937,     0.37037,     0.37137,     0.37237,     0.37337,     0.37437,     0.37538,     0.37638,     0.37738,     0.37838,     0.37938,     0.38038,     0.38138,     0.38238,     0.38338,\n",
       "           0.38438,     0.38539,     0.38639,     0.38739,     0.38839,     0.38939,     0.39039,     0.39139,     0.39239,     0.39339,     0.39439,      0.3954,      0.3964,      0.3974,      0.3984,      0.3994,      0.4004,      0.4014,      0.4024,      0.4034,      0.4044,     0.40541,     0.40641,     0.40741,\n",
       "           0.40841,     0.40941,     0.41041,     0.41141,     0.41241,     0.41341,     0.41441,     0.41542,     0.41642,     0.41742,     0.41842,     0.41942,     0.42042,     0.42142,     0.42242,     0.42342,     0.42442,     0.42543,     0.42643,     0.42743,     0.42843,     0.42943,     0.43043,     0.43143,\n",
       "           0.43243,     0.43343,     0.43443,     0.43544,     0.43644,     0.43744,     0.43844,     0.43944,     0.44044,     0.44144,     0.44244,     0.44344,     0.44444,     0.44545,     0.44645,     0.44745,     0.44845,     0.44945,     0.45045,     0.45145,     0.45245,     0.45345,     0.45445,     0.45546,\n",
       "           0.45646,     0.45746,     0.45846,     0.45946,     0.46046,     0.46146,     0.46246,     0.46346,     0.46446,     0.46547,     0.46647,     0.46747,     0.46847,     0.46947,     0.47047,     0.47147,     0.47247,     0.47347,     0.47447,     0.47548,     0.47648,     0.47748,     0.47848,     0.47948,\n",
       "           0.48048,     0.48148,     0.48248,     0.48348,     0.48448,     0.48549,     0.48649,     0.48749,     0.48849,     0.48949,     0.49049,     0.49149,     0.49249,     0.49349,     0.49449,      0.4955,      0.4965,      0.4975,      0.4985,      0.4995,      0.5005,      0.5015,      0.5025,      0.5035,\n",
       "            0.5045,     0.50551,     0.50651,     0.50751,     0.50851,     0.50951,     0.51051,     0.51151,     0.51251,     0.51351,     0.51451,     0.51552,     0.51652,     0.51752,     0.51852,     0.51952,     0.52052,     0.52152,     0.52252,     0.52352,     0.52452,     0.52553,     0.52653,     0.52753,\n",
       "           0.52853,     0.52953,     0.53053,     0.53153,     0.53253,     0.53353,     0.53453,     0.53554,     0.53654,     0.53754,     0.53854,     0.53954,     0.54054,     0.54154,     0.54254,     0.54354,     0.54454,     0.54555,     0.54655,     0.54755,     0.54855,     0.54955,     0.55055,     0.55155,\n",
       "           0.55255,     0.55355,     0.55455,     0.55556,     0.55656,     0.55756,     0.55856,     0.55956,     0.56056,     0.56156,     0.56256,     0.56356,     0.56456,     0.56557,     0.56657,     0.56757,     0.56857,     0.56957,     0.57057,     0.57157,     0.57257,     0.57357,     0.57457,     0.57558,\n",
       "           0.57658,     0.57758,     0.57858,     0.57958,     0.58058,     0.58158,     0.58258,     0.58358,     0.58458,     0.58559,     0.58659,     0.58759,     0.58859,     0.58959,     0.59059,     0.59159,     0.59259,     0.59359,     0.59459,      0.5956,      0.5966,      0.5976,      0.5986,      0.5996,\n",
       "            0.6006,      0.6016,      0.6026,      0.6036,      0.6046,     0.60561,     0.60661,     0.60761,     0.60861,     0.60961,     0.61061,     0.61161,     0.61261,     0.61361,     0.61461,     0.61562,     0.61662,     0.61762,     0.61862,     0.61962,     0.62062,     0.62162,     0.62262,     0.62362,\n",
       "           0.62462,     0.62563,     0.62663,     0.62763,     0.62863,     0.62963,     0.63063,     0.63163,     0.63263,     0.63363,     0.63463,     0.63564,     0.63664,     0.63764,     0.63864,     0.63964,     0.64064,     0.64164,     0.64264,     0.64364,     0.64464,     0.64565,     0.64665,     0.64765,\n",
       "           0.64865,     0.64965,     0.65065,     0.65165,     0.65265,     0.65365,     0.65465,     0.65566,     0.65666,     0.65766,     0.65866,     0.65966,     0.66066,     0.66166,     0.66266,     0.66366,     0.66466,     0.66567,     0.66667,     0.66767,     0.66867,     0.66967,     0.67067,     0.67167,\n",
       "           0.67267,     0.67367,     0.67467,     0.67568,     0.67668,     0.67768,     0.67868,     0.67968,     0.68068,     0.68168,     0.68268,     0.68368,     0.68468,     0.68569,     0.68669,     0.68769,     0.68869,     0.68969,     0.69069,     0.69169,     0.69269,     0.69369,     0.69469,      0.6957,\n",
       "            0.6967,      0.6977,      0.6987,      0.6997,      0.7007,      0.7017,      0.7027,      0.7037,      0.7047,     0.70571,     0.70671,     0.70771,     0.70871,     0.70971,     0.71071,     0.71171,     0.71271,     0.71371,     0.71471,     0.71572,     0.71672,     0.71772,     0.71872,     0.71972,\n",
       "           0.72072,     0.72172,     0.72272,     0.72372,     0.72472,     0.72573,     0.72673,     0.72773,     0.72873,     0.72973,     0.73073,     0.73173,     0.73273,     0.73373,     0.73473,     0.73574,     0.73674,     0.73774,     0.73874,     0.73974,     0.74074,     0.74174,     0.74274,     0.74374,\n",
       "           0.74474,     0.74575,     0.74675,     0.74775,     0.74875,     0.74975,     0.75075,     0.75175,     0.75275,     0.75375,     0.75475,     0.75576,     0.75676,     0.75776,     0.75876,     0.75976,     0.76076,     0.76176,     0.76276,     0.76376,     0.76476,     0.76577,     0.76677,     0.76777,\n",
       "           0.76877,     0.76977,     0.77077,     0.77177,     0.77277,     0.77377,     0.77477,     0.77578,     0.77678,     0.77778,     0.77878,     0.77978,     0.78078,     0.78178,     0.78278,     0.78378,     0.78478,     0.78579,     0.78679,     0.78779,     0.78879,     0.78979,     0.79079,     0.79179,\n",
       "           0.79279,     0.79379,     0.79479,      0.7958,      0.7968,      0.7978,      0.7988,      0.7998,      0.8008,      0.8018,      0.8028,      0.8038,      0.8048,     0.80581,     0.80681,     0.80781,     0.80881,     0.80981,     0.81081,     0.81181,     0.81281,     0.81381,     0.81481,     0.81582,\n",
       "           0.81682,     0.81782,     0.81882,     0.81982,     0.82082,     0.82182,     0.82282,     0.82382,     0.82482,     0.82583,     0.82683,     0.82783,     0.82883,     0.82983,     0.83083,     0.83183,     0.83283,     0.83383,     0.83483,     0.83584,     0.83684,     0.83784,     0.83884,     0.83984,\n",
       "           0.84084,     0.84184,     0.84284,     0.84384,     0.84484,     0.84585,     0.84685,     0.84785,     0.84885,     0.84985,     0.85085,     0.85185,     0.85285,     0.85385,     0.85485,     0.85586,     0.85686,     0.85786,     0.85886,     0.85986,     0.86086,     0.86186,     0.86286,     0.86386,\n",
       "           0.86486,     0.86587,     0.86687,     0.86787,     0.86887,     0.86987,     0.87087,     0.87187,     0.87287,     0.87387,     0.87487,     0.87588,     0.87688,     0.87788,     0.87888,     0.87988,     0.88088,     0.88188,     0.88288,     0.88388,     0.88488,     0.88589,     0.88689,     0.88789,\n",
       "           0.88889,     0.88989,     0.89089,     0.89189,     0.89289,     0.89389,     0.89489,      0.8959,      0.8969,      0.8979,      0.8989,      0.8999,      0.9009,      0.9019,      0.9029,      0.9039,      0.9049,     0.90591,     0.90691,     0.90791,     0.90891,     0.90991,     0.91091,     0.91191,\n",
       "           0.91291,     0.91391,     0.91491,     0.91592,     0.91692,     0.91792,     0.91892,     0.91992,     0.92092,     0.92192,     0.92292,     0.92392,     0.92492,     0.92593,     0.92693,     0.92793,     0.92893,     0.92993,     0.93093,     0.93193,     0.93293,     0.93393,     0.93493,     0.93594,\n",
       "           0.93694,     0.93794,     0.93894,     0.93994,     0.94094,     0.94194,     0.94294,     0.94394,     0.94494,     0.94595,     0.94695,     0.94795,     0.94895,     0.94995,     0.95095,     0.95195,     0.95295,     0.95395,     0.95495,     0.95596,     0.95696,     0.95796,     0.95896,     0.95996,\n",
       "           0.96096,     0.96196,     0.96296,     0.96396,     0.96496,     0.96597,     0.96697,     0.96797,     0.96897,     0.96997,     0.97097,     0.97197,     0.97297,     0.97397,     0.97497,     0.97598,     0.97698,     0.97798,     0.97898,     0.97998,     0.98098,     0.98198,     0.98298,     0.98398,\n",
       "           0.98498,     0.98599,     0.98699,     0.98799,     0.98899,     0.98999,     0.99099,     0.99199,     0.99299,     0.99399,     0.99499,       0.996,       0.997,       0.998,       0.999,           1]), array([[    0.83927,     0.83927,     0.83086,     0.82493,     0.82047,      0.8185,     0.81652,     0.81306,     0.81058,     0.80811,     0.80762,     0.80564,     0.80317,     0.80267,     0.80119,      0.8002,     0.79773,     0.79723,     0.79723,     0.79723,     0.79536,     0.79476,     0.79476,\n",
       "            0.79179,      0.7908,     0.78833,     0.78684,     0.78536,     0.78388,      0.7814,      0.7814,     0.78042,     0.77992,     0.77844,     0.77844,     0.77844,     0.77698,     0.77596,     0.77596,     0.77547,     0.77547,     0.77498,     0.77498,     0.77448,     0.77448,     0.77399,\n",
       "            0.77229,     0.77151,     0.77003,     0.76954,     0.76855,     0.76706,     0.76706,     0.76607,     0.76409,     0.76261,     0.76261,     0.76014,     0.75964,     0.75915,     0.75865,     0.75816,     0.75816,     0.75767,     0.75717,     0.75717,     0.75569,      0.7542,      0.7542,\n",
       "             0.7542,     0.75371,     0.75321,     0.75295,     0.75272,     0.75223,     0.75124,     0.75124,     0.74975,     0.74876,     0.74876,     0.74876,     0.74876,     0.74876,     0.74876,     0.74876,     0.74813,     0.74728,     0.74728,     0.74728,     0.74728,     0.74689,      0.7458,\n",
       "            0.74566,      0.7453,     0.74481,     0.74431,     0.74283,     0.74135,     0.74135,     0.74085,     0.74036,     0.73986,     0.73965,     0.73887,     0.73887,     0.73887,     0.73838,     0.73739,      0.7364,     0.73541,     0.73492,     0.73492,     0.73492,     0.73492,     0.73442,\n",
       "            0.73393,     0.73393,     0.73343,     0.73294,     0.73195,     0.73195,     0.73145,     0.73145,     0.73096,     0.73096,     0.73046,     0.72997,     0.72948,     0.72948,     0.72948,     0.72948,     0.72948,     0.72948,     0.72879,     0.72849,     0.72849,     0.72799,     0.72783,\n",
       "            0.72651,     0.72651,       0.726,     0.72552,     0.72504,     0.72502,     0.72502,     0.72502,     0.72354,     0.72354,     0.72255,     0.72156,     0.72008,     0.72008,     0.72008,     0.71958,     0.71939,      0.7181,     0.71761,     0.71711,     0.71711,     0.71711,     0.71662,\n",
       "            0.71662,     0.71612,     0.71513,     0.71464,     0.71464,     0.71464,     0.71432,     0.71414,     0.71316,     0.71217,     0.71149,     0.71068,     0.71068,     0.71012,      0.7092,      0.7092,      0.7087,      0.7087,      0.7087,      0.7087,     0.70827,     0.70821,     0.70772,\n",
       "            0.70772,     0.70771,     0.70698,     0.70623,     0.70524,     0.70524,     0.70524,     0.70524,      0.7045,       0.703,     0.70178,     0.70129,     0.70129,     0.70042,     0.69929,     0.69881,     0.69832,     0.69832,     0.69832,     0.69832,     0.69832,     0.69832,     0.69832,\n",
       "            0.69832,     0.69832,     0.69777,     0.69683,     0.69683,     0.69683,     0.69683,     0.69683,     0.69634,     0.69535,     0.69488,     0.69436,     0.69436,     0.69337,     0.69278,     0.69139,      0.6909,     0.69041,     0.68991,     0.68991,     0.68991,     0.68942,     0.68942,\n",
       "            0.68925,     0.68905,     0.68892,     0.68793,     0.68793,     0.68793,     0.68793,     0.68752,     0.68708,     0.68645,     0.68595,     0.68595,     0.68595,     0.68595,     0.68512,     0.68425,     0.68398,     0.68398,     0.68345,     0.68278,     0.68249,     0.68249,     0.68249,\n",
       "            0.68249,     0.68185,      0.6815,     0.68101,     0.68101,     0.68051,     0.68051,     0.68002,     0.67982,     0.67903,     0.67854,     0.67804,     0.67745,     0.67648,     0.67606,     0.67606,     0.67557,     0.67458,     0.67359,      0.6731,     0.67211,     0.67156,       0.671,\n",
       "            0.67076,     0.67062,     0.67062,     0.66963,     0.66914,     0.66914,     0.66864,     0.66864,     0.66864,     0.66815,     0.66815,     0.66724,     0.66667,      0.6664,     0.66617,     0.66518,     0.66518,     0.66469,     0.66428,     0.66419,     0.66419,     0.66405,      0.6637,\n",
       "             0.6637,      0.6637,      0.6637,     0.66271,     0.66222,     0.66222,      0.6614,     0.66073,     0.66073,     0.66073,     0.66073,     0.65993,     0.65925,     0.65925,     0.65925,     0.65835,     0.65826,     0.65678,     0.65632,     0.65628,     0.65478,     0.65381,     0.65381,\n",
       "            0.65381,     0.65381,     0.65331,     0.65331,     0.65282,     0.65282,      0.6522,     0.65134,     0.65084,     0.64887,     0.64886,     0.64886,     0.64886,     0.64886,     0.64886,     0.64822,     0.64787,     0.64758,     0.64639,     0.64639,     0.64541,     0.64441,     0.64441,\n",
       "            0.64441,     0.64441,     0.64429,     0.64392,     0.64342,     0.64293,     0.64293,     0.64243,      0.6421,     0.64178,     0.64156,      0.6407,     0.64019,     0.63958,      0.6393,     0.63848,     0.63848,     0.63848,     0.63831,     0.63784,     0.63699,       0.636,       0.636,\n",
       "            0.63576,     0.63551,     0.63452,     0.63452,     0.63254,      0.6317,     0.63106,     0.63106,     0.63106,     0.63106,     0.63106,     0.63007,     0.63007,     0.63007,     0.62999,     0.62957,     0.62931,     0.62757,      0.6271,      0.6271,      0.6271,     0.62611,     0.62568,\n",
       "            0.62562,     0.62562,     0.62458,     0.62385,     0.62364,     0.62364,     0.62253,     0.62216,     0.62121,     0.62102,     0.62087,     0.62072,     0.62067,     0.62018,     0.61919,     0.61875,     0.61869,     0.61848,      0.6182,     0.61745,     0.61721,     0.61573,     0.61474,\n",
       "            0.61365,     0.61325,     0.61275,     0.61217,     0.61177,     0.61157,     0.61137,     0.61061,     0.60965,     0.60884,     0.60811,     0.60736,     0.60675,     0.60579,     0.60485,     0.60452,     0.60382,      0.6035,     0.60242,     0.60112,     0.60062,      0.6004,     0.60027,\n",
       "            0.60012,     0.59996,     0.59941,     0.59941,     0.59879,     0.59842,       0.598,     0.59743,     0.59743,     0.59739,     0.59703,     0.59657,     0.59622,     0.59588,     0.59496,     0.59496,     0.59485,     0.59397,     0.59397,     0.59397,     0.59236,     0.59185,       0.591,\n",
       "               0.59,     0.58937,     0.58893,     0.58844,     0.58744,      0.5871,     0.58704,     0.58635,     0.58571,     0.58502,     0.58457,     0.58375,     0.58312,     0.58309,     0.58269,     0.58081,     0.58061,     0.57931,     0.57819,     0.57765,     0.57765,     0.57711,      0.5767,\n",
       "            0.57664,      0.5758,     0.57567,     0.57512,     0.57375,     0.57319,      0.5727,     0.57198,     0.57164,     0.56973,      0.5691,     0.56667,     0.56505,      0.5633,      0.5622,     0.56123,     0.56097,     0.56018,     0.55978,     0.55942,     0.55804,     0.55687,     0.55564,\n",
       "             0.5544,     0.55332,     0.55255,     0.55181,      0.5516,     0.55094,     0.55039,     0.55003,     0.54914,     0.54847,      0.5482,     0.54748,     0.54684,     0.54641,      0.5455,      0.5455,      0.5455,      0.5448,     0.54451,     0.54212,     0.54105,     0.54049,       0.539,\n",
       "            0.53867,      0.5366,     0.53633,      0.5361,     0.53511,     0.53495,     0.53415,     0.53363,     0.53362,     0.53058,      0.5298,     0.52782,     0.52685,     0.52538,     0.52473,     0.52423,     0.52275,     0.52243,     0.51879,     0.51723,     0.51626,     0.51533,     0.51458,\n",
       "            0.51316,     0.51202,     0.51037,      0.5089,     0.50539,     0.50445,     0.50445,     0.50396,     0.50288,     0.50164,     0.49893,     0.49591,     0.49555,     0.49555,     0.49509,     0.49428,     0.49237,     0.49159,      0.4913,     0.49046,     0.48998,     0.48943,     0.48707,\n",
       "             0.4868,     0.48615,     0.48559,     0.48433,     0.48283,     0.48147,     0.48028,     0.47864,     0.47782,     0.47519,     0.47393,     0.47235,     0.47154,     0.47099,     0.46969,     0.46803,     0.46785,     0.46634,     0.46538,     0.46489,     0.46158,     0.45828,     0.45722,\n",
       "             0.4566,     0.45571,     0.45401,     0.45259,     0.45051,     0.44826,      0.4469,     0.44582,     0.44333,     0.44181,      0.4404,     0.43923,     0.43696,     0.43501,     0.43277,     0.43175,     0.43084,     0.43036,     0.42829,     0.42671,     0.42542,     0.42319,     0.42121,\n",
       "            0.42013,     0.41892,     0.41741,     0.41625,     0.41494,     0.41299,      0.4114,     0.40968,     0.40851,     0.40638,     0.40461,     0.40241,     0.40052,      0.3992,     0.39716,      0.3951,      0.3935,     0.39201,     0.39075,     0.38947,     0.38827,     0.38617,     0.38578,\n",
       "            0.38408,     0.38378,     0.38245,     0.38106,     0.37994,     0.37935,     0.37708,     0.37587,      0.3756,     0.37438,     0.37199,     0.37074,     0.36852,     0.36584,     0.36449,     0.36164,     0.36116,     0.35898,     0.35807,      0.3546,     0.35351,     0.35171,     0.35016,\n",
       "            0.34847,     0.34647,     0.34384,     0.34237,     0.33976,     0.33794,     0.33566,     0.33403,     0.33315,     0.33136,     0.32731,     0.32542,     0.32294,     0.32098,      0.3191,     0.31715,     0.31431,      0.3126,     0.31049,     0.30888,     0.30829,     0.30653,     0.30338,\n",
       "            0.30064,     0.29842,     0.29449,     0.29227,     0.29167,     0.28994,     0.28688,     0.28327,     0.27856,     0.27663,     0.27459,     0.27213,     0.26855,     0.26639,     0.26285,     0.26039,     0.25793,     0.25402,     0.25046,     0.24638,     0.24385,     0.24146,     0.23788,\n",
       "            0.23486,      0.2321,     0.23071,     0.22824,     0.22353,     0.21854,     0.21425,     0.21156,       0.209,     0.20658,     0.20447,     0.20095,     0.19819,     0.19531,     0.19204,     0.18876,     0.18477,     0.18049,     0.17739,     0.17343,     0.17116,       0.169,     0.16632,\n",
       "            0.16389,     0.16166,     0.15598,     0.15295,     0.15115,     0.14758,     0.14442,     0.14286,     0.14248,      0.1403,     0.13893,     0.13612,     0.13153,     0.13042,     0.12761,     0.12552,     0.12436,     0.12175,     0.11865,     0.11717,     0.11632,      0.1154,     0.11372,\n",
       "            0.11137,     0.10957,     0.10737,     0.10455,     0.10284,    0.098633,    0.096841,    0.095836,    0.095047,    0.094093,    0.092669,    0.089606,    0.086364,    0.085653,    0.084415,    0.083605,    0.080724,    0.079931,     0.07944,    0.078118,    0.076664,    0.076309,    0.075734,\n",
       "           0.074804,     0.07419,    0.073527,    0.072594,    0.071019,    0.068945,     0.06769,    0.065892,    0.064037,     0.06311,    0.061962,    0.059954,     0.05769,    0.056936,    0.054181,    0.053008,     0.05175,    0.050758,     0.04949,    0.047542,     0.04664,    0.043611,    0.040003,\n",
       "           0.039633,     0.03927,    0.038934,    0.038628,    0.036828,    0.035834,    0.035212,    0.034021,    0.033298,    0.032798,    0.031596,    0.031299,    0.030985,    0.030627,    0.029383,    0.027547,    0.026931,    0.025993,    0.025416,    0.024752,    0.024597,    0.024463,    0.024329,\n",
       "           0.023642,    0.022983,    0.020804,    0.020475,    0.019693,    0.018703,    0.018102,    0.017508,     0.01639,    0.015847,    0.015576,    0.015222,    0.014037,    0.013115,    0.012378,     0.01062,   0.0093679,   0.0090935,   0.0088656,   0.0087452,   0.0086247,   0.0085042,   0.0079693,\n",
       "          0.0074134,   0.0071677,    0.006922,   0.0066895,    0.006457,   0.0062281,   0.0059996,   0.0053192,   0.0048816,    0.004803,   0.0047245,   0.0046459,   0.0045674,   0.0044888,   0.0043614,   0.0041886,   0.0040158,   0.0035378,   0.0028436,   0.0026461,   0.0024385,   0.0021586,   0.0019294,\n",
       "           0.001792,   0.0016547,   0.0015174,   0.0014688,    0.001449,   0.0014292,   0.0014094,   0.0013896,   0.0013698,     0.00135,   0.0013303,   0.0013105,   0.0012907,   0.0012709,   0.0012511,   0.0012313,   0.0012115,   0.0011918,    0.001172,   0.0011522,   0.0011324,   0.0011126,   0.0010928,\n",
       "          0.0010731,   0.0010533,   0.0010335,   0.0010137,  0.00099391,  0.00097403,  0.00095413,  0.00093422,  0.00091432,  0.00089441,  0.00087451,   0.0008546,   0.0008347,  0.00081479,  0.00079488,  0.00077498,  0.00075507,  0.00073517,  0.00071526,  0.00069536,  0.00067545,  0.00065555,  0.00063564,\n",
       "         0.00061573,  0.00059583,  0.00057592,  0.00055602,  0.00053611,  0.00051621,   0.0004963,           0,           0,           0,           0,           0,           0,           0,           0,           0,           0,           0,           0,           0,           0,           0,           0,\n",
       "                  0,           0,           0,           0,           0,           0,           0,           0,           0,           0,           0,           0,           0,           0,           0,           0,           0,           0,           0,           0,           0,           0,           0,\n",
       "                  0,           0,           0,           0,           0,           0,           0,           0,           0,           0,           0,           0,           0,           0,           0,           0,           0,           0,           0,           0,           0,           0,           0,\n",
       "                  0,           0,           0,           0,           0,           0,           0,           0,           0,           0,           0]]), 'Confidence', 'Recall']]\n",
       "fitness: 0.3660970255197926\n",
       "keys: ['metrics/precision(B)', 'metrics/recall(B)', 'metrics/mAP50(B)', 'metrics/mAP50-95(B)']\n",
       "maps: array([    0.32601])\n",
       "names: {0: 'Trash'}\n",
       "plot: True\n",
       "results_dict: {'metrics/precision(B)': 0.8050172943455106, 'metrics/recall(B)': 0.6607319485657764, 'metrics/mAP50(B)': 0.7269019711134443, 'metrics/mAP50-95(B)': 0.32600758712049793, 'fitness': 0.3660970255197926}\n",
       "save_dir: WindowsPath('runs/detect/yolo12-simam2')\n",
       "speed: {'preprocess': 0.18601450000119257, 'inference': 10.119472999996333, 'loss': 0.0010773749988857162, 'postprocess': 1.3247464999926706}\n",
       "task: 'detect'"
      ]
     },
     "execution_count": 4,
     "metadata": {},
     "output_type": "execute_result"
    }
   ],
   "source": [
    "model.val(data=test_data_path)"
   ]
  }
 ],
 "metadata": {
  "kernelspec": {
   "display_name": "pytorch",
   "language": "python",
   "name": "python3"
  },
  "language_info": {
   "codemirror_mode": {
    "name": "ipython",
    "version": 3
   },
   "file_extension": ".py",
   "mimetype": "text/x-python",
   "name": "python",
   "nbconvert_exporter": "python",
   "pygments_lexer": "ipython3",
   "version": "3.9.21"
  }
 },
 "nbformat": 4,
 "nbformat_minor": 2
}
