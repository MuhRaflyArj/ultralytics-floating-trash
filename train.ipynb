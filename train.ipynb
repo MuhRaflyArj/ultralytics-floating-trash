{
 "cells": [
  {
   "cell_type": "code",
   "execution_count": 1,
   "metadata": {},
   "outputs": [],
   "source": [
    "from ultralytics import YOLO\n",
    "import os"
   ]
  },
  {
   "cell_type": "code",
   "execution_count": 2,
   "metadata": {},
   "outputs": [],
   "source": [
    "data_path = os.path.join(os.getcwd(), 'datasets', 'AblationDataset', 'flow', 'flow.yaml')\n",
    "test_data_path = os.path.join(os.getcwd(), 'datasets', 'TestDataset', 'flowtest', 'flowtest.yaml')"
   ]
  },
  {
   "cell_type": "code",
   "execution_count": 3,
   "metadata": {},
   "outputs": [
    {
     "name": "stdout",
     "output_type": "stream",
     "text": [
      "New https://pypi.org/project/ultralytics/8.3.102 available  Update with 'pip install -U ultralytics'\n",
      "Ultralytics 8.3.96  Python-3.9.21 torch-2.6.0+cu118 CUDA:0 (NVIDIA GeForce GTX 1060 6GB, 6144MiB)\n",
      "\u001b[34m\u001b[1mengine\\trainer: \u001b[0mtask=detect, mode=train, model=yolo12n.yaml, data=c:\\Users\\MUHAMMADRAFLYARJASUB\\Documents\\BojongTrash\\ultralytics-floating-trash\\datasets\\AblationDataset\\flow\\flow.yaml, epochs=50, time=None, patience=100, batch=12, imgsz=640, save=True, save_period=-1, cache=False, device=None, workers=8, project=None, name=yolo12-nano, exist_ok=False, pretrained=True, optimizer=auto, verbose=True, seed=0, deterministic=True, single_cls=False, rect=False, cos_lr=False, close_mosaic=10, resume=False, amp=True, fraction=1.0, profile=False, freeze=None, multi_scale=False, overlap_mask=True, mask_ratio=4, dropout=0.0, val=True, split=val, save_json=False, save_hybrid=False, conf=None, iou=0.7, max_det=300, half=False, dnn=False, plots=True, source=None, vid_stride=1, stream_buffer=False, visualize=False, augment=False, agnostic_nms=False, classes=None, retina_masks=False, embed=None, show=False, save_frames=False, save_txt=False, save_conf=False, save_crop=False, show_labels=True, show_conf=True, show_boxes=True, line_width=None, format=torchscript, keras=False, optimize=False, int8=False, dynamic=False, simplify=True, opset=None, workspace=None, nms=False, lr0=0.01, lrf=0.01, momentum=0.937, weight_decay=0.0005, warmup_epochs=3.0, warmup_momentum=0.8, warmup_bias_lr=0.1, box=7.5, cls=0.5, dfl=1.5, pose=12.0, kobj=1.0, nbs=64, hsv_h=0.015, hsv_s=0.7, hsv_v=0.4, degrees=0.0, translate=0.1, scale=0.5, shear=0.0, perspective=0.0, flipud=0.0, fliplr=0.5, bgr=0.0, mosaic=1.0, mixup=0.0, copy_paste=0.0, copy_paste_mode=flip, auto_augment=randaugment, erasing=0.4, crop_fraction=1.0, cfg=None, tracker=botsort.yaml, save_dir=runs\\detect\\yolo12-nano\n",
      "Overriding model.yaml nc=80 with nc=1\n",
      "\n",
      "                   from  n    params  module                                       arguments                     \n",
      "  0                  -1  1       464  ultralytics.nn.modules.conv.Conv             [3, 16, 3, 2]                 \n",
      "  1                  -1  1      4672  ultralytics.nn.modules.conv.Conv             [16, 32, 3, 2]                \n",
      "  2                  -1  1      6640  ultralytics.nn.modules.block.C3k2            [32, 64, 1, False, 0.25]      \n",
      "  3                  -1  1     36992  ultralytics.nn.modules.conv.Conv             [64, 64, 3, 2]                \n",
      "  4                  -1  1     26080  ultralytics.nn.modules.block.C3k2            [64, 128, 1, False, 0.25]     \n",
      "  5                  -1  1    147712  ultralytics.nn.modules.conv.Conv             [128, 128, 3, 2]              \n",
      "  6                  -1  2    180864  ultralytics.nn.modules.block.A2C2f           [128, 128, 2, True, 4]        \n",
      "  7                  -1  1    295424  ultralytics.nn.modules.conv.Conv             [128, 256, 3, 2]              \n",
      "  8                  -1  2    689408  ultralytics.nn.modules.block.A2C2f           [256, 256, 2, True, 1]        \n",
      "  9                  -1  1         0  torch.nn.modules.upsampling.Upsample         [None, 2, 'nearest']          \n",
      " 10             [-1, 6]  1         0  ultralytics.nn.modules.conv.Concat           [1]                           \n",
      " 11                  -1  1     86912  ultralytics.nn.modules.block.A2C2f           [384, 128, 1, False, -1]      \n",
      " 12                  -1  1         0  torch.nn.modules.upsampling.Upsample         [None, 2, 'nearest']          \n",
      " 13             [-1, 4]  1         0  ultralytics.nn.modules.conv.Concat           [1]                           \n",
      " 14                  -1  1     24000  ultralytics.nn.modules.block.A2C2f           [256, 64, 1, False, -1]       \n",
      " 15                  -1  1     36992  ultralytics.nn.modules.conv.Conv             [64, 64, 3, 2]                \n",
      " 16            [-1, 11]  1         0  ultralytics.nn.modules.conv.Concat           [1]                           \n",
      " 17                  -1  1     74624  ultralytics.nn.modules.block.A2C2f           [192, 128, 1, False, -1]      \n",
      " 18                  -1  1    147712  ultralytics.nn.modules.conv.Conv             [128, 128, 3, 2]              \n",
      " 19             [-1, 8]  1         0  ultralytics.nn.modules.conv.Concat           [1]                           \n",
      " 20                  -1  1    378880  ultralytics.nn.modules.block.C3k2            [384, 256, 1, True]           \n",
      " 21        [14, 17, 20]  1    430867  ultralytics.nn.modules.head.Detect           [1, [64, 128, 256]]           \n",
      "YOLO12n summary: 272 layers, 2,568,243 parameters, 2,568,227 gradients, 6.5 GFLOPs\n",
      "\n",
      "Freezing layer 'model.21.dfl.conv.weight'\n",
      "\u001b[34m\u001b[1mAMP: \u001b[0mrunning Automatic Mixed Precision (AMP) checks...\n",
      "\u001b[34m\u001b[1mAMP: \u001b[0mchecks passed \n"
     ]
    },
    {
     "name": "stderr",
     "output_type": "stream",
     "text": [
      "\u001b[34m\u001b[1mtrain: \u001b[0mScanning C:\\Users\\MUHAMMADRAFLYARJASUB\\Documents\\BojongTrash\\ultralytics-floating-trash\\datasets\\AblationDataset\\flow\\train\\labels.cache... 961 images, 0 backgrounds, 0 corrupt: 100%|██████████| 961/961 [00:00<?, ?it/s]\n",
      "\u001b[34m\u001b[1mval: \u001b[0mScanning C:\\Users\\MUHAMMADRAFLYARJASUB\\Documents\\BojongTrash\\ultralytics-floating-trash\\datasets\\AblationDataset\\flow\\valid\\labels.cache... 239 images, 1 backgrounds, 0 corrupt: 100%|██████████| 239/239 [00:00<?, ?it/s]\n"
     ]
    },
    {
     "name": "stdout",
     "output_type": "stream",
     "text": [
      "Plotting labels to runs\\detect\\yolo12-nano\\labels.jpg... \n",
      "\u001b[34m\u001b[1moptimizer:\u001b[0m 'optimizer=auto' found, ignoring 'lr0=0.01' and 'momentum=0.937' and determining best 'optimizer', 'lr0' and 'momentum' automatically... \n",
      "\u001b[34m\u001b[1moptimizer:\u001b[0m AdamW(lr=0.002, momentum=0.9) with parameter groups 113 weight(decay=0.0), 120 weight(decay=0.00046875), 119 bias(decay=0.0)\n",
      "Image sizes 640 train, 640 val\n",
      "Using 8 dataloader workers\n",
      "Logging results to \u001b[1mruns\\detect\\yolo12-nano\u001b[0m\n",
      "Starting training for 50 epochs...\n",
      "\n",
      "      Epoch    GPU_mem   box_loss   cls_loss   dfl_loss  Instances       Size\n"
     ]
    },
    {
     "name": "stderr",
     "output_type": "stream",
     "text": [
      "       1/50      2.46G      5.373      20.82      3.998          1        640: 100%|██████████| 81/81 [00:45<00:00,  1.78it/s]\n",
      "                 Class     Images  Instances      Box(P          R      mAP50  mAP50-95): 100%|██████████| 10/10 [00:02<00:00,  3.60it/s]"
     ]
    },
    {
     "name": "stdout",
     "output_type": "stream",
     "text": [
      "                   all        239        628   2.01e-05    0.00159   1.04e-05   3.13e-06\n"
     ]
    },
    {
     "name": "stderr",
     "output_type": "stream",
     "text": [
      "\n"
     ]
    },
    {
     "name": "stdout",
     "output_type": "stream",
     "text": [
      "\n",
      "      Epoch    GPU_mem   box_loss   cls_loss   dfl_loss  Instances       Size\n"
     ]
    },
    {
     "name": "stderr",
     "output_type": "stream",
     "text": [
      "       2/50      2.48G      3.866      6.259        2.7          8        640: 100%|██████████| 81/81 [00:42<00:00,  1.90it/s]\n",
      "                 Class     Images  Instances      Box(P          R      mAP50  mAP50-95): 100%|██████████| 10/10 [00:02<00:00,  3.54it/s]"
     ]
    },
    {
     "name": "stdout",
     "output_type": "stream",
     "text": [
      "                   all        239        628    0.00374     0.0732    0.00163   0.000511\n"
     ]
    },
    {
     "name": "stderr",
     "output_type": "stream",
     "text": [
      "\n"
     ]
    },
    {
     "name": "stdout",
     "output_type": "stream",
     "text": [
      "\n",
      "      Epoch    GPU_mem   box_loss   cls_loss   dfl_loss  Instances       Size\n"
     ]
    },
    {
     "name": "stderr",
     "output_type": "stream",
     "text": [
      "       3/50       2.5G      3.098      3.243      1.858          3        640: 100%|██████████| 81/81 [00:42<00:00,  1.91it/s]\n",
      "                 Class     Images  Instances      Box(P          R      mAP50  mAP50-95): 100%|██████████| 10/10 [00:02<00:00,  3.37it/s]"
     ]
    },
    {
     "name": "stdout",
     "output_type": "stream",
     "text": [
      "                   all        239        628   0.000516     0.0589   0.000275   9.14e-05\n"
     ]
    },
    {
     "name": "stderr",
     "output_type": "stream",
     "text": [
      "\n"
     ]
    },
    {
     "name": "stdout",
     "output_type": "stream",
     "text": [
      "\n",
      "      Epoch    GPU_mem   box_loss   cls_loss   dfl_loss  Instances       Size\n"
     ]
    },
    {
     "name": "stderr",
     "output_type": "stream",
     "text": [
      "       4/50       2.5G      2.806      2.497      1.633          6        640: 100%|██████████| 81/81 [00:41<00:00,  1.93it/s]\n",
      "                 Class     Images  Instances      Box(P          R      mAP50  mAP50-95): 100%|██████████| 10/10 [00:02<00:00,  3.69it/s]"
     ]
    },
    {
     "name": "stdout",
     "output_type": "stream",
     "text": [
      "                   all        239        628      0.484      0.248      0.226     0.0727\n"
     ]
    },
    {
     "name": "stderr",
     "output_type": "stream",
     "text": [
      "\n"
     ]
    },
    {
     "name": "stdout",
     "output_type": "stream",
     "text": [
      "\n",
      "      Epoch    GPU_mem   box_loss   cls_loss   dfl_loss  Instances       Size\n"
     ]
    },
    {
     "name": "stderr",
     "output_type": "stream",
     "text": [
      "       5/50       2.5G      2.644      2.217       1.52          2        640: 100%|██████████| 81/81 [00:42<00:00,  1.92it/s]\n",
      "                 Class     Images  Instances      Box(P          R      mAP50  mAP50-95): 100%|██████████| 10/10 [00:02<00:00,  3.63it/s]"
     ]
    },
    {
     "name": "stdout",
     "output_type": "stream",
     "text": [
      "                   all        239        628      0.504      0.315      0.319      0.108\n"
     ]
    },
    {
     "name": "stderr",
     "output_type": "stream",
     "text": [
      "\n"
     ]
    },
    {
     "name": "stdout",
     "output_type": "stream",
     "text": [
      "\n",
      "      Epoch    GPU_mem   box_loss   cls_loss   dfl_loss  Instances       Size\n"
     ]
    },
    {
     "name": "stderr",
     "output_type": "stream",
     "text": [
      "       6/50       2.5G       2.55      2.031      1.477          4        640: 100%|██████████| 81/81 [00:41<00:00,  1.93it/s]\n",
      "                 Class     Images  Instances      Box(P          R      mAP50  mAP50-95): 100%|██████████| 10/10 [00:02<00:00,  3.57it/s]"
     ]
    },
    {
     "name": "stdout",
     "output_type": "stream",
     "text": [
      "                   all        239        628      0.501      0.348      0.343      0.119\n"
     ]
    },
    {
     "name": "stderr",
     "output_type": "stream",
     "text": [
      "\n"
     ]
    },
    {
     "name": "stdout",
     "output_type": "stream",
     "text": [
      "\n",
      "      Epoch    GPU_mem   box_loss   cls_loss   dfl_loss  Instances       Size\n"
     ]
    },
    {
     "name": "stderr",
     "output_type": "stream",
     "text": [
      "       7/50      2.53G      2.524      1.934      1.468          8        640: 100%|██████████| 81/81 [00:41<00:00,  1.93it/s]\n",
      "                 Class     Images  Instances      Box(P          R      mAP50  mAP50-95): 100%|██████████| 10/10 [00:02<00:00,  3.56it/s]"
     ]
    },
    {
     "name": "stdout",
     "output_type": "stream",
     "text": [
      "                   all        239        628      0.553      0.412      0.427      0.147\n"
     ]
    },
    {
     "name": "stderr",
     "output_type": "stream",
     "text": [
      "\n"
     ]
    },
    {
     "name": "stdout",
     "output_type": "stream",
     "text": [
      "\n",
      "      Epoch    GPU_mem   box_loss   cls_loss   dfl_loss  Instances       Size\n"
     ]
    },
    {
     "name": "stderr",
     "output_type": "stream",
     "text": [
      "       8/50      2.53G      2.403      1.776      1.417          2        640: 100%|██████████| 81/81 [00:41<00:00,  1.93it/s]\n",
      "                 Class     Images  Instances      Box(P          R      mAP50  mAP50-95): 100%|██████████| 10/10 [00:02<00:00,  3.60it/s]"
     ]
    },
    {
     "name": "stdout",
     "output_type": "stream",
     "text": [
      "                   all        239        628      0.529      0.392      0.373      0.117\n"
     ]
    },
    {
     "name": "stderr",
     "output_type": "stream",
     "text": [
      "\n"
     ]
    },
    {
     "name": "stdout",
     "output_type": "stream",
     "text": [
      "\n",
      "      Epoch    GPU_mem   box_loss   cls_loss   dfl_loss  Instances       Size\n"
     ]
    },
    {
     "name": "stderr",
     "output_type": "stream",
     "text": [
      "       9/50      2.53G      2.355      1.778      1.371          1        640: 100%|██████████| 81/81 [00:42<00:00,  1.93it/s]\n",
      "                 Class     Images  Instances      Box(P          R      mAP50  mAP50-95): 100%|██████████| 10/10 [00:02<00:00,  3.41it/s]"
     ]
    },
    {
     "name": "stdout",
     "output_type": "stream",
     "text": [
      "                   all        239        628      0.524      0.368      0.363      0.132\n"
     ]
    },
    {
     "name": "stderr",
     "output_type": "stream",
     "text": [
      "\n"
     ]
    },
    {
     "name": "stdout",
     "output_type": "stream",
     "text": [
      "\n",
      "      Epoch    GPU_mem   box_loss   cls_loss   dfl_loss  Instances       Size\n"
     ]
    },
    {
     "name": "stderr",
     "output_type": "stream",
     "text": [
      "      10/50      2.53G        2.3      1.677      1.368         16        640: 100%|██████████| 81/81 [00:42<00:00,  1.93it/s]\n",
      "                 Class     Images  Instances      Box(P          R      mAP50  mAP50-95): 100%|██████████| 10/10 [00:02<00:00,  3.62it/s]"
     ]
    },
    {
     "name": "stdout",
     "output_type": "stream",
     "text": [
      "                   all        239        628      0.649      0.441      0.475      0.188\n"
     ]
    },
    {
     "name": "stderr",
     "output_type": "stream",
     "text": [
      "\n"
     ]
    },
    {
     "name": "stdout",
     "output_type": "stream",
     "text": [
      "\n",
      "      Epoch    GPU_mem   box_loss   cls_loss   dfl_loss  Instances       Size\n"
     ]
    },
    {
     "name": "stderr",
     "output_type": "stream",
     "text": [
      "      11/50      2.53G      2.232      1.568      1.294          8        640: 100%|██████████| 81/81 [00:41<00:00,  1.93it/s]\n",
      "                 Class     Images  Instances      Box(P          R      mAP50  mAP50-95): 100%|██████████| 10/10 [00:02<00:00,  3.64it/s]"
     ]
    },
    {
     "name": "stdout",
     "output_type": "stream",
     "text": [
      "                   all        239        628       0.68      0.492      0.528      0.202\n"
     ]
    },
    {
     "name": "stderr",
     "output_type": "stream",
     "text": [
      "\n"
     ]
    },
    {
     "name": "stdout",
     "output_type": "stream",
     "text": [
      "\n",
      "      Epoch    GPU_mem   box_loss   cls_loss   dfl_loss  Instances       Size\n"
     ]
    },
    {
     "name": "stderr",
     "output_type": "stream",
     "text": [
      "      12/50      2.53G       2.21      1.537      1.311          3        640: 100%|██████████| 81/81 [00:42<00:00,  1.91it/s]\n",
      "                 Class     Images  Instances      Box(P          R      mAP50  mAP50-95): 100%|██████████| 10/10 [00:02<00:00,  3.57it/s]"
     ]
    },
    {
     "name": "stdout",
     "output_type": "stream",
     "text": [
      "                   all        239        628      0.619      0.494      0.513      0.205\n"
     ]
    },
    {
     "name": "stderr",
     "output_type": "stream",
     "text": [
      "\n"
     ]
    },
    {
     "name": "stdout",
     "output_type": "stream",
     "text": [
      "\n",
      "      Epoch    GPU_mem   box_loss   cls_loss   dfl_loss  Instances       Size\n"
     ]
    },
    {
     "name": "stderr",
     "output_type": "stream",
     "text": [
      "      13/50      2.53G        2.2      1.519      1.298          2        640: 100%|██████████| 81/81 [00:41<00:00,  1.93it/s]\n",
      "                 Class     Images  Instances      Box(P          R      mAP50  mAP50-95): 100%|██████████| 10/10 [00:02<00:00,  3.57it/s]"
     ]
    },
    {
     "name": "stdout",
     "output_type": "stream",
     "text": [
      "                   all        239        628      0.723      0.516      0.566      0.216\n"
     ]
    },
    {
     "name": "stderr",
     "output_type": "stream",
     "text": [
      "\n"
     ]
    },
    {
     "name": "stdout",
     "output_type": "stream",
     "text": [
      "\n",
      "      Epoch    GPU_mem   box_loss   cls_loss   dfl_loss  Instances       Size\n"
     ]
    },
    {
     "name": "stderr",
     "output_type": "stream",
     "text": [
      "      14/50      2.53G      2.147      1.484      1.276          9        640: 100%|██████████| 81/81 [00:42<00:00,  1.92it/s]\n",
      "                 Class     Images  Instances      Box(P          R      mAP50  mAP50-95): 100%|██████████| 10/10 [00:02<00:00,  3.64it/s]"
     ]
    },
    {
     "name": "stdout",
     "output_type": "stream",
     "text": [
      "                   all        239        628       0.63      0.493      0.493      0.168\n"
     ]
    },
    {
     "name": "stderr",
     "output_type": "stream",
     "text": [
      "\n"
     ]
    },
    {
     "name": "stdout",
     "output_type": "stream",
     "text": [
      "\n",
      "      Epoch    GPU_mem   box_loss   cls_loss   dfl_loss  Instances       Size\n"
     ]
    },
    {
     "name": "stderr",
     "output_type": "stream",
     "text": [
      "      15/50      2.53G      2.112      1.438      1.267          6        640: 100%|██████████| 81/81 [00:42<00:00,  1.92it/s]\n",
      "                 Class     Images  Instances      Box(P          R      mAP50  mAP50-95): 100%|██████████| 10/10 [00:02<00:00,  3.64it/s]"
     ]
    },
    {
     "name": "stdout",
     "output_type": "stream",
     "text": [
      "                   all        239        628      0.667      0.532      0.572      0.217\n"
     ]
    },
    {
     "name": "stderr",
     "output_type": "stream",
     "text": [
      "\n"
     ]
    },
    {
     "name": "stdout",
     "output_type": "stream",
     "text": [
      "\n",
      "      Epoch    GPU_mem   box_loss   cls_loss   dfl_loss  Instances       Size\n"
     ]
    },
    {
     "name": "stderr",
     "output_type": "stream",
     "text": [
      "      16/50      2.53G      2.105       1.41      1.247         10        640: 100%|██████████| 81/81 [00:41<00:00,  1.93it/s]\n",
      "                 Class     Images  Instances      Box(P          R      mAP50  mAP50-95): 100%|██████████| 10/10 [00:02<00:00,  3.62it/s]"
     ]
    },
    {
     "name": "stdout",
     "output_type": "stream",
     "text": [
      "                   all        239        628      0.679       0.49      0.539      0.218\n"
     ]
    },
    {
     "name": "stderr",
     "output_type": "stream",
     "text": [
      "\n"
     ]
    },
    {
     "name": "stdout",
     "output_type": "stream",
     "text": [
      "\n",
      "      Epoch    GPU_mem   box_loss   cls_loss   dfl_loss  Instances       Size\n"
     ]
    },
    {
     "name": "stderr",
     "output_type": "stream",
     "text": [
      "      17/50      2.53G      2.076      1.385      1.236          9        640: 100%|██████████| 81/81 [00:42<00:00,  1.92it/s]\n",
      "                 Class     Images  Instances      Box(P          R      mAP50  mAP50-95): 100%|██████████| 10/10 [00:02<00:00,  3.68it/s]"
     ]
    },
    {
     "name": "stdout",
     "output_type": "stream",
     "text": [
      "                   all        239        628      0.749      0.535      0.614      0.257\n"
     ]
    },
    {
     "name": "stderr",
     "output_type": "stream",
     "text": [
      "\n"
     ]
    },
    {
     "name": "stdout",
     "output_type": "stream",
     "text": [
      "\n",
      "      Epoch    GPU_mem   box_loss   cls_loss   dfl_loss  Instances       Size\n"
     ]
    },
    {
     "name": "stderr",
     "output_type": "stream",
     "text": [
      "      18/50      2.53G      2.043      1.361      1.222         11        640: 100%|██████████| 81/81 [00:41<00:00,  1.93it/s]\n",
      "                 Class     Images  Instances      Box(P          R      mAP50  mAP50-95): 100%|██████████| 10/10 [00:02<00:00,  3.57it/s]"
     ]
    },
    {
     "name": "stdout",
     "output_type": "stream",
     "text": [
      "                   all        239        628      0.762      0.557      0.631      0.259\n"
     ]
    },
    {
     "name": "stderr",
     "output_type": "stream",
     "text": [
      "\n"
     ]
    },
    {
     "name": "stdout",
     "output_type": "stream",
     "text": [
      "\n",
      "      Epoch    GPU_mem   box_loss   cls_loss   dfl_loss  Instances       Size\n"
     ]
    },
    {
     "name": "stderr",
     "output_type": "stream",
     "text": [
      "      19/50      2.53G      2.074      1.376      1.245          5        640: 100%|██████████| 81/81 [00:41<00:00,  1.94it/s]\n",
      "                 Class     Images  Instances      Box(P          R      mAP50  mAP50-95): 100%|██████████| 10/10 [00:02<00:00,  3.55it/s]"
     ]
    },
    {
     "name": "stdout",
     "output_type": "stream",
     "text": [
      "                   all        239        628      0.723      0.499      0.518      0.196\n"
     ]
    },
    {
     "name": "stderr",
     "output_type": "stream",
     "text": [
      "\n"
     ]
    },
    {
     "name": "stdout",
     "output_type": "stream",
     "text": [
      "\n",
      "      Epoch    GPU_mem   box_loss   cls_loss   dfl_loss  Instances       Size\n"
     ]
    },
    {
     "name": "stderr",
     "output_type": "stream",
     "text": [
      "      20/50      2.53G      2.061      1.362      1.239          7        640: 100%|██████████| 81/81 [00:42<00:00,  1.93it/s]\n",
      "                 Class     Images  Instances      Box(P          R      mAP50  mAP50-95): 100%|██████████| 10/10 [00:02<00:00,  3.52it/s]"
     ]
    },
    {
     "name": "stdout",
     "output_type": "stream",
     "text": [
      "                   all        239        628      0.695      0.589      0.625      0.257\n"
     ]
    },
    {
     "name": "stderr",
     "output_type": "stream",
     "text": [
      "\n"
     ]
    },
    {
     "name": "stdout",
     "output_type": "stream",
     "text": [
      "\n",
      "      Epoch    GPU_mem   box_loss   cls_loss   dfl_loss  Instances       Size\n"
     ]
    },
    {
     "name": "stderr",
     "output_type": "stream",
     "text": [
      "      21/50      2.53G      2.023      1.285      1.212          9        640: 100%|██████████| 81/81 [00:41<00:00,  1.93it/s]\n",
      "                 Class     Images  Instances      Box(P          R      mAP50  mAP50-95): 100%|██████████| 10/10 [00:02<00:00,  3.64it/s]"
     ]
    },
    {
     "name": "stdout",
     "output_type": "stream",
     "text": [
      "                   all        239        628      0.758      0.594      0.653      0.264\n"
     ]
    },
    {
     "name": "stderr",
     "output_type": "stream",
     "text": [
      "\n"
     ]
    },
    {
     "name": "stdout",
     "output_type": "stream",
     "text": [
      "\n",
      "      Epoch    GPU_mem   box_loss   cls_loss   dfl_loss  Instances       Size\n"
     ]
    },
    {
     "name": "stderr",
     "output_type": "stream",
     "text": [
      "      22/50      2.53G      2.041      1.307      1.238          1        640: 100%|██████████| 81/81 [00:41<00:00,  1.93it/s]\n",
      "                 Class     Images  Instances      Box(P          R      mAP50  mAP50-95): 100%|██████████| 10/10 [00:02<00:00,  3.67it/s]"
     ]
    },
    {
     "name": "stdout",
     "output_type": "stream",
     "text": [
      "                   all        239        628      0.749       0.58      0.633       0.26\n"
     ]
    },
    {
     "name": "stderr",
     "output_type": "stream",
     "text": [
      "\n"
     ]
    },
    {
     "name": "stdout",
     "output_type": "stream",
     "text": [
      "\n",
      "      Epoch    GPU_mem   box_loss   cls_loss   dfl_loss  Instances       Size\n"
     ]
    },
    {
     "name": "stderr",
     "output_type": "stream",
     "text": [
      "      23/50      2.53G      1.969      1.273      1.217          2        640: 100%|██████████| 81/81 [00:42<00:00,  1.92it/s]\n",
      "                 Class     Images  Instances      Box(P          R      mAP50  mAP50-95): 100%|██████████| 10/10 [00:02<00:00,  3.58it/s]"
     ]
    },
    {
     "name": "stdout",
     "output_type": "stream",
     "text": [
      "                   all        239        628      0.741      0.592      0.648      0.263\n"
     ]
    },
    {
     "name": "stderr",
     "output_type": "stream",
     "text": [
      "\n"
     ]
    },
    {
     "name": "stdout",
     "output_type": "stream",
     "text": [
      "\n",
      "      Epoch    GPU_mem   box_loss   cls_loss   dfl_loss  Instances       Size\n"
     ]
    },
    {
     "name": "stderr",
     "output_type": "stream",
     "text": [
      "      24/50      2.53G       1.97      1.251      1.216          8        640: 100%|██████████| 81/81 [00:42<00:00,  1.93it/s]\n",
      "                 Class     Images  Instances      Box(P          R      mAP50  mAP50-95): 100%|██████████| 10/10 [00:02<00:00,  3.62it/s]"
     ]
    },
    {
     "name": "stdout",
     "output_type": "stream",
     "text": [
      "                   all        239        628      0.763       0.57      0.647      0.272\n"
     ]
    },
    {
     "name": "stderr",
     "output_type": "stream",
     "text": [
      "\n"
     ]
    },
    {
     "name": "stdout",
     "output_type": "stream",
     "text": [
      "\n",
      "      Epoch    GPU_mem   box_loss   cls_loss   dfl_loss  Instances       Size\n"
     ]
    },
    {
     "name": "stderr",
     "output_type": "stream",
     "text": [
      "      25/50      2.53G      1.922      1.229      1.175          5        640: 100%|██████████| 81/81 [00:41<00:00,  1.93it/s]\n",
      "                 Class     Images  Instances      Box(P          R      mAP50  mAP50-95): 100%|██████████| 10/10 [00:02<00:00,  3.62it/s]"
     ]
    },
    {
     "name": "stdout",
     "output_type": "stream",
     "text": [
      "                   all        239        628      0.784      0.596      0.669      0.282\n"
     ]
    },
    {
     "name": "stderr",
     "output_type": "stream",
     "text": [
      "\n"
     ]
    },
    {
     "name": "stdout",
     "output_type": "stream",
     "text": [
      "\n",
      "      Epoch    GPU_mem   box_loss   cls_loss   dfl_loss  Instances       Size\n"
     ]
    },
    {
     "name": "stderr",
     "output_type": "stream",
     "text": [
      "      26/50      2.53G      1.944       1.19      1.199          1        640: 100%|██████████| 81/81 [00:41<00:00,  1.93it/s]\n",
      "                 Class     Images  Instances      Box(P          R      mAP50  mAP50-95): 100%|██████████| 10/10 [00:02<00:00,  3.49it/s]"
     ]
    },
    {
     "name": "stdout",
     "output_type": "stream",
     "text": [
      "                   all        239        628      0.777      0.533      0.612      0.268\n"
     ]
    },
    {
     "name": "stderr",
     "output_type": "stream",
     "text": [
      "\n"
     ]
    },
    {
     "name": "stdout",
     "output_type": "stream",
     "text": [
      "\n",
      "      Epoch    GPU_mem   box_loss   cls_loss   dfl_loss  Instances       Size\n"
     ]
    },
    {
     "name": "stderr",
     "output_type": "stream",
     "text": [
      "      27/50      2.53G      1.941      1.233      1.175          3        640: 100%|██████████| 81/81 [00:42<00:00,  1.92it/s]\n",
      "                 Class     Images  Instances      Box(P          R      mAP50  mAP50-95): 100%|██████████| 10/10 [00:02<00:00,  3.58it/s]"
     ]
    },
    {
     "name": "stdout",
     "output_type": "stream",
     "text": [
      "                   all        239        628      0.767      0.624      0.699      0.296\n"
     ]
    },
    {
     "name": "stderr",
     "output_type": "stream",
     "text": [
      "\n"
     ]
    },
    {
     "name": "stdout",
     "output_type": "stream",
     "text": [
      "\n",
      "      Epoch    GPU_mem   box_loss   cls_loss   dfl_loss  Instances       Size\n"
     ]
    },
    {
     "name": "stderr",
     "output_type": "stream",
     "text": [
      "      28/50      2.53G      1.879      1.176      1.163          6        640: 100%|██████████| 81/81 [00:41<00:00,  1.94it/s]\n",
      "                 Class     Images  Instances      Box(P          R      mAP50  mAP50-95): 100%|██████████| 10/10 [00:02<00:00,  3.67it/s]"
     ]
    },
    {
     "name": "stdout",
     "output_type": "stream",
     "text": [
      "                   all        239        628      0.807      0.629      0.704      0.302\n"
     ]
    },
    {
     "name": "stderr",
     "output_type": "stream",
     "text": [
      "\n"
     ]
    },
    {
     "name": "stdout",
     "output_type": "stream",
     "text": [
      "\n",
      "      Epoch    GPU_mem   box_loss   cls_loss   dfl_loss  Instances       Size\n"
     ]
    },
    {
     "name": "stderr",
     "output_type": "stream",
     "text": [
      "      29/50      2.53G      1.976      1.197      1.209          6        640: 100%|██████████| 81/81 [00:42<00:00,  1.93it/s]\n",
      "                 Class     Images  Instances      Box(P          R      mAP50  mAP50-95): 100%|██████████| 10/10 [00:02<00:00,  3.58it/s]"
     ]
    },
    {
     "name": "stdout",
     "output_type": "stream",
     "text": [
      "                   all        239        628      0.739      0.602      0.655      0.275\n"
     ]
    },
    {
     "name": "stderr",
     "output_type": "stream",
     "text": [
      "\n"
     ]
    },
    {
     "name": "stdout",
     "output_type": "stream",
     "text": [
      "\n",
      "      Epoch    GPU_mem   box_loss   cls_loss   dfl_loss  Instances       Size\n"
     ]
    },
    {
     "name": "stderr",
     "output_type": "stream",
     "text": [
      "      30/50      2.53G       1.92      1.166      1.195          2        640: 100%|██████████| 81/81 [00:42<00:00,  1.92it/s]\n",
      "                 Class     Images  Instances      Box(P          R      mAP50  mAP50-95): 100%|██████████| 10/10 [00:02<00:00,  3.57it/s]"
     ]
    },
    {
     "name": "stdout",
     "output_type": "stream",
     "text": [
      "                   all        239        628      0.798      0.621      0.674      0.286\n"
     ]
    },
    {
     "name": "stderr",
     "output_type": "stream",
     "text": [
      "\n"
     ]
    },
    {
     "name": "stdout",
     "output_type": "stream",
     "text": [
      "\n",
      "      Epoch    GPU_mem   box_loss   cls_loss   dfl_loss  Instances       Size\n"
     ]
    },
    {
     "name": "stderr",
     "output_type": "stream",
     "text": [
      "      31/50      2.53G      1.904      1.189      1.192          1        640: 100%|██████████| 81/81 [00:42<00:00,  1.93it/s]\n",
      "                 Class     Images  Instances      Box(P          R      mAP50  mAP50-95): 100%|██████████| 10/10 [00:02<00:00,  3.67it/s]"
     ]
    },
    {
     "name": "stdout",
     "output_type": "stream",
     "text": [
      "                   all        239        628      0.764      0.616      0.676      0.295\n"
     ]
    },
    {
     "name": "stderr",
     "output_type": "stream",
     "text": [
      "\n"
     ]
    },
    {
     "name": "stdout",
     "output_type": "stream",
     "text": [
      "\n",
      "      Epoch    GPU_mem   box_loss   cls_loss   dfl_loss  Instances       Size\n"
     ]
    },
    {
     "name": "stderr",
     "output_type": "stream",
     "text": [
      "      32/50      2.53G       1.89      1.176      1.185         11        640: 100%|██████████| 81/81 [00:41<00:00,  1.93it/s]\n",
      "                 Class     Images  Instances      Box(P          R      mAP50  mAP50-95): 100%|██████████| 10/10 [00:02<00:00,  3.54it/s]"
     ]
    },
    {
     "name": "stdout",
     "output_type": "stream",
     "text": [
      "                   all        239        628      0.723      0.668      0.706      0.305\n"
     ]
    },
    {
     "name": "stderr",
     "output_type": "stream",
     "text": [
      "\n"
     ]
    },
    {
     "name": "stdout",
     "output_type": "stream",
     "text": [
      "\n",
      "      Epoch    GPU_mem   box_loss   cls_loss   dfl_loss  Instances       Size\n"
     ]
    },
    {
     "name": "stderr",
     "output_type": "stream",
     "text": [
      "      33/50      2.53G      1.869      1.156       1.17          1        640: 100%|██████████| 81/81 [00:41<00:00,  1.93it/s]\n",
      "                 Class     Images  Instances      Box(P          R      mAP50  mAP50-95): 100%|██████████| 10/10 [00:02<00:00,  3.64it/s]"
     ]
    },
    {
     "name": "stdout",
     "output_type": "stream",
     "text": [
      "                   all        239        628      0.746      0.613      0.682      0.284\n"
     ]
    },
    {
     "name": "stderr",
     "output_type": "stream",
     "text": [
      "\n"
     ]
    },
    {
     "name": "stdout",
     "output_type": "stream",
     "text": [
      "\n",
      "      Epoch    GPU_mem   box_loss   cls_loss   dfl_loss  Instances       Size\n"
     ]
    },
    {
     "name": "stderr",
     "output_type": "stream",
     "text": [
      "      34/50      2.53G      1.867       1.14      1.174         11        640: 100%|██████████| 81/81 [00:41<00:00,  1.93it/s]\n",
      "                 Class     Images  Instances      Box(P          R      mAP50  mAP50-95): 100%|██████████| 10/10 [00:02<00:00,  3.59it/s]"
     ]
    },
    {
     "name": "stdout",
     "output_type": "stream",
     "text": [
      "                   all        239        628      0.792      0.625      0.698      0.315\n"
     ]
    },
    {
     "name": "stderr",
     "output_type": "stream",
     "text": [
      "\n"
     ]
    },
    {
     "name": "stdout",
     "output_type": "stream",
     "text": [
      "\n",
      "      Epoch    GPU_mem   box_loss   cls_loss   dfl_loss  Instances       Size\n"
     ]
    },
    {
     "name": "stderr",
     "output_type": "stream",
     "text": [
      "      35/50      2.53G      1.869      1.124      1.158          1        640: 100%|██████████| 81/81 [00:41<00:00,  1.93it/s]\n",
      "                 Class     Images  Instances      Box(P          R      mAP50  mAP50-95): 100%|██████████| 10/10 [00:02<00:00,  3.60it/s]"
     ]
    },
    {
     "name": "stdout",
     "output_type": "stream",
     "text": [
      "                   all        239        628      0.757      0.651      0.685      0.292\n"
     ]
    },
    {
     "name": "stderr",
     "output_type": "stream",
     "text": [
      "\n"
     ]
    },
    {
     "name": "stdout",
     "output_type": "stream",
     "text": [
      "\n",
      "      Epoch    GPU_mem   box_loss   cls_loss   dfl_loss  Instances       Size\n"
     ]
    },
    {
     "name": "stderr",
     "output_type": "stream",
     "text": [
      "      36/50      2.53G      1.844       1.12      1.144          8        640: 100%|██████████| 81/81 [00:42<00:00,  1.93it/s]\n",
      "                 Class     Images  Instances      Box(P          R      mAP50  mAP50-95): 100%|██████████| 10/10 [00:02<00:00,  3.62it/s]"
     ]
    },
    {
     "name": "stdout",
     "output_type": "stream",
     "text": [
      "                   all        239        628      0.783      0.642      0.697      0.295\n"
     ]
    },
    {
     "name": "stderr",
     "output_type": "stream",
     "text": [
      "\n"
     ]
    },
    {
     "name": "stdout",
     "output_type": "stream",
     "text": [
      "\n",
      "      Epoch    GPU_mem   box_loss   cls_loss   dfl_loss  Instances       Size\n"
     ]
    },
    {
     "name": "stderr",
     "output_type": "stream",
     "text": [
      "      37/50      2.53G      1.853      1.095      1.163          5        640: 100%|██████████| 81/81 [00:42<00:00,  1.93it/s]\n",
      "                 Class     Images  Instances      Box(P          R      mAP50  mAP50-95): 100%|██████████| 10/10 [00:02<00:00,  3.66it/s]"
     ]
    },
    {
     "name": "stdout",
     "output_type": "stream",
     "text": [
      "                   all        239        628      0.802      0.674      0.733      0.328\n"
     ]
    },
    {
     "name": "stderr",
     "output_type": "stream",
     "text": [
      "\n"
     ]
    },
    {
     "name": "stdout",
     "output_type": "stream",
     "text": [
      "\n",
      "      Epoch    GPU_mem   box_loss   cls_loss   dfl_loss  Instances       Size\n"
     ]
    },
    {
     "name": "stderr",
     "output_type": "stream",
     "text": [
      "      38/50      2.53G      1.828       1.11       1.15          2        640: 100%|██████████| 81/81 [00:41<00:00,  1.93it/s]\n",
      "                 Class     Images  Instances      Box(P          R      mAP50  mAP50-95): 100%|██████████| 10/10 [00:02<00:00,  3.69it/s]"
     ]
    },
    {
     "name": "stdout",
     "output_type": "stream",
     "text": [
      "                   all        239        628      0.803      0.664      0.722       0.33\n"
     ]
    },
    {
     "name": "stderr",
     "output_type": "stream",
     "text": [
      "\n"
     ]
    },
    {
     "name": "stdout",
     "output_type": "stream",
     "text": [
      "\n",
      "      Epoch    GPU_mem   box_loss   cls_loss   dfl_loss  Instances       Size\n"
     ]
    },
    {
     "name": "stderr",
     "output_type": "stream",
     "text": [
      "      39/50      2.53G      1.808      1.075      1.146          7        640: 100%|██████████| 81/81 [00:42<00:00,  1.92it/s]\n",
      "                 Class     Images  Instances      Box(P          R      mAP50  mAP50-95): 100%|██████████| 10/10 [00:02<00:00,  3.61it/s]"
     ]
    },
    {
     "name": "stdout",
     "output_type": "stream",
     "text": [
      "                   all        239        628       0.82       0.65      0.721      0.326\n"
     ]
    },
    {
     "name": "stderr",
     "output_type": "stream",
     "text": [
      "\n"
     ]
    },
    {
     "name": "stdout",
     "output_type": "stream",
     "text": [
      "\n",
      "      Epoch    GPU_mem   box_loss   cls_loss   dfl_loss  Instances       Size\n"
     ]
    },
    {
     "name": "stderr",
     "output_type": "stream",
     "text": [
      "      40/50      2.53G      1.827      1.093      1.158          2        640: 100%|██████████| 81/81 [00:42<00:00,  1.93it/s]\n",
      "                 Class     Images  Instances      Box(P          R      mAP50  mAP50-95): 100%|██████████| 10/10 [00:02<00:00,  3.56it/s]"
     ]
    },
    {
     "name": "stdout",
     "output_type": "stream",
     "text": [
      "                   all        239        628      0.788      0.664      0.739      0.333\n"
     ]
    },
    {
     "name": "stderr",
     "output_type": "stream",
     "text": [
      "\n"
     ]
    },
    {
     "name": "stdout",
     "output_type": "stream",
     "text": [
      "Closing dataloader mosaic\n",
      "\n",
      "      Epoch    GPU_mem   box_loss   cls_loss   dfl_loss  Instances       Size\n"
     ]
    },
    {
     "name": "stderr",
     "output_type": "stream",
     "text": [
      "      41/50      2.53G       1.79      1.082      1.154          2        640: 100%|██████████| 81/81 [00:42<00:00,  1.92it/s]\n",
      "                 Class     Images  Instances      Box(P          R      mAP50  mAP50-95): 100%|██████████| 10/10 [00:02<00:00,  3.50it/s]"
     ]
    },
    {
     "name": "stdout",
     "output_type": "stream",
     "text": [
      "                   all        239        628      0.817      0.674      0.729      0.326\n"
     ]
    },
    {
     "name": "stderr",
     "output_type": "stream",
     "text": [
      "\n"
     ]
    },
    {
     "name": "stdout",
     "output_type": "stream",
     "text": [
      "\n",
      "      Epoch    GPU_mem   box_loss   cls_loss   dfl_loss  Instances       Size\n"
     ]
    },
    {
     "name": "stderr",
     "output_type": "stream",
     "text": [
      "      42/50      2.53G      1.791      1.042      1.153          4        640: 100%|██████████| 81/81 [00:41<00:00,  1.93it/s]\n",
      "                 Class     Images  Instances      Box(P          R      mAP50  mAP50-95): 100%|██████████| 10/10 [00:02<00:00,  3.59it/s]"
     ]
    },
    {
     "name": "stdout",
     "output_type": "stream",
     "text": [
      "                   all        239        628      0.828      0.666      0.745      0.339\n"
     ]
    },
    {
     "name": "stderr",
     "output_type": "stream",
     "text": [
      "\n"
     ]
    },
    {
     "name": "stdout",
     "output_type": "stream",
     "text": [
      "\n",
      "      Epoch    GPU_mem   box_loss   cls_loss   dfl_loss  Instances       Size\n"
     ]
    },
    {
     "name": "stderr",
     "output_type": "stream",
     "text": [
      "      43/50      2.53G      1.758      1.011      1.134          2        640: 100%|██████████| 81/81 [00:42<00:00,  1.93it/s]\n",
      "                 Class     Images  Instances      Box(P          R      mAP50  mAP50-95): 100%|██████████| 10/10 [00:02<00:00,  3.62it/s]"
     ]
    },
    {
     "name": "stdout",
     "output_type": "stream",
     "text": [
      "                   all        239        628      0.802      0.648      0.734      0.325\n"
     ]
    },
    {
     "name": "stderr",
     "output_type": "stream",
     "text": [
      "\n"
     ]
    },
    {
     "name": "stdout",
     "output_type": "stream",
     "text": [
      "\n",
      "      Epoch    GPU_mem   box_loss   cls_loss   dfl_loss  Instances       Size\n"
     ]
    },
    {
     "name": "stderr",
     "output_type": "stream",
     "text": [
      "      44/50      2.53G      1.754      1.016       1.14          6        640: 100%|██████████| 81/81 [00:42<00:00,  1.93it/s]\n",
      "                 Class     Images  Instances      Box(P          R      mAP50  mAP50-95): 100%|██████████| 10/10 [00:02<00:00,  3.54it/s]"
     ]
    },
    {
     "name": "stdout",
     "output_type": "stream",
     "text": [
      "                   all        239        628      0.833      0.651      0.736       0.34\n"
     ]
    },
    {
     "name": "stderr",
     "output_type": "stream",
     "text": [
      "\n"
     ]
    },
    {
     "name": "stdout",
     "output_type": "stream",
     "text": [
      "\n",
      "      Epoch    GPU_mem   box_loss   cls_loss   dfl_loss  Instances       Size\n"
     ]
    },
    {
     "name": "stderr",
     "output_type": "stream",
     "text": [
      "      45/50      2.53G      1.752      1.001      1.153          1        640: 100%|██████████| 81/81 [00:41<00:00,  1.93it/s]\n",
      "                 Class     Images  Instances      Box(P          R      mAP50  mAP50-95): 100%|██████████| 10/10 [00:02<00:00,  3.60it/s]"
     ]
    },
    {
     "name": "stdout",
     "output_type": "stream",
     "text": [
      "                   all        239        628      0.837       0.66      0.747      0.337\n"
     ]
    },
    {
     "name": "stderr",
     "output_type": "stream",
     "text": [
      "\n"
     ]
    },
    {
     "name": "stdout",
     "output_type": "stream",
     "text": [
      "\n",
      "      Epoch    GPU_mem   box_loss   cls_loss   dfl_loss  Instances       Size\n"
     ]
    },
    {
     "name": "stderr",
     "output_type": "stream",
     "text": [
      "      46/50      2.53G      1.719      1.001      1.141          3        640: 100%|██████████| 81/81 [00:41<00:00,  1.94it/s]\n",
      "                 Class     Images  Instances      Box(P          R      mAP50  mAP50-95): 100%|██████████| 10/10 [00:02<00:00,  3.46it/s]"
     ]
    },
    {
     "name": "stdout",
     "output_type": "stream",
     "text": [
      "                   all        239        628      0.842      0.664      0.748      0.335\n"
     ]
    },
    {
     "name": "stderr",
     "output_type": "stream",
     "text": [
      "\n"
     ]
    },
    {
     "name": "stdout",
     "output_type": "stream",
     "text": [
      "\n",
      "      Epoch    GPU_mem   box_loss   cls_loss   dfl_loss  Instances       Size\n"
     ]
    },
    {
     "name": "stderr",
     "output_type": "stream",
     "text": [
      "      47/50      2.53G       1.74     0.9976      1.118          5        640: 100%|██████████| 81/81 [00:42<00:00,  1.93it/s]\n",
      "                 Class     Images  Instances      Box(P          R      mAP50  mAP50-95): 100%|██████████| 10/10 [00:02<00:00,  3.63it/s]"
     ]
    },
    {
     "name": "stdout",
     "output_type": "stream",
     "text": [
      "                   all        239        628      0.838      0.677       0.76      0.352\n"
     ]
    },
    {
     "name": "stderr",
     "output_type": "stream",
     "text": [
      "\n"
     ]
    },
    {
     "name": "stdout",
     "output_type": "stream",
     "text": [
      "\n",
      "      Epoch    GPU_mem   box_loss   cls_loss   dfl_loss  Instances       Size\n"
     ]
    },
    {
     "name": "stderr",
     "output_type": "stream",
     "text": [
      "      48/50      2.53G      1.725     0.9713       1.13          1        640: 100%|██████████| 81/81 [00:41<00:00,  1.93it/s]\n",
      "                 Class     Images  Instances      Box(P          R      mAP50  mAP50-95): 100%|██████████| 10/10 [00:02<00:00,  3.61it/s]"
     ]
    },
    {
     "name": "stdout",
     "output_type": "stream",
     "text": [
      "                   all        239        628      0.824      0.677      0.751      0.346\n"
     ]
    },
    {
     "name": "stderr",
     "output_type": "stream",
     "text": [
      "\n"
     ]
    },
    {
     "name": "stdout",
     "output_type": "stream",
     "text": [
      "\n",
      "      Epoch    GPU_mem   box_loss   cls_loss   dfl_loss  Instances       Size\n"
     ]
    },
    {
     "name": "stderr",
     "output_type": "stream",
     "text": [
      "      49/50      2.53G      1.686     0.9828      1.125          1        640: 100%|██████████| 81/81 [00:42<00:00,  1.93it/s]\n",
      "                 Class     Images  Instances      Box(P          R      mAP50  mAP50-95): 100%|██████████| 10/10 [00:02<00:00,  3.67it/s]"
     ]
    },
    {
     "name": "stdout",
     "output_type": "stream",
     "text": [
      "                   all        239        628      0.831      0.678      0.756      0.352\n"
     ]
    },
    {
     "name": "stderr",
     "output_type": "stream",
     "text": [
      "\n"
     ]
    },
    {
     "name": "stdout",
     "output_type": "stream",
     "text": [
      "\n",
      "      Epoch    GPU_mem   box_loss   cls_loss   dfl_loss  Instances       Size\n"
     ]
    },
    {
     "name": "stderr",
     "output_type": "stream",
     "text": [
      "      50/50      2.53G      1.712     0.9791      1.133          5        640: 100%|██████████| 81/81 [00:41<00:00,  1.93it/s]\n",
      "                 Class     Images  Instances      Box(P          R      mAP50  mAP50-95): 100%|██████████| 10/10 [00:02<00:00,  3.58it/s]"
     ]
    },
    {
     "name": "stdout",
     "output_type": "stream",
     "text": [
      "                   all        239        628      0.818      0.678      0.759      0.354\n"
     ]
    },
    {
     "name": "stderr",
     "output_type": "stream",
     "text": [
      "\n"
     ]
    },
    {
     "name": "stdout",
     "output_type": "stream",
     "text": [
      "\n",
      "50 epochs completed in 0.646 hours.\n",
      "Optimizer stripped from runs\\detect\\yolo12-nano\\weights\\last.pt, 5.5MB\n",
      "Optimizer stripped from runs\\detect\\yolo12-nano\\weights\\best.pt, 5.5MB\n",
      "\n",
      "Validating runs\\detect\\yolo12-nano\\weights\\best.pt...\n",
      "Ultralytics 8.3.96  Python-3.9.21 torch-2.6.0+cu118 CUDA:0 (NVIDIA GeForce GTX 1060 6GB, 6144MiB)\n",
      "YOLO12n summary (fused): 159 layers, 2,556,923 parameters, 0 gradients, 6.3 GFLOPs\n"
     ]
    },
    {
     "name": "stderr",
     "output_type": "stream",
     "text": [
      "                 Class     Images  Instances      Box(P          R      mAP50  mAP50-95): 100%|██████████| 10/10 [00:03<00:00,  3.08it/s]\n"
     ]
    },
    {
     "name": "stdout",
     "output_type": "stream",
     "text": [
      "                   all        239        628       0.82      0.677      0.759      0.354\n",
      "Speed: 0.3ms preprocess, 4.1ms inference, 0.0ms loss, 2.6ms postprocess per image\n",
      "Results saved to \u001b[1mruns\\detect\\yolo12-nano\u001b[0m\n"
     ]
    },
    {
     "data": {
      "text/plain": [
       "ultralytics.utils.metrics.DetMetrics object with attributes:\n",
       "\n",
       "ap_class_index: array([0])\n",
       "box: ultralytics.utils.metrics.Metric object\n",
       "confusion_matrix: <ultralytics.utils.metrics.ConfusionMatrix object at 0x00000218A7CBE5B0>\n",
       "curves: ['Precision-Recall(B)', 'F1-Confidence(B)', 'Precision-Confidence(B)', 'Recall-Confidence(B)']\n",
       "curves_results: [[array([          0,    0.001001,    0.002002,    0.003003,    0.004004,    0.005005,    0.006006,    0.007007,    0.008008,    0.009009,     0.01001,    0.011011,    0.012012,    0.013013,    0.014014,    0.015015,    0.016016,    0.017017,    0.018018,    0.019019,     0.02002,    0.021021,    0.022022,    0.023023,\n",
       "          0.024024,    0.025025,    0.026026,    0.027027,    0.028028,    0.029029,     0.03003,    0.031031,    0.032032,    0.033033,    0.034034,    0.035035,    0.036036,    0.037037,    0.038038,    0.039039,     0.04004,    0.041041,    0.042042,    0.043043,    0.044044,    0.045045,    0.046046,    0.047047,\n",
       "          0.048048,    0.049049,     0.05005,    0.051051,    0.052052,    0.053053,    0.054054,    0.055055,    0.056056,    0.057057,    0.058058,    0.059059,     0.06006,    0.061061,    0.062062,    0.063063,    0.064064,    0.065065,    0.066066,    0.067067,    0.068068,    0.069069,     0.07007,    0.071071,\n",
       "          0.072072,    0.073073,    0.074074,    0.075075,    0.076076,    0.077077,    0.078078,    0.079079,     0.08008,    0.081081,    0.082082,    0.083083,    0.084084,    0.085085,    0.086086,    0.087087,    0.088088,    0.089089,     0.09009,    0.091091,    0.092092,    0.093093,    0.094094,    0.095095,\n",
       "          0.096096,    0.097097,    0.098098,    0.099099,      0.1001,      0.1011,      0.1021,      0.1031,      0.1041,     0.10511,     0.10611,     0.10711,     0.10811,     0.10911,     0.11011,     0.11111,     0.11211,     0.11311,     0.11411,     0.11512,     0.11612,     0.11712,     0.11812,     0.11912,\n",
       "           0.12012,     0.12112,     0.12212,     0.12312,     0.12412,     0.12513,     0.12613,     0.12713,     0.12813,     0.12913,     0.13013,     0.13113,     0.13213,     0.13313,     0.13413,     0.13514,     0.13614,     0.13714,     0.13814,     0.13914,     0.14014,     0.14114,     0.14214,     0.14314,\n",
       "           0.14414,     0.14515,     0.14615,     0.14715,     0.14815,     0.14915,     0.15015,     0.15115,     0.15215,     0.15315,     0.15415,     0.15516,     0.15616,     0.15716,     0.15816,     0.15916,     0.16016,     0.16116,     0.16216,     0.16316,     0.16416,     0.16517,     0.16617,     0.16717,\n",
       "           0.16817,     0.16917,     0.17017,     0.17117,     0.17217,     0.17317,     0.17417,     0.17518,     0.17618,     0.17718,     0.17818,     0.17918,     0.18018,     0.18118,     0.18218,     0.18318,     0.18418,     0.18519,     0.18619,     0.18719,     0.18819,     0.18919,     0.19019,     0.19119,\n",
       "           0.19219,     0.19319,     0.19419,      0.1952,      0.1962,      0.1972,      0.1982,      0.1992,      0.2002,      0.2012,      0.2022,      0.2032,      0.2042,     0.20521,     0.20621,     0.20721,     0.20821,     0.20921,     0.21021,     0.21121,     0.21221,     0.21321,     0.21421,     0.21522,\n",
       "           0.21622,     0.21722,     0.21822,     0.21922,     0.22022,     0.22122,     0.22222,     0.22322,     0.22422,     0.22523,     0.22623,     0.22723,     0.22823,     0.22923,     0.23023,     0.23123,     0.23223,     0.23323,     0.23423,     0.23524,     0.23624,     0.23724,     0.23824,     0.23924,\n",
       "           0.24024,     0.24124,     0.24224,     0.24324,     0.24424,     0.24525,     0.24625,     0.24725,     0.24825,     0.24925,     0.25025,     0.25125,     0.25225,     0.25325,     0.25425,     0.25526,     0.25626,     0.25726,     0.25826,     0.25926,     0.26026,     0.26126,     0.26226,     0.26326,\n",
       "           0.26426,     0.26527,     0.26627,     0.26727,     0.26827,     0.26927,     0.27027,     0.27127,     0.27227,     0.27327,     0.27427,     0.27528,     0.27628,     0.27728,     0.27828,     0.27928,     0.28028,     0.28128,     0.28228,     0.28328,     0.28428,     0.28529,     0.28629,     0.28729,\n",
       "           0.28829,     0.28929,     0.29029,     0.29129,     0.29229,     0.29329,     0.29429,      0.2953,      0.2963,      0.2973,      0.2983,      0.2993,      0.3003,      0.3013,      0.3023,      0.3033,      0.3043,     0.30531,     0.30631,     0.30731,     0.30831,     0.30931,     0.31031,     0.31131,\n",
       "           0.31231,     0.31331,     0.31431,     0.31532,     0.31632,     0.31732,     0.31832,     0.31932,     0.32032,     0.32132,     0.32232,     0.32332,     0.32432,     0.32533,     0.32633,     0.32733,     0.32833,     0.32933,     0.33033,     0.33133,     0.33233,     0.33333,     0.33433,     0.33534,\n",
       "           0.33634,     0.33734,     0.33834,     0.33934,     0.34034,     0.34134,     0.34234,     0.34334,     0.34434,     0.34535,     0.34635,     0.34735,     0.34835,     0.34935,     0.35035,     0.35135,     0.35235,     0.35335,     0.35435,     0.35536,     0.35636,     0.35736,     0.35836,     0.35936,\n",
       "           0.36036,     0.36136,     0.36236,     0.36336,     0.36436,     0.36537,     0.36637,     0.36737,     0.36837,     0.36937,     0.37037,     0.37137,     0.37237,     0.37337,     0.37437,     0.37538,     0.37638,     0.37738,     0.37838,     0.37938,     0.38038,     0.38138,     0.38238,     0.38338,\n",
       "           0.38438,     0.38539,     0.38639,     0.38739,     0.38839,     0.38939,     0.39039,     0.39139,     0.39239,     0.39339,     0.39439,      0.3954,      0.3964,      0.3974,      0.3984,      0.3994,      0.4004,      0.4014,      0.4024,      0.4034,      0.4044,     0.40541,     0.40641,     0.40741,\n",
       "           0.40841,     0.40941,     0.41041,     0.41141,     0.41241,     0.41341,     0.41441,     0.41542,     0.41642,     0.41742,     0.41842,     0.41942,     0.42042,     0.42142,     0.42242,     0.42342,     0.42442,     0.42543,     0.42643,     0.42743,     0.42843,     0.42943,     0.43043,     0.43143,\n",
       "           0.43243,     0.43343,     0.43443,     0.43544,     0.43644,     0.43744,     0.43844,     0.43944,     0.44044,     0.44144,     0.44244,     0.44344,     0.44444,     0.44545,     0.44645,     0.44745,     0.44845,     0.44945,     0.45045,     0.45145,     0.45245,     0.45345,     0.45445,     0.45546,\n",
       "           0.45646,     0.45746,     0.45846,     0.45946,     0.46046,     0.46146,     0.46246,     0.46346,     0.46446,     0.46547,     0.46647,     0.46747,     0.46847,     0.46947,     0.47047,     0.47147,     0.47247,     0.47347,     0.47447,     0.47548,     0.47648,     0.47748,     0.47848,     0.47948,\n",
       "           0.48048,     0.48148,     0.48248,     0.48348,     0.48448,     0.48549,     0.48649,     0.48749,     0.48849,     0.48949,     0.49049,     0.49149,     0.49249,     0.49349,     0.49449,      0.4955,      0.4965,      0.4975,      0.4985,      0.4995,      0.5005,      0.5015,      0.5025,      0.5035,\n",
       "            0.5045,     0.50551,     0.50651,     0.50751,     0.50851,     0.50951,     0.51051,     0.51151,     0.51251,     0.51351,     0.51451,     0.51552,     0.51652,     0.51752,     0.51852,     0.51952,     0.52052,     0.52152,     0.52252,     0.52352,     0.52452,     0.52553,     0.52653,     0.52753,\n",
       "           0.52853,     0.52953,     0.53053,     0.53153,     0.53253,     0.53353,     0.53453,     0.53554,     0.53654,     0.53754,     0.53854,     0.53954,     0.54054,     0.54154,     0.54254,     0.54354,     0.54454,     0.54555,     0.54655,     0.54755,     0.54855,     0.54955,     0.55055,     0.55155,\n",
       "           0.55255,     0.55355,     0.55455,     0.55556,     0.55656,     0.55756,     0.55856,     0.55956,     0.56056,     0.56156,     0.56256,     0.56356,     0.56456,     0.56557,     0.56657,     0.56757,     0.56857,     0.56957,     0.57057,     0.57157,     0.57257,     0.57357,     0.57457,     0.57558,\n",
       "           0.57658,     0.57758,     0.57858,     0.57958,     0.58058,     0.58158,     0.58258,     0.58358,     0.58458,     0.58559,     0.58659,     0.58759,     0.58859,     0.58959,     0.59059,     0.59159,     0.59259,     0.59359,     0.59459,      0.5956,      0.5966,      0.5976,      0.5986,      0.5996,\n",
       "            0.6006,      0.6016,      0.6026,      0.6036,      0.6046,     0.60561,     0.60661,     0.60761,     0.60861,     0.60961,     0.61061,     0.61161,     0.61261,     0.61361,     0.61461,     0.61562,     0.61662,     0.61762,     0.61862,     0.61962,     0.62062,     0.62162,     0.62262,     0.62362,\n",
       "           0.62462,     0.62563,     0.62663,     0.62763,     0.62863,     0.62963,     0.63063,     0.63163,     0.63263,     0.63363,     0.63463,     0.63564,     0.63664,     0.63764,     0.63864,     0.63964,     0.64064,     0.64164,     0.64264,     0.64364,     0.64464,     0.64565,     0.64665,     0.64765,\n",
       "           0.64865,     0.64965,     0.65065,     0.65165,     0.65265,     0.65365,     0.65465,     0.65566,     0.65666,     0.65766,     0.65866,     0.65966,     0.66066,     0.66166,     0.66266,     0.66366,     0.66466,     0.66567,     0.66667,     0.66767,     0.66867,     0.66967,     0.67067,     0.67167,\n",
       "           0.67267,     0.67367,     0.67467,     0.67568,     0.67668,     0.67768,     0.67868,     0.67968,     0.68068,     0.68168,     0.68268,     0.68368,     0.68468,     0.68569,     0.68669,     0.68769,     0.68869,     0.68969,     0.69069,     0.69169,     0.69269,     0.69369,     0.69469,      0.6957,\n",
       "            0.6967,      0.6977,      0.6987,      0.6997,      0.7007,      0.7017,      0.7027,      0.7037,      0.7047,     0.70571,     0.70671,     0.70771,     0.70871,     0.70971,     0.71071,     0.71171,     0.71271,     0.71371,     0.71471,     0.71572,     0.71672,     0.71772,     0.71872,     0.71972,\n",
       "           0.72072,     0.72172,     0.72272,     0.72372,     0.72472,     0.72573,     0.72673,     0.72773,     0.72873,     0.72973,     0.73073,     0.73173,     0.73273,     0.73373,     0.73473,     0.73574,     0.73674,     0.73774,     0.73874,     0.73974,     0.74074,     0.74174,     0.74274,     0.74374,\n",
       "           0.74474,     0.74575,     0.74675,     0.74775,     0.74875,     0.74975,     0.75075,     0.75175,     0.75275,     0.75375,     0.75475,     0.75576,     0.75676,     0.75776,     0.75876,     0.75976,     0.76076,     0.76176,     0.76276,     0.76376,     0.76476,     0.76577,     0.76677,     0.76777,\n",
       "           0.76877,     0.76977,     0.77077,     0.77177,     0.77277,     0.77377,     0.77477,     0.77578,     0.77678,     0.77778,     0.77878,     0.77978,     0.78078,     0.78178,     0.78278,     0.78378,     0.78478,     0.78579,     0.78679,     0.78779,     0.78879,     0.78979,     0.79079,     0.79179,\n",
       "           0.79279,     0.79379,     0.79479,      0.7958,      0.7968,      0.7978,      0.7988,      0.7998,      0.8008,      0.8018,      0.8028,      0.8038,      0.8048,     0.80581,     0.80681,     0.80781,     0.80881,     0.80981,     0.81081,     0.81181,     0.81281,     0.81381,     0.81481,     0.81582,\n",
       "           0.81682,     0.81782,     0.81882,     0.81982,     0.82082,     0.82182,     0.82282,     0.82382,     0.82482,     0.82583,     0.82683,     0.82783,     0.82883,     0.82983,     0.83083,     0.83183,     0.83283,     0.83383,     0.83483,     0.83584,     0.83684,     0.83784,     0.83884,     0.83984,\n",
       "           0.84084,     0.84184,     0.84284,     0.84384,     0.84484,     0.84585,     0.84685,     0.84785,     0.84885,     0.84985,     0.85085,     0.85185,     0.85285,     0.85385,     0.85485,     0.85586,     0.85686,     0.85786,     0.85886,     0.85986,     0.86086,     0.86186,     0.86286,     0.86386,\n",
       "           0.86486,     0.86587,     0.86687,     0.86787,     0.86887,     0.86987,     0.87087,     0.87187,     0.87287,     0.87387,     0.87487,     0.87588,     0.87688,     0.87788,     0.87888,     0.87988,     0.88088,     0.88188,     0.88288,     0.88388,     0.88488,     0.88589,     0.88689,     0.88789,\n",
       "           0.88889,     0.88989,     0.89089,     0.89189,     0.89289,     0.89389,     0.89489,      0.8959,      0.8969,      0.8979,      0.8989,      0.8999,      0.9009,      0.9019,      0.9029,      0.9039,      0.9049,     0.90591,     0.90691,     0.90791,     0.90891,     0.90991,     0.91091,     0.91191,\n",
       "           0.91291,     0.91391,     0.91491,     0.91592,     0.91692,     0.91792,     0.91892,     0.91992,     0.92092,     0.92192,     0.92292,     0.92392,     0.92492,     0.92593,     0.92693,     0.92793,     0.92893,     0.92993,     0.93093,     0.93193,     0.93293,     0.93393,     0.93493,     0.93594,\n",
       "           0.93694,     0.93794,     0.93894,     0.93994,     0.94094,     0.94194,     0.94294,     0.94394,     0.94494,     0.94595,     0.94695,     0.94795,     0.94895,     0.94995,     0.95095,     0.95195,     0.95295,     0.95395,     0.95495,     0.95596,     0.95696,     0.95796,     0.95896,     0.95996,\n",
       "           0.96096,     0.96196,     0.96296,     0.96396,     0.96496,     0.96597,     0.96697,     0.96797,     0.96897,     0.96997,     0.97097,     0.97197,     0.97297,     0.97397,     0.97497,     0.97598,     0.97698,     0.97798,     0.97898,     0.97998,     0.98098,     0.98198,     0.98298,     0.98398,\n",
       "           0.98498,     0.98599,     0.98699,     0.98799,     0.98899,     0.98999,     0.99099,     0.99199,     0.99299,     0.99399,     0.99499,       0.996,       0.997,       0.998,       0.999,           1]), array([[          1,           1,           1,           1,           1,           1,           1,           1,           1,           1,           1,           1,           1,           1,           1,           1,           1,           1,           1,           1,           1,           1,           1,\n",
       "                  1,           1,           1,           1,           1,           1,           1,           1,           1,           1,           1,           1,           1,           1,           1,           1,           1,           1,           1,           1,           1,           1,           1,\n",
       "                  1,           1,           1,           1,           1,           1,           1,           1,           1,           1,           1,           1,           1,           1,           1,           1,           1,           1,           1,           1,      0.9854,      0.9854,      0.9854,\n",
       "             0.9854,      0.9854,      0.9854,      0.9854,      0.9854,      0.9854,      0.9854,      0.9854,      0.9854,      0.9854,      0.9854,      0.9854,      0.9854,      0.9854,      0.9854,      0.9854,      0.9854,      0.9854,      0.9854,      0.9854,      0.9854,      0.9854,      0.9854,\n",
       "             0.9854,      0.9854,      0.9854,      0.9854,      0.9854,      0.9854,      0.9854,      0.9854,      0.9854,      0.9854,      0.9854,      0.9854,      0.9854,      0.9854,      0.9854,      0.9854,      0.9854,      0.9854,      0.9854,      0.9854,      0.9854,      0.9854,      0.9854,\n",
       "             0.9854,      0.9854,      0.9854,      0.9854,      0.9854,      0.9854,      0.9854,      0.9854,      0.9854,      0.9854,      0.9854,      0.9854,      0.9854,      0.9854,      0.9854,      0.9854,      0.9854,      0.9854,      0.9854,      0.9854,      0.9854,      0.9854,      0.9854,\n",
       "             0.9854,      0.9854,      0.9854,      0.9854,      0.9854,      0.9854,      0.9854,      0.9854,      0.9854,      0.9854,      0.9854,      0.9854,      0.9854,      0.9854,      0.9854,      0.9854,      0.9854,      0.9854,      0.9854,      0.9854,      0.9854,      0.9854,      0.9854,\n",
       "             0.9854,      0.9854,      0.9854,      0.9854,      0.9854,      0.9854,      0.9854,      0.9854,      0.9854,      0.9854,      0.9854,      0.9854,      0.9854,      0.9854,      0.9854,      0.9854,      0.9854,      0.9854,      0.9854,      0.9854,      0.9854,      0.9854,      0.9854,\n",
       "             0.9854,      0.9854,      0.9854,      0.9854,      0.9854,      0.9854,      0.9854,      0.9854,      0.9854,      0.9854,      0.9854,      0.9854,      0.9854,      0.9854,      0.9854,      0.9854,      0.9854,      0.9854,      0.9854,      0.9854,      0.9854,      0.9854,      0.9854,\n",
       "             0.9854,      0.9854,      0.9854,      0.9854,      0.9854,      0.9854,      0.9854,      0.9854,     0.98148,     0.98148,     0.98148,     0.98148,     0.98148,     0.98148,     0.98148,     0.98148,     0.98148,     0.98148,     0.98148,     0.98148,     0.98148,     0.98148,     0.98148,\n",
       "            0.98148,     0.98148,     0.98148,     0.98148,     0.98148,     0.98148,     0.98148,     0.98148,     0.98148,     0.98148,     0.98148,     0.98148,     0.98148,     0.98148,     0.98148,     0.98148,     0.98148,     0.98148,     0.98148,     0.98148,     0.98148,     0.98148,     0.98148,\n",
       "            0.97619,     0.97619,     0.97619,     0.97619,     0.97619,     0.97619,     0.97619,     0.97619,     0.97619,     0.97619,     0.97619,     0.97619,     0.97619,     0.97619,     0.97619,     0.97619,     0.97619,     0.97619,     0.97619,     0.97619,     0.97619,     0.97619,     0.97619,\n",
       "            0.97619,     0.97619,     0.97619,     0.97619,     0.97619,     0.97619,     0.97619,     0.97619,     0.97619,     0.97619,     0.97619,     0.97619,     0.97619,     0.97619,     0.97619,     0.97619,     0.97619,     0.97619,     0.97619,     0.97619,     0.97619,     0.97619,     0.97619,\n",
       "            0.97619,     0.97619,     0.97619,     0.97619,     0.97619,     0.97619,     0.97619,     0.97619,     0.97619,     0.97619,     0.97619,     0.97619,     0.97619,     0.97619,     0.97619,     0.97619,     0.97619,     0.97619,     0.97619,     0.97619,     0.97619,     0.97619,     0.97619,\n",
       "            0.97619,     0.97619,     0.97619,     0.97619,     0.97619,     0.97619,     0.97619,     0.97619,     0.97619,     0.97619,     0.97619,     0.97619,     0.97619,     0.97619,     0.97619,     0.97619,     0.97619,     0.97619,     0.97619,     0.97619,     0.97619,     0.97619,     0.97619,\n",
       "            0.97619,     0.97619,     0.97619,     0.97619,     0.97619,     0.97619,     0.97619,     0.97619,     0.97619,     0.97619,     0.97619,     0.97619,     0.97619,     0.97619,     0.97619,     0.97619,     0.97619,     0.97619,     0.97619,     0.97619,     0.97619,     0.97619,     0.97619,\n",
       "            0.97619,     0.97619,     0.97619,     0.97619,     0.97619,     0.97619,     0.97619,     0.97619,     0.97619,     0.97619,     0.97619,     0.97619,     0.97619,     0.97619,     0.97619,     0.97619,     0.97619,     0.97619,     0.97619,     0.97619,     0.97619,     0.97619,     0.97619,\n",
       "            0.97619,     0.97561,     0.97561,     0.97561,     0.97561,     0.97561,     0.97561,     0.97561,     0.97561,     0.97561,     0.97561,     0.97561,     0.97561,     0.97561,     0.97561,     0.97561,     0.97561,     0.97561,     0.97561,     0.97561,     0.97561,     0.97561,     0.97561,\n",
       "            0.97561,     0.97561,     0.97561,     0.97561,     0.97561,     0.97561,     0.97561,     0.97561,     0.97561,     0.97561,     0.97561,     0.97561,     0.97561,     0.97561,     0.97561,     0.97561,     0.97561,     0.97561,     0.97561,     0.97561,     0.97561,     0.97561,     0.97561,\n",
       "            0.97561,     0.97561,     0.97561,     0.97561,     0.97561,     0.97561,     0.97561,     0.97561,     0.97561,      0.9727,      0.9727,      0.9727,      0.9727,      0.9727,      0.9727,      0.9727,      0.9727,     0.97039,     0.97039,     0.97039,     0.97039,     0.97039,     0.97039,\n",
       "            0.97039,     0.97039,     0.97039,     0.97039,     0.97039,     0.97039,     0.97039,     0.97039,     0.97039,     0.97039,     0.96753,     0.96753,     0.96753,     0.96753,     0.96753,     0.96497,     0.96497,     0.96497,     0.96497,     0.96497,     0.96497,     0.96497,     0.96497,\n",
       "            0.96142,     0.96142,     0.96142,     0.96142,     0.96142,     0.96142,     0.96142,     0.96142,     0.96142,     0.96142,     0.96142,     0.96142,     0.96142,     0.96142,     0.96142,     0.96142,     0.96142,     0.96142,     0.96142,     0.96142,     0.96142,     0.96142,     0.96142,\n",
       "            0.96142,     0.96142,     0.96142,     0.96142,     0.96142,     0.96142,     0.96142,     0.96142,     0.96142,     0.96142,     0.95918,     0.95918,     0.95918,     0.95918,     0.95918,     0.95918,     0.95918,     0.95918,     0.95291,     0.95291,     0.95291,     0.95291,     0.95291,\n",
       "            0.95291,     0.95291,     0.95291,     0.95291,     0.95291,     0.95291,     0.95291,     0.95291,     0.95291,     0.95291,     0.95291,     0.95291,     0.95291,     0.95291,     0.95291,     0.95291,     0.95291,     0.95291,     0.95291,     0.95055,     0.95055,     0.95055,     0.94823,\n",
       "            0.94823,     0.94823,       0.944,       0.944,       0.944,       0.944,       0.944,       0.944,       0.944,       0.944,       0.944,       0.944,     0.93947,     0.93947,     0.93947,     0.93947,     0.93814,     0.93814,     0.93814,     0.93814,     0.93814,     0.93814,     0.93814,\n",
       "            0.93814,     0.93814,     0.93814,     0.93814,     0.93814,     0.93401,     0.93401,     0.93401,     0.93401,     0.93401,     0.93401,     0.92714,     0.92537,     0.92537,     0.92537,     0.92537,     0.92537,     0.91667,     0.91667,     0.91667,     0.91463,     0.91463,     0.91262,\n",
       "            0.91262,     0.90887,     0.90887,     0.90887,     0.90887,     0.90714,     0.90714,     0.90714,     0.90714,     0.90094,      0.8972,      0.8972,      0.8972,     0.89352,     0.89352,     0.89352,     0.89352,     0.89171,     0.89016,     0.89016,     0.89016,     0.88914,     0.88914,\n",
       "            0.88914,     0.88914,     0.88914,     0.88914,     0.88914,     0.88341,      0.8817,      0.8817,        0.88,     0.87832,     0.87832,     0.87665,     0.87665,     0.87555,     0.87555,     0.87555,     0.87555,     0.87013,     0.87013,     0.86882,     0.86882,     0.86882,     0.86596,\n",
       "            0.86596,     0.86596,     0.86596,     0.86596,     0.86441,     0.86441,     0.86287,     0.86134,     0.86134,     0.85804,     0.85655,     0.85655,     0.85391,     0.85391,     0.85391,     0.85391,     0.85391,     0.85246,     0.84929,     0.84929,     0.84787,     0.84538,     0.84538,\n",
       "            0.84538,     0.84538,     0.84538,     0.83399,     0.83399,     0.82617,      0.8249,      0.8249,     0.82364,     0.82364,     0.81644,     0.81644,     0.81644,     0.81524,     0.81096,     0.81096,     0.80979,     0.80979,     0.80899,     0.80899,     0.80899,     0.80855,     0.80855,\n",
       "            0.80855,     0.80855,     0.80741,     0.80741,     0.80479,     0.80479,     0.79529,     0.79529,     0.79529,      0.7875,      0.7875,      0.7875,     0.78648,     0.78648,     0.78546,     0.77758,     0.77758,     0.77661,     0.77565,     0.77565,     0.76804,     0.76804,     0.75676,\n",
       "            0.74585,     0.74585,      0.7438,     0.74178,     0.74178,     0.73616,     0.73616,     0.73301,     0.72293,     0.72293,     0.72222,     0.71362,     0.71362,     0.69651,     0.69651,     0.69651,     0.69651,     0.69651,     0.69637,     0.69637,     0.69637,     0.67841,     0.67442,\n",
       "            0.67442,     0.67442,     0.67442,      0.6681,     0.66382,     0.66382,      0.6596,     0.65638,     0.65638,     0.65369,     0.65369,     0.65369,     0.64609,     0.64609,     0.64305,     0.64005,     0.64005,      0.6371,      0.6371,     0.63588,     0.62435,     0.62435,     0.62435,\n",
       "            0.61489,     0.61489,     0.61489,     0.60991,     0.60991,     0.60503,     0.60503,     0.60401,     0.60375,     0.60375,     0.59951,     0.59951,     0.59951,     0.59052,     0.59052,     0.58959,     0.58937,     0.58937,     0.58916,      0.5711,      0.5711,     0.56279,     0.56279,\n",
       "            0.56279,     0.56279,     0.56279,     0.55693,     0.55681,     0.55681,     0.54326,     0.54326,     0.53954,     0.53954,     0.53954,     0.52582,     0.52301,     0.52301,     0.52133,     0.52021,     0.52021,     0.48604,     0.48604,     0.48604,     0.48604,     0.48604,     0.48236,\n",
       "            0.47875,     0.47875,     0.47789,     0.47789,     0.47481,     0.43601,     0.43601,     0.43601,     0.42845,     0.42845,     0.40618,     0.40618,     0.40188,     0.40016,     0.40016,     0.34956,     0.34956,     0.34956,     0.34373,     0.34373,     0.34371,     0.33355,     0.33355,\n",
       "            0.31499,     0.30208,     0.30208,     0.27339,     0.27108,     0.27108,     0.26978,     0.26978,     0.26001,     0.23814,     0.23814,     0.21103,     0.21084,     0.21084,     0.19887,     0.19887,     0.19565,     0.18077,     0.18077,     0.17649,     0.16487,     0.16487,     0.15763,\n",
       "            0.15763,     0.14677,     0.11907,     0.11907,     0.10551,     0.10092,     0.10092,     0.09845,     0.09845,    0.090909,    0.071157,    0.071157,    0.068996,    0.068808,    0.068808,    0.060661,    0.060205,    0.059749,    0.059293,    0.058836,     0.05838,    0.057924,    0.057468,\n",
       "           0.057012,    0.056556,      0.0561,    0.055644,    0.055188,    0.054732,    0.054276,    0.053819,    0.053363,    0.052907,    0.052451,    0.051995,    0.051539,    0.051083,    0.050627,    0.050171,    0.049715,    0.049258,    0.048802,    0.048346,     0.04789,    0.047434,    0.046978,\n",
       "           0.046522,    0.046066,     0.04561,    0.045154,    0.044697,    0.044241,    0.043785,    0.043329,    0.042873,    0.042417,    0.041961,    0.041505,    0.041049,    0.040593,    0.040137,     0.03968,    0.039224,    0.038768,    0.038312,    0.037856,      0.0374,    0.036944,    0.036488,\n",
       "           0.036032,    0.035576,    0.035119,    0.034663,    0.034207,    0.033751,    0.033295,    0.032839,    0.032383,    0.031927,    0.031471,    0.031015,    0.030558,    0.030102,    0.029646,     0.02919,    0.028734,    0.028278,    0.027822,    0.027366,     0.02691,    0.026454,    0.025998,\n",
       "           0.025541,    0.025085,    0.024629,    0.024173,    0.023717,    0.023261,    0.022805,    0.022349,    0.021893,    0.021437,     0.02098,    0.020524,    0.020068,    0.019612,    0.019156,      0.0187,    0.018244,    0.017788,    0.017332,    0.016876,    0.016419,    0.015963,    0.015507,\n",
       "           0.015051,    0.014595,    0.014139,    0.013683,    0.013227,    0.012771,    0.012315,    0.011859,    0.011402,    0.010946,     0.01049,    0.010034,    0.009578,   0.0091219,   0.0086658,   0.0082097,   0.0077536,   0.0072975,   0.0068414,   0.0063854,   0.0059293,   0.0054732,   0.0050171,\n",
       "           0.004561,   0.0041049,   0.0036488,   0.0031927,   0.0027366,   0.0022805,   0.0018244,   0.0013683,  0.00091219,   0.0004561,           0]]), 'Recall', 'Precision'], [array([          0,    0.001001,    0.002002,    0.003003,    0.004004,    0.005005,    0.006006,    0.007007,    0.008008,    0.009009,     0.01001,    0.011011,    0.012012,    0.013013,    0.014014,    0.015015,    0.016016,    0.017017,    0.018018,    0.019019,     0.02002,    0.021021,    0.022022,    0.023023,\n",
       "          0.024024,    0.025025,    0.026026,    0.027027,    0.028028,    0.029029,     0.03003,    0.031031,    0.032032,    0.033033,    0.034034,    0.035035,    0.036036,    0.037037,    0.038038,    0.039039,     0.04004,    0.041041,    0.042042,    0.043043,    0.044044,    0.045045,    0.046046,    0.047047,\n",
       "          0.048048,    0.049049,     0.05005,    0.051051,    0.052052,    0.053053,    0.054054,    0.055055,    0.056056,    0.057057,    0.058058,    0.059059,     0.06006,    0.061061,    0.062062,    0.063063,    0.064064,    0.065065,    0.066066,    0.067067,    0.068068,    0.069069,     0.07007,    0.071071,\n",
       "          0.072072,    0.073073,    0.074074,    0.075075,    0.076076,    0.077077,    0.078078,    0.079079,     0.08008,    0.081081,    0.082082,    0.083083,    0.084084,    0.085085,    0.086086,    0.087087,    0.088088,    0.089089,     0.09009,    0.091091,    0.092092,    0.093093,    0.094094,    0.095095,\n",
       "          0.096096,    0.097097,    0.098098,    0.099099,      0.1001,      0.1011,      0.1021,      0.1031,      0.1041,     0.10511,     0.10611,     0.10711,     0.10811,     0.10911,     0.11011,     0.11111,     0.11211,     0.11311,     0.11411,     0.11512,     0.11612,     0.11712,     0.11812,     0.11912,\n",
       "           0.12012,     0.12112,     0.12212,     0.12312,     0.12412,     0.12513,     0.12613,     0.12713,     0.12813,     0.12913,     0.13013,     0.13113,     0.13213,     0.13313,     0.13413,     0.13514,     0.13614,     0.13714,     0.13814,     0.13914,     0.14014,     0.14114,     0.14214,     0.14314,\n",
       "           0.14414,     0.14515,     0.14615,     0.14715,     0.14815,     0.14915,     0.15015,     0.15115,     0.15215,     0.15315,     0.15415,     0.15516,     0.15616,     0.15716,     0.15816,     0.15916,     0.16016,     0.16116,     0.16216,     0.16316,     0.16416,     0.16517,     0.16617,     0.16717,\n",
       "           0.16817,     0.16917,     0.17017,     0.17117,     0.17217,     0.17317,     0.17417,     0.17518,     0.17618,     0.17718,     0.17818,     0.17918,     0.18018,     0.18118,     0.18218,     0.18318,     0.18418,     0.18519,     0.18619,     0.18719,     0.18819,     0.18919,     0.19019,     0.19119,\n",
       "           0.19219,     0.19319,     0.19419,      0.1952,      0.1962,      0.1972,      0.1982,      0.1992,      0.2002,      0.2012,      0.2022,      0.2032,      0.2042,     0.20521,     0.20621,     0.20721,     0.20821,     0.20921,     0.21021,     0.21121,     0.21221,     0.21321,     0.21421,     0.21522,\n",
       "           0.21622,     0.21722,     0.21822,     0.21922,     0.22022,     0.22122,     0.22222,     0.22322,     0.22422,     0.22523,     0.22623,     0.22723,     0.22823,     0.22923,     0.23023,     0.23123,     0.23223,     0.23323,     0.23423,     0.23524,     0.23624,     0.23724,     0.23824,     0.23924,\n",
       "           0.24024,     0.24124,     0.24224,     0.24324,     0.24424,     0.24525,     0.24625,     0.24725,     0.24825,     0.24925,     0.25025,     0.25125,     0.25225,     0.25325,     0.25425,     0.25526,     0.25626,     0.25726,     0.25826,     0.25926,     0.26026,     0.26126,     0.26226,     0.26326,\n",
       "           0.26426,     0.26527,     0.26627,     0.26727,     0.26827,     0.26927,     0.27027,     0.27127,     0.27227,     0.27327,     0.27427,     0.27528,     0.27628,     0.27728,     0.27828,     0.27928,     0.28028,     0.28128,     0.28228,     0.28328,     0.28428,     0.28529,     0.28629,     0.28729,\n",
       "           0.28829,     0.28929,     0.29029,     0.29129,     0.29229,     0.29329,     0.29429,      0.2953,      0.2963,      0.2973,      0.2983,      0.2993,      0.3003,      0.3013,      0.3023,      0.3033,      0.3043,     0.30531,     0.30631,     0.30731,     0.30831,     0.30931,     0.31031,     0.31131,\n",
       "           0.31231,     0.31331,     0.31431,     0.31532,     0.31632,     0.31732,     0.31832,     0.31932,     0.32032,     0.32132,     0.32232,     0.32332,     0.32432,     0.32533,     0.32633,     0.32733,     0.32833,     0.32933,     0.33033,     0.33133,     0.33233,     0.33333,     0.33433,     0.33534,\n",
       "           0.33634,     0.33734,     0.33834,     0.33934,     0.34034,     0.34134,     0.34234,     0.34334,     0.34434,     0.34535,     0.34635,     0.34735,     0.34835,     0.34935,     0.35035,     0.35135,     0.35235,     0.35335,     0.35435,     0.35536,     0.35636,     0.35736,     0.35836,     0.35936,\n",
       "           0.36036,     0.36136,     0.36236,     0.36336,     0.36436,     0.36537,     0.36637,     0.36737,     0.36837,     0.36937,     0.37037,     0.37137,     0.37237,     0.37337,     0.37437,     0.37538,     0.37638,     0.37738,     0.37838,     0.37938,     0.38038,     0.38138,     0.38238,     0.38338,\n",
       "           0.38438,     0.38539,     0.38639,     0.38739,     0.38839,     0.38939,     0.39039,     0.39139,     0.39239,     0.39339,     0.39439,      0.3954,      0.3964,      0.3974,      0.3984,      0.3994,      0.4004,      0.4014,      0.4024,      0.4034,      0.4044,     0.40541,     0.40641,     0.40741,\n",
       "           0.40841,     0.40941,     0.41041,     0.41141,     0.41241,     0.41341,     0.41441,     0.41542,     0.41642,     0.41742,     0.41842,     0.41942,     0.42042,     0.42142,     0.42242,     0.42342,     0.42442,     0.42543,     0.42643,     0.42743,     0.42843,     0.42943,     0.43043,     0.43143,\n",
       "           0.43243,     0.43343,     0.43443,     0.43544,     0.43644,     0.43744,     0.43844,     0.43944,     0.44044,     0.44144,     0.44244,     0.44344,     0.44444,     0.44545,     0.44645,     0.44745,     0.44845,     0.44945,     0.45045,     0.45145,     0.45245,     0.45345,     0.45445,     0.45546,\n",
       "           0.45646,     0.45746,     0.45846,     0.45946,     0.46046,     0.46146,     0.46246,     0.46346,     0.46446,     0.46547,     0.46647,     0.46747,     0.46847,     0.46947,     0.47047,     0.47147,     0.47247,     0.47347,     0.47447,     0.47548,     0.47648,     0.47748,     0.47848,     0.47948,\n",
       "           0.48048,     0.48148,     0.48248,     0.48348,     0.48448,     0.48549,     0.48649,     0.48749,     0.48849,     0.48949,     0.49049,     0.49149,     0.49249,     0.49349,     0.49449,      0.4955,      0.4965,      0.4975,      0.4985,      0.4995,      0.5005,      0.5015,      0.5025,      0.5035,\n",
       "            0.5045,     0.50551,     0.50651,     0.50751,     0.50851,     0.50951,     0.51051,     0.51151,     0.51251,     0.51351,     0.51451,     0.51552,     0.51652,     0.51752,     0.51852,     0.51952,     0.52052,     0.52152,     0.52252,     0.52352,     0.52452,     0.52553,     0.52653,     0.52753,\n",
       "           0.52853,     0.52953,     0.53053,     0.53153,     0.53253,     0.53353,     0.53453,     0.53554,     0.53654,     0.53754,     0.53854,     0.53954,     0.54054,     0.54154,     0.54254,     0.54354,     0.54454,     0.54555,     0.54655,     0.54755,     0.54855,     0.54955,     0.55055,     0.55155,\n",
       "           0.55255,     0.55355,     0.55455,     0.55556,     0.55656,     0.55756,     0.55856,     0.55956,     0.56056,     0.56156,     0.56256,     0.56356,     0.56456,     0.56557,     0.56657,     0.56757,     0.56857,     0.56957,     0.57057,     0.57157,     0.57257,     0.57357,     0.57457,     0.57558,\n",
       "           0.57658,     0.57758,     0.57858,     0.57958,     0.58058,     0.58158,     0.58258,     0.58358,     0.58458,     0.58559,     0.58659,     0.58759,     0.58859,     0.58959,     0.59059,     0.59159,     0.59259,     0.59359,     0.59459,      0.5956,      0.5966,      0.5976,      0.5986,      0.5996,\n",
       "            0.6006,      0.6016,      0.6026,      0.6036,      0.6046,     0.60561,     0.60661,     0.60761,     0.60861,     0.60961,     0.61061,     0.61161,     0.61261,     0.61361,     0.61461,     0.61562,     0.61662,     0.61762,     0.61862,     0.61962,     0.62062,     0.62162,     0.62262,     0.62362,\n",
       "           0.62462,     0.62563,     0.62663,     0.62763,     0.62863,     0.62963,     0.63063,     0.63163,     0.63263,     0.63363,     0.63463,     0.63564,     0.63664,     0.63764,     0.63864,     0.63964,     0.64064,     0.64164,     0.64264,     0.64364,     0.64464,     0.64565,     0.64665,     0.64765,\n",
       "           0.64865,     0.64965,     0.65065,     0.65165,     0.65265,     0.65365,     0.65465,     0.65566,     0.65666,     0.65766,     0.65866,     0.65966,     0.66066,     0.66166,     0.66266,     0.66366,     0.66466,     0.66567,     0.66667,     0.66767,     0.66867,     0.66967,     0.67067,     0.67167,\n",
       "           0.67267,     0.67367,     0.67467,     0.67568,     0.67668,     0.67768,     0.67868,     0.67968,     0.68068,     0.68168,     0.68268,     0.68368,     0.68468,     0.68569,     0.68669,     0.68769,     0.68869,     0.68969,     0.69069,     0.69169,     0.69269,     0.69369,     0.69469,      0.6957,\n",
       "            0.6967,      0.6977,      0.6987,      0.6997,      0.7007,      0.7017,      0.7027,      0.7037,      0.7047,     0.70571,     0.70671,     0.70771,     0.70871,     0.70971,     0.71071,     0.71171,     0.71271,     0.71371,     0.71471,     0.71572,     0.71672,     0.71772,     0.71872,     0.71972,\n",
       "           0.72072,     0.72172,     0.72272,     0.72372,     0.72472,     0.72573,     0.72673,     0.72773,     0.72873,     0.72973,     0.73073,     0.73173,     0.73273,     0.73373,     0.73473,     0.73574,     0.73674,     0.73774,     0.73874,     0.73974,     0.74074,     0.74174,     0.74274,     0.74374,\n",
       "           0.74474,     0.74575,     0.74675,     0.74775,     0.74875,     0.74975,     0.75075,     0.75175,     0.75275,     0.75375,     0.75475,     0.75576,     0.75676,     0.75776,     0.75876,     0.75976,     0.76076,     0.76176,     0.76276,     0.76376,     0.76476,     0.76577,     0.76677,     0.76777,\n",
       "           0.76877,     0.76977,     0.77077,     0.77177,     0.77277,     0.77377,     0.77477,     0.77578,     0.77678,     0.77778,     0.77878,     0.77978,     0.78078,     0.78178,     0.78278,     0.78378,     0.78478,     0.78579,     0.78679,     0.78779,     0.78879,     0.78979,     0.79079,     0.79179,\n",
       "           0.79279,     0.79379,     0.79479,      0.7958,      0.7968,      0.7978,      0.7988,      0.7998,      0.8008,      0.8018,      0.8028,      0.8038,      0.8048,     0.80581,     0.80681,     0.80781,     0.80881,     0.80981,     0.81081,     0.81181,     0.81281,     0.81381,     0.81481,     0.81582,\n",
       "           0.81682,     0.81782,     0.81882,     0.81982,     0.82082,     0.82182,     0.82282,     0.82382,     0.82482,     0.82583,     0.82683,     0.82783,     0.82883,     0.82983,     0.83083,     0.83183,     0.83283,     0.83383,     0.83483,     0.83584,     0.83684,     0.83784,     0.83884,     0.83984,\n",
       "           0.84084,     0.84184,     0.84284,     0.84384,     0.84484,     0.84585,     0.84685,     0.84785,     0.84885,     0.84985,     0.85085,     0.85185,     0.85285,     0.85385,     0.85485,     0.85586,     0.85686,     0.85786,     0.85886,     0.85986,     0.86086,     0.86186,     0.86286,     0.86386,\n",
       "           0.86486,     0.86587,     0.86687,     0.86787,     0.86887,     0.86987,     0.87087,     0.87187,     0.87287,     0.87387,     0.87487,     0.87588,     0.87688,     0.87788,     0.87888,     0.87988,     0.88088,     0.88188,     0.88288,     0.88388,     0.88488,     0.88589,     0.88689,     0.88789,\n",
       "           0.88889,     0.88989,     0.89089,     0.89189,     0.89289,     0.89389,     0.89489,      0.8959,      0.8969,      0.8979,      0.8989,      0.8999,      0.9009,      0.9019,      0.9029,      0.9039,      0.9049,     0.90591,     0.90691,     0.90791,     0.90891,     0.90991,     0.91091,     0.91191,\n",
       "           0.91291,     0.91391,     0.91491,     0.91592,     0.91692,     0.91792,     0.91892,     0.91992,     0.92092,     0.92192,     0.92292,     0.92392,     0.92492,     0.92593,     0.92693,     0.92793,     0.92893,     0.92993,     0.93093,     0.93193,     0.93293,     0.93393,     0.93493,     0.93594,\n",
       "           0.93694,     0.93794,     0.93894,     0.93994,     0.94094,     0.94194,     0.94294,     0.94394,     0.94494,     0.94595,     0.94695,     0.94795,     0.94895,     0.94995,     0.95095,     0.95195,     0.95295,     0.95395,     0.95495,     0.95596,     0.95696,     0.95796,     0.95896,     0.95996,\n",
       "           0.96096,     0.96196,     0.96296,     0.96396,     0.96496,     0.96597,     0.96697,     0.96797,     0.96897,     0.96997,     0.97097,     0.97197,     0.97297,     0.97397,     0.97497,     0.97598,     0.97698,     0.97798,     0.97898,     0.97998,     0.98098,     0.98198,     0.98298,     0.98398,\n",
       "           0.98498,     0.98599,     0.98699,     0.98799,     0.98899,     0.98999,     0.99099,     0.99199,     0.99299,     0.99399,     0.99499,       0.996,       0.997,       0.998,       0.999,           1]), array([[    0.11388,     0.11388,     0.16424,     0.20093,     0.23029,     0.25791,     0.27775,     0.29838,     0.31712,      0.3307,     0.34411,     0.36029,     0.37306,      0.3856,     0.39805,     0.40867,     0.41792,     0.42818,     0.43819,     0.44609,     0.45364,     0.45931,     0.46715,\n",
       "            0.47293,     0.48037,     0.48499,     0.48852,     0.49038,     0.49746,     0.50389,     0.50906,     0.51325,      0.5178,     0.52234,     0.52647,     0.53171,     0.53391,     0.53616,     0.54002,     0.54348,      0.5466,     0.55094,     0.55493,     0.55897,     0.56284,     0.56657,\n",
       "            0.56908,     0.57248,     0.57621,     0.57908,     0.58222,     0.58634,     0.59052,     0.59519,     0.59834,     0.59946,     0.60004,       0.602,     0.60357,     0.60561,     0.60441,     0.60643,     0.60915,     0.61185,     0.61422,     0.61742,     0.61893,     0.62089,     0.62401,\n",
       "              0.626,      0.6279,     0.63018,      0.6309,     0.63345,     0.63618,     0.63793,     0.64087,     0.64245,      0.6437,     0.64465,       0.646,     0.64854,     0.65045,     0.65136,     0.65395,     0.65493,     0.65386,     0.65452,     0.65634,     0.65724,     0.65992,     0.66219,\n",
       "            0.66399,     0.66542,      0.6674,     0.66904,     0.66998,     0.66975,     0.67152,     0.67499,     0.67407,     0.67615,     0.67558,     0.67591,     0.67543,     0.67676,     0.67746,     0.67778,     0.67866,     0.68061,     0.67949,     0.67991,     0.68319,     0.68479,     0.68512,\n",
       "            0.68688,     0.68961,     0.69011,     0.69023,     0.69023,     0.69066,     0.69129,     0.69152,     0.69216,     0.69256,     0.69367,     0.69548,     0.69723,     0.69596,     0.69707,     0.69717,     0.69796,     0.69833,     0.69871,     0.69926,     0.69965,      0.6998,     0.70192,\n",
       "            0.70165,     0.70235,      0.7037,     0.70449,     0.70406,     0.70476,     0.70552,      0.7057,     0.70583,     0.70708,     0.70768,     0.70934,     0.71039,     0.71104,     0.71175,     0.71426,     0.71318,     0.71208,     0.71087,     0.71166,     0.71206,     0.71233,     0.71348,\n",
       "             0.7151,     0.71676,     0.71772,     0.71793,     0.71812,     0.71824,     0.71836,     0.71847,     0.71859,      0.7188,     0.71932,     0.71881,     0.71906,      0.7193,     0.71975,     0.72015,     0.72048,     0.72196,      0.7223,     0.72263,     0.72328,     0.72253,     0.72261,\n",
       "            0.72292,     0.72243,      0.7239,     0.72454,     0.72605,     0.72625,     0.72645,     0.72704,     0.72676,       0.727,     0.72724,     0.72714,     0.72743,     0.72766,     0.72788,     0.72846,     0.72901,     0.72975,     0.72891,     0.72937,     0.72986,     0.72901,     0.72945,\n",
       "            0.72958,      0.7303,      0.7316,     0.73273,     0.73361,     0.73407,     0.73438,     0.73357,     0.73448,     0.73547,     0.73578,     0.73608,     0.73637,     0.73722,     0.73779,      0.7381,      0.7384,     0.73848,     0.73877,     0.74032,     0.74078,     0.74144,     0.74093,\n",
       "            0.74044,     0.74083,     0.74005,     0.74033,     0.74004,     0.74268,     0.74283,     0.74298,     0.74312,     0.74327,     0.74236,     0.74224,     0.74186,     0.74121,     0.74073,     0.74033,     0.74054,     0.74076,     0.74176,     0.74269,     0.74295,     0.74312,     0.74328,\n",
       "            0.74395,      0.7425,      0.7422,      0.7426,     0.74281,     0.74303,     0.74403,     0.74516,     0.74528,     0.74539,     0.74551,     0.74563,     0.74618,     0.74599,     0.74516,     0.74296,     0.74322,     0.74348,     0.74244,      0.7417,     0.74175,     0.74119,     0.74152,\n",
       "            0.74107,     0.74062,     0.74237,     0.74163,     0.74065,      0.7402,      0.7398,     0.74024,     0.74081,     0.74134,      0.7424,     0.74267,     0.74293,     0.74269,     0.74223,     0.74215,     0.74174,       0.742,     0.74122,     0.74149,     0.74183,     0.74227,     0.74293,\n",
       "            0.74322,     0.74348,     0.74375,     0.74402,     0.74323,     0.74461,     0.74499,     0.74538,     0.74577,     0.74597,     0.74617,     0.74636,     0.74692,     0.74724,      0.7474,     0.74756,     0.74772,     0.74736,     0.74671,     0.74628,     0.74586,     0.74517,     0.74479,\n",
       "            0.74493,      0.7452,     0.74492,     0.74446,     0.74446,     0.74502,     0.74541,     0.74505,     0.74506,      0.7444,      0.7438,     0.74333,     0.74287,     0.74197,     0.74231,     0.74241,     0.74241,     0.74175,     0.74161,       0.742,     0.74263,     0.74116,     0.74134,\n",
       "            0.74153,     0.74171,     0.74116,     0.74091,     0.74126,      0.7411,     0.74076,     0.74043,     0.73867,     0.73814,     0.73872,     0.73912,     0.73896,     0.73853,      0.7381,      0.7376,     0.73655,      0.7369,     0.73743,     0.73802,     0.73837,     0.73772,     0.73715,\n",
       "            0.73688,     0.73662,     0.73635,     0.73607,     0.73576,     0.73544,     0.73512,     0.73521,     0.73556,     0.73522,     0.73453,     0.73475,       0.735,     0.73502,     0.73442,     0.73375,     0.73327,     0.73288,     0.73366,     0.73377,      0.7319,     0.73146,     0.72983,\n",
       "            0.73019,     0.73045,     0.72927,     0.72857,     0.72839,     0.72832,     0.72776,     0.72812,      0.7282,     0.72799,     0.72777,     0.72756,     0.72734,     0.72713,     0.72604,     0.72652,     0.72488,     0.72502,     0.72517,     0.72531,     0.72545,     0.72586,      0.7258,\n",
       "            0.72606,     0.72631,     0.72656,      0.7268,     0.72703,     0.72691,     0.72665,     0.72639,     0.72612,     0.72578,     0.72522,     0.72397,     0.72272,     0.72245,      0.7228,     0.72279,     0.72238,     0.72175,     0.72137,     0.72156,     0.72175,     0.72194,     0.72119,\n",
       "            0.71992,     0.72048,     0.72084,     0.72146,     0.72218,     0.72183,     0.72119,     0.72073,     0.72031,     0.71988,     0.71871,     0.71943,     0.72015,     0.71952,     0.71515,     0.71587,     0.71643,     0.71522,     0.71475,     0.71428,     0.70877,     0.70844,     0.70812,\n",
       "            0.70779,     0.70773,     0.70791,     0.70809,     0.70827,     0.70752,     0.70684,     0.70651,     0.70618,     0.70585,     0.70552,     0.70519,     0.70486,     0.70453,     0.70579,     0.70474,     0.70341,     0.70078,     0.69877,      0.6981,     0.69827,     0.69845,     0.69863,\n",
       "            0.69886,     0.69935,     0.69814,     0.69781,     0.69747,     0.69714,     0.69727,     0.69592,     0.69515,      0.6926,     0.69013,     0.68945,      0.6845,     0.68312,     0.68083,     0.68049,     0.68014,      0.6798,      0.6789,     0.67815,     0.67792,     0.67769,     0.67746,\n",
       "            0.67723,     0.67699,     0.67596,     0.67574,     0.67597,     0.67621,     0.67724,      0.6776,     0.67511,     0.67371,      0.6723,     0.67154,     0.67083,     0.67105,     0.67058,      0.6701,     0.66939,     0.66862,     0.66589,     0.66518,     0.66447,     0.66376,     0.66172,\n",
       "            0.66136,       0.661,     0.66065,     0.65996,     0.65876,     0.65804,       0.656,     0.65552,     0.65504,     0.65412,     0.65302,     0.65229,     0.65118,     0.64973,     0.64882,     0.64834,     0.64785,     0.64387,      0.6431,     0.64228,     0.63936,     0.63642,     0.63634,\n",
       "            0.63669,     0.63553,     0.63403,     0.63331,     0.63271,     0.63093,     0.62681,     0.62605,     0.62404,     0.62373,     0.62343,     0.62312,     0.62282,     0.62175,     0.62105,     0.62079,     0.62054,     0.62028,     0.62003,     0.61977,      0.6185,     0.61763,     0.61458,\n",
       "            0.61393,     0.61342,      0.6129,     0.61238,     0.61186,       0.612,     0.61038,     0.60659,     0.60502,     0.60392,     0.60314,     0.59927,     0.59847,     0.59246,     0.59086,     0.58612,     0.58533,     0.58479,     0.58425,     0.58122,       0.578,     0.57237,     0.56911,\n",
       "            0.56783,       0.567,     0.56576,     0.56247,      0.5608,     0.55961,     0.55877,     0.55886,     0.55636,     0.55505,     0.54902,     0.54817,      0.5471,     0.54539,     0.54367,     0.54196,     0.53518,     0.53197,      0.5308,     0.52477,     0.52389,     0.52044,     0.51954,\n",
       "            0.51862,     0.51511,     0.51163,     0.51044,     0.50887,     0.50589,     0.50499,     0.50345,      0.5023,     0.50139,     0.49978,     0.49528,     0.49197,     0.49105,     0.48797,     0.48612,     0.47725,       0.476,     0.47472,      0.4673,     0.46635,     0.45973,     0.45598,\n",
       "             0.4547,     0.45361,     0.45264,     0.45101,     0.44717,     0.44377,     0.44229,      0.4384,     0.43255,      0.4299,     0.42452,     0.42352,     0.41875,     0.41794,     0.41658,     0.41056,     0.40903,     0.40801,     0.40356,     0.40032,     0.39836,     0.39732,     0.39418,\n",
       "            0.39278,     0.38957,     0.38852,     0.38513,     0.38382,     0.38276,      0.3795,     0.37808,     0.37527,     0.37466,     0.37405,     0.37112,     0.37004,     0.36455,     0.36312,     0.36203,     0.35251,     0.35282,     0.35009,     0.34898,     0.34545,     0.33741,     0.33591,\n",
       "            0.33469,     0.33356,      0.3277,     0.32185,     0.32071,     0.31717,     0.31563,     0.31183,     0.30364,     0.30247,      0.2965,     0.29262,     0.29103,     0.28502,     0.28383,     0.27768,     0.27371,     0.27209,     0.26838,     0.26716,     0.26324,     0.26196,     0.26158,\n",
       "             0.2612,     0.26083,     0.26045,     0.26007,     0.25969,     0.25812,      0.2494,     0.24815,     0.24424,     0.23524,     0.23439,     0.23355,      0.2301,      0.2284,      0.2242,     0.21502,     0.21372,     0.21231,     0.21058,     0.20884,     0.20454,     0.20279,     0.20104,\n",
       "            0.19671,     0.19494,     0.19401,     0.19312,     0.18962,     0.18784,     0.18663,     0.18586,      0.1851,     0.18419,      0.1824,     0.17797,     0.17353,     0.17172,      0.1699,     0.16542,     0.16359,     0.15907,     0.15453,     0.15268,     0.14182,     0.13732,     0.13032,\n",
       "            0.12937,     0.12842,     0.12417,      0.1197,     0.11873,     0.11777,     0.11101,     0.10906,     0.10426,     0.10209,      0.0965,    0.094527,    0.092549,     0.08797,    0.086975,    0.085979,    0.084598,      0.0826,    0.078401,    0.077195,    0.073254,    0.072497,    0.071738,\n",
       "           0.070979,    0.069485,    0.064477,    0.062437,    0.060927,    0.059699,    0.055287,    0.053227,    0.052132,    0.051358,    0.050583,    0.049807,    0.045599,    0.044351,    0.043102,    0.041851,    0.040598,    0.038532,    0.035904,    0.034093,    0.033462,    0.032831,    0.032199,\n",
       "           0.031567,    0.029968,    0.024915,    0.023641,    0.022365,    0.017964,    0.016681,     0.01563,    0.015095,    0.014559,    0.014022,    0.013486,    0.012949,    0.012447,    0.011986,    0.011525,    0.011064,    0.010603,    0.010141,   0.0096797,   0.0092824,    0.008923,   0.0085634,\n",
       "          0.0082037,   0.0078439,    0.007484,   0.0071239,   0.0067637,   0.0064034,           0,           0,           0,           0,           0,           0,           0,           0,           0,           0,           0,           0,           0,           0,           0,           0,           0,\n",
       "                  0,           0,           0,           0,           0,           0,           0,           0,           0,           0,           0,           0,           0,           0,           0,           0,           0,           0,           0,           0,           0,           0,           0,\n",
       "                  0,           0,           0,           0,           0,           0,           0,           0,           0,           0,           0,           0,           0,           0,           0,           0,           0,           0,           0,           0,           0,           0,           0,\n",
       "                  0,           0,           0,           0,           0,           0,           0,           0,           0,           0,           0,           0,           0,           0,           0,           0,           0,           0,           0,           0,           0,           0,           0,\n",
       "                  0,           0,           0,           0,           0,           0,           0,           0,           0,           0,           0,           0,           0,           0,           0,           0,           0,           0,           0,           0,           0,           0,           0,\n",
       "                  0,           0,           0,           0,           0,           0,           0,           0,           0,           0,           0,           0,           0,           0,           0,           0,           0,           0,           0,           0,           0,           0,           0,\n",
       "                  0,           0,           0,           0,           0,           0,           0,           0,           0,           0,           0,           0,           0,           0,           0,           0,           0,           0,           0,           0,           0,           0,           0,\n",
       "                  0,           0,           0,           0,           0,           0,           0,           0,           0,           0,           0]]), 'Confidence', 'F1'], [array([          0,    0.001001,    0.002002,    0.003003,    0.004004,    0.005005,    0.006006,    0.007007,    0.008008,    0.009009,     0.01001,    0.011011,    0.012012,    0.013013,    0.014014,    0.015015,    0.016016,    0.017017,    0.018018,    0.019019,     0.02002,    0.021021,    0.022022,    0.023023,\n",
       "          0.024024,    0.025025,    0.026026,    0.027027,    0.028028,    0.029029,     0.03003,    0.031031,    0.032032,    0.033033,    0.034034,    0.035035,    0.036036,    0.037037,    0.038038,    0.039039,     0.04004,    0.041041,    0.042042,    0.043043,    0.044044,    0.045045,    0.046046,    0.047047,\n",
       "          0.048048,    0.049049,     0.05005,    0.051051,    0.052052,    0.053053,    0.054054,    0.055055,    0.056056,    0.057057,    0.058058,    0.059059,     0.06006,    0.061061,    0.062062,    0.063063,    0.064064,    0.065065,    0.066066,    0.067067,    0.068068,    0.069069,     0.07007,    0.071071,\n",
       "          0.072072,    0.073073,    0.074074,    0.075075,    0.076076,    0.077077,    0.078078,    0.079079,     0.08008,    0.081081,    0.082082,    0.083083,    0.084084,    0.085085,    0.086086,    0.087087,    0.088088,    0.089089,     0.09009,    0.091091,    0.092092,    0.093093,    0.094094,    0.095095,\n",
       "          0.096096,    0.097097,    0.098098,    0.099099,      0.1001,      0.1011,      0.1021,      0.1031,      0.1041,     0.10511,     0.10611,     0.10711,     0.10811,     0.10911,     0.11011,     0.11111,     0.11211,     0.11311,     0.11411,     0.11512,     0.11612,     0.11712,     0.11812,     0.11912,\n",
       "           0.12012,     0.12112,     0.12212,     0.12312,     0.12412,     0.12513,     0.12613,     0.12713,     0.12813,     0.12913,     0.13013,     0.13113,     0.13213,     0.13313,     0.13413,     0.13514,     0.13614,     0.13714,     0.13814,     0.13914,     0.14014,     0.14114,     0.14214,     0.14314,\n",
       "           0.14414,     0.14515,     0.14615,     0.14715,     0.14815,     0.14915,     0.15015,     0.15115,     0.15215,     0.15315,     0.15415,     0.15516,     0.15616,     0.15716,     0.15816,     0.15916,     0.16016,     0.16116,     0.16216,     0.16316,     0.16416,     0.16517,     0.16617,     0.16717,\n",
       "           0.16817,     0.16917,     0.17017,     0.17117,     0.17217,     0.17317,     0.17417,     0.17518,     0.17618,     0.17718,     0.17818,     0.17918,     0.18018,     0.18118,     0.18218,     0.18318,     0.18418,     0.18519,     0.18619,     0.18719,     0.18819,     0.18919,     0.19019,     0.19119,\n",
       "           0.19219,     0.19319,     0.19419,      0.1952,      0.1962,      0.1972,      0.1982,      0.1992,      0.2002,      0.2012,      0.2022,      0.2032,      0.2042,     0.20521,     0.20621,     0.20721,     0.20821,     0.20921,     0.21021,     0.21121,     0.21221,     0.21321,     0.21421,     0.21522,\n",
       "           0.21622,     0.21722,     0.21822,     0.21922,     0.22022,     0.22122,     0.22222,     0.22322,     0.22422,     0.22523,     0.22623,     0.22723,     0.22823,     0.22923,     0.23023,     0.23123,     0.23223,     0.23323,     0.23423,     0.23524,     0.23624,     0.23724,     0.23824,     0.23924,\n",
       "           0.24024,     0.24124,     0.24224,     0.24324,     0.24424,     0.24525,     0.24625,     0.24725,     0.24825,     0.24925,     0.25025,     0.25125,     0.25225,     0.25325,     0.25425,     0.25526,     0.25626,     0.25726,     0.25826,     0.25926,     0.26026,     0.26126,     0.26226,     0.26326,\n",
       "           0.26426,     0.26527,     0.26627,     0.26727,     0.26827,     0.26927,     0.27027,     0.27127,     0.27227,     0.27327,     0.27427,     0.27528,     0.27628,     0.27728,     0.27828,     0.27928,     0.28028,     0.28128,     0.28228,     0.28328,     0.28428,     0.28529,     0.28629,     0.28729,\n",
       "           0.28829,     0.28929,     0.29029,     0.29129,     0.29229,     0.29329,     0.29429,      0.2953,      0.2963,      0.2973,      0.2983,      0.2993,      0.3003,      0.3013,      0.3023,      0.3033,      0.3043,     0.30531,     0.30631,     0.30731,     0.30831,     0.30931,     0.31031,     0.31131,\n",
       "           0.31231,     0.31331,     0.31431,     0.31532,     0.31632,     0.31732,     0.31832,     0.31932,     0.32032,     0.32132,     0.32232,     0.32332,     0.32432,     0.32533,     0.32633,     0.32733,     0.32833,     0.32933,     0.33033,     0.33133,     0.33233,     0.33333,     0.33433,     0.33534,\n",
       "           0.33634,     0.33734,     0.33834,     0.33934,     0.34034,     0.34134,     0.34234,     0.34334,     0.34434,     0.34535,     0.34635,     0.34735,     0.34835,     0.34935,     0.35035,     0.35135,     0.35235,     0.35335,     0.35435,     0.35536,     0.35636,     0.35736,     0.35836,     0.35936,\n",
       "           0.36036,     0.36136,     0.36236,     0.36336,     0.36436,     0.36537,     0.36637,     0.36737,     0.36837,     0.36937,     0.37037,     0.37137,     0.37237,     0.37337,     0.37437,     0.37538,     0.37638,     0.37738,     0.37838,     0.37938,     0.38038,     0.38138,     0.38238,     0.38338,\n",
       "           0.38438,     0.38539,     0.38639,     0.38739,     0.38839,     0.38939,     0.39039,     0.39139,     0.39239,     0.39339,     0.39439,      0.3954,      0.3964,      0.3974,      0.3984,      0.3994,      0.4004,      0.4014,      0.4024,      0.4034,      0.4044,     0.40541,     0.40641,     0.40741,\n",
       "           0.40841,     0.40941,     0.41041,     0.41141,     0.41241,     0.41341,     0.41441,     0.41542,     0.41642,     0.41742,     0.41842,     0.41942,     0.42042,     0.42142,     0.42242,     0.42342,     0.42442,     0.42543,     0.42643,     0.42743,     0.42843,     0.42943,     0.43043,     0.43143,\n",
       "           0.43243,     0.43343,     0.43443,     0.43544,     0.43644,     0.43744,     0.43844,     0.43944,     0.44044,     0.44144,     0.44244,     0.44344,     0.44444,     0.44545,     0.44645,     0.44745,     0.44845,     0.44945,     0.45045,     0.45145,     0.45245,     0.45345,     0.45445,     0.45546,\n",
       "           0.45646,     0.45746,     0.45846,     0.45946,     0.46046,     0.46146,     0.46246,     0.46346,     0.46446,     0.46547,     0.46647,     0.46747,     0.46847,     0.46947,     0.47047,     0.47147,     0.47247,     0.47347,     0.47447,     0.47548,     0.47648,     0.47748,     0.47848,     0.47948,\n",
       "           0.48048,     0.48148,     0.48248,     0.48348,     0.48448,     0.48549,     0.48649,     0.48749,     0.48849,     0.48949,     0.49049,     0.49149,     0.49249,     0.49349,     0.49449,      0.4955,      0.4965,      0.4975,      0.4985,      0.4995,      0.5005,      0.5015,      0.5025,      0.5035,\n",
       "            0.5045,     0.50551,     0.50651,     0.50751,     0.50851,     0.50951,     0.51051,     0.51151,     0.51251,     0.51351,     0.51451,     0.51552,     0.51652,     0.51752,     0.51852,     0.51952,     0.52052,     0.52152,     0.52252,     0.52352,     0.52452,     0.52553,     0.52653,     0.52753,\n",
       "           0.52853,     0.52953,     0.53053,     0.53153,     0.53253,     0.53353,     0.53453,     0.53554,     0.53654,     0.53754,     0.53854,     0.53954,     0.54054,     0.54154,     0.54254,     0.54354,     0.54454,     0.54555,     0.54655,     0.54755,     0.54855,     0.54955,     0.55055,     0.55155,\n",
       "           0.55255,     0.55355,     0.55455,     0.55556,     0.55656,     0.55756,     0.55856,     0.55956,     0.56056,     0.56156,     0.56256,     0.56356,     0.56456,     0.56557,     0.56657,     0.56757,     0.56857,     0.56957,     0.57057,     0.57157,     0.57257,     0.57357,     0.57457,     0.57558,\n",
       "           0.57658,     0.57758,     0.57858,     0.57958,     0.58058,     0.58158,     0.58258,     0.58358,     0.58458,     0.58559,     0.58659,     0.58759,     0.58859,     0.58959,     0.59059,     0.59159,     0.59259,     0.59359,     0.59459,      0.5956,      0.5966,      0.5976,      0.5986,      0.5996,\n",
       "            0.6006,      0.6016,      0.6026,      0.6036,      0.6046,     0.60561,     0.60661,     0.60761,     0.60861,     0.60961,     0.61061,     0.61161,     0.61261,     0.61361,     0.61461,     0.61562,     0.61662,     0.61762,     0.61862,     0.61962,     0.62062,     0.62162,     0.62262,     0.62362,\n",
       "           0.62462,     0.62563,     0.62663,     0.62763,     0.62863,     0.62963,     0.63063,     0.63163,     0.63263,     0.63363,     0.63463,     0.63564,     0.63664,     0.63764,     0.63864,     0.63964,     0.64064,     0.64164,     0.64264,     0.64364,     0.64464,     0.64565,     0.64665,     0.64765,\n",
       "           0.64865,     0.64965,     0.65065,     0.65165,     0.65265,     0.65365,     0.65465,     0.65566,     0.65666,     0.65766,     0.65866,     0.65966,     0.66066,     0.66166,     0.66266,     0.66366,     0.66466,     0.66567,     0.66667,     0.66767,     0.66867,     0.66967,     0.67067,     0.67167,\n",
       "           0.67267,     0.67367,     0.67467,     0.67568,     0.67668,     0.67768,     0.67868,     0.67968,     0.68068,     0.68168,     0.68268,     0.68368,     0.68468,     0.68569,     0.68669,     0.68769,     0.68869,     0.68969,     0.69069,     0.69169,     0.69269,     0.69369,     0.69469,      0.6957,\n",
       "            0.6967,      0.6977,      0.6987,      0.6997,      0.7007,      0.7017,      0.7027,      0.7037,      0.7047,     0.70571,     0.70671,     0.70771,     0.70871,     0.70971,     0.71071,     0.71171,     0.71271,     0.71371,     0.71471,     0.71572,     0.71672,     0.71772,     0.71872,     0.71972,\n",
       "           0.72072,     0.72172,     0.72272,     0.72372,     0.72472,     0.72573,     0.72673,     0.72773,     0.72873,     0.72973,     0.73073,     0.73173,     0.73273,     0.73373,     0.73473,     0.73574,     0.73674,     0.73774,     0.73874,     0.73974,     0.74074,     0.74174,     0.74274,     0.74374,\n",
       "           0.74474,     0.74575,     0.74675,     0.74775,     0.74875,     0.74975,     0.75075,     0.75175,     0.75275,     0.75375,     0.75475,     0.75576,     0.75676,     0.75776,     0.75876,     0.75976,     0.76076,     0.76176,     0.76276,     0.76376,     0.76476,     0.76577,     0.76677,     0.76777,\n",
       "           0.76877,     0.76977,     0.77077,     0.77177,     0.77277,     0.77377,     0.77477,     0.77578,     0.77678,     0.77778,     0.77878,     0.77978,     0.78078,     0.78178,     0.78278,     0.78378,     0.78478,     0.78579,     0.78679,     0.78779,     0.78879,     0.78979,     0.79079,     0.79179,\n",
       "           0.79279,     0.79379,     0.79479,      0.7958,      0.7968,      0.7978,      0.7988,      0.7998,      0.8008,      0.8018,      0.8028,      0.8038,      0.8048,     0.80581,     0.80681,     0.80781,     0.80881,     0.80981,     0.81081,     0.81181,     0.81281,     0.81381,     0.81481,     0.81582,\n",
       "           0.81682,     0.81782,     0.81882,     0.81982,     0.82082,     0.82182,     0.82282,     0.82382,     0.82482,     0.82583,     0.82683,     0.82783,     0.82883,     0.82983,     0.83083,     0.83183,     0.83283,     0.83383,     0.83483,     0.83584,     0.83684,     0.83784,     0.83884,     0.83984,\n",
       "           0.84084,     0.84184,     0.84284,     0.84384,     0.84484,     0.84585,     0.84685,     0.84785,     0.84885,     0.84985,     0.85085,     0.85185,     0.85285,     0.85385,     0.85485,     0.85586,     0.85686,     0.85786,     0.85886,     0.85986,     0.86086,     0.86186,     0.86286,     0.86386,\n",
       "           0.86486,     0.86587,     0.86687,     0.86787,     0.86887,     0.86987,     0.87087,     0.87187,     0.87287,     0.87387,     0.87487,     0.87588,     0.87688,     0.87788,     0.87888,     0.87988,     0.88088,     0.88188,     0.88288,     0.88388,     0.88488,     0.88589,     0.88689,     0.88789,\n",
       "           0.88889,     0.88989,     0.89089,     0.89189,     0.89289,     0.89389,     0.89489,      0.8959,      0.8969,      0.8979,      0.8989,      0.8999,      0.9009,      0.9019,      0.9029,      0.9039,      0.9049,     0.90591,     0.90691,     0.90791,     0.90891,     0.90991,     0.91091,     0.91191,\n",
       "           0.91291,     0.91391,     0.91491,     0.91592,     0.91692,     0.91792,     0.91892,     0.91992,     0.92092,     0.92192,     0.92292,     0.92392,     0.92492,     0.92593,     0.92693,     0.92793,     0.92893,     0.92993,     0.93093,     0.93193,     0.93293,     0.93393,     0.93493,     0.93594,\n",
       "           0.93694,     0.93794,     0.93894,     0.93994,     0.94094,     0.94194,     0.94294,     0.94394,     0.94494,     0.94595,     0.94695,     0.94795,     0.94895,     0.94995,     0.95095,     0.95195,     0.95295,     0.95395,     0.95495,     0.95596,     0.95696,     0.95796,     0.95896,     0.95996,\n",
       "           0.96096,     0.96196,     0.96296,     0.96396,     0.96496,     0.96597,     0.96697,     0.96797,     0.96897,     0.96997,     0.97097,     0.97197,     0.97297,     0.97397,     0.97497,     0.97598,     0.97698,     0.97798,     0.97898,     0.97998,     0.98098,     0.98198,     0.98298,     0.98398,\n",
       "           0.98498,     0.98599,     0.98699,     0.98799,     0.98899,     0.98999,     0.99099,     0.99199,     0.99299,     0.99399,     0.99499,       0.996,       0.997,       0.998,       0.999,           1]), array([[   0.060946,    0.060946,     0.09077,     0.11384,      0.1331,     0.15195,     0.16605,     0.18116,     0.19515,     0.20573,     0.21643,     0.22938,     0.23997,     0.25045,     0.26121,     0.27077,     0.27913,     0.28836,     0.29751,     0.30506,     0.31216,      0.3178,     0.32535,\n",
       "            0.33099,     0.33859,     0.34347,     0.34731,     0.34977,     0.35702,     0.36368,     0.36909,      0.3735,     0.37835,     0.38321,     0.38767,     0.39338,      0.3958,     0.39828,     0.40333,     0.40759,     0.41112,     0.41605,     0.42061,     0.42527,     0.43021,     0.43459,\n",
       "            0.43847,     0.44252,       0.447,     0.45046,     0.45426,     0.45931,     0.46445,     0.47026,     0.47421,     0.47617,     0.47746,     0.48051,     0.48309,     0.48589,      0.4859,     0.48852,     0.49206,     0.49559,     0.49871,     0.50294,     0.50496,     0.50756,     0.51175,\n",
       "            0.51443,       0.517,     0.52016,     0.52244,     0.52734,     0.53115,     0.53359,     0.53771,     0.54143,     0.54324,     0.54533,     0.54727,     0.55091,     0.55367,     0.55659,     0.56038,     0.56183,     0.56188,     0.56368,     0.56639,     0.56774,      0.5726,     0.57603,\n",
       "            0.57875,     0.58093,     0.58395,     0.58648,     0.58883,     0.59045,     0.59401,     0.59946,     0.59994,     0.60323,     0.60377,     0.60483,     0.60471,     0.60719,     0.60832,     0.60986,     0.61128,     0.61445,     0.61469,     0.61538,     0.62077,     0.62343,     0.62614,\n",
       "            0.62908,     0.63368,     0.63547,     0.63672,     0.63699,     0.63772,      0.6388,      0.6398,     0.64144,     0.64212,     0.64521,     0.64954,      0.6526,      0.6528,     0.65475,     0.65617,     0.65757,     0.65824,     0.65941,     0.66115,     0.66185,     0.66339,      0.6672,\n",
       "            0.66802,     0.66929,     0.67174,     0.67319,     0.67506,     0.67634,     0.67774,     0.67808,     0.67839,     0.68201,     0.68312,     0.68622,     0.68819,     0.68941,     0.69074,     0.69549,     0.69646,     0.69595,     0.69624,     0.69777,     0.69854,     0.69906,     0.70128,\n",
       "            0.70441,     0.70764,     0.70951,     0.70992,     0.71031,     0.71054,     0.71076,     0.71099,     0.71122,     0.71164,     0.71265,     0.71319,     0.71367,     0.71416,     0.71504,     0.71583,     0.71649,     0.71942,     0.72009,     0.72075,     0.72205,     0.72186,     0.72229,\n",
       "            0.72292,     0.72352,     0.72648,     0.72776,     0.73082,     0.73123,     0.73163,     0.73283,     0.73391,      0.7344,     0.73489,     0.73585,     0.73694,     0.73741,     0.73788,     0.73906,      0.7402,     0.74177,     0.74142,     0.74265,     0.74366,     0.74361,     0.74453,\n",
       "            0.74564,     0.74805,     0.75078,     0.75316,     0.75503,     0.75599,     0.75665,     0.75674,     0.75867,     0.76079,     0.76145,     0.76208,     0.76271,     0.76455,     0.76576,     0.76643,     0.76787,     0.76911,     0.76975,     0.77312,     0.77412,     0.77564,     0.77545,\n",
       "            0.77527,     0.77653,     0.77624,     0.77748,     0.77824,     0.78411,     0.78444,     0.78476,     0.78509,     0.78542,     0.78537,     0.78709,      0.7873,     0.78706,     0.78689,      0.7868,     0.78728,     0.78777,     0.79004,     0.79215,     0.79274,     0.79312,      0.7935,\n",
       "            0.79525,     0.79474,     0.79515,     0.79607,     0.79656,     0.79706,     0.79935,     0.80197,     0.80225,     0.80252,     0.80279,     0.80307,     0.80473,     0.80721,     0.80823,      0.8076,     0.80822,     0.80884,     0.80862,     0.80838,     0.80916,     0.81005,     0.81095,\n",
       "             0.8108,     0.81065,     0.81515,     0.81633,     0.81602,     0.81588,      0.8158,     0.81687,     0.81826,     0.81955,     0.82215,      0.8228,     0.82346,     0.82354,      0.8234,      0.8239,     0.82465,      0.8259,     0.82639,     0.82705,     0.82789,       0.829,     0.83064,\n",
       "            0.83135,     0.83202,      0.8327,     0.83337,     0.83385,     0.83732,      0.8383,     0.83927,     0.84025,     0.84078,     0.84127,     0.84176,      0.8432,     0.84401,     0.84442,     0.84483,     0.84524,     0.84526,     0.84508,     0.84496,     0.84485,     0.84465,     0.84536,\n",
       "            0.84764,       0.849,     0.84918,     0.84906,     0.84969,     0.85115,     0.85217,     0.85233,     0.85391,     0.85373,     0.85357,     0.85345,     0.85332,     0.85378,     0.85469,     0.85639,       0.858,     0.85783,     0.85826,     0.85932,       0.861,     0.86262,     0.86312,\n",
       "            0.86362,     0.86412,     0.86424,     0.86477,     0.86571,      0.8659,     0.86581,     0.86573,     0.86529,     0.86576,     0.86736,     0.86845,     0.86875,     0.86864,     0.86854,     0.87013,     0.87012,     0.87109,     0.87259,     0.87422,      0.8752,     0.87537,     0.87523,\n",
       "            0.87517,     0.87511,     0.87505,     0.87498,      0.8749,     0.87483,     0.87475,     0.87534,     0.87632,     0.87655,     0.87639,     0.87707,      0.8778,     0.87828,     0.87814,     0.88039,     0.88214,     0.88417,     0.88645,     0.88897,     0.88857,     0.88848,     0.88814,\n",
       "            0.88918,     0.89015,      0.8899,     0.88975,     0.89044,      0.8916,      0.8919,     0.89296,      0.8935,     0.89345,     0.89341,     0.89337,     0.89332,     0.89328,     0.89305,     0.89492,     0.89679,     0.89722,     0.89766,     0.89809,     0.89852,     0.90087,     0.90311,\n",
       "             0.9039,      0.9047,     0.90546,      0.9062,     0.90693,     0.90711,     0.90706,     0.90701,     0.90697,      0.9069,     0.90885,     0.90862,      0.9084,     0.91062,     0.91175,     0.91257,     0.91461,      0.9145,     0.91461,     0.91522,     0.91584,     0.91645,     0.91653,\n",
       "            0.91632,     0.91933,     0.92049,     0.92253,     0.92488,      0.9253,      0.9252,     0.92513,     0.92507,     0.92501,     0.92914,     0.93155,     0.93398,     0.93393,     0.93342,     0.93588,     0.93813,     0.93798,     0.93792,     0.93786,     0.93715,     0.93711,     0.93707,\n",
       "            0.93703,     0.93734,     0.93797,      0.9386,     0.93923,     0.93937,     0.93929,     0.93925,     0.93921,     0.93916,     0.93912,     0.93908,     0.93904,       0.939,     0.94365,     0.94387,     0.94371,     0.94341,     0.94317,     0.94309,     0.94374,     0.94439,     0.94505,\n",
       "            0.94588,     0.94821,     0.94808,     0.94805,     0.94801,     0.94797,     0.95052,     0.95038,     0.95103,      0.9526,     0.95236,     0.95229,     0.95179,     0.95165,     0.95141,     0.95138,     0.95134,     0.95131,     0.95121,     0.95114,     0.95111,     0.95109,     0.95106,\n",
       "            0.95104,     0.95102,     0.95091,     0.95154,     0.95249,     0.95343,     0.95753,     0.95896,     0.95896,     0.95884,     0.95871,     0.95864,     0.95858,     0.96139,     0.96135,     0.96131,     0.96125,     0.96118,     0.96095,     0.96089,     0.96083,     0.96077,      0.9606,\n",
       "            0.96057,     0.96054,     0.96051,     0.96045,     0.96035,     0.96028,     0.96011,     0.96006,     0.96002,     0.95994,     0.95985,     0.95978,     0.95969,     0.95956,     0.95948,     0.95943,     0.95939,     0.95903,     0.96401,     0.96489,     0.96466,     0.96443,     0.96564,\n",
       "            0.96724,     0.96744,     0.96733,     0.96728,     0.96724,     0.97025,     0.96998,     0.96993,     0.96979,     0.96977,     0.96975,     0.96973,      0.9697,     0.96963,     0.96958,     0.96957,     0.96955,     0.96953,     0.96951,      0.9695,     0.96941,     0.97262,     0.97243,\n",
       "            0.97239,     0.97235,     0.97232,     0.97229,     0.97225,     0.97561,     0.97552,      0.9753,     0.97521,     0.97515,      0.9751,     0.97488,     0.97483,     0.97448,     0.97438,      0.9741,     0.97405,     0.97402,     0.97398,      0.9738,      0.9736,     0.97324,     0.97303,\n",
       "            0.97295,     0.97289,     0.97281,      0.9726,     0.97249,     0.97241,     0.97235,      0.9748,     0.97603,     0.97596,      0.9756,     0.97555,     0.97548,     0.97538,     0.97528,     0.97517,     0.97475,     0.97455,     0.97447,     0.97409,     0.97403,      0.9738,     0.97374,\n",
       "            0.97368,     0.97344,     0.97321,     0.97312,     0.97302,     0.97281,     0.97275,     0.97264,     0.97256,     0.97249,     0.97238,     0.97205,     0.97181,     0.97174,     0.97151,     0.97137,     0.97069,     0.97059,     0.97525,     0.97475,     0.97468,     0.97422,     0.97395,\n",
       "            0.97386,     0.97378,     0.97371,     0.97359,      0.9733,     0.97305,     0.97293,     0.97263,     0.97217,     0.97196,     0.97152,     0.97144,     0.97104,     0.97097,     0.97085,     0.97033,     0.97019,      0.9701,     0.97009,     0.98136,     0.98124,     0.98118,       0.981,\n",
       "            0.98092,     0.98072,     0.98066,     0.98045,     0.98037,     0.98031,      0.9801,     0.98001,     0.97983,     0.97979,     0.97975,     0.97956,     0.97949,     0.97912,     0.97902,     0.97894,      0.9787,     0.98358,     0.98526,      0.9852,     0.98502,      0.9846,     0.98452,\n",
       "            0.98445,     0.98439,     0.98406,     0.98372,     0.98365,     0.98344,     0.98334,      0.9831,     0.98257,     0.98249,     0.98209,     0.98181,      0.9817,     0.98126,     0.98117,     0.98069,     0.98037,     0.98024,     0.97993,     0.97982,     0.97948,     0.97937,     0.97934,\n",
       "             0.9793,     0.97927,     0.97924,      0.9792,     0.97917,     0.97903,      0.9782,     0.97808,     0.97769,     0.97674,     0.97664,     0.97655,     0.97616,     0.97597,     0.97547,     0.97432,     0.97415,     0.97396,     0.97373,     0.97349,     0.97289,     0.97264,     0.97238,\n",
       "            0.97172,     0.97144,     0.97129,     0.97115,     0.97058,     0.97028,     0.97008,     0.96994,     0.96981,     0.96965,     0.96933,     0.96852,     0.96766,      0.9673,     0.96693,     0.96599,     0.96559,     0.96456,     0.96347,     0.96301,     0.96006,     0.97889,      0.9777,\n",
       "            0.97753,     0.97735,     0.97654,           1,           1,           1,           1,           1,           1,           1,           1,           1,           1,           1,           1,           1,           1,           1,           1,           1,           1,           1,           1,\n",
       "                  1,           1,           1,           1,           1,           1,           1,           1,           1,           1,           1,           1,           1,           1,           1,           1,           1,           1,           1,           1,           1,           1,           1,\n",
       "                  1,           1,           1,           1,           1,           1,           1,           1,           1,           1,           1,           1,           1,           1,           1,           1,           1,           1,           1,           1,           1,           1,           1,\n",
       "                  1,           1,           1,           1,           1,           1,           1,           1,           1,           1,           1,           1,           1,           1,           1,           1,           1,           1,           1,           1,           1,           1,           1,\n",
       "                  1,           1,           1,           1,           1,           1,           1,           1,           1,           1,           1,           1,           1,           1,           1,           1,           1,           1,           1,           1,           1,           1,           1,\n",
       "                  1,           1,           1,           1,           1,           1,           1,           1,           1,           1,           1,           1,           1,           1,           1,           1,           1,           1,           1,           1,           1,           1,           1,\n",
       "                  1,           1,           1,           1,           1,           1,           1,           1,           1,           1,           1,           1,           1,           1,           1,           1,           1,           1,           1,           1,           1,           1,           1,\n",
       "                  1,           1,           1,           1,           1,           1,           1,           1,           1,           1,           1,           1,           1,           1,           1,           1,           1,           1,           1,           1,           1,           1,           1,\n",
       "                  1,           1,           1,           1,           1,           1,           1,           1,           1,           1,           1,           1,           1,           1,           1,           1,           1,           1,           1,           1,           1,           1,           1,\n",
       "                  1,           1,           1,           1,           1,           1,           1,           1,           1,           1,           1,           1,           1,           1,           1,           1,           1,           1,           1,           1,           1,           1,           1,\n",
       "                  1,           1,           1,           1,           1,           1,           1,           1,           1,           1,           1]]), 'Confidence', 'Precision'], [array([          0,    0.001001,    0.002002,    0.003003,    0.004004,    0.005005,    0.006006,    0.007007,    0.008008,    0.009009,     0.01001,    0.011011,    0.012012,    0.013013,    0.014014,    0.015015,    0.016016,    0.017017,    0.018018,    0.019019,     0.02002,    0.021021,    0.022022,    0.023023,\n",
       "          0.024024,    0.025025,    0.026026,    0.027027,    0.028028,    0.029029,     0.03003,    0.031031,    0.032032,    0.033033,    0.034034,    0.035035,    0.036036,    0.037037,    0.038038,    0.039039,     0.04004,    0.041041,    0.042042,    0.043043,    0.044044,    0.045045,    0.046046,    0.047047,\n",
       "          0.048048,    0.049049,     0.05005,    0.051051,    0.052052,    0.053053,    0.054054,    0.055055,    0.056056,    0.057057,    0.058058,    0.059059,     0.06006,    0.061061,    0.062062,    0.063063,    0.064064,    0.065065,    0.066066,    0.067067,    0.068068,    0.069069,     0.07007,    0.071071,\n",
       "          0.072072,    0.073073,    0.074074,    0.075075,    0.076076,    0.077077,    0.078078,    0.079079,     0.08008,    0.081081,    0.082082,    0.083083,    0.084084,    0.085085,    0.086086,    0.087087,    0.088088,    0.089089,     0.09009,    0.091091,    0.092092,    0.093093,    0.094094,    0.095095,\n",
       "          0.096096,    0.097097,    0.098098,    0.099099,      0.1001,      0.1011,      0.1021,      0.1031,      0.1041,     0.10511,     0.10611,     0.10711,     0.10811,     0.10911,     0.11011,     0.11111,     0.11211,     0.11311,     0.11411,     0.11512,     0.11612,     0.11712,     0.11812,     0.11912,\n",
       "           0.12012,     0.12112,     0.12212,     0.12312,     0.12412,     0.12513,     0.12613,     0.12713,     0.12813,     0.12913,     0.13013,     0.13113,     0.13213,     0.13313,     0.13413,     0.13514,     0.13614,     0.13714,     0.13814,     0.13914,     0.14014,     0.14114,     0.14214,     0.14314,\n",
       "           0.14414,     0.14515,     0.14615,     0.14715,     0.14815,     0.14915,     0.15015,     0.15115,     0.15215,     0.15315,     0.15415,     0.15516,     0.15616,     0.15716,     0.15816,     0.15916,     0.16016,     0.16116,     0.16216,     0.16316,     0.16416,     0.16517,     0.16617,     0.16717,\n",
       "           0.16817,     0.16917,     0.17017,     0.17117,     0.17217,     0.17317,     0.17417,     0.17518,     0.17618,     0.17718,     0.17818,     0.17918,     0.18018,     0.18118,     0.18218,     0.18318,     0.18418,     0.18519,     0.18619,     0.18719,     0.18819,     0.18919,     0.19019,     0.19119,\n",
       "           0.19219,     0.19319,     0.19419,      0.1952,      0.1962,      0.1972,      0.1982,      0.1992,      0.2002,      0.2012,      0.2022,      0.2032,      0.2042,     0.20521,     0.20621,     0.20721,     0.20821,     0.20921,     0.21021,     0.21121,     0.21221,     0.21321,     0.21421,     0.21522,\n",
       "           0.21622,     0.21722,     0.21822,     0.21922,     0.22022,     0.22122,     0.22222,     0.22322,     0.22422,     0.22523,     0.22623,     0.22723,     0.22823,     0.22923,     0.23023,     0.23123,     0.23223,     0.23323,     0.23423,     0.23524,     0.23624,     0.23724,     0.23824,     0.23924,\n",
       "           0.24024,     0.24124,     0.24224,     0.24324,     0.24424,     0.24525,     0.24625,     0.24725,     0.24825,     0.24925,     0.25025,     0.25125,     0.25225,     0.25325,     0.25425,     0.25526,     0.25626,     0.25726,     0.25826,     0.25926,     0.26026,     0.26126,     0.26226,     0.26326,\n",
       "           0.26426,     0.26527,     0.26627,     0.26727,     0.26827,     0.26927,     0.27027,     0.27127,     0.27227,     0.27327,     0.27427,     0.27528,     0.27628,     0.27728,     0.27828,     0.27928,     0.28028,     0.28128,     0.28228,     0.28328,     0.28428,     0.28529,     0.28629,     0.28729,\n",
       "           0.28829,     0.28929,     0.29029,     0.29129,     0.29229,     0.29329,     0.29429,      0.2953,      0.2963,      0.2973,      0.2983,      0.2993,      0.3003,      0.3013,      0.3023,      0.3033,      0.3043,     0.30531,     0.30631,     0.30731,     0.30831,     0.30931,     0.31031,     0.31131,\n",
       "           0.31231,     0.31331,     0.31431,     0.31532,     0.31632,     0.31732,     0.31832,     0.31932,     0.32032,     0.32132,     0.32232,     0.32332,     0.32432,     0.32533,     0.32633,     0.32733,     0.32833,     0.32933,     0.33033,     0.33133,     0.33233,     0.33333,     0.33433,     0.33534,\n",
       "           0.33634,     0.33734,     0.33834,     0.33934,     0.34034,     0.34134,     0.34234,     0.34334,     0.34434,     0.34535,     0.34635,     0.34735,     0.34835,     0.34935,     0.35035,     0.35135,     0.35235,     0.35335,     0.35435,     0.35536,     0.35636,     0.35736,     0.35836,     0.35936,\n",
       "           0.36036,     0.36136,     0.36236,     0.36336,     0.36436,     0.36537,     0.36637,     0.36737,     0.36837,     0.36937,     0.37037,     0.37137,     0.37237,     0.37337,     0.37437,     0.37538,     0.37638,     0.37738,     0.37838,     0.37938,     0.38038,     0.38138,     0.38238,     0.38338,\n",
       "           0.38438,     0.38539,     0.38639,     0.38739,     0.38839,     0.38939,     0.39039,     0.39139,     0.39239,     0.39339,     0.39439,      0.3954,      0.3964,      0.3974,      0.3984,      0.3994,      0.4004,      0.4014,      0.4024,      0.4034,      0.4044,     0.40541,     0.40641,     0.40741,\n",
       "           0.40841,     0.40941,     0.41041,     0.41141,     0.41241,     0.41341,     0.41441,     0.41542,     0.41642,     0.41742,     0.41842,     0.41942,     0.42042,     0.42142,     0.42242,     0.42342,     0.42442,     0.42543,     0.42643,     0.42743,     0.42843,     0.42943,     0.43043,     0.43143,\n",
       "           0.43243,     0.43343,     0.43443,     0.43544,     0.43644,     0.43744,     0.43844,     0.43944,     0.44044,     0.44144,     0.44244,     0.44344,     0.44444,     0.44545,     0.44645,     0.44745,     0.44845,     0.44945,     0.45045,     0.45145,     0.45245,     0.45345,     0.45445,     0.45546,\n",
       "           0.45646,     0.45746,     0.45846,     0.45946,     0.46046,     0.46146,     0.46246,     0.46346,     0.46446,     0.46547,     0.46647,     0.46747,     0.46847,     0.46947,     0.47047,     0.47147,     0.47247,     0.47347,     0.47447,     0.47548,     0.47648,     0.47748,     0.47848,     0.47948,\n",
       "           0.48048,     0.48148,     0.48248,     0.48348,     0.48448,     0.48549,     0.48649,     0.48749,     0.48849,     0.48949,     0.49049,     0.49149,     0.49249,     0.49349,     0.49449,      0.4955,      0.4965,      0.4975,      0.4985,      0.4995,      0.5005,      0.5015,      0.5025,      0.5035,\n",
       "            0.5045,     0.50551,     0.50651,     0.50751,     0.50851,     0.50951,     0.51051,     0.51151,     0.51251,     0.51351,     0.51451,     0.51552,     0.51652,     0.51752,     0.51852,     0.51952,     0.52052,     0.52152,     0.52252,     0.52352,     0.52452,     0.52553,     0.52653,     0.52753,\n",
       "           0.52853,     0.52953,     0.53053,     0.53153,     0.53253,     0.53353,     0.53453,     0.53554,     0.53654,     0.53754,     0.53854,     0.53954,     0.54054,     0.54154,     0.54254,     0.54354,     0.54454,     0.54555,     0.54655,     0.54755,     0.54855,     0.54955,     0.55055,     0.55155,\n",
       "           0.55255,     0.55355,     0.55455,     0.55556,     0.55656,     0.55756,     0.55856,     0.55956,     0.56056,     0.56156,     0.56256,     0.56356,     0.56456,     0.56557,     0.56657,     0.56757,     0.56857,     0.56957,     0.57057,     0.57157,     0.57257,     0.57357,     0.57457,     0.57558,\n",
       "           0.57658,     0.57758,     0.57858,     0.57958,     0.58058,     0.58158,     0.58258,     0.58358,     0.58458,     0.58559,     0.58659,     0.58759,     0.58859,     0.58959,     0.59059,     0.59159,     0.59259,     0.59359,     0.59459,      0.5956,      0.5966,      0.5976,      0.5986,      0.5996,\n",
       "            0.6006,      0.6016,      0.6026,      0.6036,      0.6046,     0.60561,     0.60661,     0.60761,     0.60861,     0.60961,     0.61061,     0.61161,     0.61261,     0.61361,     0.61461,     0.61562,     0.61662,     0.61762,     0.61862,     0.61962,     0.62062,     0.62162,     0.62262,     0.62362,\n",
       "           0.62462,     0.62563,     0.62663,     0.62763,     0.62863,     0.62963,     0.63063,     0.63163,     0.63263,     0.63363,     0.63463,     0.63564,     0.63664,     0.63764,     0.63864,     0.63964,     0.64064,     0.64164,     0.64264,     0.64364,     0.64464,     0.64565,     0.64665,     0.64765,\n",
       "           0.64865,     0.64965,     0.65065,     0.65165,     0.65265,     0.65365,     0.65465,     0.65566,     0.65666,     0.65766,     0.65866,     0.65966,     0.66066,     0.66166,     0.66266,     0.66366,     0.66466,     0.66567,     0.66667,     0.66767,     0.66867,     0.66967,     0.67067,     0.67167,\n",
       "           0.67267,     0.67367,     0.67467,     0.67568,     0.67668,     0.67768,     0.67868,     0.67968,     0.68068,     0.68168,     0.68268,     0.68368,     0.68468,     0.68569,     0.68669,     0.68769,     0.68869,     0.68969,     0.69069,     0.69169,     0.69269,     0.69369,     0.69469,      0.6957,\n",
       "            0.6967,      0.6977,      0.6987,      0.6997,      0.7007,      0.7017,      0.7027,      0.7037,      0.7047,     0.70571,     0.70671,     0.70771,     0.70871,     0.70971,     0.71071,     0.71171,     0.71271,     0.71371,     0.71471,     0.71572,     0.71672,     0.71772,     0.71872,     0.71972,\n",
       "           0.72072,     0.72172,     0.72272,     0.72372,     0.72472,     0.72573,     0.72673,     0.72773,     0.72873,     0.72973,     0.73073,     0.73173,     0.73273,     0.73373,     0.73473,     0.73574,     0.73674,     0.73774,     0.73874,     0.73974,     0.74074,     0.74174,     0.74274,     0.74374,\n",
       "           0.74474,     0.74575,     0.74675,     0.74775,     0.74875,     0.74975,     0.75075,     0.75175,     0.75275,     0.75375,     0.75475,     0.75576,     0.75676,     0.75776,     0.75876,     0.75976,     0.76076,     0.76176,     0.76276,     0.76376,     0.76476,     0.76577,     0.76677,     0.76777,\n",
       "           0.76877,     0.76977,     0.77077,     0.77177,     0.77277,     0.77377,     0.77477,     0.77578,     0.77678,     0.77778,     0.77878,     0.77978,     0.78078,     0.78178,     0.78278,     0.78378,     0.78478,     0.78579,     0.78679,     0.78779,     0.78879,     0.78979,     0.79079,     0.79179,\n",
       "           0.79279,     0.79379,     0.79479,      0.7958,      0.7968,      0.7978,      0.7988,      0.7998,      0.8008,      0.8018,      0.8028,      0.8038,      0.8048,     0.80581,     0.80681,     0.80781,     0.80881,     0.80981,     0.81081,     0.81181,     0.81281,     0.81381,     0.81481,     0.81582,\n",
       "           0.81682,     0.81782,     0.81882,     0.81982,     0.82082,     0.82182,     0.82282,     0.82382,     0.82482,     0.82583,     0.82683,     0.82783,     0.82883,     0.82983,     0.83083,     0.83183,     0.83283,     0.83383,     0.83483,     0.83584,     0.83684,     0.83784,     0.83884,     0.83984,\n",
       "           0.84084,     0.84184,     0.84284,     0.84384,     0.84484,     0.84585,     0.84685,     0.84785,     0.84885,     0.84985,     0.85085,     0.85185,     0.85285,     0.85385,     0.85485,     0.85586,     0.85686,     0.85786,     0.85886,     0.85986,     0.86086,     0.86186,     0.86286,     0.86386,\n",
       "           0.86486,     0.86587,     0.86687,     0.86787,     0.86887,     0.86987,     0.87087,     0.87187,     0.87287,     0.87387,     0.87487,     0.87588,     0.87688,     0.87788,     0.87888,     0.87988,     0.88088,     0.88188,     0.88288,     0.88388,     0.88488,     0.88589,     0.88689,     0.88789,\n",
       "           0.88889,     0.88989,     0.89089,     0.89189,     0.89289,     0.89389,     0.89489,      0.8959,      0.8969,      0.8979,      0.8989,      0.8999,      0.9009,      0.9019,      0.9029,      0.9039,      0.9049,     0.90591,     0.90691,     0.90791,     0.90891,     0.90991,     0.91091,     0.91191,\n",
       "           0.91291,     0.91391,     0.91491,     0.91592,     0.91692,     0.91792,     0.91892,     0.91992,     0.92092,     0.92192,     0.92292,     0.92392,     0.92492,     0.92593,     0.92693,     0.92793,     0.92893,     0.92993,     0.93093,     0.93193,     0.93293,     0.93393,     0.93493,     0.93594,\n",
       "           0.93694,     0.93794,     0.93894,     0.93994,     0.94094,     0.94194,     0.94294,     0.94394,     0.94494,     0.94595,     0.94695,     0.94795,     0.94895,     0.94995,     0.95095,     0.95195,     0.95295,     0.95395,     0.95495,     0.95596,     0.95696,     0.95796,     0.95896,     0.95996,\n",
       "           0.96096,     0.96196,     0.96296,     0.96396,     0.96496,     0.96597,     0.96697,     0.96797,     0.96897,     0.96997,     0.97097,     0.97197,     0.97297,     0.97397,     0.97497,     0.97598,     0.97698,     0.97798,     0.97898,     0.97998,     0.98098,     0.98198,     0.98298,     0.98398,\n",
       "           0.98498,     0.98599,     0.98699,     0.98799,     0.98899,     0.98999,     0.99099,     0.99199,     0.99299,     0.99399,     0.99499,       0.996,       0.997,       0.998,       0.999,           1]), array([[    0.86624,     0.86624,     0.86146,      0.8551,      0.8535,     0.85191,     0.84873,     0.84554,     0.84554,     0.84236,     0.83917,     0.83917,     0.83758,     0.83758,     0.83599,      0.8328,     0.83121,     0.83121,     0.83121,     0.82962,     0.82962,     0.82803,     0.82803,\n",
       "            0.82803,     0.82643,     0.82484,     0.82325,     0.82006,     0.82006,     0.82006,     0.82006,     0.82006,     0.82006,     0.82006,     0.82006,     0.82006,     0.82006,     0.82006,     0.81688,     0.81529,     0.81529,     0.81529,     0.81529,     0.81529,     0.81369,     0.81369,\n",
       "            0.81051,     0.81051,     0.81051,     0.81051,     0.81051,     0.81051,     0.81051,     0.81051,     0.81051,     0.80892,     0.80732,     0.80573,     0.80414,     0.80363,     0.79936,     0.79936,     0.79936,     0.79936,     0.79936,     0.79936,     0.79936,     0.79936,     0.79936,\n",
       "            0.79936,     0.79936,     0.79923,     0.79618,     0.79299,     0.79299,     0.79299,     0.79299,     0.78981,     0.78974,     0.78822,     0.78822,     0.78822,     0.78822,     0.78503,     0.78503,     0.78503,     0.78185,     0.78025,     0.78025,     0.78025,     0.77866,     0.77866,\n",
       "            0.77866,     0.77866,     0.77866,     0.77866,     0.77707,     0.77366,     0.77229,     0.77229,     0.76911,     0.76911,     0.76676,     0.76592,     0.76489,     0.76433,     0.76433,     0.76274,     0.76274,     0.76274,     0.75955,     0.75955,     0.75955,     0.75955,     0.75637,\n",
       "            0.75637,     0.75637,     0.75504,     0.75356,     0.75318,     0.75318,     0.75318,     0.75235,     0.75159,     0.75159,        0.75,     0.74841,     0.74841,     0.74522,     0.74522,     0.74363,     0.74363,     0.74363,     0.74298,     0.74204,     0.74204,     0.74045,     0.74045,\n",
       "            0.73885,     0.73885,     0.73885,     0.73885,     0.73567,     0.73567,     0.73567,     0.73567,     0.73558,     0.73408,     0.73408,     0.73408,     0.73408,     0.73408,     0.73408,     0.73408,     0.73073,     0.72897,     0.72611,     0.72611,     0.72611,     0.72611,     0.72611,\n",
       "            0.72611,     0.72611,     0.72611,     0.72611,     0.72611,     0.72611,     0.72611,     0.72611,     0.72611,     0.72611,     0.72611,     0.72452,     0.72452,     0.72452,     0.72452,     0.72452,     0.72452,     0.72452,     0.72452,     0.72452,     0.72452,     0.72321,     0.72293,\n",
       "            0.72293,     0.72134,     0.72134,     0.72134,     0.72134,     0.72134,     0.72134,     0.72134,     0.71975,     0.71975,     0.71975,     0.71862,     0.71815,     0.71815,     0.71815,     0.71815,     0.71815,     0.71811,     0.71681,     0.71656,     0.71656,     0.71497,     0.71497,\n",
       "            0.71419,     0.71338,     0.71338,     0.71338,     0.71338,     0.71338,     0.71338,     0.71178,     0.71178,     0.71178,     0.71178,     0.71178,     0.71178,     0.71178,     0.71178,     0.71178,     0.71111,     0.71019,     0.71019,     0.71019,     0.71019,     0.71013,     0.70936,\n",
       "             0.7086,     0.70827,     0.70709,     0.70657,     0.70541,     0.70541,     0.70541,     0.70541,     0.70541,     0.70541,     0.70382,     0.70223,     0.70137,      0.7004,     0.69968,     0.69904,     0.69904,     0.69904,     0.69904,     0.69904,     0.69904,     0.69904,     0.69904,\n",
       "            0.69887,      0.6967,     0.69586,     0.69586,     0.69586,     0.69586,     0.69586,     0.69586,     0.69586,     0.69586,     0.69586,     0.69586,     0.69558,      0.6934,     0.69123,      0.6879,      0.6879,      0.6879,     0.68627,     0.68518,     0.68471,     0.68312,     0.68304,\n",
       "            0.68238,     0.68173,     0.68153,     0.67944,     0.67802,     0.67737,     0.67675,     0.67675,     0.67675,     0.67675,     0.67675,     0.67675,     0.67675,     0.67629,     0.67563,     0.67516,     0.67398,     0.67357,     0.67197,     0.67197,     0.67197,     0.67197,     0.67197,\n",
       "            0.67197,     0.67197,     0.67197,     0.67197,     0.67038,     0.67038,     0.67038,     0.67038,     0.67038,     0.67038,     0.67038,     0.67038,     0.67038,     0.67038,     0.67038,     0.67038,     0.67038,     0.66978,     0.66885,     0.66824,     0.66764,     0.66665,     0.66561,\n",
       "            0.66442,     0.66401,     0.66347,     0.66281,     0.66242,     0.66242,     0.66242,     0.66175,     0.66082,     0.65989,     0.65904,     0.65839,     0.65773,     0.65605,     0.65605,      0.6552,     0.65427,     0.65334,     0.65287,     0.65287,     0.65287,     0.64968,     0.64968,\n",
       "            0.64968,     0.64968,     0.64876,     0.64809,     0.64809,     0.64774,     0.64728,     0.64681,     0.64437,     0.64331,     0.64331,     0.64331,     0.64292,     0.64232,     0.64173,     0.64011,     0.63854,     0.63854,     0.63854,     0.63854,     0.63854,     0.63749,      0.6367,\n",
       "            0.63634,     0.63598,     0.63561,     0.63523,     0.63479,     0.63436,     0.63392,     0.63376,     0.63376,     0.63314,      0.6322,     0.63217,     0.63217,     0.63194,     0.63112,     0.62898,     0.62739,      0.6258,      0.6258,     0.62471,      0.6222,     0.62161,     0.61943,\n",
       "            0.61943,     0.61933,     0.61776,     0.61682,     0.61624,     0.61559,     0.61465,     0.61465,     0.61452,     0.61423,     0.61395,     0.61366,     0.61338,      0.6131,     0.61165,     0.61146,     0.60828,     0.60828,     0.60828,     0.60828,     0.60828,     0.60779,     0.60669,\n",
       "            0.60669,     0.60669,     0.60669,     0.60669,     0.60669,     0.60644,      0.6061,     0.60575,     0.60541,     0.60496,     0.60333,     0.60169,     0.60006,     0.59873,     0.59873,     0.59835,     0.59693,     0.59611,     0.59554,     0.59554,     0.59554,     0.59554,     0.59449,\n",
       "            0.59286,     0.59236,     0.59236,     0.59236,     0.59236,     0.59171,     0.59089,     0.59031,     0.58976,     0.58922,     0.58599,     0.58599,     0.58599,     0.58518,     0.57962,     0.57962,     0.57948,     0.57796,     0.57737,     0.57677,     0.56989,     0.56948,     0.56907,\n",
       "            0.56867,     0.56847,     0.56847,     0.56847,     0.56847,     0.56746,     0.56662,     0.56621,      0.5658,     0.56539,     0.56498,     0.56458,     0.56417,     0.56376,     0.56369,     0.56228,     0.56065,     0.55743,     0.55497,     0.55415,     0.55414,     0.55414,     0.55414,\n",
       "            0.55414,     0.55396,     0.55249,     0.55209,     0.55168,     0.55127,     0.55058,     0.54895,     0.54777,     0.54409,     0.54113,     0.54032,     0.53441,     0.53278,     0.53008,     0.52967,     0.52926,     0.52886,     0.52781,     0.52692,     0.52665,     0.52638,      0.5261,\n",
       "            0.52583,     0.52556,     0.52434,     0.52389,     0.52389,     0.52389,     0.52389,     0.52389,     0.52092,     0.51929,     0.51765,     0.51677,     0.51595,      0.5154,     0.51486,      0.5143,     0.51348,      0.5126,     0.50946,     0.50865,     0.50783,     0.50702,     0.50469,\n",
       "            0.50428,     0.50388,     0.50347,     0.50269,     0.50132,     0.50051,      0.4982,     0.49766,     0.49711,     0.49608,     0.49483,     0.49402,     0.49277,     0.49114,     0.49013,     0.48959,     0.48905,     0.48461,     0.48248,     0.48135,     0.47812,      0.4749,     0.47452,\n",
       "            0.47452,     0.47319,     0.47155,     0.47077,     0.47012,     0.46745,     0.46301,     0.46219,     0.46003,      0.4597,     0.45937,     0.45905,     0.45872,     0.45758,     0.45683,     0.45656,     0.45629,     0.45601,     0.45574,     0.45547,     0.45412,     0.45249,     0.44926,\n",
       "            0.44857,     0.44803,     0.44748,     0.44694,      0.4464,     0.44584,     0.44414,     0.44018,     0.43855,     0.43741,     0.43659,     0.43259,     0.43178,     0.42561,     0.42398,     0.41916,     0.41837,     0.41783,     0.41728,     0.41423,       0.411,     0.40539,     0.40217,\n",
       "             0.4009,     0.40009,     0.39886,     0.39564,       0.394,     0.39284,     0.39203,     0.39172,     0.38907,      0.3878,     0.38199,     0.38118,     0.38015,     0.37852,     0.37689,     0.37525,     0.36884,     0.36583,     0.36474,     0.35912,     0.35831,     0.35511,     0.35429,\n",
       "            0.35344,     0.35021,     0.34704,     0.34595,     0.34452,     0.34183,     0.34101,     0.33962,     0.33858,     0.33777,     0.33632,      0.3323,     0.32935,     0.32853,     0.32581,     0.32418,     0.31641,     0.31532,     0.31371,     0.30731,      0.3065,     0.30085,     0.29767,\n",
       "            0.29659,     0.29567,     0.29485,     0.29349,     0.29026,     0.28743,      0.2862,     0.28298,     0.27816,     0.27598,      0.2716,     0.27079,     0.26693,     0.26628,     0.26518,     0.26036,     0.25914,     0.25833,     0.25478,     0.25145,     0.24991,     0.24909,     0.24664,\n",
       "            0.24555,     0.24306,     0.24224,     0.23963,     0.23862,     0.23781,     0.23531,     0.23422,     0.23208,     0.23161,     0.23115,     0.22893,     0.22811,     0.22397,      0.2229,     0.22208,     0.21497,     0.21497,     0.21286,     0.21205,     0.20946,     0.20359,      0.2025,\n",
       "            0.20162,      0.2008,     0.19658,      0.1924,     0.19159,     0.18907,     0.18799,     0.18531,     0.17956,     0.17875,     0.17461,     0.17193,     0.17084,     0.16673,     0.16591,     0.16174,     0.15906,     0.15797,     0.15548,     0.15466,     0.15205,      0.1512,     0.15095,\n",
       "             0.1507,     0.15045,      0.1502,     0.14995,      0.1497,     0.14865,     0.14292,      0.1421,     0.13955,     0.13372,     0.13318,     0.13263,     0.13042,     0.12933,     0.12665,     0.12085,     0.12003,     0.11914,     0.11805,     0.11697,     0.11429,      0.1132,     0.11211,\n",
       "            0.10943,     0.10834,     0.10777,     0.10722,     0.10508,     0.10399,     0.10324,     0.10278,     0.10231,     0.10176,     0.10067,     0.09799,    0.095309,    0.094221,    0.093133,    0.090452,    0.089364,    0.086684,    0.084003,    0.082915,    0.076562,    0.073839,    0.069815,\n",
       "           0.069271,    0.068727,    0.066301,    0.063658,    0.063114,    0.062569,    0.058764,    0.057676,    0.054996,    0.053791,    0.050696,    0.049608,     0.04852,    0.046009,    0.045465,    0.044921,    0.044167,    0.043079,      0.0408,    0.040147,     0.03802,    0.037612,    0.037204,\n",
       "           0.036796,    0.035993,    0.033313,    0.032224,    0.031421,    0.030768,    0.028429,    0.027341,    0.026764,    0.026356,    0.025948,    0.025539,    0.023331,    0.022678,    0.022026,    0.021373,     0.02072,    0.019644,     0.01828,    0.017342,    0.017016,    0.016689,    0.016363,\n",
       "           0.016037,    0.015212,    0.012615,    0.011962,    0.011309,   0.0090635,   0.0084106,   0.0078768,   0.0076047,   0.0073327,   0.0070607,   0.0067886,   0.0065166,   0.0062624,   0.0060292,   0.0057961,   0.0055629,   0.0053297,   0.0050965,   0.0048634,   0.0046628,   0.0044815,   0.0043001,\n",
       "          0.0041188,   0.0039374,   0.0037561,   0.0035747,   0.0033933,    0.003212,           0,           0,           0,           0,           0,           0,           0,           0,           0,           0,           0,           0,           0,           0,           0,           0,           0,\n",
       "                  0,           0,           0,           0,           0,           0,           0,           0,           0,           0,           0,           0,           0,           0,           0,           0,           0,           0,           0,           0,           0,           0,           0,\n",
       "                  0,           0,           0,           0,           0,           0,           0,           0,           0,           0,           0,           0,           0,           0,           0,           0,           0,           0,           0,           0,           0,           0,           0,\n",
       "                  0,           0,           0,           0,           0,           0,           0,           0,           0,           0,           0,           0,           0,           0,           0,           0,           0,           0,           0,           0,           0,           0,           0,\n",
       "                  0,           0,           0,           0,           0,           0,           0,           0,           0,           0,           0,           0,           0,           0,           0,           0,           0,           0,           0,           0,           0,           0,           0,\n",
       "                  0,           0,           0,           0,           0,           0,           0,           0,           0,           0,           0,           0,           0,           0,           0,           0,           0,           0,           0,           0,           0,           0,           0,\n",
       "                  0,           0,           0,           0,           0,           0,           0,           0,           0,           0,           0,           0,           0,           0,           0,           0,           0,           0,           0,           0,           0,           0,           0,\n",
       "                  0,           0,           0,           0,           0,           0,           0,           0,           0,           0,           0]]), 'Confidence', 'Recall']]\n",
       "fitness: 0.39420466313266816\n",
       "keys: ['metrics/precision(B)', 'metrics/recall(B)', 'metrics/mAP50(B)', 'metrics/mAP50-95(B)']\n",
       "maps: array([     0.3537])\n",
       "names: {0: 'Trash'}\n",
       "plot: True\n",
       "results_dict: {'metrics/precision(B)': 0.819548672097753, 'metrics/recall(B)': 0.6767515923566879, 'metrics/mAP50(B)': 0.758732928208312, 'metrics/mAP50-95(B)': 0.35370152256870774, 'fitness': 0.39420466313266816}\n",
       "save_dir: WindowsPath('runs/detect/yolo12-nano')\n",
       "speed: {'preprocess': 0.2781497907932005, 'inference': 4.086051046028824, 'loss': 0.0005849372344482427, 'postprocess': 2.5523259414208286}\n",
       "task: 'detect'"
      ]
     },
     "execution_count": 3,
     "metadata": {},
     "output_type": "execute_result"
    }
   ],
   "source": [
    "model = YOLO('yolo12n.yaml')\n",
    "model.train(\n",
    "    data=data_path,\n",
    "    epochs=50,\n",
    "    batch=12,\n",
    "    imgsz=640,\n",
    "    name='yolo12-nano', \n",
    ")"
   ]
  },
  {
   "cell_type": "code",
   "execution_count": 4,
   "metadata": {},
   "outputs": [
    {
     "name": "stdout",
     "output_type": "stream",
     "text": [
      "Ultralytics 8.3.96  Python-3.9.21 torch-2.6.0+cu118 CUDA:0 (NVIDIA GeForce GTX 1060 6GB, 6144MiB)\n",
      "YOLO12n summary (fused): 159 layers, 2,556,923 parameters, 0 gradients, 6.3 GFLOPs\n"
     ]
    },
    {
     "name": "stderr",
     "output_type": "stream",
     "text": [
      "\u001b[34m\u001b[1mval: \u001b[0mScanning C:\\Users\\MUHAMMADRAFLYARJASUB\\Documents\\BojongTrash\\ultralytics-floating-trash\\datasets\\TestDataset\\flowtest\\test\\labels.cache... 800 images, 1 backgrounds, 0 corrupt: 100%|██████████| 800/800 [00:00<?, ?it/s]\n",
      "                 Class     Images  Instances      Box(P          R      mAP50  mAP50-95): 100%|██████████| 67/67 [00:09<00:00,  6.93it/s]\n"
     ]
    },
    {
     "name": "stdout",
     "output_type": "stream",
     "text": [
      "                   all        800       2022       0.76      0.626      0.678      0.283\n",
      "Speed: 0.2ms preprocess, 4.8ms inference, 0.0ms loss, 1.3ms postprocess per image\n",
      "Results saved to \u001b[1mruns\\detect\\yolo12-nano2\u001b[0m\n"
     ]
    },
    {
     "data": {
      "text/plain": [
       "ultralytics.utils.metrics.DetMetrics object with attributes:\n",
       "\n",
       "ap_class_index: array([0])\n",
       "box: ultralytics.utils.metrics.Metric object\n",
       "confusion_matrix: <ultralytics.utils.metrics.ConfusionMatrix object at 0x00000218A7D2EC10>\n",
       "curves: ['Precision-Recall(B)', 'F1-Confidence(B)', 'Precision-Confidence(B)', 'Recall-Confidence(B)']\n",
       "curves_results: [[array([          0,    0.001001,    0.002002,    0.003003,    0.004004,    0.005005,    0.006006,    0.007007,    0.008008,    0.009009,     0.01001,    0.011011,    0.012012,    0.013013,    0.014014,    0.015015,    0.016016,    0.017017,    0.018018,    0.019019,     0.02002,    0.021021,    0.022022,    0.023023,\n",
       "          0.024024,    0.025025,    0.026026,    0.027027,    0.028028,    0.029029,     0.03003,    0.031031,    0.032032,    0.033033,    0.034034,    0.035035,    0.036036,    0.037037,    0.038038,    0.039039,     0.04004,    0.041041,    0.042042,    0.043043,    0.044044,    0.045045,    0.046046,    0.047047,\n",
       "          0.048048,    0.049049,     0.05005,    0.051051,    0.052052,    0.053053,    0.054054,    0.055055,    0.056056,    0.057057,    0.058058,    0.059059,     0.06006,    0.061061,    0.062062,    0.063063,    0.064064,    0.065065,    0.066066,    0.067067,    0.068068,    0.069069,     0.07007,    0.071071,\n",
       "          0.072072,    0.073073,    0.074074,    0.075075,    0.076076,    0.077077,    0.078078,    0.079079,     0.08008,    0.081081,    0.082082,    0.083083,    0.084084,    0.085085,    0.086086,    0.087087,    0.088088,    0.089089,     0.09009,    0.091091,    0.092092,    0.093093,    0.094094,    0.095095,\n",
       "          0.096096,    0.097097,    0.098098,    0.099099,      0.1001,      0.1011,      0.1021,      0.1031,      0.1041,     0.10511,     0.10611,     0.10711,     0.10811,     0.10911,     0.11011,     0.11111,     0.11211,     0.11311,     0.11411,     0.11512,     0.11612,     0.11712,     0.11812,     0.11912,\n",
       "           0.12012,     0.12112,     0.12212,     0.12312,     0.12412,     0.12513,     0.12613,     0.12713,     0.12813,     0.12913,     0.13013,     0.13113,     0.13213,     0.13313,     0.13413,     0.13514,     0.13614,     0.13714,     0.13814,     0.13914,     0.14014,     0.14114,     0.14214,     0.14314,\n",
       "           0.14414,     0.14515,     0.14615,     0.14715,     0.14815,     0.14915,     0.15015,     0.15115,     0.15215,     0.15315,     0.15415,     0.15516,     0.15616,     0.15716,     0.15816,     0.15916,     0.16016,     0.16116,     0.16216,     0.16316,     0.16416,     0.16517,     0.16617,     0.16717,\n",
       "           0.16817,     0.16917,     0.17017,     0.17117,     0.17217,     0.17317,     0.17417,     0.17518,     0.17618,     0.17718,     0.17818,     0.17918,     0.18018,     0.18118,     0.18218,     0.18318,     0.18418,     0.18519,     0.18619,     0.18719,     0.18819,     0.18919,     0.19019,     0.19119,\n",
       "           0.19219,     0.19319,     0.19419,      0.1952,      0.1962,      0.1972,      0.1982,      0.1992,      0.2002,      0.2012,      0.2022,      0.2032,      0.2042,     0.20521,     0.20621,     0.20721,     0.20821,     0.20921,     0.21021,     0.21121,     0.21221,     0.21321,     0.21421,     0.21522,\n",
       "           0.21622,     0.21722,     0.21822,     0.21922,     0.22022,     0.22122,     0.22222,     0.22322,     0.22422,     0.22523,     0.22623,     0.22723,     0.22823,     0.22923,     0.23023,     0.23123,     0.23223,     0.23323,     0.23423,     0.23524,     0.23624,     0.23724,     0.23824,     0.23924,\n",
       "           0.24024,     0.24124,     0.24224,     0.24324,     0.24424,     0.24525,     0.24625,     0.24725,     0.24825,     0.24925,     0.25025,     0.25125,     0.25225,     0.25325,     0.25425,     0.25526,     0.25626,     0.25726,     0.25826,     0.25926,     0.26026,     0.26126,     0.26226,     0.26326,\n",
       "           0.26426,     0.26527,     0.26627,     0.26727,     0.26827,     0.26927,     0.27027,     0.27127,     0.27227,     0.27327,     0.27427,     0.27528,     0.27628,     0.27728,     0.27828,     0.27928,     0.28028,     0.28128,     0.28228,     0.28328,     0.28428,     0.28529,     0.28629,     0.28729,\n",
       "           0.28829,     0.28929,     0.29029,     0.29129,     0.29229,     0.29329,     0.29429,      0.2953,      0.2963,      0.2973,      0.2983,      0.2993,      0.3003,      0.3013,      0.3023,      0.3033,      0.3043,     0.30531,     0.30631,     0.30731,     0.30831,     0.30931,     0.31031,     0.31131,\n",
       "           0.31231,     0.31331,     0.31431,     0.31532,     0.31632,     0.31732,     0.31832,     0.31932,     0.32032,     0.32132,     0.32232,     0.32332,     0.32432,     0.32533,     0.32633,     0.32733,     0.32833,     0.32933,     0.33033,     0.33133,     0.33233,     0.33333,     0.33433,     0.33534,\n",
       "           0.33634,     0.33734,     0.33834,     0.33934,     0.34034,     0.34134,     0.34234,     0.34334,     0.34434,     0.34535,     0.34635,     0.34735,     0.34835,     0.34935,     0.35035,     0.35135,     0.35235,     0.35335,     0.35435,     0.35536,     0.35636,     0.35736,     0.35836,     0.35936,\n",
       "           0.36036,     0.36136,     0.36236,     0.36336,     0.36436,     0.36537,     0.36637,     0.36737,     0.36837,     0.36937,     0.37037,     0.37137,     0.37237,     0.37337,     0.37437,     0.37538,     0.37638,     0.37738,     0.37838,     0.37938,     0.38038,     0.38138,     0.38238,     0.38338,\n",
       "           0.38438,     0.38539,     0.38639,     0.38739,     0.38839,     0.38939,     0.39039,     0.39139,     0.39239,     0.39339,     0.39439,      0.3954,      0.3964,      0.3974,      0.3984,      0.3994,      0.4004,      0.4014,      0.4024,      0.4034,      0.4044,     0.40541,     0.40641,     0.40741,\n",
       "           0.40841,     0.40941,     0.41041,     0.41141,     0.41241,     0.41341,     0.41441,     0.41542,     0.41642,     0.41742,     0.41842,     0.41942,     0.42042,     0.42142,     0.42242,     0.42342,     0.42442,     0.42543,     0.42643,     0.42743,     0.42843,     0.42943,     0.43043,     0.43143,\n",
       "           0.43243,     0.43343,     0.43443,     0.43544,     0.43644,     0.43744,     0.43844,     0.43944,     0.44044,     0.44144,     0.44244,     0.44344,     0.44444,     0.44545,     0.44645,     0.44745,     0.44845,     0.44945,     0.45045,     0.45145,     0.45245,     0.45345,     0.45445,     0.45546,\n",
       "           0.45646,     0.45746,     0.45846,     0.45946,     0.46046,     0.46146,     0.46246,     0.46346,     0.46446,     0.46547,     0.46647,     0.46747,     0.46847,     0.46947,     0.47047,     0.47147,     0.47247,     0.47347,     0.47447,     0.47548,     0.47648,     0.47748,     0.47848,     0.47948,\n",
       "           0.48048,     0.48148,     0.48248,     0.48348,     0.48448,     0.48549,     0.48649,     0.48749,     0.48849,     0.48949,     0.49049,     0.49149,     0.49249,     0.49349,     0.49449,      0.4955,      0.4965,      0.4975,      0.4985,      0.4995,      0.5005,      0.5015,      0.5025,      0.5035,\n",
       "            0.5045,     0.50551,     0.50651,     0.50751,     0.50851,     0.50951,     0.51051,     0.51151,     0.51251,     0.51351,     0.51451,     0.51552,     0.51652,     0.51752,     0.51852,     0.51952,     0.52052,     0.52152,     0.52252,     0.52352,     0.52452,     0.52553,     0.52653,     0.52753,\n",
       "           0.52853,     0.52953,     0.53053,     0.53153,     0.53253,     0.53353,     0.53453,     0.53554,     0.53654,     0.53754,     0.53854,     0.53954,     0.54054,     0.54154,     0.54254,     0.54354,     0.54454,     0.54555,     0.54655,     0.54755,     0.54855,     0.54955,     0.55055,     0.55155,\n",
       "           0.55255,     0.55355,     0.55455,     0.55556,     0.55656,     0.55756,     0.55856,     0.55956,     0.56056,     0.56156,     0.56256,     0.56356,     0.56456,     0.56557,     0.56657,     0.56757,     0.56857,     0.56957,     0.57057,     0.57157,     0.57257,     0.57357,     0.57457,     0.57558,\n",
       "           0.57658,     0.57758,     0.57858,     0.57958,     0.58058,     0.58158,     0.58258,     0.58358,     0.58458,     0.58559,     0.58659,     0.58759,     0.58859,     0.58959,     0.59059,     0.59159,     0.59259,     0.59359,     0.59459,      0.5956,      0.5966,      0.5976,      0.5986,      0.5996,\n",
       "            0.6006,      0.6016,      0.6026,      0.6036,      0.6046,     0.60561,     0.60661,     0.60761,     0.60861,     0.60961,     0.61061,     0.61161,     0.61261,     0.61361,     0.61461,     0.61562,     0.61662,     0.61762,     0.61862,     0.61962,     0.62062,     0.62162,     0.62262,     0.62362,\n",
       "           0.62462,     0.62563,     0.62663,     0.62763,     0.62863,     0.62963,     0.63063,     0.63163,     0.63263,     0.63363,     0.63463,     0.63564,     0.63664,     0.63764,     0.63864,     0.63964,     0.64064,     0.64164,     0.64264,     0.64364,     0.64464,     0.64565,     0.64665,     0.64765,\n",
       "           0.64865,     0.64965,     0.65065,     0.65165,     0.65265,     0.65365,     0.65465,     0.65566,     0.65666,     0.65766,     0.65866,     0.65966,     0.66066,     0.66166,     0.66266,     0.66366,     0.66466,     0.66567,     0.66667,     0.66767,     0.66867,     0.66967,     0.67067,     0.67167,\n",
       "           0.67267,     0.67367,     0.67467,     0.67568,     0.67668,     0.67768,     0.67868,     0.67968,     0.68068,     0.68168,     0.68268,     0.68368,     0.68468,     0.68569,     0.68669,     0.68769,     0.68869,     0.68969,     0.69069,     0.69169,     0.69269,     0.69369,     0.69469,      0.6957,\n",
       "            0.6967,      0.6977,      0.6987,      0.6997,      0.7007,      0.7017,      0.7027,      0.7037,      0.7047,     0.70571,     0.70671,     0.70771,     0.70871,     0.70971,     0.71071,     0.71171,     0.71271,     0.71371,     0.71471,     0.71572,     0.71672,     0.71772,     0.71872,     0.71972,\n",
       "           0.72072,     0.72172,     0.72272,     0.72372,     0.72472,     0.72573,     0.72673,     0.72773,     0.72873,     0.72973,     0.73073,     0.73173,     0.73273,     0.73373,     0.73473,     0.73574,     0.73674,     0.73774,     0.73874,     0.73974,     0.74074,     0.74174,     0.74274,     0.74374,\n",
       "           0.74474,     0.74575,     0.74675,     0.74775,     0.74875,     0.74975,     0.75075,     0.75175,     0.75275,     0.75375,     0.75475,     0.75576,     0.75676,     0.75776,     0.75876,     0.75976,     0.76076,     0.76176,     0.76276,     0.76376,     0.76476,     0.76577,     0.76677,     0.76777,\n",
       "           0.76877,     0.76977,     0.77077,     0.77177,     0.77277,     0.77377,     0.77477,     0.77578,     0.77678,     0.77778,     0.77878,     0.77978,     0.78078,     0.78178,     0.78278,     0.78378,     0.78478,     0.78579,     0.78679,     0.78779,     0.78879,     0.78979,     0.79079,     0.79179,\n",
       "           0.79279,     0.79379,     0.79479,      0.7958,      0.7968,      0.7978,      0.7988,      0.7998,      0.8008,      0.8018,      0.8028,      0.8038,      0.8048,     0.80581,     0.80681,     0.80781,     0.80881,     0.80981,     0.81081,     0.81181,     0.81281,     0.81381,     0.81481,     0.81582,\n",
       "           0.81682,     0.81782,     0.81882,     0.81982,     0.82082,     0.82182,     0.82282,     0.82382,     0.82482,     0.82583,     0.82683,     0.82783,     0.82883,     0.82983,     0.83083,     0.83183,     0.83283,     0.83383,     0.83483,     0.83584,     0.83684,     0.83784,     0.83884,     0.83984,\n",
       "           0.84084,     0.84184,     0.84284,     0.84384,     0.84484,     0.84585,     0.84685,     0.84785,     0.84885,     0.84985,     0.85085,     0.85185,     0.85285,     0.85385,     0.85485,     0.85586,     0.85686,     0.85786,     0.85886,     0.85986,     0.86086,     0.86186,     0.86286,     0.86386,\n",
       "           0.86486,     0.86587,     0.86687,     0.86787,     0.86887,     0.86987,     0.87087,     0.87187,     0.87287,     0.87387,     0.87487,     0.87588,     0.87688,     0.87788,     0.87888,     0.87988,     0.88088,     0.88188,     0.88288,     0.88388,     0.88488,     0.88589,     0.88689,     0.88789,\n",
       "           0.88889,     0.88989,     0.89089,     0.89189,     0.89289,     0.89389,     0.89489,      0.8959,      0.8969,      0.8979,      0.8989,      0.8999,      0.9009,      0.9019,      0.9029,      0.9039,      0.9049,     0.90591,     0.90691,     0.90791,     0.90891,     0.90991,     0.91091,     0.91191,\n",
       "           0.91291,     0.91391,     0.91491,     0.91592,     0.91692,     0.91792,     0.91892,     0.91992,     0.92092,     0.92192,     0.92292,     0.92392,     0.92492,     0.92593,     0.92693,     0.92793,     0.92893,     0.92993,     0.93093,     0.93193,     0.93293,     0.93393,     0.93493,     0.93594,\n",
       "           0.93694,     0.93794,     0.93894,     0.93994,     0.94094,     0.94194,     0.94294,     0.94394,     0.94494,     0.94595,     0.94695,     0.94795,     0.94895,     0.94995,     0.95095,     0.95195,     0.95295,     0.95395,     0.95495,     0.95596,     0.95696,     0.95796,     0.95896,     0.95996,\n",
       "           0.96096,     0.96196,     0.96296,     0.96396,     0.96496,     0.96597,     0.96697,     0.96797,     0.96897,     0.96997,     0.97097,     0.97197,     0.97297,     0.97397,     0.97497,     0.97598,     0.97698,     0.97798,     0.97898,     0.97998,     0.98098,     0.98198,     0.98298,     0.98398,\n",
       "           0.98498,     0.98599,     0.98699,     0.98799,     0.98899,     0.98999,     0.99099,     0.99199,     0.99299,     0.99399,     0.99499,       0.996,       0.997,       0.998,       0.999,           1]), array([[          1,           1,           1,           1,           1,           1,           1,           1,           1,           1,           1,           1,           1,           1,           1,           1,           1,           1,           1,           1,           1,           1,           1,\n",
       "                  1,           1,           1,           1,           1,           1,           1,           1,           1,           1,           1,           1,           1,           1,           1,           1,           1,           1,           1,           1,           1,           1,           1,\n",
       "                  1,           1,           1,           1,           1,           1,           1,           1,           1,           1,           1,           1,           1,           1,           1,           1,           1,           1,           1,           1,           1,           1,           1,\n",
       "                  1,           1,           1,           1,           1,           1,           1,           1,           1,           1,           1,           1,           1,           1,           1,           1,           1,           1,           1,           1,           1,           1,           1,\n",
       "                  1,           1,           1,           1,           1,           1,           1,           1,           1,           1,           1,           1,           1,           1,           1,           1,           1,           1,           1,           1,           1,           1,           1,\n",
       "                  1,           1,           1,           1,           1,           1,           1,           1,           1,           1,           1,           1,           1,           1,           1,           1,           1,           1,           1,           1,           1,           1,           1,\n",
       "                  1,           1,     0.99655,     0.99655,     0.99655,     0.99338,     0.99338,     0.99338,     0.99338,     0.99338,     0.99338,     0.99068,     0.99068,     0.99068,     0.99068,     0.99068,     0.99068,     0.99068,     0.99068,     0.99068,     0.98663,     0.98663,     0.98663,\n",
       "            0.98663,     0.98663,     0.98663,     0.98663,     0.98663,     0.98663,     0.98663,     0.98663,     0.98663,     0.98663,     0.98663,     0.98663,     0.98663,     0.98663,     0.98663,     0.98663,     0.98663,     0.98663,     0.98663,     0.98663,     0.98663,     0.98663,     0.98425,\n",
       "            0.98425,     0.98425,     0.98357,     0.98357,     0.98357,     0.98357,     0.98357,     0.98357,     0.98357,     0.98357,     0.98357,     0.98357,     0.98357,     0.98357,     0.98357,     0.98357,     0.98357,     0.98357,     0.98357,     0.98357,     0.98357,     0.98357,     0.98357,\n",
       "            0.98357,      0.9819,      0.9819,      0.9819,      0.9819,      0.9819,      0.9819,      0.9819,     0.98069,     0.98069,     0.98069,     0.98069,     0.98069,     0.98069,     0.98069,     0.98069,     0.98069,     0.98069,     0.98069,      0.9793,      0.9793,      0.9793,      0.9793,\n",
       "             0.9793,      0.9793,      0.9793,      0.9793,     0.97804,     0.97804,     0.97804,     0.97804,     0.97804,     0.97804,     0.97804,     0.97804,     0.97804,     0.97624,     0.97514,     0.97514,     0.97514,     0.97514,     0.97514,     0.97514,     0.97514,     0.97514,     0.97333,\n",
       "            0.97159,     0.96992,     0.96834,     0.96834,     0.96324,     0.96324,     0.95841,     0.95841,     0.95841,     0.95691,     0.95691,     0.95563,     0.95563,     0.95563,     0.95563,     0.95563,     0.95563,     0.95563,     0.95563,     0.95563,     0.95563,     0.95563,     0.95563,\n",
       "            0.95563,     0.95477,     0.95477,     0.95477,     0.95477,     0.95477,     0.95477,     0.95477,     0.95477,     0.95477,     0.95477,     0.95477,     0.95477,     0.95477,     0.95477,     0.95477,      0.9533,     0.95192,     0.94961,     0.94961,     0.94961,     0.94961,     0.94819,\n",
       "            0.94761,     0.94761,     0.94761,     0.94761,     0.94761,     0.94632,     0.94512,     0.94512,     0.94394,     0.94286,     0.94286,     0.94188,     0.94188,     0.94188,     0.94067,     0.94067,     0.94067,     0.94067,     0.94067,     0.94067,     0.94067,     0.94067,     0.94067,\n",
       "            0.94059,     0.94059,     0.94059,     0.94059,     0.94059,     0.94059,     0.94059,     0.93935,     0.93914,     0.93914,     0.93914,     0.93914,     0.93914,     0.93914,     0.93836,     0.93836,     0.93836,     0.93784,     0.93784,     0.93784,     0.93784,     0.93684,     0.93684,\n",
       "            0.93684,     0.93684,     0.93684,     0.93684,     0.93684,     0.93684,     0.93684,      0.9357,     0.93377,     0.93377,     0.93377,      0.9329,      0.9329,     0.93274,     0.93274,     0.93274,     0.93274,     0.93274,     0.93274,     0.93233,     0.93233,     0.93233,     0.93233,\n",
       "            0.93176,     0.93176,     0.93176,     0.93176,     0.92963,     0.92935,     0.92935,     0.92935,     0.92935,       0.929,       0.929,       0.929,       0.929,       0.929,     0.92849,     0.92849,     0.92849,     0.92752,     0.92752,     0.92752,     0.92752,     0.92752,     0.92752,\n",
       "            0.92752,     0.92752,     0.92752,     0.92752,     0.92752,     0.92752,     0.92752,     0.92752,     0.92752,     0.92752,     0.92752,     0.92752,     0.92752,     0.92752,     0.92664,     0.92621,     0.92621,     0.92621,     0.92621,     0.92621,     0.92621,     0.92621,     0.92621,\n",
       "            0.92621,     0.92621,     0.92527,     0.92358,     0.92199,     0.92199,     0.92199,     0.92142,     0.92142,     0.92052,      0.9197,     0.91906,     0.91906,     0.91852,     0.91852,     0.91789,     0.91789,      0.9171,     0.91632,     0.91363,      0.9123,      0.9123,      0.9123,\n",
       "             0.9123,      0.9123,      0.9123,      0.9123,      0.9123,      0.9123,      0.9123,      0.9123,      0.9123,      0.9123,      0.9123,     0.91082,     0.91082,     0.91027,     0.91027,     0.90864,     0.90622,     0.90462,     0.90411,     0.90411,     0.90379,     0.90379,     0.90379,\n",
       "            0.90135,     0.90068,     0.89914,     0.89856,      0.8978,     0.89668,     0.89668,     0.89668,      0.8961,      0.8961,      0.8961,      0.8961,      0.8961,      0.8961,      0.8961,      0.8961,      0.8961,      0.8961,     0.89348,     0.89348,     0.89348,     0.89286,      0.8916,\n",
       "             0.8916,      0.8916,      0.8916,      0.8916,      0.8916,     0.89119,     0.89119,     0.89088,     0.89088,     0.89088,     0.89028,     0.88889,     0.88771,     0.88771,     0.88556,     0.88421,     0.88374,     0.88281,     0.88281,     0.88281,     0.88256,     0.88256,     0.88134,\n",
       "            0.88134,     0.88089,     0.88077,     0.88077,     0.88077,     0.88077,     0.88077,     0.88077,     0.88077,     0.88077,     0.88077,     0.88077,     0.88077,      0.8796,     0.87907,     0.87857,     0.87857,     0.87857,     0.87857,     0.87857,     0.87857,     0.87857,     0.87857,\n",
       "            0.87857,     0.87857,     0.87857,     0.87857,     0.87805,     0.87188,     0.87169,     0.87169,     0.87169,      0.8713,     0.87071,     0.86953,     0.86719,     0.86457,     0.86139,     0.86027,     0.85881,     0.85881,     0.85759,     0.85593,     0.85473,     0.85429,     0.85366,\n",
       "            0.85366,     0.85366,     0.85163,     0.85163,     0.84853,     0.84656,     0.84656,     0.84478,      0.8425,     0.84211,     0.84047,     0.83885,     0.83798,     0.83626,     0.83564,     0.83564,     0.83454,     0.83357,     0.83081,     0.82232,     0.82186,     0.82095,     0.82004,\n",
       "            0.81914,      0.8178,     0.81634,     0.81502,     0.81502,     0.81358,     0.81103,     0.81057,     0.81057,     0.80832,     0.80832,     0.80748,     0.80175,     0.80054,     0.79973,     0.79773,     0.79429,     0.79326,     0.79326,     0.79315,     0.79224,     0.79044,     0.78814,\n",
       "            0.78433,     0.78342,     0.78342,     0.78342,     0.78342,     0.78269,     0.78161,     0.78075,     0.78018,     0.77933,     0.77743,     0.77743,     0.77638,     0.77506,     0.77244,     0.77225,     0.77061,     0.76804,     0.76753,      0.7672,     0.76636,     0.76636,     0.76292,\n",
       "            0.76196,     0.76116,     0.76116,     0.76084,     0.76036,     0.75701,     0.75282,     0.75222,     0.75029,     0.74679,     0.74679,     0.74679,     0.74665,     0.74251,     0.74251,     0.74251,      0.7411,     0.73786,      0.7369,     0.73511,     0.73003,     0.72788,     0.72575,\n",
       "            0.72099,     0.71956,     0.71829,     0.71507,      0.7115,     0.70721,     0.70601,     0.70069,     0.69731,     0.69579,     0.69263,     0.68991,      0.6886,     0.68782,     0.68782,     0.68657,     0.68548,     0.68421,     0.67986,     0.67675,     0.67234,     0.66999,     0.66584,\n",
       "             0.6634,     0.66324,     0.66162,     0.65954,     0.65527,     0.65527,     0.65466,     0.65064,     0.65064,     0.65005,     0.64948,     0.64948,     0.64767,     0.64527,     0.63902,     0.63788,     0.63557,     0.63416,     0.63304,     0.62596,     0.62265,     0.61818,     0.61698,\n",
       "            0.60925,      0.6051,     0.60129,     0.59983,     0.59652,     0.59593,     0.59227,     0.59013,     0.58679,     0.58495,     0.57813,     0.57566,     0.56568,     0.56558,     0.56169,     0.54758,     0.54726,     0.54287,     0.53809,     0.53361,       0.532,     0.53095,     0.53093,\n",
       "            0.52452,     0.52372,     0.51275,     0.50788,     0.50734,     0.49473,     0.49222,     0.48439,     0.48233,     0.46667,     0.46609,     0.46436,     0.45818,     0.45426,     0.44782,     0.44013,     0.43566,     0.43178,     0.42517,     0.42319,     0.42004,     0.41289,     0.41128,\n",
       "            0.41024,     0.40412,     0.40313,     0.39851,     0.39546,     0.39226,     0.38287,     0.37656,     0.35917,     0.35752,     0.35297,     0.34703,     0.34527,     0.34037,     0.33399,     0.33246,     0.32529,     0.32412,     0.32127,     0.31901,      0.3175,     0.31427,      0.3118,\n",
       "            0.31019,      0.3096,     0.30283,     0.30055,     0.29558,     0.28328,     0.28251,     0.27891,     0.27169,     0.26838,     0.26363,     0.25441,     0.25329,     0.24673,     0.24099,     0.23589,     0.23314,     0.22931,     0.22265,      0.2159,     0.21291,     0.21146,     0.20918,\n",
       "            0.20564,     0.20025,     0.18933,     0.17663,     0.17644,     0.17509,      0.1724,     0.16953,     0.16823,     0.16521,      0.1625,     0.15704,     0.15606,     0.15398,     0.15023,     0.14985,     0.14663,     0.14395,     0.14214,     0.13664,     0.13414,     0.13226,     0.12997,\n",
       "            0.12992,     0.12018,     0.11967,     0.11772,     0.11407,     0.11167,     0.10809,     0.10626,     0.10257,     0.10044,     0.09715,    0.087227,    0.085394,    0.082808,    0.080846,    0.079198,    0.076959,    0.076103,    0.074799,    0.071643,    0.065632,    0.064932,    0.062994,\n",
       "           0.062115,    0.060019,    0.059316,    0.054397,    0.053391,    0.051666,    0.049945,    0.049642,    0.049339,    0.049036,    0.048734,    0.048431,    0.048128,    0.047826,    0.047523,     0.04722,    0.046918,    0.046615,    0.046312,     0.04601,    0.045707,    0.045404,    0.045101,\n",
       "           0.044799,    0.044496,    0.044193,    0.043891,    0.043588,    0.043285,    0.042983,     0.04268,    0.042377,    0.042074,    0.041772,    0.041469,    0.041166,    0.040864,    0.040561,    0.040258,    0.039956,    0.039653,     0.03935,    0.039048,    0.038745,    0.038442,    0.038139,\n",
       "           0.037837,    0.037534,    0.037231,    0.036929,    0.036626,    0.036323,    0.036021,    0.035718,    0.035415,    0.035113,     0.03481,    0.034507,    0.034204,    0.033902,    0.033599,    0.033296,    0.032994,    0.032691,    0.032388,    0.032086,    0.031783,     0.03148,    0.031178,\n",
       "           0.030875,    0.030572,    0.030269,    0.029967,    0.029664,    0.029361,    0.029059,    0.028756,    0.028453,    0.028151,    0.027848,    0.027545,    0.027242,     0.02694,    0.026637,    0.026334,    0.026032,    0.025729,    0.025426,    0.025124,    0.024821,    0.024518,    0.024216,\n",
       "           0.023913,     0.02361,    0.023307,    0.023005,    0.022702,    0.022399,    0.022097,    0.021794,    0.021491,    0.021189,    0.020886,    0.020583,    0.020281,    0.019978,    0.019675,    0.019372,     0.01907,    0.018767,    0.018464,    0.018162,    0.017859,    0.017556,    0.017254,\n",
       "           0.016951,    0.016648,    0.016345,    0.016043,     0.01574,    0.015437,    0.015135,    0.014832,    0.014529,    0.014227,    0.013924,    0.013621,    0.013319,    0.013016,    0.012713,     0.01241,    0.012108,    0.011805,    0.011502,      0.0112,    0.010897,    0.010594,    0.010292,\n",
       "          0.0099889,   0.0096862,   0.0093835,   0.0090808,   0.0087781,   0.0084754,   0.0081727,     0.00787,   0.0075674,   0.0072647,    0.006962,   0.0066593,   0.0063566,   0.0060539,   0.0057512,   0.0054485,   0.0051458,   0.0048431,   0.0045404,   0.0042377,    0.003935,   0.0036323,   0.0033296,\n",
       "          0.0030269,   0.0027242,   0.0024216,   0.0021189,   0.0018162,   0.0015135,   0.0012108,  0.00090808,  0.00060539,  0.00030269,           0]]), 'Recall', 'Precision'], [array([          0,    0.001001,    0.002002,    0.003003,    0.004004,    0.005005,    0.006006,    0.007007,    0.008008,    0.009009,     0.01001,    0.011011,    0.012012,    0.013013,    0.014014,    0.015015,    0.016016,    0.017017,    0.018018,    0.019019,     0.02002,    0.021021,    0.022022,    0.023023,\n",
       "          0.024024,    0.025025,    0.026026,    0.027027,    0.028028,    0.029029,     0.03003,    0.031031,    0.032032,    0.033033,    0.034034,    0.035035,    0.036036,    0.037037,    0.038038,    0.039039,     0.04004,    0.041041,    0.042042,    0.043043,    0.044044,    0.045045,    0.046046,    0.047047,\n",
       "          0.048048,    0.049049,     0.05005,    0.051051,    0.052052,    0.053053,    0.054054,    0.055055,    0.056056,    0.057057,    0.058058,    0.059059,     0.06006,    0.061061,    0.062062,    0.063063,    0.064064,    0.065065,    0.066066,    0.067067,    0.068068,    0.069069,     0.07007,    0.071071,\n",
       "          0.072072,    0.073073,    0.074074,    0.075075,    0.076076,    0.077077,    0.078078,    0.079079,     0.08008,    0.081081,    0.082082,    0.083083,    0.084084,    0.085085,    0.086086,    0.087087,    0.088088,    0.089089,     0.09009,    0.091091,    0.092092,    0.093093,    0.094094,    0.095095,\n",
       "          0.096096,    0.097097,    0.098098,    0.099099,      0.1001,      0.1011,      0.1021,      0.1031,      0.1041,     0.10511,     0.10611,     0.10711,     0.10811,     0.10911,     0.11011,     0.11111,     0.11211,     0.11311,     0.11411,     0.11512,     0.11612,     0.11712,     0.11812,     0.11912,\n",
       "           0.12012,     0.12112,     0.12212,     0.12312,     0.12412,     0.12513,     0.12613,     0.12713,     0.12813,     0.12913,     0.13013,     0.13113,     0.13213,     0.13313,     0.13413,     0.13514,     0.13614,     0.13714,     0.13814,     0.13914,     0.14014,     0.14114,     0.14214,     0.14314,\n",
       "           0.14414,     0.14515,     0.14615,     0.14715,     0.14815,     0.14915,     0.15015,     0.15115,     0.15215,     0.15315,     0.15415,     0.15516,     0.15616,     0.15716,     0.15816,     0.15916,     0.16016,     0.16116,     0.16216,     0.16316,     0.16416,     0.16517,     0.16617,     0.16717,\n",
       "           0.16817,     0.16917,     0.17017,     0.17117,     0.17217,     0.17317,     0.17417,     0.17518,     0.17618,     0.17718,     0.17818,     0.17918,     0.18018,     0.18118,     0.18218,     0.18318,     0.18418,     0.18519,     0.18619,     0.18719,     0.18819,     0.18919,     0.19019,     0.19119,\n",
       "           0.19219,     0.19319,     0.19419,      0.1952,      0.1962,      0.1972,      0.1982,      0.1992,      0.2002,      0.2012,      0.2022,      0.2032,      0.2042,     0.20521,     0.20621,     0.20721,     0.20821,     0.20921,     0.21021,     0.21121,     0.21221,     0.21321,     0.21421,     0.21522,\n",
       "           0.21622,     0.21722,     0.21822,     0.21922,     0.22022,     0.22122,     0.22222,     0.22322,     0.22422,     0.22523,     0.22623,     0.22723,     0.22823,     0.22923,     0.23023,     0.23123,     0.23223,     0.23323,     0.23423,     0.23524,     0.23624,     0.23724,     0.23824,     0.23924,\n",
       "           0.24024,     0.24124,     0.24224,     0.24324,     0.24424,     0.24525,     0.24625,     0.24725,     0.24825,     0.24925,     0.25025,     0.25125,     0.25225,     0.25325,     0.25425,     0.25526,     0.25626,     0.25726,     0.25826,     0.25926,     0.26026,     0.26126,     0.26226,     0.26326,\n",
       "           0.26426,     0.26527,     0.26627,     0.26727,     0.26827,     0.26927,     0.27027,     0.27127,     0.27227,     0.27327,     0.27427,     0.27528,     0.27628,     0.27728,     0.27828,     0.27928,     0.28028,     0.28128,     0.28228,     0.28328,     0.28428,     0.28529,     0.28629,     0.28729,\n",
       "           0.28829,     0.28929,     0.29029,     0.29129,     0.29229,     0.29329,     0.29429,      0.2953,      0.2963,      0.2973,      0.2983,      0.2993,      0.3003,      0.3013,      0.3023,      0.3033,      0.3043,     0.30531,     0.30631,     0.30731,     0.30831,     0.30931,     0.31031,     0.31131,\n",
       "           0.31231,     0.31331,     0.31431,     0.31532,     0.31632,     0.31732,     0.31832,     0.31932,     0.32032,     0.32132,     0.32232,     0.32332,     0.32432,     0.32533,     0.32633,     0.32733,     0.32833,     0.32933,     0.33033,     0.33133,     0.33233,     0.33333,     0.33433,     0.33534,\n",
       "           0.33634,     0.33734,     0.33834,     0.33934,     0.34034,     0.34134,     0.34234,     0.34334,     0.34434,     0.34535,     0.34635,     0.34735,     0.34835,     0.34935,     0.35035,     0.35135,     0.35235,     0.35335,     0.35435,     0.35536,     0.35636,     0.35736,     0.35836,     0.35936,\n",
       "           0.36036,     0.36136,     0.36236,     0.36336,     0.36436,     0.36537,     0.36637,     0.36737,     0.36837,     0.36937,     0.37037,     0.37137,     0.37237,     0.37337,     0.37437,     0.37538,     0.37638,     0.37738,     0.37838,     0.37938,     0.38038,     0.38138,     0.38238,     0.38338,\n",
       "           0.38438,     0.38539,     0.38639,     0.38739,     0.38839,     0.38939,     0.39039,     0.39139,     0.39239,     0.39339,     0.39439,      0.3954,      0.3964,      0.3974,      0.3984,      0.3994,      0.4004,      0.4014,      0.4024,      0.4034,      0.4044,     0.40541,     0.40641,     0.40741,\n",
       "           0.40841,     0.40941,     0.41041,     0.41141,     0.41241,     0.41341,     0.41441,     0.41542,     0.41642,     0.41742,     0.41842,     0.41942,     0.42042,     0.42142,     0.42242,     0.42342,     0.42442,     0.42543,     0.42643,     0.42743,     0.42843,     0.42943,     0.43043,     0.43143,\n",
       "           0.43243,     0.43343,     0.43443,     0.43544,     0.43644,     0.43744,     0.43844,     0.43944,     0.44044,     0.44144,     0.44244,     0.44344,     0.44444,     0.44545,     0.44645,     0.44745,     0.44845,     0.44945,     0.45045,     0.45145,     0.45245,     0.45345,     0.45445,     0.45546,\n",
       "           0.45646,     0.45746,     0.45846,     0.45946,     0.46046,     0.46146,     0.46246,     0.46346,     0.46446,     0.46547,     0.46647,     0.46747,     0.46847,     0.46947,     0.47047,     0.47147,     0.47247,     0.47347,     0.47447,     0.47548,     0.47648,     0.47748,     0.47848,     0.47948,\n",
       "           0.48048,     0.48148,     0.48248,     0.48348,     0.48448,     0.48549,     0.48649,     0.48749,     0.48849,     0.48949,     0.49049,     0.49149,     0.49249,     0.49349,     0.49449,      0.4955,      0.4965,      0.4975,      0.4985,      0.4995,      0.5005,      0.5015,      0.5025,      0.5035,\n",
       "            0.5045,     0.50551,     0.50651,     0.50751,     0.50851,     0.50951,     0.51051,     0.51151,     0.51251,     0.51351,     0.51451,     0.51552,     0.51652,     0.51752,     0.51852,     0.51952,     0.52052,     0.52152,     0.52252,     0.52352,     0.52452,     0.52553,     0.52653,     0.52753,\n",
       "           0.52853,     0.52953,     0.53053,     0.53153,     0.53253,     0.53353,     0.53453,     0.53554,     0.53654,     0.53754,     0.53854,     0.53954,     0.54054,     0.54154,     0.54254,     0.54354,     0.54454,     0.54555,     0.54655,     0.54755,     0.54855,     0.54955,     0.55055,     0.55155,\n",
       "           0.55255,     0.55355,     0.55455,     0.55556,     0.55656,     0.55756,     0.55856,     0.55956,     0.56056,     0.56156,     0.56256,     0.56356,     0.56456,     0.56557,     0.56657,     0.56757,     0.56857,     0.56957,     0.57057,     0.57157,     0.57257,     0.57357,     0.57457,     0.57558,\n",
       "           0.57658,     0.57758,     0.57858,     0.57958,     0.58058,     0.58158,     0.58258,     0.58358,     0.58458,     0.58559,     0.58659,     0.58759,     0.58859,     0.58959,     0.59059,     0.59159,     0.59259,     0.59359,     0.59459,      0.5956,      0.5966,      0.5976,      0.5986,      0.5996,\n",
       "            0.6006,      0.6016,      0.6026,      0.6036,      0.6046,     0.60561,     0.60661,     0.60761,     0.60861,     0.60961,     0.61061,     0.61161,     0.61261,     0.61361,     0.61461,     0.61562,     0.61662,     0.61762,     0.61862,     0.61962,     0.62062,     0.62162,     0.62262,     0.62362,\n",
       "           0.62462,     0.62563,     0.62663,     0.62763,     0.62863,     0.62963,     0.63063,     0.63163,     0.63263,     0.63363,     0.63463,     0.63564,     0.63664,     0.63764,     0.63864,     0.63964,     0.64064,     0.64164,     0.64264,     0.64364,     0.64464,     0.64565,     0.64665,     0.64765,\n",
       "           0.64865,     0.64965,     0.65065,     0.65165,     0.65265,     0.65365,     0.65465,     0.65566,     0.65666,     0.65766,     0.65866,     0.65966,     0.66066,     0.66166,     0.66266,     0.66366,     0.66466,     0.66567,     0.66667,     0.66767,     0.66867,     0.66967,     0.67067,     0.67167,\n",
       "           0.67267,     0.67367,     0.67467,     0.67568,     0.67668,     0.67768,     0.67868,     0.67968,     0.68068,     0.68168,     0.68268,     0.68368,     0.68468,     0.68569,     0.68669,     0.68769,     0.68869,     0.68969,     0.69069,     0.69169,     0.69269,     0.69369,     0.69469,      0.6957,\n",
       "            0.6967,      0.6977,      0.6987,      0.6997,      0.7007,      0.7017,      0.7027,      0.7037,      0.7047,     0.70571,     0.70671,     0.70771,     0.70871,     0.70971,     0.71071,     0.71171,     0.71271,     0.71371,     0.71471,     0.71572,     0.71672,     0.71772,     0.71872,     0.71972,\n",
       "           0.72072,     0.72172,     0.72272,     0.72372,     0.72472,     0.72573,     0.72673,     0.72773,     0.72873,     0.72973,     0.73073,     0.73173,     0.73273,     0.73373,     0.73473,     0.73574,     0.73674,     0.73774,     0.73874,     0.73974,     0.74074,     0.74174,     0.74274,     0.74374,\n",
       "           0.74474,     0.74575,     0.74675,     0.74775,     0.74875,     0.74975,     0.75075,     0.75175,     0.75275,     0.75375,     0.75475,     0.75576,     0.75676,     0.75776,     0.75876,     0.75976,     0.76076,     0.76176,     0.76276,     0.76376,     0.76476,     0.76577,     0.76677,     0.76777,\n",
       "           0.76877,     0.76977,     0.77077,     0.77177,     0.77277,     0.77377,     0.77477,     0.77578,     0.77678,     0.77778,     0.77878,     0.77978,     0.78078,     0.78178,     0.78278,     0.78378,     0.78478,     0.78579,     0.78679,     0.78779,     0.78879,     0.78979,     0.79079,     0.79179,\n",
       "           0.79279,     0.79379,     0.79479,      0.7958,      0.7968,      0.7978,      0.7988,      0.7998,      0.8008,      0.8018,      0.8028,      0.8038,      0.8048,     0.80581,     0.80681,     0.80781,     0.80881,     0.80981,     0.81081,     0.81181,     0.81281,     0.81381,     0.81481,     0.81582,\n",
       "           0.81682,     0.81782,     0.81882,     0.81982,     0.82082,     0.82182,     0.82282,     0.82382,     0.82482,     0.82583,     0.82683,     0.82783,     0.82883,     0.82983,     0.83083,     0.83183,     0.83283,     0.83383,     0.83483,     0.83584,     0.83684,     0.83784,     0.83884,     0.83984,\n",
       "           0.84084,     0.84184,     0.84284,     0.84384,     0.84484,     0.84585,     0.84685,     0.84785,     0.84885,     0.84985,     0.85085,     0.85185,     0.85285,     0.85385,     0.85485,     0.85586,     0.85686,     0.85786,     0.85886,     0.85986,     0.86086,     0.86186,     0.86286,     0.86386,\n",
       "           0.86486,     0.86587,     0.86687,     0.86787,     0.86887,     0.86987,     0.87087,     0.87187,     0.87287,     0.87387,     0.87487,     0.87588,     0.87688,     0.87788,     0.87888,     0.87988,     0.88088,     0.88188,     0.88288,     0.88388,     0.88488,     0.88589,     0.88689,     0.88789,\n",
       "           0.88889,     0.88989,     0.89089,     0.89189,     0.89289,     0.89389,     0.89489,      0.8959,      0.8969,      0.8979,      0.8989,      0.8999,      0.9009,      0.9019,      0.9029,      0.9039,      0.9049,     0.90591,     0.90691,     0.90791,     0.90891,     0.90991,     0.91091,     0.91191,\n",
       "           0.91291,     0.91391,     0.91491,     0.91592,     0.91692,     0.91792,     0.91892,     0.91992,     0.92092,     0.92192,     0.92292,     0.92392,     0.92492,     0.92593,     0.92693,     0.92793,     0.92893,     0.92993,     0.93093,     0.93193,     0.93293,     0.93393,     0.93493,     0.93594,\n",
       "           0.93694,     0.93794,     0.93894,     0.93994,     0.94094,     0.94194,     0.94294,     0.94394,     0.94494,     0.94595,     0.94695,     0.94795,     0.94895,     0.94995,     0.95095,     0.95195,     0.95295,     0.95395,     0.95495,     0.95596,     0.95696,     0.95796,     0.95896,     0.95996,\n",
       "           0.96096,     0.96196,     0.96296,     0.96396,     0.96496,     0.96597,     0.96697,     0.96797,     0.96897,     0.96997,     0.97097,     0.97197,     0.97297,     0.97397,     0.97497,     0.97598,     0.97698,     0.97798,     0.97898,     0.97998,     0.98098,     0.98198,     0.98298,     0.98398,\n",
       "           0.98498,     0.98599,     0.98699,     0.98799,     0.98899,     0.98999,     0.99099,     0.99199,     0.99299,     0.99399,     0.99499,       0.996,       0.997,       0.998,       0.999,           1]), array([[   0.094523,     0.09456,     0.13503,     0.16565,     0.19185,     0.21413,     0.23373,     0.25065,     0.26533,     0.27907,     0.29145,     0.30468,     0.31499,     0.32591,     0.33667,     0.34697,     0.35558,     0.36325,     0.37083,     0.37862,     0.38656,     0.39375,     0.40091,\n",
       "            0.40804,     0.41355,     0.42061,     0.42713,     0.43341,     0.43934,     0.44276,     0.44813,     0.45199,     0.45659,      0.4616,     0.46706,     0.47174,     0.47587,     0.47957,      0.4828,     0.48677,     0.48998,     0.49451,     0.49801,     0.50146,     0.50554,     0.50838,\n",
       "            0.51194,      0.5148,      0.5179,     0.52128,     0.52402,       0.527,     0.52869,     0.53131,     0.53355,     0.53632,     0.53842,     0.54092,     0.54304,     0.54472,     0.54684,     0.54901,     0.55146,     0.55385,      0.5566,       0.559,     0.56106,     0.56305,     0.56474,\n",
       "            0.56679,     0.56819,     0.57044,     0.57285,     0.57519,     0.57763,     0.57907,     0.57983,     0.58231,     0.58455,     0.58578,     0.58629,     0.58798,     0.58917,     0.59114,     0.59417,     0.59456,     0.59595,     0.59713,     0.59789,     0.59966,     0.60092,     0.60222,\n",
       "             0.6042,     0.60492,     0.60645,     0.60783,     0.60826,     0.60974,     0.61135,     0.61194,     0.61312,     0.61422,     0.61563,     0.61701,     0.61825,     0.62017,     0.62199,     0.62408,     0.62496,     0.62622,     0.62653,     0.62764,     0.62914,      0.6302,     0.63246,\n",
       "            0.63287,     0.63437,     0.63626,      0.6372,     0.63736,     0.63787,     0.63876,     0.63948,     0.64073,     0.64171,      0.6419,     0.64209,     0.64219,     0.64301,     0.64341,     0.64338,     0.64479,     0.64565,     0.64619,      0.6473,     0.64857,     0.64961,     0.65127,\n",
       "             0.6517,     0.65194,     0.65338,     0.65324,     0.65478,      0.6548,     0.65565,      0.6559,     0.65722,     0.65799,     0.65858,     0.65877,     0.65916,     0.65937,     0.65939,     0.65979,     0.66047,     0.66134,     0.66176,     0.66257,     0.66242,     0.66314,     0.66389,\n",
       "            0.66304,     0.66301,     0.66226,     0.66238,     0.66329,     0.66402,     0.66348,     0.66367,     0.66449,     0.66544,     0.66511,     0.66576,     0.66604,     0.66574,     0.66591,     0.66643,     0.66717,     0.66754,     0.66837,     0.66895,     0.66973,     0.66996,     0.67088,\n",
       "            0.67181,      0.6723,     0.67243,     0.67262,     0.67253,     0.67249,     0.67299,     0.67272,     0.67214,     0.67234,     0.67219,     0.67243,     0.67232,     0.67236,     0.67284,     0.67315,     0.67394,     0.67413,     0.67416,     0.67427,     0.67528,     0.67585,     0.67717,\n",
       "            0.67707,     0.67703,     0.67762,     0.67871,     0.67853,     0.67975,     0.68039,     0.68047,     0.68056,     0.68073,     0.68055,      0.6811,     0.68095,     0.68126,     0.68221,     0.68206,     0.68211,     0.68219,     0.68251,     0.68255,     0.68296,     0.68279,     0.68314,\n",
       "            0.68344,     0.68354,      0.6845,      0.6843,     0.68446,     0.68478,     0.68455,     0.68482,     0.68522,     0.68584,     0.68533,      0.6855,     0.68409,     0.68401,     0.68463,     0.68568,     0.68521,     0.68441,     0.68367,     0.68413,      0.6839,     0.68413,     0.68434,\n",
       "            0.68467,     0.68481,     0.68492,     0.68508,     0.68564,     0.68593,     0.68578,     0.68566,     0.68616,     0.68648,      0.6861,     0.68574,     0.68526,      0.6848,     0.68449,     0.68415,     0.68475,     0.68508,     0.68503,     0.68409,     0.68414,     0.68324,     0.68323,\n",
       "            0.68301,     0.68342,     0.68385,     0.68365,      0.6837,     0.68318,     0.68344,     0.68381,     0.68303,     0.68258,     0.68249,     0.68285,     0.68294,     0.68196,     0.68205,     0.68208,     0.68166,     0.68103,     0.68048,     0.67993,     0.67857,       0.679,     0.67893,\n",
       "             0.6793,     0.67932,     0.67996,     0.67997,     0.67981,        0.68,     0.67845,     0.67806,     0.67833,      0.6784,      0.6787,     0.67869,      0.6791,     0.67915,     0.67878,      0.6779,     0.67819,     0.67814,     0.67866,     0.67905,     0.67977,     0.67943,     0.67857,\n",
       "             0.6784,     0.67884,     0.67805,     0.67718,      0.6772,     0.67745,      0.6777,     0.67736,     0.67716,     0.67704,     0.67675,     0.67644,     0.67649,     0.67654,     0.67609,     0.67572,     0.67541,      0.6757,     0.67527,     0.67465,     0.67479,     0.67452,     0.67394,\n",
       "            0.67438,     0.67553,     0.67617,      0.6763,     0.67672,     0.67694,     0.67681,     0.67671,     0.67657,     0.67646,     0.67644,     0.67643,     0.67614,     0.67584,     0.67474,     0.67478,     0.67505,      0.6741,     0.67371,     0.67392,      0.6732,     0.67279,     0.67317,\n",
       "            0.67283,     0.67204,     0.67241,     0.67216,     0.67233,     0.67244,     0.67173,      0.6718,     0.67152,     0.67178,     0.67118,     0.67025,     0.66987,     0.66938,     0.66908,     0.66894,     0.66848,     0.66867,     0.66861,     0.66711,     0.66696,     0.66696,     0.66683,\n",
       "            0.66648,      0.6665,     0.66675,     0.66697,     0.66691,     0.66742,     0.66633,     0.66636,     0.66619,     0.66534,     0.66487,     0.66313,     0.66286,      0.6627,      0.6633,     0.66409,     0.66366,     0.66298,     0.66148,     0.66098,     0.65969,     0.65853,     0.65647,\n",
       "            0.65593,     0.65521,     0.65499,     0.65503,     0.65427,     0.65281,      0.6528,     0.65191,     0.65061,     0.64887,     0.64802,     0.64694,     0.64491,     0.64458,     0.64436,     0.64384,     0.64338,     0.64254,     0.64257,     0.64273,     0.64239,     0.64127,     0.64057,\n",
       "               0.64,     0.63827,      0.6381,      0.6372,     0.63704,      0.6367,     0.63576,     0.63548,     0.63489,     0.63432,     0.63374,     0.63313,     0.63231,     0.63221,     0.63074,     0.63034,     0.62966,     0.62901,     0.62867,     0.62718,     0.62679,     0.62661,     0.62607,\n",
       "            0.62585,     0.62607,     0.62606,      0.6258,     0.62542,     0.62513,     0.62424,     0.62377,     0.62295,     0.62288,      0.6231,     0.62323,     0.62133,     0.62107,     0.62039,     0.61996,     0.61972,     0.61751,     0.61635,     0.61562,     0.61539,     0.61437,     0.61411,\n",
       "            0.61374,      0.6128,     0.61241,     0.61218,       0.612,     0.61116,     0.61064,     0.61015,     0.60984,     0.60914,     0.60872,     0.60788,     0.60684,     0.60528,     0.60494,     0.60471,     0.60438,     0.60419,     0.60413,     0.60359,     0.60252,      0.6013,      0.6007,\n",
       "            0.60017,     0.59888,     0.59792,     0.59751,      0.5962,     0.59449,     0.59368,     0.59248,     0.59163,     0.59014,     0.58828,     0.58774,     0.58792,     0.58788,     0.58735,       0.587,     0.58665,     0.58619,     0.58567,     0.58535,     0.58438,      0.5832,     0.58232,\n",
       "            0.58197,     0.58131,     0.57999,     0.57954,     0.57789,     0.57671,     0.57571,     0.57518,     0.57401,     0.57341,     0.57269,     0.56975,     0.56781,     0.56708,     0.56524,     0.56452,     0.56451,     0.56419,     0.56384,     0.56273,     0.56162,     0.55937,     0.55796,\n",
       "            0.55701,     0.55555,     0.55467,     0.55326,      0.5519,     0.55112,     0.54925,     0.54806,     0.54707,     0.54508,     0.54445,     0.54318,     0.54174,     0.54066,     0.53851,     0.53812,     0.53675,       0.534,     0.53241,     0.53163,     0.53103,     0.52968,     0.52724,\n",
       "            0.52556,     0.52507,     0.52365,     0.52304,     0.52074,     0.51834,      0.5167,     0.51555,     0.51493,     0.51431,     0.51357,     0.51254,     0.50971,     0.50668,     0.50508,     0.50225,     0.50245,     0.50208,     0.49981,     0.49876,     0.49778,     0.49563,     0.49361,\n",
       "            0.49324,     0.49132,     0.48947,     0.48767,     0.48772,     0.48556,       0.483,     0.48131,     0.47937,     0.47811,     0.47592,      0.4741,     0.47286,     0.47003,     0.46925,     0.46653,     0.46611,     0.46452,     0.46216,     0.46047,     0.45849,      0.4578,     0.45669,\n",
       "            0.45483,     0.45372,     0.45349,      0.4498,     0.44866,     0.44766,     0.44742,     0.44606,     0.44162,     0.44097,     0.43828,      0.4351,     0.43383,     0.43249,     0.42986,     0.42779,     0.42622,     0.42228,     0.41818,     0.41629,     0.41439,     0.41326,     0.41009,\n",
       "            0.40852,     0.40814,     0.40825,     0.40673,     0.40632,     0.40516,     0.40406,     0.40227,     0.40108,     0.39797,     0.39594,      0.3937,     0.39041,     0.38828,      0.3858,     0.38262,     0.37987,      0.3781,     0.37656,      0.3733,     0.36795,      0.3662,     0.36435,\n",
       "            0.36007,     0.35801,     0.35506,     0.35221,     0.34992,     0.34792,     0.34552,     0.34348,     0.34231,     0.34049,      0.3393,     0.33797,      0.3359,     0.33187,      0.3296,      0.3274,     0.32541,     0.32266,     0.32039,     0.31908,     0.31323,     0.31018,     0.30726,\n",
       "            0.30442,     0.30238,     0.29679,     0.29532,     0.29148,     0.28875,     0.28429,     0.27843,     0.27553,     0.27203,     0.26849,     0.26438,     0.26183,     0.25966,     0.25775,     0.25366,     0.24904,     0.24552,     0.24487,     0.24354,     0.24064,      0.2347,     0.23176,\n",
       "            0.22767,     0.22424,     0.22194,     0.21769,     0.21432,     0.21201,     0.20915,     0.20142,     0.19748,     0.19461,     0.19212,     0.18778,     0.18535,     0.18322,     0.17961,     0.17687,     0.17441,     0.17076,     0.16804,     0.16577,     0.16369,     0.16137,     0.16042,\n",
       "            0.15826,     0.15772,     0.15471,        0.15,     0.14856,     0.14628,     0.14507,     0.14128,      0.1385,     0.13563,     0.13189,     0.12863,     0.12586,     0.12336,     0.12107,     0.11877,     0.11709,     0.11468,     0.11435,     0.11402,     0.11208,     0.10942,     0.10826,\n",
       "            0.10535,     0.10416,     0.10218,    0.099202,    0.096555,    0.092739,    0.090343,    0.088431,    0.085813,    0.081543,    0.080042,    0.078933,    0.076331,    0.075468,    0.073697,    0.071382,    0.069374,    0.067575,     0.06627,    0.062992,    0.059478,    0.058969,    0.057681,\n",
       "           0.055646,    0.054554,    0.054056,    0.053358,    0.052257,    0.051341,    0.050743,    0.050246,    0.048152,    0.046167,    0.044221,    0.042653,     0.03892,    0.038267,    0.037036,    0.035623,    0.034676,    0.032908,    0.032295,     0.03191,    0.031618,    0.031326,    0.030777,\n",
       "           0.029861,    0.027674,     0.02442,    0.024237,    0.024054,    0.023871,    0.023688,    0.023505,    0.021969,    0.021331,    0.021046,    0.020761,    0.020484,    0.020228,    0.019971,    0.019715,    0.018725,    0.017882,    0.016848,    0.014969,    0.014012,    0.013595,    0.013367,\n",
       "           0.013139,    0.012912,    0.012553,    0.012004,    0.010924,    0.010666,    0.010499,    0.010331,    0.010164,    0.009996,   0.0087709,   0.0078433,   0.0076991,   0.0075548,   0.0074106,   0.0072663,    0.007122,   0.0069776,   0.0065016,   0.0056856,   0.0049674,   0.0048681,   0.0047996,\n",
       "           0.004731,   0.0046624,   0.0045939,   0.0045253,   0.0044567,   0.0043882,   0.0043196,    0.004251,   0.0041824,   0.0041138,   0.0040452,   0.0039766,   0.0028011,    0.002429,   0.0020567,   0.0019497,   0.0019158,   0.0018819,   0.0018479,    0.001814,   0.0017801,   0.0017462,   0.0017123,\n",
       "          0.0016783,   0.0016444,   0.0016105,   0.0015765,   0.0015426,   0.0015087,   0.0014747,   0.0014408,   0.0014069,   0.0013729,    0.001339,   0.0013051,   0.0012711,   0.0012372,   0.0012032,   0.0011693,   0.0011354,   0.0011014,   0.0010675,   0.0010335,  0.00099958,           0,           0,\n",
       "                  0,           0,           0,           0,           0,           0,           0,           0,           0,           0,           0,           0,           0,           0,           0,           0,           0,           0,           0,           0,           0,           0,           0,\n",
       "                  0,           0,           0,           0,           0,           0,           0,           0,           0,           0,           0,           0,           0,           0,           0,           0,           0,           0,           0,           0,           0,           0,           0,\n",
       "                  0,           0,           0,           0,           0,           0,           0,           0,           0,           0,           0,           0,           0,           0,           0,           0,           0,           0,           0,           0,           0,           0,           0,\n",
       "                  0,           0,           0,           0,           0,           0,           0,           0,           0,           0,           0,           0,           0,           0,           0,           0,           0,           0,           0,           0,           0,           0,           0,\n",
       "                  0,           0,           0,           0,           0,           0,           0,           0,           0,           0,           0]]), 'Confidence', 'F1'], [array([          0,    0.001001,    0.002002,    0.003003,    0.004004,    0.005005,    0.006006,    0.007007,    0.008008,    0.009009,     0.01001,    0.011011,    0.012012,    0.013013,    0.014014,    0.015015,    0.016016,    0.017017,    0.018018,    0.019019,     0.02002,    0.021021,    0.022022,    0.023023,\n",
       "          0.024024,    0.025025,    0.026026,    0.027027,    0.028028,    0.029029,     0.03003,    0.031031,    0.032032,    0.033033,    0.034034,    0.035035,    0.036036,    0.037037,    0.038038,    0.039039,     0.04004,    0.041041,    0.042042,    0.043043,    0.044044,    0.045045,    0.046046,    0.047047,\n",
       "          0.048048,    0.049049,     0.05005,    0.051051,    0.052052,    0.053053,    0.054054,    0.055055,    0.056056,    0.057057,    0.058058,    0.059059,     0.06006,    0.061061,    0.062062,    0.063063,    0.064064,    0.065065,    0.066066,    0.067067,    0.068068,    0.069069,     0.07007,    0.071071,\n",
       "          0.072072,    0.073073,    0.074074,    0.075075,    0.076076,    0.077077,    0.078078,    0.079079,     0.08008,    0.081081,    0.082082,    0.083083,    0.084084,    0.085085,    0.086086,    0.087087,    0.088088,    0.089089,     0.09009,    0.091091,    0.092092,    0.093093,    0.094094,    0.095095,\n",
       "          0.096096,    0.097097,    0.098098,    0.099099,      0.1001,      0.1011,      0.1021,      0.1031,      0.1041,     0.10511,     0.10611,     0.10711,     0.10811,     0.10911,     0.11011,     0.11111,     0.11211,     0.11311,     0.11411,     0.11512,     0.11612,     0.11712,     0.11812,     0.11912,\n",
       "           0.12012,     0.12112,     0.12212,     0.12312,     0.12412,     0.12513,     0.12613,     0.12713,     0.12813,     0.12913,     0.13013,     0.13113,     0.13213,     0.13313,     0.13413,     0.13514,     0.13614,     0.13714,     0.13814,     0.13914,     0.14014,     0.14114,     0.14214,     0.14314,\n",
       "           0.14414,     0.14515,     0.14615,     0.14715,     0.14815,     0.14915,     0.15015,     0.15115,     0.15215,     0.15315,     0.15415,     0.15516,     0.15616,     0.15716,     0.15816,     0.15916,     0.16016,     0.16116,     0.16216,     0.16316,     0.16416,     0.16517,     0.16617,     0.16717,\n",
       "           0.16817,     0.16917,     0.17017,     0.17117,     0.17217,     0.17317,     0.17417,     0.17518,     0.17618,     0.17718,     0.17818,     0.17918,     0.18018,     0.18118,     0.18218,     0.18318,     0.18418,     0.18519,     0.18619,     0.18719,     0.18819,     0.18919,     0.19019,     0.19119,\n",
       "           0.19219,     0.19319,     0.19419,      0.1952,      0.1962,      0.1972,      0.1982,      0.1992,      0.2002,      0.2012,      0.2022,      0.2032,      0.2042,     0.20521,     0.20621,     0.20721,     0.20821,     0.20921,     0.21021,     0.21121,     0.21221,     0.21321,     0.21421,     0.21522,\n",
       "           0.21622,     0.21722,     0.21822,     0.21922,     0.22022,     0.22122,     0.22222,     0.22322,     0.22422,     0.22523,     0.22623,     0.22723,     0.22823,     0.22923,     0.23023,     0.23123,     0.23223,     0.23323,     0.23423,     0.23524,     0.23624,     0.23724,     0.23824,     0.23924,\n",
       "           0.24024,     0.24124,     0.24224,     0.24324,     0.24424,     0.24525,     0.24625,     0.24725,     0.24825,     0.24925,     0.25025,     0.25125,     0.25225,     0.25325,     0.25425,     0.25526,     0.25626,     0.25726,     0.25826,     0.25926,     0.26026,     0.26126,     0.26226,     0.26326,\n",
       "           0.26426,     0.26527,     0.26627,     0.26727,     0.26827,     0.26927,     0.27027,     0.27127,     0.27227,     0.27327,     0.27427,     0.27528,     0.27628,     0.27728,     0.27828,     0.27928,     0.28028,     0.28128,     0.28228,     0.28328,     0.28428,     0.28529,     0.28629,     0.28729,\n",
       "           0.28829,     0.28929,     0.29029,     0.29129,     0.29229,     0.29329,     0.29429,      0.2953,      0.2963,      0.2973,      0.2983,      0.2993,      0.3003,      0.3013,      0.3023,      0.3033,      0.3043,     0.30531,     0.30631,     0.30731,     0.30831,     0.30931,     0.31031,     0.31131,\n",
       "           0.31231,     0.31331,     0.31431,     0.31532,     0.31632,     0.31732,     0.31832,     0.31932,     0.32032,     0.32132,     0.32232,     0.32332,     0.32432,     0.32533,     0.32633,     0.32733,     0.32833,     0.32933,     0.33033,     0.33133,     0.33233,     0.33333,     0.33433,     0.33534,\n",
       "           0.33634,     0.33734,     0.33834,     0.33934,     0.34034,     0.34134,     0.34234,     0.34334,     0.34434,     0.34535,     0.34635,     0.34735,     0.34835,     0.34935,     0.35035,     0.35135,     0.35235,     0.35335,     0.35435,     0.35536,     0.35636,     0.35736,     0.35836,     0.35936,\n",
       "           0.36036,     0.36136,     0.36236,     0.36336,     0.36436,     0.36537,     0.36637,     0.36737,     0.36837,     0.36937,     0.37037,     0.37137,     0.37237,     0.37337,     0.37437,     0.37538,     0.37638,     0.37738,     0.37838,     0.37938,     0.38038,     0.38138,     0.38238,     0.38338,\n",
       "           0.38438,     0.38539,     0.38639,     0.38739,     0.38839,     0.38939,     0.39039,     0.39139,     0.39239,     0.39339,     0.39439,      0.3954,      0.3964,      0.3974,      0.3984,      0.3994,      0.4004,      0.4014,      0.4024,      0.4034,      0.4044,     0.40541,     0.40641,     0.40741,\n",
       "           0.40841,     0.40941,     0.41041,     0.41141,     0.41241,     0.41341,     0.41441,     0.41542,     0.41642,     0.41742,     0.41842,     0.41942,     0.42042,     0.42142,     0.42242,     0.42342,     0.42442,     0.42543,     0.42643,     0.42743,     0.42843,     0.42943,     0.43043,     0.43143,\n",
       "           0.43243,     0.43343,     0.43443,     0.43544,     0.43644,     0.43744,     0.43844,     0.43944,     0.44044,     0.44144,     0.44244,     0.44344,     0.44444,     0.44545,     0.44645,     0.44745,     0.44845,     0.44945,     0.45045,     0.45145,     0.45245,     0.45345,     0.45445,     0.45546,\n",
       "           0.45646,     0.45746,     0.45846,     0.45946,     0.46046,     0.46146,     0.46246,     0.46346,     0.46446,     0.46547,     0.46647,     0.46747,     0.46847,     0.46947,     0.47047,     0.47147,     0.47247,     0.47347,     0.47447,     0.47548,     0.47648,     0.47748,     0.47848,     0.47948,\n",
       "           0.48048,     0.48148,     0.48248,     0.48348,     0.48448,     0.48549,     0.48649,     0.48749,     0.48849,     0.48949,     0.49049,     0.49149,     0.49249,     0.49349,     0.49449,      0.4955,      0.4965,      0.4975,      0.4985,      0.4995,      0.5005,      0.5015,      0.5025,      0.5035,\n",
       "            0.5045,     0.50551,     0.50651,     0.50751,     0.50851,     0.50951,     0.51051,     0.51151,     0.51251,     0.51351,     0.51451,     0.51552,     0.51652,     0.51752,     0.51852,     0.51952,     0.52052,     0.52152,     0.52252,     0.52352,     0.52452,     0.52553,     0.52653,     0.52753,\n",
       "           0.52853,     0.52953,     0.53053,     0.53153,     0.53253,     0.53353,     0.53453,     0.53554,     0.53654,     0.53754,     0.53854,     0.53954,     0.54054,     0.54154,     0.54254,     0.54354,     0.54454,     0.54555,     0.54655,     0.54755,     0.54855,     0.54955,     0.55055,     0.55155,\n",
       "           0.55255,     0.55355,     0.55455,     0.55556,     0.55656,     0.55756,     0.55856,     0.55956,     0.56056,     0.56156,     0.56256,     0.56356,     0.56456,     0.56557,     0.56657,     0.56757,     0.56857,     0.56957,     0.57057,     0.57157,     0.57257,     0.57357,     0.57457,     0.57558,\n",
       "           0.57658,     0.57758,     0.57858,     0.57958,     0.58058,     0.58158,     0.58258,     0.58358,     0.58458,     0.58559,     0.58659,     0.58759,     0.58859,     0.58959,     0.59059,     0.59159,     0.59259,     0.59359,     0.59459,      0.5956,      0.5966,      0.5976,      0.5986,      0.5996,\n",
       "            0.6006,      0.6016,      0.6026,      0.6036,      0.6046,     0.60561,     0.60661,     0.60761,     0.60861,     0.60961,     0.61061,     0.61161,     0.61261,     0.61361,     0.61461,     0.61562,     0.61662,     0.61762,     0.61862,     0.61962,     0.62062,     0.62162,     0.62262,     0.62362,\n",
       "           0.62462,     0.62563,     0.62663,     0.62763,     0.62863,     0.62963,     0.63063,     0.63163,     0.63263,     0.63363,     0.63463,     0.63564,     0.63664,     0.63764,     0.63864,     0.63964,     0.64064,     0.64164,     0.64264,     0.64364,     0.64464,     0.64565,     0.64665,     0.64765,\n",
       "           0.64865,     0.64965,     0.65065,     0.65165,     0.65265,     0.65365,     0.65465,     0.65566,     0.65666,     0.65766,     0.65866,     0.65966,     0.66066,     0.66166,     0.66266,     0.66366,     0.66466,     0.66567,     0.66667,     0.66767,     0.66867,     0.66967,     0.67067,     0.67167,\n",
       "           0.67267,     0.67367,     0.67467,     0.67568,     0.67668,     0.67768,     0.67868,     0.67968,     0.68068,     0.68168,     0.68268,     0.68368,     0.68468,     0.68569,     0.68669,     0.68769,     0.68869,     0.68969,     0.69069,     0.69169,     0.69269,     0.69369,     0.69469,      0.6957,\n",
       "            0.6967,      0.6977,      0.6987,      0.6997,      0.7007,      0.7017,      0.7027,      0.7037,      0.7047,     0.70571,     0.70671,     0.70771,     0.70871,     0.70971,     0.71071,     0.71171,     0.71271,     0.71371,     0.71471,     0.71572,     0.71672,     0.71772,     0.71872,     0.71972,\n",
       "           0.72072,     0.72172,     0.72272,     0.72372,     0.72472,     0.72573,     0.72673,     0.72773,     0.72873,     0.72973,     0.73073,     0.73173,     0.73273,     0.73373,     0.73473,     0.73574,     0.73674,     0.73774,     0.73874,     0.73974,     0.74074,     0.74174,     0.74274,     0.74374,\n",
       "           0.74474,     0.74575,     0.74675,     0.74775,     0.74875,     0.74975,     0.75075,     0.75175,     0.75275,     0.75375,     0.75475,     0.75576,     0.75676,     0.75776,     0.75876,     0.75976,     0.76076,     0.76176,     0.76276,     0.76376,     0.76476,     0.76577,     0.76677,     0.76777,\n",
       "           0.76877,     0.76977,     0.77077,     0.77177,     0.77277,     0.77377,     0.77477,     0.77578,     0.77678,     0.77778,     0.77878,     0.77978,     0.78078,     0.78178,     0.78278,     0.78378,     0.78478,     0.78579,     0.78679,     0.78779,     0.78879,     0.78979,     0.79079,     0.79179,\n",
       "           0.79279,     0.79379,     0.79479,      0.7958,      0.7968,      0.7978,      0.7988,      0.7998,      0.8008,      0.8018,      0.8028,      0.8038,      0.8048,     0.80581,     0.80681,     0.80781,     0.80881,     0.80981,     0.81081,     0.81181,     0.81281,     0.81381,     0.81481,     0.81582,\n",
       "           0.81682,     0.81782,     0.81882,     0.81982,     0.82082,     0.82182,     0.82282,     0.82382,     0.82482,     0.82583,     0.82683,     0.82783,     0.82883,     0.82983,     0.83083,     0.83183,     0.83283,     0.83383,     0.83483,     0.83584,     0.83684,     0.83784,     0.83884,     0.83984,\n",
       "           0.84084,     0.84184,     0.84284,     0.84384,     0.84484,     0.84585,     0.84685,     0.84785,     0.84885,     0.84985,     0.85085,     0.85185,     0.85285,     0.85385,     0.85485,     0.85586,     0.85686,     0.85786,     0.85886,     0.85986,     0.86086,     0.86186,     0.86286,     0.86386,\n",
       "           0.86486,     0.86587,     0.86687,     0.86787,     0.86887,     0.86987,     0.87087,     0.87187,     0.87287,     0.87387,     0.87487,     0.87588,     0.87688,     0.87788,     0.87888,     0.87988,     0.88088,     0.88188,     0.88288,     0.88388,     0.88488,     0.88589,     0.88689,     0.88789,\n",
       "           0.88889,     0.88989,     0.89089,     0.89189,     0.89289,     0.89389,     0.89489,      0.8959,      0.8969,      0.8979,      0.8989,      0.8999,      0.9009,      0.9019,      0.9029,      0.9039,      0.9049,     0.90591,     0.90691,     0.90791,     0.90891,     0.90991,     0.91091,     0.91191,\n",
       "           0.91291,     0.91391,     0.91491,     0.91592,     0.91692,     0.91792,     0.91892,     0.91992,     0.92092,     0.92192,     0.92292,     0.92392,     0.92492,     0.92593,     0.92693,     0.92793,     0.92893,     0.92993,     0.93093,     0.93193,     0.93293,     0.93393,     0.93493,     0.93594,\n",
       "           0.93694,     0.93794,     0.93894,     0.93994,     0.94094,     0.94194,     0.94294,     0.94394,     0.94494,     0.94595,     0.94695,     0.94795,     0.94895,     0.94995,     0.95095,     0.95195,     0.95295,     0.95395,     0.95495,     0.95596,     0.95696,     0.95796,     0.95896,     0.95996,\n",
       "           0.96096,     0.96196,     0.96296,     0.96396,     0.96496,     0.96597,     0.96697,     0.96797,     0.96897,     0.96997,     0.97097,     0.97197,     0.97297,     0.97397,     0.97497,     0.97598,     0.97698,     0.97798,     0.97898,     0.97998,     0.98098,     0.98198,     0.98298,     0.98398,\n",
       "           0.98498,     0.98599,     0.98699,     0.98799,     0.98899,     0.98999,     0.99099,     0.99199,     0.99299,     0.99399,     0.99499,       0.996,       0.997,       0.998,       0.999,           1]), array([[   0.050099,     0.05012,    0.073542,    0.092182,     0.10878,     0.12345,     0.13681,     0.14867,     0.15929,     0.16947,     0.17892,     0.18903,      0.1971,     0.20582,     0.21474,     0.22332,     0.23063,     0.23731,     0.24387,     0.25077,     0.25805,     0.26456,     0.27119,\n",
       "            0.27788,     0.28342,     0.29009,     0.29649,     0.30281,     0.30879,      0.3126,     0.31834,     0.32269,     0.32768,     0.33305,     0.33917,     0.34435,     0.34909,      0.3533,     0.35693,     0.36163,      0.3652,     0.37037,     0.37431,     0.37846,     0.38327,     0.38655,\n",
       "            0.39082,     0.39445,     0.39838,     0.40269,     0.40642,     0.41017,     0.41287,     0.41621,     0.41912,     0.42304,       0.426,     0.42931,     0.43215,     0.43446,     0.43734,     0.44048,     0.44366,     0.44693,     0.45072,     0.45417,     0.45699,     0.46023,     0.46249,\n",
       "            0.46567,     0.46818,     0.47144,     0.47475,     0.47797,     0.48135,     0.48358,     0.48509,     0.48856,     0.49196,     0.49394,     0.49513,     0.49778,     0.49949,     0.50233,     0.50672,     0.50803,     0.51007,     0.51204,     0.51342,      0.5163,     0.51816,      0.5201,\n",
       "            0.52306,     0.52494,     0.52725,     0.52961,     0.53137,     0.53447,     0.53695,     0.53843,     0.54082,     0.54255,     0.54504,     0.54721,     0.55036,     0.55372,     0.55663,     0.55998,     0.56171,     0.56408,     0.56552,     0.56767,     0.57013,     0.57187,     0.57564,\n",
       "            0.57695,     0.57979,     0.58295,     0.58488,     0.58549,     0.58706,      0.5889,     0.59085,     0.59334,     0.59539,     0.59587,      0.5964,     0.59732,     0.59907,     0.60016,     0.60122,     0.60369,     0.60558,     0.60692,     0.60925,      0.6119,     0.61375,     0.61672,\n",
       "             0.6179,     0.61913,     0.62213,     0.62269,      0.6255,     0.62583,     0.62749,     0.62836,      0.6308,     0.63307,     0.63457,     0.63578,      0.6365,     0.63734,     0.63822,     0.63942,     0.64069,     0.64234,     0.64356,      0.6451,     0.64559,     0.64751,      0.6494,\n",
       "            0.64959,     0.65059,     0.65043,     0.65107,     0.65284,     0.65425,     0.65507,     0.65591,     0.65751,     0.65937,     0.66016,     0.66194,     0.66298,     0.66326,     0.66417,     0.66569,     0.66867,      0.6699,     0.67209,     0.67377,     0.67587,     0.67685,     0.67971,\n",
       "            0.68168,      0.6827,     0.68403,     0.68536,     0.68558,     0.68574,     0.68732,     0.68757,     0.68771,     0.68849,      0.6889,     0.68963,      0.6897,     0.69034,     0.69246,     0.69367,     0.69536,     0.69687,     0.69751,     0.69814,     0.70047,     0.70286,     0.70571,\n",
       "            0.70668,     0.70776,     0.70905,     0.71144,     0.71222,     0.71504,     0.71694,     0.71774,     0.71822,     0.71953,     0.71975,     0.72098,     0.72187,     0.72257,     0.72473,       0.725,     0.72563,     0.72593,     0.72777,     0.72864,     0.72994,     0.73048,     0.73128,\n",
       "            0.73197,     0.73219,     0.73441,     0.73523,     0.73562,     0.73701,     0.73778,     0.73842,     0.73934,     0.74079,     0.74094,      0.7423,     0.74206,     0.74255,     0.74401,     0.74651,     0.74675,     0.74645,      0.7465,     0.74764,     0.74779,     0.74835,     0.75004,\n",
       "            0.75103,     0.75207,     0.75377,     0.75488,     0.75623,     0.75694,      0.7573,     0.75772,     0.75894,     0.76026,     0.76025,     0.76084,     0.76091,     0.76147,     0.76253,     0.76359,     0.76508,      0.7659,     0.76627,     0.76646,     0.76734,     0.76738,     0.76834,\n",
       "            0.76833,     0.76937,     0.77059,     0.77152,     0.77216,     0.77269,     0.77414,     0.77589,       0.776,      0.7775,      0.7781,     0.77903,     0.78006,     0.77979,     0.78067,      0.7811,     0.78165,     0.78242,     0.78308,     0.78287,     0.78266,     0.78381,     0.78446,\n",
       "            0.78632,     0.78808,      0.7898,     0.79081,     0.79114,     0.79254,     0.79359,     0.79418,     0.79504,     0.79615,     0.79696,     0.79784,     0.79898,     0.79965,      0.7999,     0.80021,     0.80166,     0.80271,     0.80415,     0.80526,     0.80728,     0.80831,      0.8086,\n",
       "            0.80892,     0.81031,     0.81027,     0.80997,     0.81137,     0.81208,      0.8128,     0.81349,     0.81417,     0.81488,     0.81478,     0.81468,     0.81517,     0.81622,      0.8181,       0.819,     0.81889,     0.81981,     0.82091,      0.8207,     0.82116,     0.82222,     0.82272,\n",
       "            0.82404,     0.82749,     0.82941,     0.83085,     0.83213,     0.83279,     0.83302,     0.83353,      0.8338,     0.83399,     0.83453,     0.83562,     0.83553,     0.83544,      0.8357,     0.83621,     0.83772,     0.83806,     0.83905,      0.8408,     0.84189,     0.84284,     0.84471,\n",
       "            0.84633,     0.84725,     0.84852,     0.84879,     0.84933,     0.84969,     0.85125,     0.85245,     0.85255,      0.8534,     0.85347,      0.8532,      0.8531,     0.85416,     0.85407,     0.85463,     0.85572,     0.85698,     0.85879,     0.85849,     0.85924,     0.86018,     0.86138,\n",
       "            0.86129,     0.86264,     0.86349,     0.86422,     0.86527,     0.86701,      0.8669,     0.86849,     0.87048,     0.87112,     0.87165,     0.87166,     0.87179,     0.87279,     0.87488,     0.87765,     0.87792,     0.87842,     0.87806,     0.87794,     0.87762,     0.87801,     0.87751,\n",
       "            0.87806,     0.87788,     0.87783,     0.87834,     0.87902,     0.87935,     0.88073,     0.88052,     0.88021,     0.88014,     0.88028,     0.88072,     0.88023,     0.88038,      0.8808,     0.88068,     0.88128,     0.88108,      0.8818,     0.88255,     0.88247,      0.8822,     0.88275,\n",
       "            0.88261,     0.88223,     0.88361,     0.88433,     0.88527,     0.88711,     0.88746,     0.88873,     0.89024,     0.89086,     0.89073,     0.89059,     0.89074,     0.89114,     0.89081,     0.89148,     0.89133,     0.89118,     0.89111,     0.89077,     0.89068,     0.89064,     0.89062,\n",
       "            0.89142,     0.89231,     0.89283,     0.89277,     0.89305,     0.89339,      0.8932,     0.89309,     0.89325,     0.89468,     0.89559,      0.8961,     0.89569,     0.89564,     0.89549,     0.89539,     0.89534,     0.89516,      0.8954,     0.89524,     0.89599,     0.89657,     0.89651,\n",
       "            0.89643,     0.89623,     0.89695,     0.89772,     0.89849,     0.89831,     0.90067,     0.90057,      0.9009,     0.90369,      0.9036,     0.90343,     0.90406,     0.90383,     0.90451,     0.90516,     0.90611,     0.90778,     0.90848,     0.91005,     0.91005,     0.91069,     0.91145,\n",
       "            0.91223,     0.91198,      0.9118,     0.91172,     0.91147,     0.91114,     0.91188,     0.91164,     0.91148,     0.91119,     0.91083,     0.91352,      0.9144,     0.91624,     0.91706,       0.917,     0.91694,     0.91778,     0.91769,     0.91763,     0.91839,     0.91817,     0.91896,\n",
       "            0.91889,     0.91877,     0.92068,     0.92132,     0.92178,     0.92178,     0.92259,     0.92346,      0.9262,      0.9261,     0.92598,     0.92549,     0.92569,     0.92604,     0.92572,      0.9256,     0.92661,     0.92656,     0.92744,     0.92733,     0.92715,     0.92677,     0.92653,\n",
       "            0.92637,     0.92612,     0.92701,     0.92677,     0.92654,     0.92641,     0.92609,     0.92588,     0.92571,     0.92643,     0.92779,     0.92825,     0.92801,     0.92891,     0.92855,     0.92849,     0.92929,     0.92889,     0.92862,      0.9296,     0.93121,     0.93153,     0.93226,\n",
       "            0.93199,     0.93191,     0.93168,     0.93216,     0.93235,     0.93196,     0.93286,     0.93267,     0.93257,     0.93365,     0.93353,     0.93437,     0.93651,     0.93603,     0.93578,     0.93586,     0.93783,     0.93777,     0.93741,     0.93725,     0.93808,     0.93802,     0.93897,\n",
       "            0.93891,     0.93862,     0.93833,     0.93805,     0.93928,     0.94032,     0.93993,     0.93967,     0.93936,      0.9405,     0.94016,     0.93988,     0.93969,     0.93924,     0.94186,     0.94156,     0.94277,     0.94393,     0.94499,     0.94738,     0.94733,     0.94723,     0.94707,\n",
       "            0.94681,     0.94811,     0.94955,     0.94904,     0.95188,     0.95326,     0.95475,     0.95458,     0.95402,     0.95393,     0.95359,     0.95318,     0.95301,     0.95283,     0.95408,     0.95542,     0.95522,     0.95472,     0.95418,     0.95393,     0.95536,     0.95607,     0.95822,\n",
       "            0.95802,     0.95798,     0.96142,     0.96305,     0.96729,     0.96822,     0.96983,     0.96976,     0.97332,     0.97493,     0.97477,      0.9746,     0.97434,     0.97617,     0.97786,     0.97764,     0.97744,     0.97732,     0.97922,     0.97901,     0.97864,     0.98061,     0.98049,\n",
       "            0.98022,     0.98008,     0.97988,     0.98089,     0.98176,     0.98163,     0.98148,     0.98135,     0.98334,     0.98346,     0.98339,     0.98332,      0.9832,     0.98295,     0.98282,     0.98268,     0.98256,     0.98238,     0.98224,     0.98215,     0.98176,     0.98414,     0.98659,\n",
       "            0.98645,     0.98634,     0.98604,     0.98596,     0.98575,     0.98559,     0.98533,     0.98498,      0.9848,     0.98673,     0.99054,     0.99037,     0.99026,     0.99017,     0.99336,     0.99324,     0.99654,     0.99907,           1,           1,           1,           1,           1,\n",
       "                  1,           1,           1,           1,           1,           1,           1,           1,           1,           1,           1,           1,           1,           1,           1,           1,           1,           1,           1,           1,           1,           1,           1,\n",
       "                  1,           1,           1,           1,           1,           1,           1,           1,           1,           1,           1,           1,           1,           1,           1,           1,           1,           1,           1,           1,           1,           1,           1,\n",
       "                  1,           1,           1,           1,           1,           1,           1,           1,           1,           1,           1,           1,           1,           1,           1,           1,           1,           1,           1,           1,           1,           1,           1,\n",
       "                  1,           1,           1,           1,           1,           1,           1,           1,           1,           1,           1,           1,           1,           1,           1,           1,           1,           1,           1,           1,           1,           1,           1,\n",
       "                  1,           1,           1,           1,           1,           1,           1,           1,           1,           1,           1,           1,           1,           1,           1,           1,           1,           1,           1,           1,           1,           1,           1,\n",
       "                  1,           1,           1,           1,           1,           1,           1,           1,           1,           1,           1,           1,           1,           1,           1,           1,           1,           1,           1,           1,           1,           1,           1,\n",
       "                  1,           1,           1,           1,           1,           1,           1,           1,           1,           1,           1,           1,           1,           1,           1,           1,           1,           1,           1,           1,           1,           1,           1,\n",
       "                  1,           1,           1,           1,           1,           1,           1,           1,           1,           1,           1,           1,           1,           1,           1,           1,           1,           1,           1,           1,           1,           1,           1,\n",
       "                  1,           1,           1,           1,           1,           1,           1,           1,           1,           1,           1,           1,           1,           1,           1,           1,           1,           1,           1,           1,           1,           1,           1,\n",
       "                  1,           1,           1,           1,           1,           1,           1,           1,           1,           1,           1,           1,           1,           1,           1,           1,           1,           1,           1,           1,           1,           1,           1,\n",
       "                  1,           1,           1,           1,           1,           1,           1,           1,           1,           1,           1,           1,           1,           1,           1,           1,           1,           1,           1,           1,           1,           1,           1,\n",
       "                  1,           1,           1,           1,           1,           1,           1,           1,           1,           1,           1,           1,           1,           1,           1,           1,           1,           1,           1,           1,           1,           1,           1,\n",
       "                  1,           1,           1,           1,           1,           1,           1,           1,           1,           1,           1]]), 'Confidence', 'Precision'], [array([          0,    0.001001,    0.002002,    0.003003,    0.004004,    0.005005,    0.006006,    0.007007,    0.008008,    0.009009,     0.01001,    0.011011,    0.012012,    0.013013,    0.014014,    0.015015,    0.016016,    0.017017,    0.018018,    0.019019,     0.02002,    0.021021,    0.022022,    0.023023,\n",
       "          0.024024,    0.025025,    0.026026,    0.027027,    0.028028,    0.029029,     0.03003,    0.031031,    0.032032,    0.033033,    0.034034,    0.035035,    0.036036,    0.037037,    0.038038,    0.039039,     0.04004,    0.041041,    0.042042,    0.043043,    0.044044,    0.045045,    0.046046,    0.047047,\n",
       "          0.048048,    0.049049,     0.05005,    0.051051,    0.052052,    0.053053,    0.054054,    0.055055,    0.056056,    0.057057,    0.058058,    0.059059,     0.06006,    0.061061,    0.062062,    0.063063,    0.064064,    0.065065,    0.066066,    0.067067,    0.068068,    0.069069,     0.07007,    0.071071,\n",
       "          0.072072,    0.073073,    0.074074,    0.075075,    0.076076,    0.077077,    0.078078,    0.079079,     0.08008,    0.081081,    0.082082,    0.083083,    0.084084,    0.085085,    0.086086,    0.087087,    0.088088,    0.089089,     0.09009,    0.091091,    0.092092,    0.093093,    0.094094,    0.095095,\n",
       "          0.096096,    0.097097,    0.098098,    0.099099,      0.1001,      0.1011,      0.1021,      0.1031,      0.1041,     0.10511,     0.10611,     0.10711,     0.10811,     0.10911,     0.11011,     0.11111,     0.11211,     0.11311,     0.11411,     0.11512,     0.11612,     0.11712,     0.11812,     0.11912,\n",
       "           0.12012,     0.12112,     0.12212,     0.12312,     0.12412,     0.12513,     0.12613,     0.12713,     0.12813,     0.12913,     0.13013,     0.13113,     0.13213,     0.13313,     0.13413,     0.13514,     0.13614,     0.13714,     0.13814,     0.13914,     0.14014,     0.14114,     0.14214,     0.14314,\n",
       "           0.14414,     0.14515,     0.14615,     0.14715,     0.14815,     0.14915,     0.15015,     0.15115,     0.15215,     0.15315,     0.15415,     0.15516,     0.15616,     0.15716,     0.15816,     0.15916,     0.16016,     0.16116,     0.16216,     0.16316,     0.16416,     0.16517,     0.16617,     0.16717,\n",
       "           0.16817,     0.16917,     0.17017,     0.17117,     0.17217,     0.17317,     0.17417,     0.17518,     0.17618,     0.17718,     0.17818,     0.17918,     0.18018,     0.18118,     0.18218,     0.18318,     0.18418,     0.18519,     0.18619,     0.18719,     0.18819,     0.18919,     0.19019,     0.19119,\n",
       "           0.19219,     0.19319,     0.19419,      0.1952,      0.1962,      0.1972,      0.1982,      0.1992,      0.2002,      0.2012,      0.2022,      0.2032,      0.2042,     0.20521,     0.20621,     0.20721,     0.20821,     0.20921,     0.21021,     0.21121,     0.21221,     0.21321,     0.21421,     0.21522,\n",
       "           0.21622,     0.21722,     0.21822,     0.21922,     0.22022,     0.22122,     0.22222,     0.22322,     0.22422,     0.22523,     0.22623,     0.22723,     0.22823,     0.22923,     0.23023,     0.23123,     0.23223,     0.23323,     0.23423,     0.23524,     0.23624,     0.23724,     0.23824,     0.23924,\n",
       "           0.24024,     0.24124,     0.24224,     0.24324,     0.24424,     0.24525,     0.24625,     0.24725,     0.24825,     0.24925,     0.25025,     0.25125,     0.25225,     0.25325,     0.25425,     0.25526,     0.25626,     0.25726,     0.25826,     0.25926,     0.26026,     0.26126,     0.26226,     0.26326,\n",
       "           0.26426,     0.26527,     0.26627,     0.26727,     0.26827,     0.26927,     0.27027,     0.27127,     0.27227,     0.27327,     0.27427,     0.27528,     0.27628,     0.27728,     0.27828,     0.27928,     0.28028,     0.28128,     0.28228,     0.28328,     0.28428,     0.28529,     0.28629,     0.28729,\n",
       "           0.28829,     0.28929,     0.29029,     0.29129,     0.29229,     0.29329,     0.29429,      0.2953,      0.2963,      0.2973,      0.2983,      0.2993,      0.3003,      0.3013,      0.3023,      0.3033,      0.3043,     0.30531,     0.30631,     0.30731,     0.30831,     0.30931,     0.31031,     0.31131,\n",
       "           0.31231,     0.31331,     0.31431,     0.31532,     0.31632,     0.31732,     0.31832,     0.31932,     0.32032,     0.32132,     0.32232,     0.32332,     0.32432,     0.32533,     0.32633,     0.32733,     0.32833,     0.32933,     0.33033,     0.33133,     0.33233,     0.33333,     0.33433,     0.33534,\n",
       "           0.33634,     0.33734,     0.33834,     0.33934,     0.34034,     0.34134,     0.34234,     0.34334,     0.34434,     0.34535,     0.34635,     0.34735,     0.34835,     0.34935,     0.35035,     0.35135,     0.35235,     0.35335,     0.35435,     0.35536,     0.35636,     0.35736,     0.35836,     0.35936,\n",
       "           0.36036,     0.36136,     0.36236,     0.36336,     0.36436,     0.36537,     0.36637,     0.36737,     0.36837,     0.36937,     0.37037,     0.37137,     0.37237,     0.37337,     0.37437,     0.37538,     0.37638,     0.37738,     0.37838,     0.37938,     0.38038,     0.38138,     0.38238,     0.38338,\n",
       "           0.38438,     0.38539,     0.38639,     0.38739,     0.38839,     0.38939,     0.39039,     0.39139,     0.39239,     0.39339,     0.39439,      0.3954,      0.3964,      0.3974,      0.3984,      0.3994,      0.4004,      0.4014,      0.4024,      0.4034,      0.4044,     0.40541,     0.40641,     0.40741,\n",
       "           0.40841,     0.40941,     0.41041,     0.41141,     0.41241,     0.41341,     0.41441,     0.41542,     0.41642,     0.41742,     0.41842,     0.41942,     0.42042,     0.42142,     0.42242,     0.42342,     0.42442,     0.42543,     0.42643,     0.42743,     0.42843,     0.42943,     0.43043,     0.43143,\n",
       "           0.43243,     0.43343,     0.43443,     0.43544,     0.43644,     0.43744,     0.43844,     0.43944,     0.44044,     0.44144,     0.44244,     0.44344,     0.44444,     0.44545,     0.44645,     0.44745,     0.44845,     0.44945,     0.45045,     0.45145,     0.45245,     0.45345,     0.45445,     0.45546,\n",
       "           0.45646,     0.45746,     0.45846,     0.45946,     0.46046,     0.46146,     0.46246,     0.46346,     0.46446,     0.46547,     0.46647,     0.46747,     0.46847,     0.46947,     0.47047,     0.47147,     0.47247,     0.47347,     0.47447,     0.47548,     0.47648,     0.47748,     0.47848,     0.47948,\n",
       "           0.48048,     0.48148,     0.48248,     0.48348,     0.48448,     0.48549,     0.48649,     0.48749,     0.48849,     0.48949,     0.49049,     0.49149,     0.49249,     0.49349,     0.49449,      0.4955,      0.4965,      0.4975,      0.4985,      0.4995,      0.5005,      0.5015,      0.5025,      0.5035,\n",
       "            0.5045,     0.50551,     0.50651,     0.50751,     0.50851,     0.50951,     0.51051,     0.51151,     0.51251,     0.51351,     0.51451,     0.51552,     0.51652,     0.51752,     0.51852,     0.51952,     0.52052,     0.52152,     0.52252,     0.52352,     0.52452,     0.52553,     0.52653,     0.52753,\n",
       "           0.52853,     0.52953,     0.53053,     0.53153,     0.53253,     0.53353,     0.53453,     0.53554,     0.53654,     0.53754,     0.53854,     0.53954,     0.54054,     0.54154,     0.54254,     0.54354,     0.54454,     0.54555,     0.54655,     0.54755,     0.54855,     0.54955,     0.55055,     0.55155,\n",
       "           0.55255,     0.55355,     0.55455,     0.55556,     0.55656,     0.55756,     0.55856,     0.55956,     0.56056,     0.56156,     0.56256,     0.56356,     0.56456,     0.56557,     0.56657,     0.56757,     0.56857,     0.56957,     0.57057,     0.57157,     0.57257,     0.57357,     0.57457,     0.57558,\n",
       "           0.57658,     0.57758,     0.57858,     0.57958,     0.58058,     0.58158,     0.58258,     0.58358,     0.58458,     0.58559,     0.58659,     0.58759,     0.58859,     0.58959,     0.59059,     0.59159,     0.59259,     0.59359,     0.59459,      0.5956,      0.5966,      0.5976,      0.5986,      0.5996,\n",
       "            0.6006,      0.6016,      0.6026,      0.6036,      0.6046,     0.60561,     0.60661,     0.60761,     0.60861,     0.60961,     0.61061,     0.61161,     0.61261,     0.61361,     0.61461,     0.61562,     0.61662,     0.61762,     0.61862,     0.61962,     0.62062,     0.62162,     0.62262,     0.62362,\n",
       "           0.62462,     0.62563,     0.62663,     0.62763,     0.62863,     0.62963,     0.63063,     0.63163,     0.63263,     0.63363,     0.63463,     0.63564,     0.63664,     0.63764,     0.63864,     0.63964,     0.64064,     0.64164,     0.64264,     0.64364,     0.64464,     0.64565,     0.64665,     0.64765,\n",
       "           0.64865,     0.64965,     0.65065,     0.65165,     0.65265,     0.65365,     0.65465,     0.65566,     0.65666,     0.65766,     0.65866,     0.65966,     0.66066,     0.66166,     0.66266,     0.66366,     0.66466,     0.66567,     0.66667,     0.66767,     0.66867,     0.66967,     0.67067,     0.67167,\n",
       "           0.67267,     0.67367,     0.67467,     0.67568,     0.67668,     0.67768,     0.67868,     0.67968,     0.68068,     0.68168,     0.68268,     0.68368,     0.68468,     0.68569,     0.68669,     0.68769,     0.68869,     0.68969,     0.69069,     0.69169,     0.69269,     0.69369,     0.69469,      0.6957,\n",
       "            0.6967,      0.6977,      0.6987,      0.6997,      0.7007,      0.7017,      0.7027,      0.7037,      0.7047,     0.70571,     0.70671,     0.70771,     0.70871,     0.70971,     0.71071,     0.71171,     0.71271,     0.71371,     0.71471,     0.71572,     0.71672,     0.71772,     0.71872,     0.71972,\n",
       "           0.72072,     0.72172,     0.72272,     0.72372,     0.72472,     0.72573,     0.72673,     0.72773,     0.72873,     0.72973,     0.73073,     0.73173,     0.73273,     0.73373,     0.73473,     0.73574,     0.73674,     0.73774,     0.73874,     0.73974,     0.74074,     0.74174,     0.74274,     0.74374,\n",
       "           0.74474,     0.74575,     0.74675,     0.74775,     0.74875,     0.74975,     0.75075,     0.75175,     0.75275,     0.75375,     0.75475,     0.75576,     0.75676,     0.75776,     0.75876,     0.75976,     0.76076,     0.76176,     0.76276,     0.76376,     0.76476,     0.76577,     0.76677,     0.76777,\n",
       "           0.76877,     0.76977,     0.77077,     0.77177,     0.77277,     0.77377,     0.77477,     0.77578,     0.77678,     0.77778,     0.77878,     0.77978,     0.78078,     0.78178,     0.78278,     0.78378,     0.78478,     0.78579,     0.78679,     0.78779,     0.78879,     0.78979,     0.79079,     0.79179,\n",
       "           0.79279,     0.79379,     0.79479,      0.7958,      0.7968,      0.7978,      0.7988,      0.7998,      0.8008,      0.8018,      0.8028,      0.8038,      0.8048,     0.80581,     0.80681,     0.80781,     0.80881,     0.80981,     0.81081,     0.81181,     0.81281,     0.81381,     0.81481,     0.81582,\n",
       "           0.81682,     0.81782,     0.81882,     0.81982,     0.82082,     0.82182,     0.82282,     0.82382,     0.82482,     0.82583,     0.82683,     0.82783,     0.82883,     0.82983,     0.83083,     0.83183,     0.83283,     0.83383,     0.83483,     0.83584,     0.83684,     0.83784,     0.83884,     0.83984,\n",
       "           0.84084,     0.84184,     0.84284,     0.84384,     0.84484,     0.84585,     0.84685,     0.84785,     0.84885,     0.84985,     0.85085,     0.85185,     0.85285,     0.85385,     0.85485,     0.85586,     0.85686,     0.85786,     0.85886,     0.85986,     0.86086,     0.86186,     0.86286,     0.86386,\n",
       "           0.86486,     0.86587,     0.86687,     0.86787,     0.86887,     0.86987,     0.87087,     0.87187,     0.87287,     0.87387,     0.87487,     0.87588,     0.87688,     0.87788,     0.87888,     0.87988,     0.88088,     0.88188,     0.88288,     0.88388,     0.88488,     0.88589,     0.88689,     0.88789,\n",
       "           0.88889,     0.88989,     0.89089,     0.89189,     0.89289,     0.89389,     0.89489,      0.8959,      0.8969,      0.8979,      0.8989,      0.8999,      0.9009,      0.9019,      0.9029,      0.9039,      0.9049,     0.90591,     0.90691,     0.90791,     0.90891,     0.90991,     0.91091,     0.91191,\n",
       "           0.91291,     0.91391,     0.91491,     0.91592,     0.91692,     0.91792,     0.91892,     0.91992,     0.92092,     0.92192,     0.92292,     0.92392,     0.92492,     0.92593,     0.92693,     0.92793,     0.92893,     0.92993,     0.93093,     0.93193,     0.93293,     0.93393,     0.93493,     0.93594,\n",
       "           0.93694,     0.93794,     0.93894,     0.93994,     0.94094,     0.94194,     0.94294,     0.94394,     0.94494,     0.94595,     0.94695,     0.94795,     0.94895,     0.94995,     0.95095,     0.95195,     0.95295,     0.95395,     0.95495,     0.95596,     0.95696,     0.95796,     0.95896,     0.95996,\n",
       "           0.96096,     0.96196,     0.96296,     0.96396,     0.96496,     0.96597,     0.96697,     0.96797,     0.96897,     0.96997,     0.97097,     0.97197,     0.97297,     0.97397,     0.97497,     0.97598,     0.97698,     0.97798,     0.97898,     0.97998,     0.98098,     0.98198,     0.98298,     0.98398,\n",
       "           0.98498,     0.98599,     0.98699,     0.98799,     0.98899,     0.98999,     0.99099,     0.99199,     0.99299,     0.99399,     0.99499,       0.996,       0.997,       0.998,       0.999,           1]), array([[    0.83432,     0.83432,     0.82394,     0.81602,     0.81157,     0.80663,     0.80168,     0.79822,     0.79377,     0.78981,     0.78536,     0.78487,     0.78388,     0.78239,     0.77893,     0.77745,     0.77596,     0.77399,     0.77349,      0.7725,     0.77003,     0.76954,     0.76855,\n",
       "            0.76756,     0.76459,     0.76459,      0.7636,     0.76212,     0.76113,     0.75865,     0.75663,      0.7542,     0.75272,     0.75173,     0.74975,     0.74876,     0.74728,     0.74629,      0.7458,     0.74431,     0.74431,     0.74382,     0.74382,      0.7429,     0.74233,     0.74233,\n",
       "            0.74184,     0.74085,     0.73986,     0.73887,     0.73739,     0.73689,     0.73484,     0.73442,     0.73393,     0.73244,     0.73145,     0.73096,     0.73046,     0.72997,     0.72948,     0.72849,     0.72849,     0.72799,      0.7275,     0.72673,     0.72651,     0.72502,     0.72502,\n",
       "            0.72404,     0.72255,     0.72206,     0.72206,     0.72206,     0.72206,     0.72153,     0.72057,     0.72057,     0.72008,     0.71958,      0.7186,      0.7181,      0.7181,      0.7181,      0.7181,     0.71662,     0.71662,     0.71612,     0.71563,     0.71513,     0.71513,     0.71513,\n",
       "            0.71513,     0.71365,     0.71365,     0.71316,     0.71118,     0.70969,     0.70969,      0.7087,     0.70772,     0.70772,     0.70722,     0.70722,     0.70524,     0.70475,     0.70475,     0.70475,     0.70425,     0.70376,      0.7023,     0.70178,     0.70178,     0.70178,     0.70172,\n",
       "            0.70079,      0.7003,      0.7003,      0.6998,     0.69931,     0.69832,     0.69784,     0.69683,     0.69634,     0.69585,     0.69565,     0.69535,     0.69436,      0.6939,     0.69337,     0.69189,     0.69189,     0.69139,      0.6909,     0.69041,     0.68991,     0.68991,     0.68991,\n",
       "            0.68942,     0.68843,     0.68793,     0.68694,     0.68694,     0.68658,     0.68645,     0.68595,     0.68595,     0.68497,     0.68447,     0.68348,     0.68348,     0.68299,       0.682,      0.6815,      0.6815,      0.6815,     0.68101,     0.68101,     0.68016,     0.67954,     0.67903,\n",
       "            0.67705,     0.67592,     0.67452,     0.67409,     0.67409,     0.67409,     0.67211,     0.67161,     0.67161,     0.67161,     0.67013,     0.66963,     0.66914,     0.66823,     0.66766,     0.66716,     0.66568,     0.66518,     0.66469,     0.66419,      0.6637,      0.6632,     0.66227,\n",
       "            0.66222,     0.66222,     0.66123,     0.66035,     0.65996,     0.65974,     0.65925,     0.65849,     0.65727,     0.65693,     0.65628,     0.65605,     0.65579,     0.65529,      0.6543,     0.65381,     0.65381,     0.65282,     0.65232,     0.65198,     0.65183,     0.65084,     0.65084,\n",
       "            0.64985,     0.64886,     0.64886,     0.64886,     0.64787,     0.64779,     0.64738,     0.64688,     0.64666,      0.6459,      0.6454,      0.6454,     0.64441,     0.64441,     0.64441,     0.64392,     0.64352,     0.64342,     0.64255,     0.64194,     0.64165,     0.64095,     0.64095,\n",
       "            0.64095,     0.64095,     0.64095,     0.63996,     0.63996,     0.63947,     0.63848,     0.63848,     0.63848,     0.63848,     0.63749,     0.63678,     0.63452,     0.63403,     0.63403,     0.63403,     0.63304,      0.6319,      0.6306,     0.63056,     0.63007,     0.63007,     0.62922,\n",
       "            0.62908,     0.62859,      0.6276,      0.6271,      0.6271,      0.6271,     0.62661,     0.62611,     0.62611,     0.62575,     0.62512,     0.62413,     0.62329,     0.62216,     0.62094,     0.61968,     0.61968,     0.61968,     0.61936,     0.61771,     0.61721,     0.61573,      0.6151,\n",
       "            0.61474,     0.61474,     0.61466,     0.61375,     0.61343,     0.61227,     0.61177,     0.61128,     0.60995,     0.60831,     0.60781,     0.60781,     0.60732,     0.60595,     0.60556,     0.60534,     0.60435,      0.6029,     0.60165,     0.60091,     0.59891,     0.59891,     0.59842,\n",
       "            0.59792,     0.59693,     0.59693,     0.59639,     0.59594,     0.59545,     0.59248,     0.59156,     0.59149,       0.591,       0.591,      0.5905,      0.5905,     0.59022,     0.58952,     0.58803,     0.58768,     0.58704,     0.58704,     0.58704,     0.58704,       0.586,     0.58457,\n",
       "            0.58414,     0.58408,     0.58294,     0.58179,     0.58111,     0.58111,     0.58111,     0.58026,     0.57962,     0.57908,     0.57871,     0.57831,     0.57814,     0.57767,     0.57609,     0.57511,     0.57471,     0.57468,     0.57353,     0.57272,      0.5727,     0.57181,     0.57072,\n",
       "            0.57072,     0.57072,     0.57072,     0.57023,     0.57023,     0.57023,     0.56993,     0.56956,     0.56924,     0.56898,      0.5687,     0.56819,     0.56782,     0.56744,     0.56578,      0.5656,     0.56528,      0.5638,     0.56281,     0.56231,     0.56083,     0.55984,     0.55954,\n",
       "            0.55837,     0.55687,     0.55683,     0.55638,     0.55638,     0.55638,     0.55473,     0.55432,     0.55391,     0.55391,     0.55306,      0.5519,     0.55143,     0.55033,     0.54996,     0.54954,     0.54847,     0.54821,     0.54739,      0.5455,       0.545,     0.54462,     0.54397,\n",
       "            0.54354,     0.54303,     0.54303,     0.54303,     0.54253,     0.54253,     0.54113,     0.54055,     0.53956,     0.53821,     0.53739,     0.53511,     0.53471,     0.53412,     0.53412,     0.53412,     0.53346,      0.5324,      0.5306,     0.53001,     0.52846,     0.52683,     0.52438,\n",
       "            0.52349,     0.52264,     0.52238,     0.52226,     0.52104,     0.51908,     0.51859,     0.51754,     0.51601,     0.51385,     0.51274,     0.51123,     0.50886,     0.50841,     0.50799,     0.50738,     0.50662,     0.50564,     0.50544,     0.50539,       0.505,      0.5037,     0.50266,\n",
       "              0.502,         0.5,     0.49936,     0.49802,     0.49753,     0.49654,     0.49529,     0.49456,     0.49338,      0.4925,     0.49184,     0.49115,     0.49011,     0.48988,     0.48821,     0.48753,     0.48676,     0.48602,     0.48565,     0.48397,     0.48353,     0.48332,     0.48269,\n",
       "             0.4822,      0.4822,     0.48203,     0.48174,     0.48121,     0.48077,     0.47978,     0.47925,     0.47824,     0.47774,     0.47774,     0.47774,     0.47564,     0.47535,      0.4746,     0.47412,     0.47385,     0.47132,     0.46991,     0.46911,     0.46863,     0.46729,       0.467,\n",
       "             0.4666,     0.46557,     0.46492,     0.46445,     0.46404,     0.46312,      0.4619,     0.46137,     0.46093,      0.4594,     0.45894,     0.45804,      0.4567,       0.455,     0.45443,     0.45401,      0.4534,     0.45276,     0.45252,     0.45153,     0.45033,     0.44882,     0.44797,\n",
       "            0.44719,     0.44582,      0.4448,     0.44437,     0.44297,     0.44117,      0.4401,     0.43884,     0.43795,     0.43639,     0.43444,     0.43323,     0.43323,     0.43278,     0.43202,     0.43166,     0.43129,     0.43061,     0.43007,     0.42974,     0.42852,      0.4273,      0.4262,\n",
       "            0.42583,     0.42516,     0.42334,     0.42273,     0.42087,     0.41962,      0.4184,     0.41766,     0.41587,     0.41526,     0.41454,     0.41155,      0.4095,     0.40867,     0.40682,      0.4061,      0.4059,     0.40557,     0.40504,     0.40392,     0.40281,     0.40057,     0.39918,\n",
       "            0.39823,     0.39678,     0.39572,     0.39434,     0.39299,     0.39223,     0.39039,     0.38923,     0.38826,     0.38614,     0.38526,     0.38392,     0.38252,      0.3813,     0.37922,     0.37884,     0.37735,     0.37471,     0.37319,     0.37226,     0.37141,     0.37005,     0.36756,\n",
       "            0.36597,     0.36551,     0.36417,      0.3635,     0.36126,       0.359,      0.3573,     0.35623,     0.35565,     0.35491,     0.35422,     0.35312,     0.35014,     0.34735,     0.34588,     0.34322,     0.34315,     0.34281,     0.34075,     0.33979,     0.33877,     0.33679,     0.33481,\n",
       "            0.33447,     0.33275,     0.33109,     0.32948,     0.32938,     0.32728,       0.325,     0.32351,     0.32179,     0.32052,      0.3186,     0.31701,     0.31592,     0.31344,     0.31246,     0.31009,     0.30959,     0.30806,     0.30587,     0.30415,     0.30243,     0.30184,     0.30089,\n",
       "             0.2993,     0.29822,     0.29788,     0.29475,      0.2935,     0.29251,     0.29217,     0.29103,     0.28731,     0.28676,     0.28453,     0.28189,     0.28083,     0.27973,     0.27743,     0.27559,     0.27431,      0.2711,     0.26776,     0.26624,     0.26458,      0.2636,     0.26086,\n",
       "            0.25961,     0.25931,     0.25915,      0.2578,     0.25717,     0.25618,     0.25519,     0.25377,     0.25258,     0.25001,     0.24843,     0.24668,     0.24411,     0.24233,      0.2403,     0.23785,     0.23575,     0.23439,      0.2331,     0.23062,     0.22657,     0.22514,     0.22374,\n",
       "            0.22054,       0.219,     0.21681,     0.21464,      0.2129,     0.21143,     0.20966,     0.20817,     0.20722,     0.20589,     0.20502,     0.20405,     0.20255,     0.19963,       0.198,     0.19642,     0.19499,     0.19303,     0.19141,     0.19048,     0.18634,      0.1841,     0.18196,\n",
       "            0.17998,     0.17856,     0.17468,     0.17367,     0.17102,     0.16915,     0.16611,     0.16213,     0.16017,     0.15776,     0.15529,     0.15255,     0.15086,     0.14942,     0.14809,      0.1454,      0.1423,     0.13996,     0.13952,     0.13865,     0.13677,     0.13295,     0.13107,\n",
       "            0.12846,     0.12628,     0.12482,     0.12214,     0.12002,     0.11858,     0.11679,     0.11199,     0.10956,     0.10779,     0.10627,     0.10362,     0.10214,     0.10085,    0.098664,    0.097014,    0.095533,    0.093351,    0.091726,    0.090379,     0.08914,    0.087765,    0.087202,\n",
       "           0.085928,    0.085612,     0.08384,    0.081079,    0.080241,    0.078911,     0.07821,     0.07601,      0.0744,    0.072747,    0.070598,    0.068739,    0.067158,    0.065737,    0.064433,    0.063132,    0.062184,    0.060829,    0.060642,    0.060456,    0.059368,    0.057877,    0.057226,\n",
       "           0.055603,    0.054944,    0.053838,     0.05219,    0.050726,    0.048624,    0.047308,    0.046261,     0.04483,    0.042504,     0.04169,    0.041088,     0.03968,    0.039213,    0.038258,    0.037012,    0.035934,    0.034969,     0.03427,     0.03252,     0.03065,     0.03038,    0.029697,\n",
       "           0.028619,    0.028042,    0.027779,     0.02741,     0.02683,    0.026347,    0.026032,     0.02577,     0.02467,    0.023629,     0.02261,    0.021791,    0.019846,    0.019507,    0.018867,    0.018135,    0.017644,    0.016729,    0.016412,    0.016214,    0.016063,    0.015912,    0.015629,\n",
       "           0.015157,    0.014031,    0.012361,    0.012267,    0.012173,     0.01208,    0.011986,    0.011892,    0.011107,    0.010781,    0.010635,    0.010489,    0.010348,    0.010217,    0.010086,   0.0099555,   0.0094508,   0.0090218,   0.0084956,   0.0075409,   0.0070554,   0.0068441,   0.0067286,\n",
       "          0.0066132,   0.0064977,   0.0063161,    0.006038,    0.005492,   0.0053617,   0.0052771,   0.0051924,   0.0051077,   0.0050231,   0.0044048,   0.0039371,   0.0038644,   0.0037917,   0.0037191,   0.0036464,   0.0035737,    0.003501,   0.0032614,   0.0028509,   0.0024899,     0.00244,   0.0024055,\n",
       "          0.0023711,   0.0023367,   0.0023022,   0.0022678,   0.0022333,   0.0021989,   0.0021645,     0.00213,   0.0020956,   0.0020611,   0.0020267,   0.0019923,   0.0014025,    0.001216,   0.0010294,   0.0009758,  0.00095881,  0.00094182,  0.00092483,  0.00090783,  0.00089084,  0.00087385,  0.00085686,\n",
       "         0.00083987,  0.00082288,  0.00080588,  0.00078889,   0.0007719,  0.00075491,  0.00073792,  0.00072093,  0.00070394,  0.00068694,  0.00066995,  0.00065296,  0.00063597,  0.00061898,  0.00060199,    0.000585,    0.000568,  0.00055101,  0.00053402,  0.00051703,  0.00050004,           0,           0,\n",
       "                  0,           0,           0,           0,           0,           0,           0,           0,           0,           0,           0,           0,           0,           0,           0,           0,           0,           0,           0,           0,           0,           0,           0,\n",
       "                  0,           0,           0,           0,           0,           0,           0,           0,           0,           0,           0,           0,           0,           0,           0,           0,           0,           0,           0,           0,           0,           0,           0,\n",
       "                  0,           0,           0,           0,           0,           0,           0,           0,           0,           0,           0,           0,           0,           0,           0,           0,           0,           0,           0,           0,           0,           0,           0,\n",
       "                  0,           0,           0,           0,           0,           0,           0,           0,           0,           0,           0,           0,           0,           0,           0,           0,           0,           0,           0,           0,           0,           0,           0,\n",
       "                  0,           0,           0,           0,           0,           0,           0,           0,           0,           0,           0]]), 'Confidence', 'Recall']]\n",
       "fitness: 0.32234897675587937\n",
       "keys: ['metrics/precision(B)', 'metrics/recall(B)', 'metrics/mAP50(B)', 'metrics/mAP50-95(B)']\n",
       "maps: array([    0.28284])\n",
       "names: {0: 'Trash'}\n",
       "plot: True\n",
       "results_dict: {'metrics/precision(B)': 0.7602553263067334, 'metrics/recall(B)': 0.6257520617225348, 'metrics/mAP50(B)': 0.6779679597242746, 'metrics/mAP50-95(B)': 0.2828357564260576, 'fitness': 0.32234897675587937}\n",
       "save_dir: WindowsPath('runs/detect/yolo12-nano2')\n",
       "speed: {'preprocess': 0.2131867499957707, 'inference': 4.763317124995865, 'loss': 0.0011836250013175231, 'postprocess': 1.3106198750023168}\n",
       "task: 'detect'"
      ]
     },
     "execution_count": 4,
     "metadata": {},
     "output_type": "execute_result"
    }
   ],
   "source": [
    "model.val(data=test_data_path)"
   ]
  }
 ],
 "metadata": {
  "kernelspec": {
   "display_name": "pytorch",
   "language": "python",
   "name": "python3"
  },
  "language_info": {
   "codemirror_mode": {
    "name": "ipython",
    "version": 3
   },
   "file_extension": ".py",
   "mimetype": "text/x-python",
   "name": "python",
   "nbconvert_exporter": "python",
   "pygments_lexer": "ipython3",
   "version": "3.9.21"
  }
 },
 "nbformat": 4,
 "nbformat_minor": 2
}
